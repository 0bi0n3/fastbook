{
 "cells": [
  {
   "cell_type": "code",
   "execution_count": 1,
   "metadata": {},
   "outputs": [
    {
     "name": "stdout",
     "output_type": "stream",
     "text": [
      "Requirement already satisfied: fastbook in /home/oberon/.local/lib/python3.12/site-packages (0.0.29)\n",
      "Requirement already satisfied: pip in /home/oberon/.local/lib/python3.12/site-packages (from fastbook) (25.2)\n",
      "Requirement already satisfied: packaging in /home/oberon/.local/lib/python3.12/site-packages (from fastbook) (25.0)\n",
      "Requirement already satisfied: fastai>=2.6 in /home/oberon/.local/lib/python3.12/site-packages (from fastbook) (2.8.4)\n",
      "Requirement already satisfied: graphviz in /home/oberon/.local/lib/python3.12/site-packages (from fastbook) (0.21)\n",
      "Requirement already satisfied: pandas in /home/oberon/.local/lib/python3.12/site-packages (from fastbook) (2.3.1)\n",
      "Requirement already satisfied: requests in /home/oberon/.local/lib/python3.12/site-packages (from fastbook) (2.32.4)\n",
      "Requirement already satisfied: transformers in /home/oberon/.local/lib/python3.12/site-packages (from fastbook) (4.53.1)\n",
      "Requirement already satisfied: datasets in /home/oberon/.local/lib/python3.12/site-packages (from fastbook) (3.6.0)\n",
      "Requirement already satisfied: ipywidgets<8 in /home/oberon/.local/lib/python3.12/site-packages (from fastbook) (7.8.5)\n",
      "Requirement already satisfied: sentencepiece in /home/oberon/.local/lib/python3.12/site-packages (from fastbook) (0.2.0)\n",
      "Requirement already satisfied: comm>=0.1.3 in /home/oberon/.local/lib/python3.12/site-packages (from ipywidgets<8->fastbook) (0.2.3)\n",
      "Requirement already satisfied: ipython-genutils~=0.2.0 in /home/oberon/.local/lib/python3.12/site-packages (from ipywidgets<8->fastbook) (0.2.0)\n",
      "Requirement already satisfied: traitlets>=4.3.1 in /home/oberon/.local/lib/python3.12/site-packages (from ipywidgets<8->fastbook) (5.14.3)\n",
      "Requirement already satisfied: widgetsnbextension~=3.6.10 in /home/oberon/.local/lib/python3.12/site-packages (from ipywidgets<8->fastbook) (3.6.10)\n",
      "Requirement already satisfied: ipython>=4.0.0 in /home/oberon/.local/lib/python3.12/site-packages (from ipywidgets<8->fastbook) (9.5.0)\n",
      "Requirement already satisfied: jupyterlab-widgets<3,>=1.0.0 in /home/oberon/.local/lib/python3.12/site-packages (from ipywidgets<8->fastbook) (1.1.11)\n",
      "Requirement already satisfied: notebook>=4.4.1 in /home/oberon/.local/lib/python3.12/site-packages (from widgetsnbextension~=3.6.10->ipywidgets<8->fastbook) (7.4.5)\n",
      "Requirement already satisfied: fastdownload<2,>=0.0.5 in /home/oberon/.local/lib/python3.12/site-packages (from fastai>=2.6->fastbook) (0.0.7)\n",
      "Requirement already satisfied: fastcore<1.9,>=1.8.0 in /home/oberon/.local/lib/python3.12/site-packages (from fastai>=2.6->fastbook) (1.8.12)\n",
      "Requirement already satisfied: fasttransform>=0.0.2 in /home/oberon/.local/lib/python3.12/site-packages (from fastai>=2.6->fastbook) (0.0.2)\n",
      "Requirement already satisfied: torchvision>=0.11 in /home/oberon/.local/lib/python3.12/site-packages (from fastai>=2.6->fastbook) (0.20.1+cu124)\n",
      "Requirement already satisfied: matplotlib in /home/oberon/.local/lib/python3.12/site-packages (from fastai>=2.6->fastbook) (3.10.3)\n",
      "Requirement already satisfied: pyyaml in /home/oberon/.local/lib/python3.12/site-packages (from fastai>=2.6->fastbook) (6.0.2)\n",
      "Requirement already satisfied: fastprogress>=0.2.4 in /home/oberon/.local/lib/python3.12/site-packages (from fastai>=2.6->fastbook) (1.0.3)\n",
      "Requirement already satisfied: pillow>=9.0.0 in /home/oberon/.local/lib/python3.12/site-packages (from fastai>=2.6->fastbook) (11.0.0)\n",
      "Requirement already satisfied: scikit-learn in /home/oberon/.local/lib/python3.12/site-packages (from fastai>=2.6->fastbook) (1.6.1)\n",
      "Requirement already satisfied: scipy in /home/oberon/.local/lib/python3.12/site-packages (from fastai>=2.6->fastbook) (1.15.2)\n",
      "Requirement already satisfied: spacy<4 in /home/oberon/.local/lib/python3.12/site-packages (from fastai>=2.6->fastbook) (3.8.7)\n",
      "Requirement already satisfied: plum-dispatch in /home/oberon/.local/lib/python3.12/site-packages (from fastai>=2.6->fastbook) (2.5.8)\n",
      "Requirement already satisfied: cloudpickle in /home/oberon/.local/lib/python3.12/site-packages (from fastai>=2.6->fastbook) (3.1.1)\n",
      "Requirement already satisfied: torch<2.9,>=1.10 in /home/oberon/.local/lib/python3.12/site-packages (from fastai>=2.6->fastbook) (2.5.1+cu124)\n",
      "Requirement already satisfied: spacy-legacy<3.1.0,>=3.0.11 in /home/oberon/.local/lib/python3.12/site-packages (from spacy<4->fastai>=2.6->fastbook) (3.0.12)\n",
      "Requirement already satisfied: spacy-loggers<2.0.0,>=1.0.0 in /home/oberon/.local/lib/python3.12/site-packages (from spacy<4->fastai>=2.6->fastbook) (1.0.5)\n",
      "Requirement already satisfied: murmurhash<1.1.0,>=0.28.0 in /home/oberon/.local/lib/python3.12/site-packages (from spacy<4->fastai>=2.6->fastbook) (1.0.13)\n",
      "Requirement already satisfied: cymem<2.1.0,>=2.0.2 in /home/oberon/.local/lib/python3.12/site-packages (from spacy<4->fastai>=2.6->fastbook) (2.0.11)\n",
      "Requirement already satisfied: preshed<3.1.0,>=3.0.2 in /home/oberon/.local/lib/python3.12/site-packages (from spacy<4->fastai>=2.6->fastbook) (3.0.10)\n",
      "Requirement already satisfied: thinc<8.4.0,>=8.3.4 in /home/oberon/.local/lib/python3.12/site-packages (from spacy<4->fastai>=2.6->fastbook) (8.3.6)\n",
      "Requirement already satisfied: wasabi<1.2.0,>=0.9.1 in /home/oberon/.local/lib/python3.12/site-packages (from spacy<4->fastai>=2.6->fastbook) (1.1.3)\n",
      "Requirement already satisfied: srsly<3.0.0,>=2.4.3 in /home/oberon/.local/lib/python3.12/site-packages (from spacy<4->fastai>=2.6->fastbook) (2.5.1)\n",
      "Requirement already satisfied: catalogue<2.1.0,>=2.0.6 in /home/oberon/.local/lib/python3.12/site-packages (from spacy<4->fastai>=2.6->fastbook) (2.0.10)\n",
      "Requirement already satisfied: weasel<0.5.0,>=0.1.0 in /home/oberon/.local/lib/python3.12/site-packages (from spacy<4->fastai>=2.6->fastbook) (0.4.1)\n",
      "Requirement already satisfied: typer<1.0.0,>=0.3.0 in /home/oberon/.local/lib/python3.12/site-packages (from spacy<4->fastai>=2.6->fastbook) (0.16.0)\n",
      "Requirement already satisfied: tqdm<5.0.0,>=4.38.0 in /home/oberon/.local/lib/python3.12/site-packages (from spacy<4->fastai>=2.6->fastbook) (4.67.1)\n",
      "Requirement already satisfied: numpy>=1.19.0 in /home/oberon/.local/lib/python3.12/site-packages (from spacy<4->fastai>=2.6->fastbook) (2.3.3)\n",
      "Requirement already satisfied: pydantic!=1.8,!=1.8.1,<3.0.0,>=1.7.4 in /home/oberon/.local/lib/python3.12/site-packages (from spacy<4->fastai>=2.6->fastbook) (2.11.7)\n",
      "Requirement already satisfied: jinja2 in /home/oberon/.local/lib/python3.12/site-packages (from spacy<4->fastai>=2.6->fastbook) (3.1.4)\n",
      "Requirement already satisfied: setuptools in /home/oberon/.local/lib/python3.12/site-packages (from spacy<4->fastai>=2.6->fastbook) (80.9.0)\n",
      "Requirement already satisfied: langcodes<4.0.0,>=3.2.0 in /home/oberon/.local/lib/python3.12/site-packages (from spacy<4->fastai>=2.6->fastbook) (3.5.0)\n",
      "Requirement already satisfied: language-data>=1.2 in /home/oberon/.local/lib/python3.12/site-packages (from langcodes<4.0.0,>=3.2.0->spacy<4->fastai>=2.6->fastbook) (1.3.0)\n",
      "Requirement already satisfied: annotated-types>=0.6.0 in /home/oberon/.local/lib/python3.12/site-packages (from pydantic!=1.8,!=1.8.1,<3.0.0,>=1.7.4->spacy<4->fastai>=2.6->fastbook) (0.7.0)\n",
      "Requirement already satisfied: pydantic-core==2.33.2 in /home/oberon/.local/lib/python3.12/site-packages (from pydantic!=1.8,!=1.8.1,<3.0.0,>=1.7.4->spacy<4->fastai>=2.6->fastbook) (2.33.2)\n",
      "Requirement already satisfied: typing-extensions>=4.12.2 in /home/oberon/.local/lib/python3.12/site-packages (from pydantic!=1.8,!=1.8.1,<3.0.0,>=1.7.4->spacy<4->fastai>=2.6->fastbook) (4.12.2)\n",
      "Requirement already satisfied: typing-inspection>=0.4.0 in /home/oberon/.local/lib/python3.12/site-packages (from pydantic!=1.8,!=1.8.1,<3.0.0,>=1.7.4->spacy<4->fastai>=2.6->fastbook) (0.4.1)\n",
      "Requirement already satisfied: charset_normalizer<4,>=2 in /home/oberon/.local/lib/python3.12/site-packages (from requests->fastbook) (3.4.2)\n",
      "Requirement already satisfied: idna<4,>=2.5 in /home/oberon/.local/lib/python3.12/site-packages (from requests->fastbook) (3.10)\n",
      "Requirement already satisfied: urllib3<3,>=1.21.1 in /home/oberon/.local/lib/python3.12/site-packages (from requests->fastbook) (2.5.0)\n",
      "Requirement already satisfied: certifi>=2017.4.17 in /home/oberon/.local/lib/python3.12/site-packages (from requests->fastbook) (2025.6.15)\n",
      "Requirement already satisfied: blis<1.4.0,>=1.3.0 in /home/oberon/.local/lib/python3.12/site-packages (from thinc<8.4.0,>=8.3.4->spacy<4->fastai>=2.6->fastbook) (1.3.0)\n",
      "Requirement already satisfied: confection<1.0.0,>=0.0.1 in /home/oberon/.local/lib/python3.12/site-packages (from thinc<8.4.0,>=8.3.4->spacy<4->fastai>=2.6->fastbook) (0.1.5)\n",
      "Requirement already satisfied: filelock in /home/oberon/.local/lib/python3.12/site-packages (from torch<2.9,>=1.10->fastai>=2.6->fastbook) (3.13.1)\n",
      "Requirement already satisfied: networkx in /home/oberon/.local/lib/python3.12/site-packages (from torch<2.9,>=1.10->fastai>=2.6->fastbook) (3.3)\n",
      "Requirement already satisfied: fsspec in /home/oberon/.local/lib/python3.12/site-packages (from torch<2.9,>=1.10->fastai>=2.6->fastbook) (2024.6.1)\n",
      "Requirement already satisfied: nvidia-cuda-nvrtc-cu12==12.4.127 in /home/oberon/.local/lib/python3.12/site-packages (from torch<2.9,>=1.10->fastai>=2.6->fastbook) (12.4.127)\n",
      "Requirement already satisfied: nvidia-cuda-runtime-cu12==12.4.127 in /home/oberon/.local/lib/python3.12/site-packages (from torch<2.9,>=1.10->fastai>=2.6->fastbook) (12.4.127)\n",
      "Requirement already satisfied: nvidia-cuda-cupti-cu12==12.4.127 in /home/oberon/.local/lib/python3.12/site-packages (from torch<2.9,>=1.10->fastai>=2.6->fastbook) (12.4.127)\n",
      "Requirement already satisfied: nvidia-cudnn-cu12==9.1.0.70 in /home/oberon/.local/lib/python3.12/site-packages (from torch<2.9,>=1.10->fastai>=2.6->fastbook) (9.1.0.70)\n",
      "Requirement already satisfied: nvidia-cublas-cu12==12.4.5.8 in /home/oberon/.local/lib/python3.12/site-packages (from torch<2.9,>=1.10->fastai>=2.6->fastbook) (12.4.5.8)\n",
      "Requirement already satisfied: nvidia-cufft-cu12==11.2.1.3 in /home/oberon/.local/lib/python3.12/site-packages (from torch<2.9,>=1.10->fastai>=2.6->fastbook) (11.2.1.3)\n",
      "Requirement already satisfied: nvidia-curand-cu12==10.3.5.147 in /home/oberon/.local/lib/python3.12/site-packages (from torch<2.9,>=1.10->fastai>=2.6->fastbook) (10.3.5.147)\n",
      "Requirement already satisfied: nvidia-cusolver-cu12==11.6.1.9 in /home/oberon/.local/lib/python3.12/site-packages (from torch<2.9,>=1.10->fastai>=2.6->fastbook) (11.6.1.9)\n",
      "Requirement already satisfied: nvidia-cusparse-cu12==12.3.1.170 in /home/oberon/.local/lib/python3.12/site-packages (from torch<2.9,>=1.10->fastai>=2.6->fastbook) (12.3.1.170)\n",
      "Requirement already satisfied: nvidia-nccl-cu12==2.21.5 in /home/oberon/.local/lib/python3.12/site-packages (from torch<2.9,>=1.10->fastai>=2.6->fastbook) (2.21.5)\n",
      "Requirement already satisfied: nvidia-nvtx-cu12==12.4.127 in /home/oberon/.local/lib/python3.12/site-packages (from torch<2.9,>=1.10->fastai>=2.6->fastbook) (12.4.127)\n",
      "Requirement already satisfied: nvidia-nvjitlink-cu12==12.4.127 in /home/oberon/.local/lib/python3.12/site-packages (from torch<2.9,>=1.10->fastai>=2.6->fastbook) (12.4.127)\n",
      "Requirement already satisfied: triton==3.1.0 in /home/oberon/.local/lib/python3.12/site-packages (from torch<2.9,>=1.10->fastai>=2.6->fastbook) (3.1.0)\n",
      "Requirement already satisfied: sympy==1.13.1 in /home/oberon/.local/lib/python3.12/site-packages (from torch<2.9,>=1.10->fastai>=2.6->fastbook) (1.13.1)\n",
      "Requirement already satisfied: mpmath<1.4,>=1.1.0 in /home/oberon/.local/lib/python3.12/site-packages (from sympy==1.13.1->torch<2.9,>=1.10->fastai>=2.6->fastbook) (1.3.0)\n",
      "Requirement already satisfied: click>=8.0.0 in /home/oberon/.local/lib/python3.12/site-packages (from typer<1.0.0,>=0.3.0->spacy<4->fastai>=2.6->fastbook) (8.2.1)\n",
      "Requirement already satisfied: shellingham>=1.3.0 in /home/oberon/.local/lib/python3.12/site-packages (from typer<1.0.0,>=0.3.0->spacy<4->fastai>=2.6->fastbook) (1.5.4)\n",
      "Requirement already satisfied: rich>=10.11.0 in /home/oberon/.local/lib/python3.12/site-packages (from typer<1.0.0,>=0.3.0->spacy<4->fastai>=2.6->fastbook) (14.1.0)\n",
      "Requirement already satisfied: cloudpathlib<1.0.0,>=0.7.0 in /home/oberon/.local/lib/python3.12/site-packages (from weasel<0.5.0,>=0.1.0->spacy<4->fastai>=2.6->fastbook) (0.23.0)\n",
      "Requirement already satisfied: smart-open<8.0.0,>=5.2.1 in /home/oberon/.local/lib/python3.12/site-packages (from weasel<0.5.0,>=0.1.0->spacy<4->fastai>=2.6->fastbook) (7.3.1)\n",
      "Requirement already satisfied: wrapt in /home/oberon/.local/lib/python3.12/site-packages (from smart-open<8.0.0,>=5.2.1->weasel<0.5.0,>=0.1.0->spacy<4->fastai>=2.6->fastbook) (1.17.3)\n",
      "Requirement already satisfied: decorator in /home/oberon/.local/lib/python3.12/site-packages (from ipython>=4.0.0->ipywidgets<8->fastbook) (5.2.1)\n",
      "Requirement already satisfied: ipython-pygments-lexers in /home/oberon/.local/lib/python3.12/site-packages (from ipython>=4.0.0->ipywidgets<8->fastbook) (1.1.1)\n",
      "Requirement already satisfied: jedi>=0.16 in /home/oberon/.local/lib/python3.12/site-packages (from ipython>=4.0.0->ipywidgets<8->fastbook) (0.19.2)\n",
      "Requirement already satisfied: matplotlib-inline in /home/oberon/.local/lib/python3.12/site-packages (from ipython>=4.0.0->ipywidgets<8->fastbook) (0.1.7)\n",
      "Requirement already satisfied: pexpect>4.3 in /home/oberon/.local/lib/python3.12/site-packages (from ipython>=4.0.0->ipywidgets<8->fastbook) (4.9.0)\n",
      "Requirement already satisfied: prompt_toolkit<3.1.0,>=3.0.41 in /home/oberon/.local/lib/python3.12/site-packages (from ipython>=4.0.0->ipywidgets<8->fastbook) (3.0.52)\n",
      "Requirement already satisfied: pygments>=2.4.0 in /home/oberon/.local/lib/python3.12/site-packages (from ipython>=4.0.0->ipywidgets<8->fastbook) (2.19.2)\n",
      "Requirement already satisfied: stack_data in /home/oberon/.local/lib/python3.12/site-packages (from ipython>=4.0.0->ipywidgets<8->fastbook) (0.6.3)\n",
      "Requirement already satisfied: wcwidth in /home/oberon/.local/lib/python3.12/site-packages (from prompt_toolkit<3.1.0,>=3.0.41->ipython>=4.0.0->ipywidgets<8->fastbook) (0.2.13)\n",
      "Requirement already satisfied: parso<0.9.0,>=0.8.4 in /home/oberon/.local/lib/python3.12/site-packages (from jedi>=0.16->ipython>=4.0.0->ipywidgets<8->fastbook) (0.8.5)\n",
      "Requirement already satisfied: marisa-trie>=1.1.0 in /home/oberon/.local/lib/python3.12/site-packages (from language-data>=1.2->langcodes<4.0.0,>=3.2.0->spacy<4->fastai>=2.6->fastbook) (1.3.1)\n",
      "Requirement already satisfied: jupyter-server<3,>=2.4.0 in /home/oberon/.local/lib/python3.12/site-packages (from notebook>=4.4.1->widgetsnbextension~=3.6.10->ipywidgets<8->fastbook) (2.17.0)\n",
      "Requirement already satisfied: jupyterlab-server<3,>=2.27.1 in /home/oberon/.local/lib/python3.12/site-packages (from notebook>=4.4.1->widgetsnbextension~=3.6.10->ipywidgets<8->fastbook) (2.27.3)\n",
      "Requirement already satisfied: jupyterlab<4.5,>=4.4.5 in /home/oberon/.local/lib/python3.12/site-packages (from notebook>=4.4.1->widgetsnbextension~=3.6.10->ipywidgets<8->fastbook) (4.4.7)\n",
      "Requirement already satisfied: notebook-shim<0.3,>=0.2 in /home/oberon/.local/lib/python3.12/site-packages (from notebook>=4.4.1->widgetsnbextension~=3.6.10->ipywidgets<8->fastbook) (0.2.4)\n",
      "Requirement already satisfied: tornado>=6.2.0 in /home/oberon/.local/lib/python3.12/site-packages (from notebook>=4.4.1->widgetsnbextension~=3.6.10->ipywidgets<8->fastbook) (6.5.2)\n",
      "Requirement already satisfied: anyio>=3.1.0 in /home/oberon/.local/lib/python3.12/site-packages (from jupyter-server<3,>=2.4.0->notebook>=4.4.1->widgetsnbextension~=3.6.10->ipywidgets<8->fastbook) (3.7.1)\n",
      "Requirement already satisfied: argon2-cffi>=21.1 in /home/oberon/.local/lib/python3.12/site-packages (from jupyter-server<3,>=2.4.0->notebook>=4.4.1->widgetsnbextension~=3.6.10->ipywidgets<8->fastbook) (25.1.0)\n",
      "Requirement already satisfied: jupyter-client>=7.4.4 in /home/oberon/.local/lib/python3.12/site-packages (from jupyter-server<3,>=2.4.0->notebook>=4.4.1->widgetsnbextension~=3.6.10->ipywidgets<8->fastbook) (8.6.3)\n",
      "Requirement already satisfied: jupyter-core!=5.0.*,>=4.12 in /home/oberon/.local/lib/python3.12/site-packages (from jupyter-server<3,>=2.4.0->notebook>=4.4.1->widgetsnbextension~=3.6.10->ipywidgets<8->fastbook) (5.8.1)\n",
      "Requirement already satisfied: jupyter-events>=0.11.0 in /home/oberon/.local/lib/python3.12/site-packages (from jupyter-server<3,>=2.4.0->notebook>=4.4.1->widgetsnbextension~=3.6.10->ipywidgets<8->fastbook) (0.12.0)\n",
      "Requirement already satisfied: jupyter-server-terminals>=0.4.4 in /home/oberon/.local/lib/python3.12/site-packages (from jupyter-server<3,>=2.4.0->notebook>=4.4.1->widgetsnbextension~=3.6.10->ipywidgets<8->fastbook) (0.5.3)\n",
      "Requirement already satisfied: nbconvert>=6.4.4 in /home/oberon/.local/lib/python3.12/site-packages (from jupyter-server<3,>=2.4.0->notebook>=4.4.1->widgetsnbextension~=3.6.10->ipywidgets<8->fastbook) (7.16.6)\n",
      "Requirement already satisfied: nbformat>=5.3.0 in /home/oberon/.local/lib/python3.12/site-packages (from jupyter-server<3,>=2.4.0->notebook>=4.4.1->widgetsnbextension~=3.6.10->ipywidgets<8->fastbook) (5.10.4)\n",
      "Requirement already satisfied: prometheus-client>=0.9 in /home/oberon/.local/lib/python3.12/site-packages (from jupyter-server<3,>=2.4.0->notebook>=4.4.1->widgetsnbextension~=3.6.10->ipywidgets<8->fastbook) (0.22.1)\n",
      "Requirement already satisfied: pyzmq>=24 in /home/oberon/.local/lib/python3.12/site-packages (from jupyter-server<3,>=2.4.0->notebook>=4.4.1->widgetsnbextension~=3.6.10->ipywidgets<8->fastbook) (27.1.0)\n",
      "Requirement already satisfied: send2trash>=1.8.2 in /home/oberon/.local/lib/python3.12/site-packages (from jupyter-server<3,>=2.4.0->notebook>=4.4.1->widgetsnbextension~=3.6.10->ipywidgets<8->fastbook) (1.8.3)\n",
      "Requirement already satisfied: terminado>=0.8.3 in /home/oberon/.local/lib/python3.12/site-packages (from jupyter-server<3,>=2.4.0->notebook>=4.4.1->widgetsnbextension~=3.6.10->ipywidgets<8->fastbook) (0.18.1)\n",
      "Requirement already satisfied: websocket-client>=1.7 in /home/oberon/.local/lib/python3.12/site-packages (from jupyter-server<3,>=2.4.0->notebook>=4.4.1->widgetsnbextension~=3.6.10->ipywidgets<8->fastbook) (1.8.0)\n",
      "Requirement already satisfied: async-lru>=1.0.0 in /home/oberon/.local/lib/python3.12/site-packages (from jupyterlab<4.5,>=4.4.5->notebook>=4.4.1->widgetsnbextension~=3.6.10->ipywidgets<8->fastbook) (2.0.5)\n",
      "Requirement already satisfied: httpx<1,>=0.25.0 in /home/oberon/.local/lib/python3.12/site-packages (from jupyterlab<4.5,>=4.4.5->notebook>=4.4.1->widgetsnbextension~=3.6.10->ipywidgets<8->fastbook) (0.28.1)\n",
      "Requirement already satisfied: ipykernel!=6.30.0,>=6.5.0 in /home/oberon/.local/lib/python3.12/site-packages (from jupyterlab<4.5,>=4.4.5->notebook>=4.4.1->widgetsnbextension~=3.6.10->ipywidgets<8->fastbook) (7.0.0)\n",
      "Requirement already satisfied: jupyter-lsp>=2.0.0 in /home/oberon/.local/lib/python3.12/site-packages (from jupyterlab<4.5,>=4.4.5->notebook>=4.4.1->widgetsnbextension~=3.6.10->ipywidgets<8->fastbook) (2.3.0)\n",
      "Requirement already satisfied: httpcore==1.* in /home/oberon/.local/lib/python3.12/site-packages (from httpx<1,>=0.25.0->jupyterlab<4.5,>=4.4.5->notebook>=4.4.1->widgetsnbextension~=3.6.10->ipywidgets<8->fastbook) (1.0.9)\n",
      "Requirement already satisfied: h11>=0.16 in /home/oberon/.local/lib/python3.12/site-packages (from httpcore==1.*->httpx<1,>=0.25.0->jupyterlab<4.5,>=4.4.5->notebook>=4.4.1->widgetsnbextension~=3.6.10->ipywidgets<8->fastbook) (0.16.0)\n",
      "Requirement already satisfied: babel>=2.10 in /home/oberon/.local/lib/python3.12/site-packages (from jupyterlab-server<3,>=2.27.1->notebook>=4.4.1->widgetsnbextension~=3.6.10->ipywidgets<8->fastbook) (2.17.0)\n",
      "Requirement already satisfied: json5>=0.9.0 in /home/oberon/.local/lib/python3.12/site-packages (from jupyterlab-server<3,>=2.27.1->notebook>=4.4.1->widgetsnbextension~=3.6.10->ipywidgets<8->fastbook) (0.12.1)\n",
      "Requirement already satisfied: jsonschema>=4.18.0 in /home/oberon/.local/lib/python3.12/site-packages (from jupyterlab-server<3,>=2.27.1->notebook>=4.4.1->widgetsnbextension~=3.6.10->ipywidgets<8->fastbook) (4.22.0)\n",
      "Requirement already satisfied: sniffio>=1.1 in /home/oberon/.local/lib/python3.12/site-packages (from anyio>=3.1.0->jupyter-server<3,>=2.4.0->notebook>=4.4.1->widgetsnbextension~=3.6.10->ipywidgets<8->fastbook) (1.3.1)\n",
      "Requirement already satisfied: argon2-cffi-bindings in /home/oberon/.local/lib/python3.12/site-packages (from argon2-cffi>=21.1->jupyter-server<3,>=2.4.0->notebook>=4.4.1->widgetsnbextension~=3.6.10->ipywidgets<8->fastbook) (25.1.0)\n",
      "Requirement already satisfied: debugpy>=1.6.5 in /home/oberon/.local/lib/python3.12/site-packages (from ipykernel!=6.30.0,>=6.5.0->jupyterlab<4.5,>=4.4.5->notebook>=4.4.1->widgetsnbextension~=3.6.10->ipywidgets<8->fastbook) (1.8.17)\n",
      "Requirement already satisfied: nest-asyncio>=1.4 in /home/oberon/.local/lib/python3.12/site-packages (from ipykernel!=6.30.0,>=6.5.0->jupyterlab<4.5,>=4.4.5->notebook>=4.4.1->widgetsnbextension~=3.6.10->ipywidgets<8->fastbook) (1.6.0)\n",
      "Requirement already satisfied: psutil>=5.7 in /home/oberon/.local/lib/python3.12/site-packages (from ipykernel!=6.30.0,>=6.5.0->jupyterlab<4.5,>=4.4.5->notebook>=4.4.1->widgetsnbextension~=3.6.10->ipywidgets<8->fastbook) (7.0.0)\n",
      "Requirement already satisfied: MarkupSafe>=2.0 in /home/oberon/.local/lib/python3.12/site-packages (from jinja2->spacy<4->fastai>=2.6->fastbook) (2.1.5)\n",
      "Requirement already satisfied: attrs>=22.2.0 in /home/oberon/.local/lib/python3.12/site-packages (from jsonschema>=4.18.0->jupyterlab-server<3,>=2.27.1->notebook>=4.4.1->widgetsnbextension~=3.6.10->ipywidgets<8->fastbook) (25.3.0)\n",
      "Requirement already satisfied: jsonschema-specifications>=2023.03.6 in /home/oberon/.local/lib/python3.12/site-packages (from jsonschema>=4.18.0->jupyterlab-server<3,>=2.27.1->notebook>=4.4.1->widgetsnbextension~=3.6.10->ipywidgets<8->fastbook) (2025.4.1)\n",
      "Requirement already satisfied: referencing>=0.28.4 in /home/oberon/.local/lib/python3.12/site-packages (from jsonschema>=4.18.0->jupyterlab-server<3,>=2.27.1->notebook>=4.4.1->widgetsnbextension~=3.6.10->ipywidgets<8->fastbook) (0.36.2)\n",
      "Requirement already satisfied: rpds-py>=0.7.1 in /home/oberon/.local/lib/python3.12/site-packages (from jsonschema>=4.18.0->jupyterlab-server<3,>=2.27.1->notebook>=4.4.1->widgetsnbextension~=3.6.10->ipywidgets<8->fastbook) (0.27.0)\n",
      "Requirement already satisfied: python-dateutil>=2.8.2 in /home/oberon/.local/lib/python3.12/site-packages (from jupyter-client>=7.4.4->jupyter-server<3,>=2.4.0->notebook>=4.4.1->widgetsnbextension~=3.6.10->ipywidgets<8->fastbook) (2.9.0.post0)\n",
      "Requirement already satisfied: platformdirs>=2.5 in /home/oberon/.local/lib/python3.12/site-packages (from jupyter-core!=5.0.*,>=4.12->jupyter-server<3,>=2.4.0->notebook>=4.4.1->widgetsnbextension~=3.6.10->ipywidgets<8->fastbook) (4.3.8)\n",
      "Requirement already satisfied: python-json-logger>=2.0.4 in /home/oberon/.local/lib/python3.12/site-packages (from jupyter-events>=0.11.0->jupyter-server<3,>=2.4.0->notebook>=4.4.1->widgetsnbextension~=3.6.10->ipywidgets<8->fastbook) (3.3.0)\n",
      "Requirement already satisfied: rfc3339-validator in /home/oberon/.local/lib/python3.12/site-packages (from jupyter-events>=0.11.0->jupyter-server<3,>=2.4.0->notebook>=4.4.1->widgetsnbextension~=3.6.10->ipywidgets<8->fastbook) (0.1.4)\n",
      "Requirement already satisfied: rfc3986-validator>=0.1.1 in /home/oberon/.local/lib/python3.12/site-packages (from jupyter-events>=0.11.0->jupyter-server<3,>=2.4.0->notebook>=4.4.1->widgetsnbextension~=3.6.10->ipywidgets<8->fastbook) (0.1.1)\n",
      "Requirement already satisfied: fqdn in /home/oberon/.local/lib/python3.12/site-packages (from jsonschema[format-nongpl]>=4.18.0->jupyter-events>=0.11.0->jupyter-server<3,>=2.4.0->notebook>=4.4.1->widgetsnbextension~=3.6.10->ipywidgets<8->fastbook) (1.5.1)\n",
      "Requirement already satisfied: isoduration in /home/oberon/.local/lib/python3.12/site-packages (from jsonschema[format-nongpl]>=4.18.0->jupyter-events>=0.11.0->jupyter-server<3,>=2.4.0->notebook>=4.4.1->widgetsnbextension~=3.6.10->ipywidgets<8->fastbook) (20.11.0)\n",
      "Requirement already satisfied: jsonpointer>1.13 in /home/oberon/.local/lib/python3.12/site-packages (from jsonschema[format-nongpl]>=4.18.0->jupyter-events>=0.11.0->jupyter-server<3,>=2.4.0->notebook>=4.4.1->widgetsnbextension~=3.6.10->ipywidgets<8->fastbook) (3.0.0)\n",
      "Requirement already satisfied: uri-template in /home/oberon/.local/lib/python3.12/site-packages (from jsonschema[format-nongpl]>=4.18.0->jupyter-events>=0.11.0->jupyter-server<3,>=2.4.0->notebook>=4.4.1->widgetsnbextension~=3.6.10->ipywidgets<8->fastbook) (1.3.0)\n",
      "Requirement already satisfied: webcolors>=1.11 in /home/oberon/.local/lib/python3.12/site-packages (from jsonschema[format-nongpl]>=4.18.0->jupyter-events>=0.11.0->jupyter-server<3,>=2.4.0->notebook>=4.4.1->widgetsnbextension~=3.6.10->ipywidgets<8->fastbook) (24.11.1)\n",
      "Requirement already satisfied: beautifulsoup4 in /home/oberon/.local/lib/python3.12/site-packages (from nbconvert>=6.4.4->jupyter-server<3,>=2.4.0->notebook>=4.4.1->widgetsnbextension~=3.6.10->ipywidgets<8->fastbook) (4.13.4)\n",
      "Requirement already satisfied: bleach!=5.0.0 in /home/oberon/.local/lib/python3.12/site-packages (from bleach[css]!=5.0.0->nbconvert>=6.4.4->jupyter-server<3,>=2.4.0->notebook>=4.4.1->widgetsnbextension~=3.6.10->ipywidgets<8->fastbook) (6.2.0)\n",
      "Requirement already satisfied: defusedxml in /home/oberon/.local/lib/python3.12/site-packages (from nbconvert>=6.4.4->jupyter-server<3,>=2.4.0->notebook>=4.4.1->widgetsnbextension~=3.6.10->ipywidgets<8->fastbook) (0.7.1)\n",
      "Requirement already satisfied: jupyterlab-pygments in /home/oberon/.local/lib/python3.12/site-packages (from nbconvert>=6.4.4->jupyter-server<3,>=2.4.0->notebook>=4.4.1->widgetsnbextension~=3.6.10->ipywidgets<8->fastbook) (0.3.0)\n",
      "Requirement already satisfied: mistune<4,>=2.0.3 in /home/oberon/.local/lib/python3.12/site-packages (from nbconvert>=6.4.4->jupyter-server<3,>=2.4.0->notebook>=4.4.1->widgetsnbextension~=3.6.10->ipywidgets<8->fastbook) (3.1.4)\n",
      "Requirement already satisfied: nbclient>=0.5.0 in /home/oberon/.local/lib/python3.12/site-packages (from nbconvert>=6.4.4->jupyter-server<3,>=2.4.0->notebook>=4.4.1->widgetsnbextension~=3.6.10->ipywidgets<8->fastbook) (0.10.2)\n",
      "Requirement already satisfied: pandocfilters>=1.4.1 in /home/oberon/.local/lib/python3.12/site-packages (from nbconvert>=6.4.4->jupyter-server<3,>=2.4.0->notebook>=4.4.1->widgetsnbextension~=3.6.10->ipywidgets<8->fastbook) (1.5.1)\n",
      "Requirement already satisfied: webencodings in /home/oberon/.local/lib/python3.12/site-packages (from bleach!=5.0.0->bleach[css]!=5.0.0->nbconvert>=6.4.4->jupyter-server<3,>=2.4.0->notebook>=4.4.1->widgetsnbextension~=3.6.10->ipywidgets<8->fastbook) (0.5.1)\n",
      "Requirement already satisfied: tinycss2<1.5,>=1.1.0 in /home/oberon/.local/lib/python3.12/site-packages (from bleach[css]!=5.0.0->nbconvert>=6.4.4->jupyter-server<3,>=2.4.0->notebook>=4.4.1->widgetsnbextension~=3.6.10->ipywidgets<8->fastbook) (1.4.0)\n",
      "Requirement already satisfied: fastjsonschema>=2.15 in /home/oberon/.local/lib/python3.12/site-packages (from nbformat>=5.3.0->jupyter-server<3,>=2.4.0->notebook>=4.4.1->widgetsnbextension~=3.6.10->ipywidgets<8->fastbook) (2.21.2)\n",
      "Requirement already satisfied: ptyprocess>=0.5 in /home/oberon/.local/lib/python3.12/site-packages (from pexpect>4.3->ipython>=4.0.0->ipywidgets<8->fastbook) (0.7.0)\n",
      "Requirement already satisfied: six>=1.5 in /home/oberon/.local/lib/python3.12/site-packages (from python-dateutil>=2.8.2->jupyter-client>=7.4.4->jupyter-server<3,>=2.4.0->notebook>=4.4.1->widgetsnbextension~=3.6.10->ipywidgets<8->fastbook) (1.17.0)\n",
      "Requirement already satisfied: markdown-it-py>=2.2.0 in /home/oberon/.local/lib/python3.12/site-packages (from rich>=10.11.0->typer<1.0.0,>=0.3.0->spacy<4->fastai>=2.6->fastbook) (4.0.0)\n",
      "Requirement already satisfied: mdurl~=0.1 in /home/oberon/.local/lib/python3.12/site-packages (from markdown-it-py>=2.2.0->rich>=10.11.0->typer<1.0.0,>=0.3.0->spacy<4->fastai>=2.6->fastbook) (0.1.2)\n",
      "Requirement already satisfied: cffi>=1.0.1 in /home/oberon/.local/lib/python3.12/site-packages (from argon2-cffi-bindings->argon2-cffi>=21.1->jupyter-server<3,>=2.4.0->notebook>=4.4.1->widgetsnbextension~=3.6.10->ipywidgets<8->fastbook) (1.17.1)\n",
      "Requirement already satisfied: pycparser in /home/oberon/.local/lib/python3.12/site-packages (from cffi>=1.0.1->argon2-cffi-bindings->argon2-cffi>=21.1->jupyter-server<3,>=2.4.0->notebook>=4.4.1->widgetsnbextension~=3.6.10->ipywidgets<8->fastbook) (2.22)\n",
      "Requirement already satisfied: soupsieve>1.2 in /home/oberon/.local/lib/python3.12/site-packages (from beautifulsoup4->nbconvert>=6.4.4->jupyter-server<3,>=2.4.0->notebook>=4.4.1->widgetsnbextension~=3.6.10->ipywidgets<8->fastbook) (2.7)\n",
      "Requirement already satisfied: pyarrow>=15.0.0 in /home/oberon/.local/lib/python3.12/site-packages (from datasets->fastbook) (20.0.0)\n",
      "Requirement already satisfied: dill<0.3.9,>=0.3.0 in /home/oberon/.local/lib/python3.12/site-packages (from datasets->fastbook) (0.3.8)\n",
      "Requirement already satisfied: xxhash in /home/oberon/.local/lib/python3.12/site-packages (from datasets->fastbook) (3.5.0)\n",
      "Requirement already satisfied: multiprocess<0.70.17 in /home/oberon/.local/lib/python3.12/site-packages (from datasets->fastbook) (0.70.16)\n",
      "Requirement already satisfied: huggingface-hub>=0.24.0 in /home/oberon/.local/lib/python3.12/site-packages (from datasets->fastbook) (0.35.3)\n",
      "Requirement already satisfied: aiohttp!=4.0.0a0,!=4.0.0a1 in /home/oberon/.local/lib/python3.12/site-packages (from fsspec[http]<=2025.3.0,>=2023.1.0->datasets->fastbook) (3.12.13)\n",
      "Requirement already satisfied: aiohappyeyeballs>=2.5.0 in /home/oberon/.local/lib/python3.12/site-packages (from aiohttp!=4.0.0a0,!=4.0.0a1->fsspec[http]<=2025.3.0,>=2023.1.0->datasets->fastbook) (2.6.1)\n",
      "Requirement already satisfied: aiosignal>=1.1.2 in /home/oberon/.local/lib/python3.12/site-packages (from aiohttp!=4.0.0a0,!=4.0.0a1->fsspec[http]<=2025.3.0,>=2023.1.0->datasets->fastbook) (1.4.0)\n",
      "Requirement already satisfied: frozenlist>=1.1.1 in /home/oberon/.local/lib/python3.12/site-packages (from aiohttp!=4.0.0a0,!=4.0.0a1->fsspec[http]<=2025.3.0,>=2023.1.0->datasets->fastbook) (1.7.0)\n",
      "Requirement already satisfied: multidict<7.0,>=4.5 in /home/oberon/.local/lib/python3.12/site-packages (from aiohttp!=4.0.0a0,!=4.0.0a1->fsspec[http]<=2025.3.0,>=2023.1.0->datasets->fastbook) (6.6.3)\n",
      "Requirement already satisfied: propcache>=0.2.0 in /home/oberon/.local/lib/python3.12/site-packages (from aiohttp!=4.0.0a0,!=4.0.0a1->fsspec[http]<=2025.3.0,>=2023.1.0->datasets->fastbook) (0.3.2)\n",
      "Requirement already satisfied: yarl<2.0,>=1.17.0 in /home/oberon/.local/lib/python3.12/site-packages (from aiohttp!=4.0.0a0,!=4.0.0a1->fsspec[http]<=2025.3.0,>=2023.1.0->datasets->fastbook) (1.20.1)\n",
      "Requirement already satisfied: hf-xet<2.0.0,>=1.1.3 in /home/oberon/.local/lib/python3.12/site-packages (from huggingface-hub>=0.24.0->datasets->fastbook) (1.1.5)\n",
      "Requirement already satisfied: arrow>=0.15.0 in /home/oberon/.local/lib/python3.12/site-packages (from isoduration->jsonschema[format-nongpl]>=4.18.0->jupyter-events>=0.11.0->jupyter-server<3,>=2.4.0->notebook>=4.4.1->widgetsnbextension~=3.6.10->ipywidgets<8->fastbook) (1.3.0)\n",
      "Requirement already satisfied: types-python-dateutil>=2.8.10 in /home/oberon/.local/lib/python3.12/site-packages (from arrow>=0.15.0->isoduration->jsonschema[format-nongpl]>=4.18.0->jupyter-events>=0.11.0->jupyter-server<3,>=2.4.0->notebook>=4.4.1->widgetsnbextension~=3.6.10->ipywidgets<8->fastbook) (2.9.0.20250822)\n",
      "Requirement already satisfied: contourpy>=1.0.1 in /home/oberon/.local/lib/python3.12/site-packages (from matplotlib->fastai>=2.6->fastbook) (1.3.2)\n",
      "Requirement already satisfied: cycler>=0.10 in /home/oberon/.local/lib/python3.12/site-packages (from matplotlib->fastai>=2.6->fastbook) (0.12.1)\n",
      "Requirement already satisfied: fonttools>=4.22.0 in /home/oberon/.local/lib/python3.12/site-packages (from matplotlib->fastai>=2.6->fastbook) (4.58.5)\n",
      "Requirement already satisfied: kiwisolver>=1.3.1 in /home/oberon/.local/lib/python3.12/site-packages (from matplotlib->fastai>=2.6->fastbook) (1.4.8)\n",
      "Requirement already satisfied: pyparsing>=2.3.1 in /home/oberon/.local/lib/python3.12/site-packages (from matplotlib->fastai>=2.6->fastbook) (3.2.3)\n",
      "Requirement already satisfied: pytz>=2020.1 in /home/oberon/.local/lib/python3.12/site-packages (from pandas->fastbook) (2025.2)\n",
      "Requirement already satisfied: tzdata>=2022.7 in /home/oberon/.local/lib/python3.12/site-packages (from pandas->fastbook) (2025.2)\n",
      "Requirement already satisfied: beartype>=0.16.2 in /home/oberon/.local/lib/python3.12/site-packages (from plum-dispatch->fastai>=2.6->fastbook) (0.21.0)\n",
      "Requirement already satisfied: joblib>=1.2.0 in /home/oberon/.local/lib/python3.12/site-packages (from scikit-learn->fastai>=2.6->fastbook) (1.5.1)\n",
      "Requirement already satisfied: threadpoolctl>=3.1.0 in /home/oberon/.local/lib/python3.12/site-packages (from scikit-learn->fastai>=2.6->fastbook) (3.6.0)\n",
      "Requirement already satisfied: executing>=1.2.0 in /home/oberon/.local/lib/python3.12/site-packages (from stack_data->ipython>=4.0.0->ipywidgets<8->fastbook) (2.2.1)\n",
      "Requirement already satisfied: asttokens>=2.1.0 in /home/oberon/.local/lib/python3.12/site-packages (from stack_data->ipython>=4.0.0->ipywidgets<8->fastbook) (3.0.0)\n",
      "Requirement already satisfied: pure-eval in /home/oberon/.local/lib/python3.12/site-packages (from stack_data->ipython>=4.0.0->ipywidgets<8->fastbook) (0.2.3)\n",
      "Requirement already satisfied: regex!=2019.12.17 in /home/oberon/.local/lib/python3.12/site-packages (from transformers->fastbook) (2024.11.6)\n",
      "Requirement already satisfied: tokenizers<0.22,>=0.21 in /home/oberon/.local/lib/python3.12/site-packages (from transformers->fastbook) (0.21.1)\n",
      "Requirement already satisfied: safetensors>=0.4.3 in /home/oberon/.local/lib/python3.12/site-packages (from transformers->fastbook) (0.5.3)\n"
     ]
    }
   ],
   "source": [
    "!pip install fastbook"
   ]
  },
  {
   "cell_type": "code",
   "execution_count": 2,
   "metadata": {},
   "outputs": [],
   "source": [
    "import os\n",
    "os.environ['FASTAI_HOME'] = '/mnt/hitchcock/scratch/oberon/.fastai'\n",
    "#hide\n",
    "! [ -e /content ] && pip install -Uqq fastbook\n",
    "import fastbook\n",
    "fastbook.setup_book()"
   ]
  },
  {
   "cell_type": "code",
<<<<<<< HEAD
   "execution_count": 3,
=======
   "execution_count": 2,
>>>>>>> aff4a1e66136d84397a1967bffa9f4f8f0273582
   "metadata": {},
   "outputs": [],
   "source": [
    "#hide\n",
    "from fastbook import *"
   ]
  },
  {
   "cell_type": "markdown",
   "metadata": {},
   "source": [
    "# Your Deep Learning Journey"
   ]
  },
  {
   "cell_type": "markdown",
   "metadata": {},
   "source": [
    "## Deep Learning Is for Everyone"
   ]
  },
  {
   "cell_type": "markdown",
   "metadata": {},
   "source": [
    "## Neural Networks: A Brief History"
   ]
  },
  {
   "cell_type": "markdown",
   "metadata": {},
   "source": [
    "## Who We Are"
   ]
  },
  {
   "cell_type": "markdown",
   "metadata": {},
   "source": [
    "## How to Learn Deep Learning"
   ]
  },
  {
   "cell_type": "markdown",
   "metadata": {},
   "source": [
    "### Your Projects and Your Mindset"
   ]
  },
  {
   "cell_type": "markdown",
   "metadata": {},
   "source": [
    "## The Software: PyTorch, fastai, and Jupyter"
   ]
  },
  {
   "cell_type": "markdown",
   "metadata": {},
   "source": [
    "## Your First Model"
   ]
  },
  {
   "cell_type": "markdown",
   "metadata": {},
   "source": [
    "### Getting a GPU Deep Learning Server"
   ]
  },
  {
   "cell_type": "markdown",
   "metadata": {},
   "source": [
    "### Running Your First Notebook"
   ]
  },
  {
   "cell_type": "code",
<<<<<<< HEAD
   "execution_count": 4,
   "metadata": {},
   "outputs": [
    {
=======
   "execution_count": 3,
   "metadata": {},
   "outputs": [
    {
     "name": "stdout",
     "output_type": "stream",
     "text": [
      "Downloading a new version of this dataset...\n"
     ]
    },
    {
>>>>>>> aff4a1e66136d84397a1967bffa9f4f8f0273582
     "data": {
      "text/html": [
       "\n",
       "<style>\n",
       "    /* Turns off some styling */\n",
       "    progress {\n",
       "        /* gets rid of default border in Firefox and Opera. */\n",
       "        border: none;\n",
       "        /* Needs to be in here for Safari polyfill so background images work as expected. */\n",
       "        background-size: auto;\n",
       "    }\n",
       "    progress:not([value]), progress:not([value])::-webkit-progress-bar {\n",
       "        background: repeating-linear-gradient(45deg, #7e7e7e, #7e7e7e 10px, #5c5c5c 10px, #5c5c5c 20px);\n",
       "    }\n",
       "    .progress-bar-interrupted, .progress-bar-interrupted::-webkit-progress-bar {\n",
       "        background: #F44336;\n",
       "    }\n",
       "</style>\n"
      ],
      "text/plain": [
       "<IPython.core.display.HTML object>"
      ]
     },
     "metadata": {},
     "output_type": "display_data"
    },
    {
     "data": {
      "text/html": [
<<<<<<< HEAD
       "<table border=\"1\" class=\"dataframe\">\n",
       "  <thead>\n",
       "    <tr style=\"text-align: left;\">\n",
       "      <th>epoch</th>\n",
       "      <th>train_loss</th>\n",
       "      <th>valid_loss</th>\n",
       "      <th>error_rate</th>\n",
       "      <th>time</th>\n",
       "    </tr>\n",
       "  </thead>\n",
       "  <tbody>\n",
       "    <tr>\n",
       "      <td>0</td>\n",
       "      <td>0.170442</td>\n",
       "      <td>0.018738</td>\n",
       "      <td>0.005413</td>\n",
       "      <td>00:13</td>\n",
       "    </tr>\n",
       "  </tbody>\n",
       "</table>"
      ],
      "text/plain": [
       "<IPython.core.display.HTML object>"
      ]
     },
     "metadata": {},
     "output_type": "display_data"
    },
    {
     "data": {
      "text/html": [
       "\n",
       "<style>\n",
       "    /* Turns off some styling */\n",
       "    progress {\n",
       "        /* gets rid of default border in Firefox and Opera. */\n",
       "        border: none;\n",
       "        /* Needs to be in here for Safari polyfill so background images work as expected. */\n",
       "        background-size: auto;\n",
       "    }\n",
       "    progress:not([value]), progress:not([value])::-webkit-progress-bar {\n",
       "        background: repeating-linear-gradient(45deg, #7e7e7e, #7e7e7e 10px, #5c5c5c 10px, #5c5c5c 20px);\n",
       "    }\n",
       "    .progress-bar-interrupted, .progress-bar-interrupted::-webkit-progress-bar {\n",
       "        background: #F44336;\n",
       "    }\n",
       "</style>\n"
=======
       "\n",
       "    <div>\n",
       "      <progress value='16859136' class='' max='811706944' style='width:300px; height:20px; vertical-align: middle;'></progress>\n",
       "      2.08% [16859136/811706944 00:16&lt;12:50]\n",
       "    </div>\n",
       "    "
>>>>>>> aff4a1e66136d84397a1967bffa9f4f8f0273582
      ],
      "text/plain": [
       "<IPython.core.display.HTML object>"
      ]
     },
     "metadata": {},
     "output_type": "display_data"
    },
    {
<<<<<<< HEAD
     "data": {
      "text/html": [
       "<table border=\"1\" class=\"dataframe\">\n",
       "  <thead>\n",
       "    <tr style=\"text-align: left;\">\n",
       "      <th>epoch</th>\n",
       "      <th>train_loss</th>\n",
       "      <th>valid_loss</th>\n",
       "      <th>error_rate</th>\n",
       "      <th>time</th>\n",
       "    </tr>\n",
       "  </thead>\n",
       "  <tbody>\n",
       "    <tr>\n",
       "      <td>0</td>\n",
       "      <td>0.065560</td>\n",
       "      <td>0.025832</td>\n",
       "      <td>0.008119</td>\n",
       "      <td>00:13</td>\n",
       "    </tr>\n",
       "  </tbody>\n",
       "</table>"
      ],
      "text/plain": [
       "<IPython.core.display.HTML object>"
      ]
     },
     "metadata": {},
     "output_type": "display_data"
=======
     "ename": "KeyboardInterrupt",
     "evalue": "",
     "output_type": "error",
     "traceback": [
      "\u001b[31m---------------------------------------------------------------------------\u001b[39m",
      "\u001b[31mKeyboardInterrupt\u001b[39m                         Traceback (most recent call last)",
      "\u001b[36mCell\u001b[39m\u001b[36m \u001b[39m\u001b[32mIn[3]\u001b[39m\u001b[32m, line 3\u001b[39m\n\u001b[32m      1\u001b[39m \u001b[38;5;66;03m# CLICK ME\u001b[39;00m\n\u001b[32m      2\u001b[39m \u001b[38;5;28;01mfrom\u001b[39;00m\u001b[38;5;250m \u001b[39m\u001b[34;01mfastai\u001b[39;00m\u001b[34;01m.\u001b[39;00m\u001b[34;01mvision\u001b[39;00m\u001b[34;01m.\u001b[39;00m\u001b[34;01mall\u001b[39;00m\u001b[38;5;250m \u001b[39m\u001b[38;5;28;01mimport\u001b[39;00m *\n\u001b[32m----> \u001b[39m\u001b[32m3\u001b[39m path = \u001b[43muntar_data\u001b[49m\u001b[43m(\u001b[49m\u001b[43mURLs\u001b[49m\u001b[43m.\u001b[49m\u001b[43mPETS\u001b[49m\u001b[43m)\u001b[49m/\u001b[33m'\u001b[39m\u001b[33mimages\u001b[39m\u001b[33m'\u001b[39m\n\u001b[32m      5\u001b[39m \u001b[38;5;28;01mdef\u001b[39;00m\u001b[38;5;250m \u001b[39m\u001b[34mis_cat\u001b[39m(x): \u001b[38;5;28;01mreturn\u001b[39;00m x[\u001b[32m0\u001b[39m].isupper()\n\u001b[32m      6\u001b[39m dls = ImageDataLoaders.from_name_func(\n\u001b[32m      7\u001b[39m     path, get_image_files(path), valid_pct=\u001b[32m0.2\u001b[39m, seed=\u001b[32m42\u001b[39m,\n\u001b[32m      8\u001b[39m     label_func=is_cat, item_tfms=Resize(\u001b[32m224\u001b[39m))\n",
      "\u001b[36mFile \u001b[39m\u001b[32m~/miniforge3/envs/fastai/lib/python3.12/site-packages/fastai/data/external.py:144\u001b[39m, in \u001b[36muntar_data\u001b[39m\u001b[34m(url, archive, data, c_key, force_download, base)\u001b[39m\n\u001b[32m    142\u001b[39m     base = \u001b[33m'\u001b[39m\u001b[33m~/.fastai\u001b[39m\u001b[33m'\u001b[39m\n\u001b[32m    143\u001b[39m d = FastDownload(cfg, module=fastai.data, archive=archive, data=data, base=base)\n\u001b[32m--> \u001b[39m\u001b[32m144\u001b[39m \u001b[38;5;28;01mreturn\u001b[39;00m \u001b[43md\u001b[49m\u001b[43m.\u001b[49m\u001b[43mget\u001b[49m\u001b[43m(\u001b[49m\u001b[43murl\u001b[49m\u001b[43m,\u001b[49m\u001b[43m \u001b[49m\u001b[43mforce\u001b[49m\u001b[43m=\u001b[49m\u001b[43mforce_download\u001b[49m\u001b[43m,\u001b[49m\u001b[43m \u001b[49m\u001b[43mextract_key\u001b[49m\u001b[43m=\u001b[49m\u001b[43mc_key\u001b[49m\u001b[43m)\u001b[49m\n",
      "\u001b[36mFile \u001b[39m\u001b[32m~/miniforge3/envs/fastai/lib/python3.12/site-packages/fastdownload/core.py:117\u001b[39m, in \u001b[36mFastDownload.get\u001b[39m\u001b[34m(self, url, extract_key, force)\u001b[39m\n\u001b[32m    115\u001b[39m     data = \u001b[38;5;28mself\u001b[39m.data_path(extract_key, urldest(url, \u001b[38;5;28mself\u001b[39m.arch_path()))\n\u001b[32m    116\u001b[39m     \u001b[38;5;28;01mif\u001b[39;00m data.exists(): \u001b[38;5;28;01mreturn\u001b[39;00m data\n\u001b[32m--> \u001b[39m\u001b[32m117\u001b[39m \u001b[38;5;28;43mself\u001b[39;49m\u001b[43m.\u001b[49m\u001b[43mdownload\u001b[49m\u001b[43m(\u001b[49m\u001b[43murl\u001b[49m\u001b[43m,\u001b[49m\u001b[43m \u001b[49m\u001b[43mforce\u001b[49m\u001b[43m=\u001b[49m\u001b[43mforce\u001b[49m\u001b[43m)\u001b[49m\n\u001b[32m    118\u001b[39m \u001b[38;5;28;01mreturn\u001b[39;00m \u001b[38;5;28mself\u001b[39m.extract(url, extract_key=extract_key, force=force)\n",
      "\u001b[36mFile \u001b[39m\u001b[32m~/miniforge3/envs/fastai/lib/python3.12/site-packages/fastdownload/core.py:92\u001b[39m, in \u001b[36mFastDownload.download\u001b[39m\u001b[34m(self, url, force)\u001b[39m\n\u001b[32m     90\u001b[39m \u001b[33m\"\u001b[39m\u001b[33mDownload `url` to archive path, unless exists and `self.check` fails and not `force`\u001b[39m\u001b[33m\"\u001b[39m\n\u001b[32m     91\u001b[39m \u001b[38;5;28mself\u001b[39m.arch_path().mkdir(exist_ok=\u001b[38;5;28;01mTrue\u001b[39;00m, parents=\u001b[38;5;28;01mTrue\u001b[39;00m)\n\u001b[32m---> \u001b[39m\u001b[32m92\u001b[39m \u001b[38;5;28;01mreturn\u001b[39;00m \u001b[43mdownload_and_check\u001b[49m\u001b[43m(\u001b[49m\u001b[43murl\u001b[49m\u001b[43m,\u001b[49m\u001b[43m \u001b[49m\u001b[43murldest\u001b[49m\u001b[43m(\u001b[49m\u001b[43murl\u001b[49m\u001b[43m,\u001b[49m\u001b[43m \u001b[49m\u001b[38;5;28;43mself\u001b[39;49m\u001b[43m.\u001b[49m\u001b[43march_path\u001b[49m\u001b[43m(\u001b[49m\u001b[43m)\u001b[49m\u001b[43m)\u001b[49m\u001b[43m,\u001b[49m\u001b[43m \u001b[49m\u001b[38;5;28;43mself\u001b[39;49m\u001b[43m.\u001b[49m\u001b[43mmodule\u001b[49m\u001b[43m,\u001b[49m\u001b[43m \u001b[49m\u001b[43mforce\u001b[49m\u001b[43m)\u001b[49m\n",
      "\u001b[36mFile \u001b[39m\u001b[32m~/miniforge3/envs/fastai/lib/python3.12/site-packages/fastdownload/core.py:61\u001b[39m, in \u001b[36mdownload_and_check\u001b[39m\u001b[34m(url, fpath, fmod, force)\u001b[39m\n\u001b[32m     59\u001b[39m     \u001b[38;5;28;01mif\u001b[39;00m check(fmod, url, fpath): \u001b[38;5;28;01mreturn\u001b[39;00m fpath\n\u001b[32m     60\u001b[39m     \u001b[38;5;28;01melse\u001b[39;00m: \u001b[38;5;28mprint\u001b[39m(\u001b[33m\"\u001b[39m\u001b[33mDownloading a new version of this dataset...\u001b[39m\u001b[33m\"\u001b[39m)\n\u001b[32m---> \u001b[39m\u001b[32m61\u001b[39m res = \u001b[43mdownload_url\u001b[49m\u001b[43m(\u001b[49m\u001b[43murl\u001b[49m\u001b[43m,\u001b[49m\u001b[43m \u001b[49m\u001b[43mfpath\u001b[49m\u001b[43m)\u001b[49m\n\u001b[32m     62\u001b[39m \u001b[38;5;28;01mif\u001b[39;00m \u001b[38;5;129;01mnot\u001b[39;00m check(fmod, url, fpath): \u001b[38;5;28;01mraise\u001b[39;00m \u001b[38;5;167;01mException\u001b[39;00m(\u001b[33m\"\u001b[39m\u001b[33mDownloaded file is corrupt or not latest version\u001b[39m\u001b[33m\"\u001b[39m)\n\u001b[32m     63\u001b[39m \u001b[38;5;28;01mreturn\u001b[39;00m res\n",
      "\u001b[36mFile \u001b[39m\u001b[32m~/miniforge3/envs/fastai/lib/python3.12/site-packages/fastdownload/core.py:19\u001b[39m, in \u001b[36mdownload_url\u001b[39m\u001b[34m(url, dest, timeout, show_progress)\u001b[39m\n\u001b[32m     17\u001b[39m     pbar.total = tsize\n\u001b[32m     18\u001b[39m     pbar.update(count*bsize)\n\u001b[32m---> \u001b[39m\u001b[32m19\u001b[39m \u001b[38;5;28;01mreturn\u001b[39;00m \u001b[43murlsave\u001b[49m\u001b[43m(\u001b[49m\u001b[43murl\u001b[49m\u001b[43m,\u001b[49m\u001b[43m \u001b[49m\u001b[43mdest\u001b[49m\u001b[43m,\u001b[49m\u001b[43m \u001b[49m\u001b[43mreporthook\u001b[49m\u001b[43m=\u001b[49m\u001b[43mprogress\u001b[49m\u001b[43m \u001b[49m\u001b[38;5;28;43;01mif\u001b[39;49;00m\u001b[43m \u001b[49m\u001b[43mshow_progress\u001b[49m\u001b[43m \u001b[49m\u001b[38;5;28;43;01melse\u001b[39;49;00m\u001b[43m \u001b[49m\u001b[38;5;28;43;01mNone\u001b[39;49;00m\u001b[43m,\u001b[49m\u001b[43m \u001b[49m\u001b[43mtimeout\u001b[49m\u001b[43m=\u001b[49m\u001b[43mtimeout\u001b[49m\u001b[43m)\u001b[49m\n",
      "\u001b[36mFile \u001b[39m\u001b[32m~/miniforge3/envs/fastai/lib/python3.12/site-packages/fastcore/net.py:187\u001b[39m, in \u001b[36murlsave\u001b[39m\u001b[34m(url, dest, reporthook, headers, timeout)\u001b[39m\n\u001b[32m    185\u001b[39m dest = urldest(url, dest)\n\u001b[32m    186\u001b[39m dest.parent.mkdir(parents=\u001b[38;5;28;01mTrue\u001b[39;00m, exist_ok=\u001b[38;5;28;01mTrue\u001b[39;00m)\n\u001b[32m--> \u001b[39m\u001b[32m187\u001b[39m nm,msg = \u001b[43murlretrieve\u001b[49m\u001b[43m(\u001b[49m\u001b[43murl\u001b[49m\u001b[43m,\u001b[49m\u001b[43m \u001b[49m\u001b[43mdest\u001b[49m\u001b[43m,\u001b[49m\u001b[43m \u001b[49m\u001b[43mreporthook\u001b[49m\u001b[43m,\u001b[49m\u001b[43m \u001b[49m\u001b[43mheaders\u001b[49m\u001b[43m=\u001b[49m\u001b[43mheaders\u001b[49m\u001b[43m,\u001b[49m\u001b[43m \u001b[49m\u001b[43mtimeout\u001b[49m\u001b[43m=\u001b[49m\u001b[43mtimeout\u001b[49m\u001b[43m)\u001b[49m\n\u001b[32m    188\u001b[39m \u001b[38;5;28;01mreturn\u001b[39;00m nm\n",
      "\u001b[36mFile \u001b[39m\u001b[32m~/miniforge3/envs/fastai/lib/python3.12/site-packages/fastcore/net.py:164\u001b[39m, in \u001b[36murlretrieve\u001b[39m\u001b[34m(url, filename, reporthook, data, headers, timeout)\u001b[39m\n\u001b[32m    162\u001b[39m \u001b[38;5;28;01mif\u001b[39;00m reporthook: reporthook(blocknum, bs, size)\n\u001b[32m    163\u001b[39m \u001b[38;5;28;01mwhile\u001b[39;00m \u001b[38;5;28;01mTrue\u001b[39;00m:\n\u001b[32m--> \u001b[39m\u001b[32m164\u001b[39m     block = \u001b[43mfp\u001b[49m\u001b[43m.\u001b[49m\u001b[43mread\u001b[49m\u001b[43m(\u001b[49m\u001b[43mbs\u001b[49m\u001b[43m)\u001b[49m\n\u001b[32m    165\u001b[39m     \u001b[38;5;28;01mif\u001b[39;00m \u001b[38;5;129;01mnot\u001b[39;00m block: \u001b[38;5;28;01mbreak\u001b[39;00m\n\u001b[32m    166\u001b[39m     read += \u001b[38;5;28mlen\u001b[39m(block)\n",
      "\u001b[36mFile \u001b[39m\u001b[32m~/miniforge3/envs/fastai/lib/python3.12/http/client.py:472\u001b[39m, in \u001b[36mHTTPResponse.read\u001b[39m\u001b[34m(self, amt)\u001b[39m\n\u001b[32m    469\u001b[39m \u001b[38;5;28;01mif\u001b[39;00m \u001b[38;5;28mself\u001b[39m.length \u001b[38;5;129;01mis\u001b[39;00m \u001b[38;5;129;01mnot\u001b[39;00m \u001b[38;5;28;01mNone\u001b[39;00m \u001b[38;5;129;01mand\u001b[39;00m amt > \u001b[38;5;28mself\u001b[39m.length:\n\u001b[32m    470\u001b[39m     \u001b[38;5;66;03m# clip the read to the \"end of response\"\u001b[39;00m\n\u001b[32m    471\u001b[39m     amt = \u001b[38;5;28mself\u001b[39m.length\n\u001b[32m--> \u001b[39m\u001b[32m472\u001b[39m s = \u001b[38;5;28;43mself\u001b[39;49m\u001b[43m.\u001b[49m\u001b[43mfp\u001b[49m\u001b[43m.\u001b[49m\u001b[43mread\u001b[49m\u001b[43m(\u001b[49m\u001b[43mamt\u001b[49m\u001b[43m)\u001b[49m\n\u001b[32m    473\u001b[39m \u001b[38;5;28;01mif\u001b[39;00m \u001b[38;5;129;01mnot\u001b[39;00m s \u001b[38;5;129;01mand\u001b[39;00m amt:\n\u001b[32m    474\u001b[39m     \u001b[38;5;66;03m# Ideally, we would raise IncompleteRead if the content-length\u001b[39;00m\n\u001b[32m    475\u001b[39m     \u001b[38;5;66;03m# wasn't satisfied, but it might break compatibility.\u001b[39;00m\n\u001b[32m    476\u001b[39m     \u001b[38;5;28mself\u001b[39m._close_conn()\n",
      "\u001b[36mFile \u001b[39m\u001b[32m~/miniforge3/envs/fastai/lib/python3.12/socket.py:707\u001b[39m, in \u001b[36mSocketIO.readinto\u001b[39m\u001b[34m(self, b)\u001b[39m\n\u001b[32m    705\u001b[39m \u001b[38;5;28;01mwhile\u001b[39;00m \u001b[38;5;28;01mTrue\u001b[39;00m:\n\u001b[32m    706\u001b[39m     \u001b[38;5;28;01mtry\u001b[39;00m:\n\u001b[32m--> \u001b[39m\u001b[32m707\u001b[39m         \u001b[38;5;28;01mreturn\u001b[39;00m \u001b[38;5;28;43mself\u001b[39;49m\u001b[43m.\u001b[49m\u001b[43m_sock\u001b[49m\u001b[43m.\u001b[49m\u001b[43mrecv_into\u001b[49m\u001b[43m(\u001b[49m\u001b[43mb\u001b[49m\u001b[43m)\u001b[49m\n\u001b[32m    708\u001b[39m     \u001b[38;5;28;01mexcept\u001b[39;00m timeout:\n\u001b[32m    709\u001b[39m         \u001b[38;5;28mself\u001b[39m._timeout_occurred = \u001b[38;5;28;01mTrue\u001b[39;00m\n",
      "\u001b[36mFile \u001b[39m\u001b[32m~/miniforge3/envs/fastai/lib/python3.12/ssl.py:1249\u001b[39m, in \u001b[36mSSLSocket.recv_into\u001b[39m\u001b[34m(self, buffer, nbytes, flags)\u001b[39m\n\u001b[32m   1245\u001b[39m     \u001b[38;5;28;01mif\u001b[39;00m flags != \u001b[32m0\u001b[39m:\n\u001b[32m   1246\u001b[39m         \u001b[38;5;28;01mraise\u001b[39;00m \u001b[38;5;167;01mValueError\u001b[39;00m(\n\u001b[32m   1247\u001b[39m           \u001b[33m\"\u001b[39m\u001b[33mnon-zero flags not allowed in calls to recv_into() on \u001b[39m\u001b[38;5;132;01m%s\u001b[39;00m\u001b[33m\"\u001b[39m %\n\u001b[32m   1248\u001b[39m           \u001b[38;5;28mself\u001b[39m.\u001b[34m__class__\u001b[39m)\n\u001b[32m-> \u001b[39m\u001b[32m1249\u001b[39m     \u001b[38;5;28;01mreturn\u001b[39;00m \u001b[38;5;28;43mself\u001b[39;49m\u001b[43m.\u001b[49m\u001b[43mread\u001b[49m\u001b[43m(\u001b[49m\u001b[43mnbytes\u001b[49m\u001b[43m,\u001b[49m\u001b[43m \u001b[49m\u001b[43mbuffer\u001b[49m\u001b[43m)\u001b[49m\n\u001b[32m   1250\u001b[39m \u001b[38;5;28;01melse\u001b[39;00m:\n\u001b[32m   1251\u001b[39m     \u001b[38;5;28;01mreturn\u001b[39;00m \u001b[38;5;28msuper\u001b[39m().recv_into(buffer, nbytes, flags)\n",
      "\u001b[36mFile \u001b[39m\u001b[32m~/miniforge3/envs/fastai/lib/python3.12/ssl.py:1105\u001b[39m, in \u001b[36mSSLSocket.read\u001b[39m\u001b[34m(self, len, buffer)\u001b[39m\n\u001b[32m   1103\u001b[39m \u001b[38;5;28;01mtry\u001b[39;00m:\n\u001b[32m   1104\u001b[39m     \u001b[38;5;28;01mif\u001b[39;00m buffer \u001b[38;5;129;01mis\u001b[39;00m \u001b[38;5;129;01mnot\u001b[39;00m \u001b[38;5;28;01mNone\u001b[39;00m:\n\u001b[32m-> \u001b[39m\u001b[32m1105\u001b[39m         \u001b[38;5;28;01mreturn\u001b[39;00m \u001b[38;5;28;43mself\u001b[39;49m\u001b[43m.\u001b[49m\u001b[43m_sslobj\u001b[49m\u001b[43m.\u001b[49m\u001b[43mread\u001b[49m\u001b[43m(\u001b[49m\u001b[38;5;28;43mlen\u001b[39;49m\u001b[43m,\u001b[49m\u001b[43m \u001b[49m\u001b[43mbuffer\u001b[49m\u001b[43m)\u001b[49m\n\u001b[32m   1106\u001b[39m     \u001b[38;5;28;01melse\u001b[39;00m:\n\u001b[32m   1107\u001b[39m         \u001b[38;5;28;01mreturn\u001b[39;00m \u001b[38;5;28mself\u001b[39m._sslobj.read(\u001b[38;5;28mlen\u001b[39m)\n",
      "\u001b[31mKeyboardInterrupt\u001b[39m: "
     ]
>>>>>>> aff4a1e66136d84397a1967bffa9f4f8f0273582
    }
   ],
   "source": [
    "# CLICK ME\n",
    "from fastai.vision.all import *\n",
    "path = untar_data(URLs.PETS)/'images'\n",
    "\n",
    "def is_cat(x): return x[0].isupper()\n",
    "dls = ImageDataLoaders.from_name_func(\n",
    "    path, get_image_files(path), valid_pct=0.2, seed=42,\n",
    "    label_func=is_cat, item_tfms=Resize(224))\n",
    "\n",
    "learn = vision_learner(dls, resnet34, metrics=error_rate)\n",
    "learn.fine_tune(1)"
   ]
  },
  {
   "cell_type": "markdown",
   "metadata": {},
   "source": [
    "### Sidebar: This Book Was Written in Jupyter Notebooks"
   ]
  },
  {
   "cell_type": "code",
   "execution_count": 5,
   "metadata": {},
   "outputs": [
    {
     "data": {
      "text/plain": [
       "2"
      ]
     },
     "execution_count": 5,
     "metadata": {},
     "output_type": "execute_result"
    }
   ],
   "source": [
    "1+1"
   ]
  },
  {
   "cell_type": "code",
   "execution_count": 6,
   "metadata": {},
   "outputs": [
    {
     "data": {
      "image/jpeg": "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",
      "image/png": "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",
      "text/plain": [
       "<PIL.Image.Image image mode=RGB size=151x192>"
      ]
     },
     "execution_count": 6,
     "metadata": {},
     "output_type": "execute_result"
    }
   ],
   "source": [
    "img = PILImage.create(image_cat())\n",
    "img.to_thumb(192)"
   ]
  },
  {
   "cell_type": "markdown",
   "metadata": {},
   "source": [
    "### End sidebar"
   ]
  },
  {
   "cell_type": "code",
   "execution_count": 7,
   "metadata": {},
   "outputs": [
    {
     "data": {
      "application/vnd.jupyter.widget-view+json": {
       "model_id": "753d94ffae754c739aa197e212db642a",
       "version_major": 2,
       "version_minor": 0
      },
      "text/plain": [
       "FileUpload(value={}, description='Upload')"
      ]
     },
     "metadata": {},
     "output_type": "display_data"
    }
   ],
   "source": [
    "uploader = widgets.FileUpload()\n",
    "uploader"
   ]
  },
  {
   "cell_type": "code",
   "execution_count": 8,
   "metadata": {},
   "outputs": [],
   "source": [
    "#hide\n",
    "# For the book, we can't actually click an upload button, so we fake it\n",
    "uploader = SimpleNamespace(data = ['images/chapter1_poodle_example.jpeg'])"
   ]
  },
  {
   "cell_type": "code",
   "execution_count": 9,
   "metadata": {},
   "outputs": [
    {
     "data": {
      "text/html": [
       "\n",
       "<style>\n",
       "    /* Turns off some styling */\n",
       "    progress {\n",
       "        /* gets rid of default border in Firefox and Opera. */\n",
       "        border: none;\n",
       "        /* Needs to be in here for Safari polyfill so background images work as expected. */\n",
       "        background-size: auto;\n",
       "    }\n",
       "    progress:not([value]), progress:not([value])::-webkit-progress-bar {\n",
       "        background: repeating-linear-gradient(45deg, #7e7e7e, #7e7e7e 10px, #5c5c5c 10px, #5c5c5c 20px);\n",
       "    }\n",
       "    .progress-bar-interrupted, .progress-bar-interrupted::-webkit-progress-bar {\n",
       "        background: #F44336;\n",
       "    }\n",
       "</style>\n"
      ],
      "text/plain": [
       "<IPython.core.display.HTML object>"
      ]
     },
     "metadata": {},
     "output_type": "display_data"
    },
    {
     "data": {
      "text/html": [],
      "text/plain": [
       "<IPython.core.display.HTML object>"
      ]
     },
     "metadata": {},
     "output_type": "display_data"
    },
    {
     "name": "stdout",
     "output_type": "stream",
     "text": [
      "Is this a cat?: False.\n",
      "Probability it's a cat: 0.000000\n"
     ]
    }
   ],
   "source": [
    "img = PILImage.create(uploader.data[0])\n",
    "is_cat,_,probs = learn.predict(img)\n",
    "print(f\"Is this a cat?: {is_cat}.\")\n",
    "print(f\"Probability it's a cat: {probs[1].item():.6f}\")"
   ]
  },
  {
   "cell_type": "markdown",
   "metadata": {},
   "source": [
    "### What Is Machine Learning?"
   ]
  },
  {
   "cell_type": "code",
   "execution_count": 10,
   "metadata": {},
   "outputs": [
    {
     "data": {
      "image/svg+xml": [
       "<?xml version=\"1.0\" encoding=\"UTF-8\" standalone=\"no\"?>\n",
       "<!DOCTYPE svg PUBLIC \"-//W3C//DTD SVG 1.1//EN\"\n",
       " \"http://www.w3.org/Graphics/SVG/1.1/DTD/svg11.dtd\">\n",
       "<!-- Generated by graphviz version 2.43.0 (0)\n",
       " -->\n",
       "<!-- Title: G Pages: 1 -->\n",
       "<svg width=\"324pt\" height=\"58pt\"\n",
       " viewBox=\"0.00 0.00 324.39 58.00\" xmlns=\"http://www.w3.org/2000/svg\" xmlns:xlink=\"http://www.w3.org/1999/xlink\">\n",
       "<g id=\"graph0\" class=\"graph\" transform=\"scale(1 1) rotate(0) translate(4 54)\">\n",
       "<title>G</title>\n",
       "<polygon fill=\"white\" stroke=\"transparent\" points=\"-4,4 -4,-54 320.39,-54 320.39,4 -4,4\"/>\n",
       "<!-- program -->\n",
       "<g id=\"node1\" class=\"node\">\n",
       "<title>program</title>\n",
       "<polygon fill=\"none\" stroke=\"black\" points=\"194.59,-50 120.59,-50 116.59,-46 116.59,0 190.59,0 194.59,-4 194.59,-50\"/>\n",
       "<polyline fill=\"none\" stroke=\"black\" points=\"190.59,-46 116.59,-46 \"/>\n",
       "<polyline fill=\"none\" stroke=\"black\" points=\"190.59,-46 190.59,0 \"/>\n",
       "<polyline fill=\"none\" stroke=\"black\" points=\"190.59,-46 194.59,-50 \"/>\n",
       "<text text-anchor=\"middle\" x=\"155.59\" y=\"-21.3\" font-family=\"Times,serif\" font-size=\"14.00\">program</text>\n",
       "</g>\n",
       "<!-- results -->\n",
       "<g id=\"node3\" class=\"node\">\n",
       "<title>results</title>\n",
       "<ellipse fill=\"none\" stroke=\"black\" cx=\"273.49\" cy=\"-25\" rx=\"42.79\" ry=\"18\"/>\n",
       "<text text-anchor=\"middle\" x=\"273.49\" y=\"-21.3\" font-family=\"Times,serif\" font-size=\"14.00\">results</text>\n",
       "</g>\n",
       "<!-- program&#45;&gt;results -->\n",
       "<g id=\"edge2\" class=\"edge\">\n",
       "<title>program&#45;&gt;results</title>\n",
       "<path fill=\"none\" stroke=\"black\" d=\"M194.86,-25C202.93,-25 211.56,-25 220.04,-25\"/>\n",
       "<polygon fill=\"black\" stroke=\"black\" points=\"220.26,-28.5 230.26,-25 220.26,-21.5 220.26,-28.5\"/>\n",
       "</g>\n",
       "<!-- inputs -->\n",
       "<g id=\"node2\" class=\"node\">\n",
       "<title>inputs</title>\n",
       "<ellipse fill=\"none\" stroke=\"black\" cx=\"40.3\" cy=\"-25\" rx=\"40.09\" ry=\"18\"/>\n",
       "<text text-anchor=\"middle\" x=\"40.3\" y=\"-21.3\" font-family=\"Times,serif\" font-size=\"14.00\">inputs</text>\n",
       "</g>\n",
       "<!-- inputs&#45;&gt;program -->\n",
       "<g id=\"edge1\" class=\"edge\">\n",
       "<title>inputs&#45;&gt;program</title>\n",
       "<path fill=\"none\" stroke=\"black\" d=\"M80.6,-25C88.87,-25 97.69,-25 106.25,-25\"/>\n",
       "<polygon fill=\"black\" stroke=\"black\" points=\"106.5,-28.5 116.5,-25 106.5,-21.5 106.5,-28.5\"/>\n",
       "</g>\n",
       "</g>\n",
       "</svg>\n"
      ],
      "text/plain": [
       "<graphviz.sources.Source at 0x7f147acb0950>"
      ]
     },
     "execution_count": 10,
     "metadata": {},
     "output_type": "execute_result"
    }
   ],
   "source": [
    "gv('''program[shape=box3d width=1 height=0.7]\n",
    "inputs->program->results''')"
   ]
  },
  {
   "cell_type": "code",
   "execution_count": 11,
   "metadata": {},
   "outputs": [
    {
     "data": {
      "image/svg+xml": [
       "<?xml version=\"1.0\" encoding=\"UTF-8\" standalone=\"no\"?>\n",
       "<!DOCTYPE svg PUBLIC \"-//W3C//DTD SVG 1.1//EN\"\n",
       " \"http://www.w3.org/Graphics/SVG/1.1/DTD/svg11.dtd\">\n",
       "<!-- Generated by graphviz version 2.43.0 (0)\n",
       " -->\n",
       "<!-- Title: G Pages: 1 -->\n",
       "<svg width=\"333pt\" height=\"98pt\"\n",
       " viewBox=\"0.00 0.00 332.68 98.00\" xmlns=\"http://www.w3.org/2000/svg\" xmlns:xlink=\"http://www.w3.org/1999/xlink\">\n",
       "<g id=\"graph0\" class=\"graph\" transform=\"scale(1 1) rotate(0) translate(4 94)\">\n",
       "<title>G</title>\n",
       "<polygon fill=\"white\" stroke=\"transparent\" points=\"-4,4 -4,-94 328.68,-94 328.68,4 -4,4\"/>\n",
       "<!-- model -->\n",
       "<g id=\"node1\" class=\"node\">\n",
       "<title>model</title>\n",
       "<polygon fill=\"none\" stroke=\"black\" points=\"202.89,-70 134.89,-70 130.89,-66 130.89,-20 198.89,-20 202.89,-24 202.89,-70\"/>\n",
       "<polyline fill=\"none\" stroke=\"black\" points=\"198.89,-66 130.89,-66 \"/>\n",
       "<polyline fill=\"none\" stroke=\"black\" points=\"198.89,-66 198.89,-20 \"/>\n",
       "<polyline fill=\"none\" stroke=\"black\" points=\"198.89,-66 202.89,-70 \"/>\n",
       "<text text-anchor=\"middle\" x=\"166.89\" y=\"-41.3\" font-family=\"Times,serif\" font-size=\"14.00\">model</text>\n",
       "</g>\n",
       "<!-- results -->\n",
       "<g id=\"node3\" class=\"node\">\n",
       "<title>results</title>\n",
       "<ellipse fill=\"none\" stroke=\"black\" cx=\"281.79\" cy=\"-45\" rx=\"42.79\" ry=\"18\"/>\n",
       "<text text-anchor=\"middle\" x=\"281.79\" y=\"-41.3\" font-family=\"Times,serif\" font-size=\"14.00\">results</text>\n",
       "</g>\n",
       "<!-- model&#45;&gt;results -->\n",
       "<g id=\"edge2\" class=\"edge\">\n",
       "<title>model&#45;&gt;results</title>\n",
       "<path fill=\"none\" stroke=\"black\" d=\"M202.99,-45C211.09,-45 219.87,-45 228.52,-45\"/>\n",
       "<polygon fill=\"black\" stroke=\"black\" points=\"228.57,-48.5 238.57,-45 228.57,-41.5 228.57,-48.5\"/>\n",
       "</g>\n",
       "<!-- inputs -->\n",
       "<g id=\"node2\" class=\"node\">\n",
       "<title>inputs</title>\n",
       "<ellipse fill=\"none\" stroke=\"black\" cx=\"47.45\" cy=\"-72\" rx=\"40.09\" ry=\"18\"/>\n",
       "<text text-anchor=\"middle\" x=\"47.45\" y=\"-68.3\" font-family=\"Times,serif\" font-size=\"14.00\">inputs</text>\n",
       "</g>\n",
       "<!-- inputs&#45;&gt;model -->\n",
       "<g id=\"edge1\" class=\"edge\">\n",
       "<title>inputs&#45;&gt;model</title>\n",
       "<path fill=\"none\" stroke=\"black\" d=\"M83.68,-63.9C95.3,-61.23 108.38,-58.22 120.63,-55.41\"/>\n",
       "<polygon fill=\"black\" stroke=\"black\" points=\"121.72,-58.75 130.68,-53.1 120.15,-51.92 121.72,-58.75\"/>\n",
       "</g>\n",
       "<!-- weights -->\n",
       "<g id=\"node4\" class=\"node\">\n",
       "<title>weights</title>\n",
       "<ellipse fill=\"none\" stroke=\"black\" cx=\"47.45\" cy=\"-18\" rx=\"47.39\" ry=\"18\"/>\n",
       "<text text-anchor=\"middle\" x=\"47.45\" y=\"-14.3\" font-family=\"Times,serif\" font-size=\"14.00\">weights</text>\n",
       "</g>\n",
       "<!-- weights&#45;&gt;model -->\n",
       "<g id=\"edge3\" class=\"edge\">\n",
       "<title>weights&#45;&gt;model</title>\n",
       "<path fill=\"none\" stroke=\"black\" d=\"M88.54,-27.22C98.91,-29.6 110.15,-32.19 120.76,-34.62\"/>\n",
       "<polygon fill=\"black\" stroke=\"black\" points=\"120.17,-38.08 130.7,-36.91 121.73,-31.26 120.17,-38.08\"/>\n",
       "</g>\n",
       "</g>\n",
       "</svg>\n"
      ],
      "text/plain": [
       "<graphviz.sources.Source at 0x7f147acb14f0>"
      ]
     },
     "execution_count": 11,
     "metadata": {},
     "output_type": "execute_result"
    }
   ],
   "source": [
    "gv('''model[shape=box3d width=1 height=0.7]\n",
    "inputs->model->results; weights->model''')"
   ]
  },
  {
   "cell_type": "code",
   "execution_count": 12,
   "metadata": {},
   "outputs": [
    {
     "data": {
      "image/svg+xml": [
       "<?xml version=\"1.0\" encoding=\"UTF-8\" standalone=\"no\"?>\n",
       "<!DOCTYPE svg PUBLIC \"-//W3C//DTD SVG 1.1//EN\"\n",
       " \"http://www.w3.org/Graphics/SVG/1.1/DTD/svg11.dtd\">\n",
       "<!-- Generated by graphviz version 2.43.0 (0)\n",
       " -->\n",
       "<!-- Title: G Pages: 1 -->\n",
       "<svg width=\"560pt\" height=\"98pt\"\n",
       " viewBox=\"0.00 0.00 559.77 98.00\" xmlns=\"http://www.w3.org/2000/svg\" xmlns:xlink=\"http://www.w3.org/1999/xlink\">\n",
       "<g id=\"graph0\" class=\"graph\" transform=\"scale(1 1) rotate(0) translate(4 94)\">\n",
       "<title>G</title>\n",
       "<polygon fill=\"white\" stroke=\"transparent\" points=\"-4,4 -4,-94 555.77,-94 555.77,4 -4,4\"/>\n",
       "<!-- model -->\n",
       "<g id=\"node1\" class=\"node\">\n",
       "<title>model</title>\n",
       "<polygon fill=\"none\" stroke=\"black\" points=\"203.89,-77 135.89,-77 131.89,-73 131.89,-27 199.89,-27 203.89,-31 203.89,-77\"/>\n",
       "<polyline fill=\"none\" stroke=\"black\" points=\"199.89,-73 131.89,-73 \"/>\n",
       "<polyline fill=\"none\" stroke=\"black\" points=\"199.89,-73 199.89,-27 \"/>\n",
       "<polyline fill=\"none\" stroke=\"black\" points=\"199.89,-73 203.89,-77 \"/>\n",
       "<text text-anchor=\"middle\" x=\"167.89\" y=\"-48.3\" font-family=\"Times,serif\" font-size=\"14.00\">model</text>\n",
       "</g>\n",
       "<!-- results -->\n",
       "<g id=\"node3\" class=\"node\">\n",
       "<title>results</title>\n",
       "<ellipse fill=\"none\" stroke=\"black\" cx=\"332.79\" cy=\"-52\" rx=\"42.79\" ry=\"18\"/>\n",
       "<text text-anchor=\"middle\" x=\"332.79\" y=\"-48.3\" font-family=\"Times,serif\" font-size=\"14.00\">results</text>\n",
       "</g>\n",
       "<!-- model&#45;&gt;results -->\n",
       "<g id=\"edge2\" class=\"edge\">\n",
       "<title>model&#45;&gt;results</title>\n",
       "<path fill=\"none\" stroke=\"black\" d=\"M204.24,-52C226.26,-52 254.99,-52 279.61,-52\"/>\n",
       "<polygon fill=\"black\" stroke=\"black\" points=\"279.88,-55.5 289.88,-52 279.88,-48.5 279.88,-55.5\"/>\n",
       "</g>\n",
       "<!-- inputs -->\n",
       "<g id=\"node2\" class=\"node\">\n",
       "<title>inputs</title>\n",
       "<ellipse fill=\"none\" stroke=\"black\" cx=\"47.45\" cy=\"-72\" rx=\"40.09\" ry=\"18\"/>\n",
       "<text text-anchor=\"middle\" x=\"47.45\" y=\"-68.3\" font-family=\"Times,serif\" font-size=\"14.00\">inputs</text>\n",
       "</g>\n",
       "<!-- inputs&#45;&gt;model -->\n",
       "<g id=\"edge1\" class=\"edge\">\n",
       "<title>inputs&#45;&gt;model</title>\n",
       "<path fill=\"none\" stroke=\"black\" d=\"M85.27,-65.78C96.84,-63.83 109.74,-61.65 121.81,-59.61\"/>\n",
       "<polygon fill=\"black\" stroke=\"black\" points=\"122.43,-63.06 131.71,-57.94 121.26,-56.15 122.43,-63.06\"/>\n",
       "</g>\n",
       "<!-- performance -->\n",
       "<g id=\"node5\" class=\"node\">\n",
       "<title>performance</title>\n",
       "<ellipse fill=\"none\" stroke=\"black\" cx=\"482.23\" cy=\"-52\" rx=\"69.59\" ry=\"18\"/>\n",
       "<text text-anchor=\"middle\" x=\"482.23\" y=\"-48.3\" font-family=\"Times,serif\" font-size=\"14.00\">performance</text>\n",
       "</g>\n",
       "<!-- results&#45;&gt;performance -->\n",
       "<g id=\"edge4\" class=\"edge\">\n",
       "<title>results&#45;&gt;performance</title>\n",
       "<path fill=\"none\" stroke=\"black\" d=\"M376.04,-52C384.32,-52 393.26,-52 402.3,-52\"/>\n",
       "<polygon fill=\"black\" stroke=\"black\" points=\"402.53,-55.5 412.53,-52 402.53,-48.5 402.53,-55.5\"/>\n",
       "</g>\n",
       "<!-- weights -->\n",
       "<g id=\"node4\" class=\"node\">\n",
       "<title>weights</title>\n",
       "<ellipse fill=\"none\" stroke=\"black\" cx=\"47.45\" cy=\"-18\" rx=\"47.39\" ry=\"18\"/>\n",
       "<text text-anchor=\"middle\" x=\"47.45\" y=\"-14.3\" font-family=\"Times,serif\" font-size=\"14.00\">weights</text>\n",
       "</g>\n",
       "<!-- weights&#45;&gt;model -->\n",
       "<g id=\"edge3\" class=\"edge\">\n",
       "<title>weights&#45;&gt;model</title>\n",
       "<path fill=\"none\" stroke=\"black\" d=\"M85.92,-28.76C97.36,-32.04 110.05,-35.68 121.93,-39.09\"/>\n",
       "<polygon fill=\"black\" stroke=\"black\" points=\"121.1,-42.5 131.67,-41.89 123.03,-35.77 121.1,-42.5\"/>\n",
       "</g>\n",
       "<!-- performance&#45;&gt;weights -->\n",
       "<g id=\"edge5\" class=\"edge\">\n",
       "<title>performance&#45;&gt;weights</title>\n",
       "<path fill=\"none\" stroke=\"black\" d=\"M436.45,-38.33C417.84,-33.23 395.89,-27.96 375.68,-25 281.35,-11.17 170.11,-12.46 104.64,-14.99\"/>\n",
       "<polygon fill=\"black\" stroke=\"black\" points=\"104.39,-11.5 94.54,-15.41 104.68,-18.49 104.39,-11.5\"/>\n",
       "<text text-anchor=\"middle\" x=\"246.89\" y=\"-19.8\" font-family=\"Times,serif\" font-size=\"14.00\">update</text>\n",
       "</g>\n",
       "</g>\n",
       "</svg>\n"
      ],
      "text/plain": [
       "<graphviz.sources.Source at 0x7f147acb0c20>"
      ]
     },
     "execution_count": 12,
     "metadata": {},
     "output_type": "execute_result"
    }
   ],
   "source": [
    "gv('''ordering=in\n",
    "model[shape=box3d width=1 height=0.7]\n",
    "inputs->model->results; weights->model; results->performance\n",
    "performance->weights[constraint=false label=update]''')"
   ]
  },
  {
   "cell_type": "code",
   "execution_count": 13,
   "metadata": {},
   "outputs": [
    {
     "data": {
      "image/svg+xml": [
       "<?xml version=\"1.0\" encoding=\"UTF-8\" standalone=\"no\"?>\n",
       "<!DOCTYPE svg PUBLIC \"-//W3C//DTD SVG 1.1//EN\"\n",
       " \"http://www.w3.org/Graphics/SVG/1.1/DTD/svg11.dtd\">\n",
       "<!-- Generated by graphviz version 2.43.0 (0)\n",
       " -->\n",
       "<!-- Title: G Pages: 1 -->\n",
       "<svg width=\"318pt\" height=\"58pt\"\n",
       " viewBox=\"0.00 0.00 318.39 58.00\" xmlns=\"http://www.w3.org/2000/svg\" xmlns:xlink=\"http://www.w3.org/1999/xlink\">\n",
       "<g id=\"graph0\" class=\"graph\" transform=\"scale(1 1) rotate(0) translate(4 54)\">\n",
       "<title>G</title>\n",
       "<polygon fill=\"white\" stroke=\"transparent\" points=\"-4,4 -4,-54 314.39,-54 314.39,4 -4,4\"/>\n",
       "<!-- model -->\n",
       "<g id=\"node1\" class=\"node\">\n",
       "<title>model</title>\n",
       "<polygon fill=\"none\" stroke=\"black\" points=\"188.59,-50 120.59,-50 116.59,-46 116.59,0 184.59,0 188.59,-4 188.59,-50\"/>\n",
       "<polyline fill=\"none\" stroke=\"black\" points=\"184.59,-46 116.59,-46 \"/>\n",
       "<polyline fill=\"none\" stroke=\"black\" points=\"184.59,-46 184.59,0 \"/>\n",
       "<polyline fill=\"none\" stroke=\"black\" points=\"184.59,-46 188.59,-50 \"/>\n",
       "<text text-anchor=\"middle\" x=\"152.59\" y=\"-21.3\" font-family=\"Times,serif\" font-size=\"14.00\">model</text>\n",
       "</g>\n",
       "<!-- results -->\n",
       "<g id=\"node3\" class=\"node\">\n",
       "<title>results</title>\n",
       "<ellipse fill=\"none\" stroke=\"black\" cx=\"267.49\" cy=\"-25\" rx=\"42.79\" ry=\"18\"/>\n",
       "<text text-anchor=\"middle\" x=\"267.49\" y=\"-21.3\" font-family=\"Times,serif\" font-size=\"14.00\">results</text>\n",
       "</g>\n",
       "<!-- model&#45;&gt;results -->\n",
       "<g id=\"edge2\" class=\"edge\">\n",
       "<title>model&#45;&gt;results</title>\n",
       "<path fill=\"none\" stroke=\"black\" d=\"M188.7,-25C196.79,-25 205.57,-25 214.22,-25\"/>\n",
       "<polygon fill=\"black\" stroke=\"black\" points=\"214.27,-28.5 224.27,-25 214.27,-21.5 214.27,-28.5\"/>\n",
       "</g>\n",
       "<!-- inputs -->\n",
       "<g id=\"node2\" class=\"node\">\n",
       "<title>inputs</title>\n",
       "<ellipse fill=\"none\" stroke=\"black\" cx=\"40.3\" cy=\"-25\" rx=\"40.09\" ry=\"18\"/>\n",
       "<text text-anchor=\"middle\" x=\"40.3\" y=\"-21.3\" font-family=\"Times,serif\" font-size=\"14.00\">inputs</text>\n",
       "</g>\n",
       "<!-- inputs&#45;&gt;model -->\n",
       "<g id=\"edge1\" class=\"edge\">\n",
       "<title>inputs&#45;&gt;model</title>\n",
       "<path fill=\"none\" stroke=\"black\" d=\"M80.8,-25C89.07,-25 97.84,-25 106.29,-25\"/>\n",
       "<polygon fill=\"black\" stroke=\"black\" points=\"106.39,-28.5 116.39,-25 106.39,-21.5 106.39,-28.5\"/>\n",
       "</g>\n",
       "</g>\n",
       "</svg>\n"
      ],
      "text/plain": [
       "<graphviz.sources.Source at 0x7f147acb1040>"
      ]
     },
     "execution_count": 13,
     "metadata": {},
     "output_type": "execute_result"
    }
   ],
   "source": [
    "gv('''model[shape=box3d width=1 height=0.7]\n",
    "inputs->model->results''')"
   ]
  },
  {
   "cell_type": "markdown",
   "metadata": {},
   "source": [
    "### What Is a Neural Network?"
   ]
  },
  {
   "cell_type": "markdown",
   "metadata": {},
   "source": [
    "### A Bit of Deep Learning Jargon"
   ]
  },
  {
   "cell_type": "code",
   "execution_count": 14,
   "metadata": {},
   "outputs": [
    {
     "data": {
      "image/svg+xml": [
       "<?xml version=\"1.0\" encoding=\"UTF-8\" standalone=\"no\"?>\n",
       "<!DOCTYPE svg PUBLIC \"-//W3C//DTD SVG 1.1//EN\"\n",
       " \"http://www.w3.org/Graphics/SVG/1.1/DTD/svg11.dtd\">\n",
       "<!-- Generated by graphviz version 2.43.0 (0)\n",
       " -->\n",
       "<!-- Title: G Pages: 1 -->\n",
       "<svg width=\"584pt\" height=\"139pt\"\n",
       " viewBox=\"0.00 0.00 583.97 139.23\" xmlns=\"http://www.w3.org/2000/svg\" xmlns:xlink=\"http://www.w3.org/1999/xlink\">\n",
       "<g id=\"graph0\" class=\"graph\" transform=\"scale(1 1) rotate(0) translate(4 135.23)\">\n",
       "<title>G</title>\n",
       "<polygon fill=\"white\" stroke=\"transparent\" points=\"-4,4 -4,-135.23 579.97,-135.23 579.97,4 -4,4\"/>\n",
       "<!-- model -->\n",
       "<g id=\"node1\" class=\"node\">\n",
       "<title>model</title>\n",
       "<polygon fill=\"none\" stroke=\"black\" points=\"269.69,-84.23 169.69,-84.23 165.69,-80.23 165.69,-34.23 265.69,-34.23 269.69,-38.23 269.69,-84.23\"/>\n",
       "<polyline fill=\"none\" stroke=\"black\" points=\"265.69,-80.23 165.69,-80.23 \"/>\n",
       "<polyline fill=\"none\" stroke=\"black\" points=\"265.69,-80.23 265.69,-34.23 \"/>\n",
       "<polyline fill=\"none\" stroke=\"black\" points=\"265.69,-80.23 269.69,-84.23 \"/>\n",
       "<text text-anchor=\"middle\" x=\"217.69\" y=\"-55.53\" font-family=\"Times,serif\" font-size=\"14.00\">architecture</text>\n",
       "</g>\n",
       "<!-- predictions -->\n",
       "<g id=\"node3\" class=\"node\">\n",
       "<title>predictions</title>\n",
       "<ellipse fill=\"none\" stroke=\"black\" cx=\"418.73\" cy=\"-59.23\" rx=\"63.09\" ry=\"18\"/>\n",
       "<text text-anchor=\"middle\" x=\"418.73\" y=\"-55.53\" font-family=\"Times,serif\" font-size=\"14.00\">predictions</text>\n",
       "</g>\n",
       "<!-- model&#45;&gt;predictions -->\n",
       "<g id=\"edge2\" class=\"edge\">\n",
       "<title>model&#45;&gt;predictions</title>\n",
       "<path fill=\"none\" stroke=\"black\" d=\"M269.69,-59.23C292.67,-59.23 320.22,-59.23 345.29,-59.23\"/>\n",
       "<polygon fill=\"black\" stroke=\"black\" points=\"345.49,-62.73 355.49,-59.23 345.49,-55.73 345.49,-62.73\"/>\n",
       "</g>\n",
       "<!-- inputs -->\n",
       "<g id=\"node2\" class=\"node\">\n",
       "<title>inputs</title>\n",
       "<ellipse fill=\"none\" stroke=\"black\" cx=\"64.34\" cy=\"-79.23\" rx=\"40.09\" ry=\"18\"/>\n",
       "<text text-anchor=\"middle\" x=\"64.34\" y=\"-75.53\" font-family=\"Times,serif\" font-size=\"14.00\">inputs</text>\n",
       "</g>\n",
       "<!-- inputs&#45;&gt;model -->\n",
       "<g id=\"edge1\" class=\"edge\">\n",
       "<title>inputs&#45;&gt;model</title>\n",
       "<path fill=\"none\" stroke=\"black\" d=\"M103.14,-74.23C118.95,-72.14 137.73,-69.66 155.42,-67.32\"/>\n",
       "<polygon fill=\"black\" stroke=\"black\" points=\"156.23,-70.75 165.68,-65.97 155.31,-63.81 156.23,-70.75\"/>\n",
       "</g>\n",
       "<!-- loss -->\n",
       "<g id=\"node6\" class=\"node\">\n",
       "<title>loss</title>\n",
       "<ellipse fill=\"none\" stroke=\"black\" cx=\"547.37\" cy=\"-88.23\" rx=\"28.7\" ry=\"18\"/>\n",
       "<text text-anchor=\"middle\" x=\"547.37\" y=\"-84.53\" font-family=\"Times,serif\" font-size=\"14.00\">loss</text>\n",
       "</g>\n",
       "<!-- predictions&#45;&gt;loss -->\n",
       "<g id=\"edge5\" class=\"edge\">\n",
       "<title>predictions&#45;&gt;loss</title>\n",
       "<path fill=\"none\" stroke=\"black\" d=\"M468.33,-70.35C482.2,-73.53 497.07,-76.94 510.07,-79.91\"/>\n",
       "<polygon fill=\"black\" stroke=\"black\" points=\"509.51,-83.37 520.04,-82.19 511.07,-76.55 509.51,-83.37\"/>\n",
       "</g>\n",
       "<!-- parameters -->\n",
       "<g id=\"node4\" class=\"node\">\n",
       "<title>parameters</title>\n",
       "<ellipse fill=\"none\" stroke=\"black\" cx=\"64.34\" cy=\"-25.23\" rx=\"64.19\" ry=\"18\"/>\n",
       "<text text-anchor=\"middle\" x=\"64.34\" y=\"-21.53\" font-family=\"Times,serif\" font-size=\"14.00\">parameters</text>\n",
       "</g>\n",
       "<!-- parameters&#45;&gt;model -->\n",
       "<g id=\"edge3\" class=\"edge\">\n",
       "<title>parameters&#45;&gt;model</title>\n",
       "<path fill=\"none\" stroke=\"black\" d=\"M115.32,-36.45C128.15,-39.33 142.1,-42.47 155.43,-45.46\"/>\n",
       "<polygon fill=\"black\" stroke=\"black\" points=\"154.95,-48.94 165.47,-47.72 156.48,-42.11 154.95,-48.94\"/>\n",
       "</g>\n",
       "<!-- labels -->\n",
       "<g id=\"node5\" class=\"node\">\n",
       "<title>labels</title>\n",
       "<ellipse fill=\"none\" stroke=\"black\" cx=\"418.73\" cy=\"-113.23\" rx=\"38.19\" ry=\"18\"/>\n",
       "<text text-anchor=\"middle\" x=\"418.73\" y=\"-109.53\" font-family=\"Times,serif\" font-size=\"14.00\">labels</text>\n",
       "</g>\n",
       "<!-- labels&#45;&gt;loss -->\n",
       "<g id=\"edge4\" class=\"edge\">\n",
       "<title>labels&#45;&gt;loss</title>\n",
       "<path fill=\"none\" stroke=\"black\" d=\"M454.34,-106.39C471.6,-102.99 492.48,-98.86 509.98,-95.41\"/>\n",
       "<polygon fill=\"black\" stroke=\"black\" points=\"510.71,-98.83 519.85,-93.46 509.36,-91.97 510.71,-98.83\"/>\n",
       "</g>\n",
       "<!-- loss&#45;&gt;parameters -->\n",
       "<g id=\"edge6\" class=\"edge\">\n",
       "<title>loss&#45;&gt;parameters</title>\n",
       "<path fill=\"none\" stroke=\"black\" d=\"M533.69,-72.35C521.86,-58.9 502.92,-40.51 481.78,-32.23 363.35,14.2 211.05,0.13 127.34,-13.22\"/>\n",
       "<polygon fill=\"black\" stroke=\"black\" points=\"126.53,-9.81 117.23,-14.88 127.67,-16.71 126.53,-9.81\"/>\n",
       "<text text-anchor=\"middle\" x=\"312.69\" y=\"-6.03\" font-family=\"Times,serif\" font-size=\"14.00\">update</text>\n",
       "</g>\n",
       "</g>\n",
       "</svg>\n"
      ],
      "text/plain": [
       "<graphviz.sources.Source at 0x7f147acb39e0>"
      ]
     },
     "execution_count": 14,
     "metadata": {},
     "output_type": "execute_result"
    }
   ],
   "source": [
    "gv('''ordering=in\n",
    "model[shape=box3d width=1 height=0.7 label=architecture]\n",
    "inputs->model->predictions; parameters->model; labels->loss; predictions->loss\n",
    "loss->parameters[constraint=false label=update]''')"
   ]
  },
  {
   "cell_type": "markdown",
   "metadata": {},
   "source": [
    "### Limitations Inherent To Machine Learning\n",
    "\n",
    "From this picture we can now see some fundamental things about training a deep learning model:\n",
    "\n",
    "- A model cannot be created without data.\n",
    "- A model can only learn to operate on the patterns seen in the input data used to train it.\n",
    "- This learning approach only creates *predictions*, not recommended *actions*.\n",
    "- It's not enough to just have examples of input data; we need *labels* for that data too (e.g., pictures of dogs and cats aren't enough to train a model; we need a label for each one, saying which ones are dogs, and which are cats).\n",
    "\n",
    "Generally speaking, we've seen that most organizations that say they don't have enough data, actually mean they don't have enough *labeled* data. If any organization is interested in doing something in practice with a model, then presumably they have some inputs they plan to run their model against. And presumably they've been doing that some other way for a while (e.g., manually, or with some heuristic program), so they have data from those processes! For instance, a radiology practice will almost certainly have an archive of medical scans (since they need to be able to check how their patients are progressing over time), but those scans may not have structured labels containing a list of diagnoses or interventions (since radiologists generally create free-text natural language reports, not structured data). We'll be discussing labeling approaches a lot in this book, because it's such an important issue in practice.\n",
    "\n",
    "Since these kinds of machine learning models can only make *predictions* (i.e., attempt to replicate labels), this can result in a significant gap between organizational goals and model capabilities. For instance, in this book you'll learn how to create a *recommendation system* that can predict what products a user might purchase. This is often used in e-commerce, such as to customize products shown on a home page by showing the highest-ranked items. But such a model is generally created by looking at a user and their buying history (*inputs*) and what they went on to buy or look at (*labels*), which means that the model is likely to tell you about products the user already has or already knows about, rather than new products that they are most likely to be interested in hearing about. That's very different to what, say, an expert at your local bookseller might do, where they ask questions to figure out your taste, and then tell you about authors or series that you've never heard of before."
   ]
  },
  {
   "cell_type": "markdown",
   "metadata": {},
   "source": [
    "### How Our Image Recognizer Works"
   ]
  },
  {
   "cell_type": "markdown",
   "metadata": {},
   "source": [
    "### What Our Image Recognizer Learned"
   ]
  },
  {
   "cell_type": "markdown",
   "metadata": {},
   "source": [
    "### Image Recognizers Can Tackle Non-Image Tasks"
   ]
  },
  {
   "cell_type": "markdown",
   "metadata": {},
   "source": [
    "### Jargon Recap"
   ]
  },
  {
   "cell_type": "markdown",
   "metadata": {},
   "source": [
    "## Deep Learning Is Not Just for Image Classification"
   ]
  },
  {
   "cell_type": "code",
   "execution_count": 15,
   "metadata": {},
   "outputs": [
    {
     "data": {
      "text/html": [
       "\n",
       "<style>\n",
       "    /* Turns off some styling */\n",
       "    progress {\n",
       "        /* gets rid of default border in Firefox and Opera. */\n",
       "        border: none;\n",
       "        /* Needs to be in here for Safari polyfill so background images work as expected. */\n",
       "        background-size: auto;\n",
       "    }\n",
       "    progress:not([value]), progress:not([value])::-webkit-progress-bar {\n",
       "        background: repeating-linear-gradient(45deg, #7e7e7e, #7e7e7e 10px, #5c5c5c 10px, #5c5c5c 20px);\n",
       "    }\n",
       "    .progress-bar-interrupted, .progress-bar-interrupted::-webkit-progress-bar {\n",
       "        background: #F44336;\n",
       "    }\n",
       "</style>\n"
      ],
      "text/plain": [
       "<IPython.core.display.HTML object>"
      ]
     },
     "metadata": {},
     "output_type": "display_data"
    },
    {
     "data": {
      "text/html": [
       "<table border=\"1\" class=\"dataframe\">\n",
       "  <thead>\n",
       "    <tr style=\"text-align: left;\">\n",
       "      <th>epoch</th>\n",
       "      <th>train_loss</th>\n",
       "      <th>valid_loss</th>\n",
       "      <th>time</th>\n",
       "    </tr>\n",
       "  </thead>\n",
       "  <tbody>\n",
       "    <tr>\n",
       "      <td>0</td>\n",
       "      <td>2.705547</td>\n",
       "      <td>4.140104</td>\n",
       "      <td>00:04</td>\n",
       "    </tr>\n",
       "  </tbody>\n",
       "</table>"
      ],
      "text/plain": [
       "<IPython.core.display.HTML object>"
      ]
     },
     "metadata": {},
     "output_type": "display_data"
    },
    {
     "data": {
      "text/html": [
       "\n",
       "<style>\n",
       "    /* Turns off some styling */\n",
       "    progress {\n",
       "        /* gets rid of default border in Firefox and Opera. */\n",
       "        border: none;\n",
       "        /* Needs to be in here for Safari polyfill so background images work as expected. */\n",
       "        background-size: auto;\n",
       "    }\n",
       "    progress:not([value]), progress:not([value])::-webkit-progress-bar {\n",
       "        background: repeating-linear-gradient(45deg, #7e7e7e, #7e7e7e 10px, #5c5c5c 10px, #5c5c5c 20px);\n",
       "    }\n",
       "    .progress-bar-interrupted, .progress-bar-interrupted::-webkit-progress-bar {\n",
       "        background: #F44336;\n",
       "    }\n",
       "</style>\n"
      ],
      "text/plain": [
       "<IPython.core.display.HTML object>"
      ]
     },
     "metadata": {},
     "output_type": "display_data"
    },
    {
     "data": {
      "text/html": [
       "<table border=\"1\" class=\"dataframe\">\n",
       "  <thead>\n",
       "    <tr style=\"text-align: left;\">\n",
       "      <th>epoch</th>\n",
       "      <th>train_loss</th>\n",
       "      <th>valid_loss</th>\n",
       "      <th>time</th>\n",
       "    </tr>\n",
       "  </thead>\n",
       "  <tbody>\n",
       "    <tr>\n",
       "      <td>0</td>\n",
       "      <td>1.900058</td>\n",
       "      <td>1.731609</td>\n",
       "      <td>00:05</td>\n",
       "    </tr>\n",
       "    <tr>\n",
       "      <td>1</td>\n",
       "      <td>1.611447</td>\n",
       "      <td>1.341546</td>\n",
       "      <td>00:04</td>\n",
       "    </tr>\n",
       "    <tr>\n",
       "      <td>2</td>\n",
       "      <td>1.442438</td>\n",
       "      <td>1.262964</td>\n",
       "      <td>00:04</td>\n",
       "    </tr>\n",
       "    <tr>\n",
       "      <td>3</td>\n",
       "      <td>1.309844</td>\n",
       "      <td>1.082008</td>\n",
       "      <td>00:03</td>\n",
       "    </tr>\n",
       "    <tr>\n",
       "      <td>4</td>\n",
       "      <td>1.179367</td>\n",
       "      <td>0.874012</td>\n",
       "      <td>00:03</td>\n",
       "    </tr>\n",
       "    <tr>\n",
       "      <td>5</td>\n",
       "      <td>1.061825</td>\n",
       "      <td>0.836687</td>\n",
       "      <td>00:03</td>\n",
       "    </tr>\n",
       "    <tr>\n",
       "      <td>6</td>\n",
       "      <td>0.966313</td>\n",
       "      <td>0.811012</td>\n",
       "      <td>00:01</td>\n",
       "    </tr>\n",
       "    <tr>\n",
       "      <td>7</td>\n",
       "      <td>0.891168</td>\n",
       "      <td>0.798785</td>\n",
       "      <td>00:01</td>\n",
       "    </tr>\n",
       "  </tbody>\n",
       "</table>"
      ],
      "text/plain": [
       "<IPython.core.display.HTML object>"
      ]
     },
     "metadata": {},
     "output_type": "display_data"
    }
   ],
   "source": [
    "path = untar_data(URLs.CAMVID_TINY)\n",
    "dls = SegmentationDataLoaders.from_label_func(\n",
    "    path, bs=8, fnames = get_image_files(path/\"images\"),\n",
    "    label_func = lambda o: path/'labels'/f'{o.stem}_P{o.suffix}',\n",
    "    codes = np.loadtxt(path/'codes.txt', dtype=str)\n",
    ")\n",
    "\n",
    "learn = unet_learner(dls, resnet34)\n",
    "learn.fine_tune(8)"
   ]
  },
  {
   "cell_type": "code",
   "execution_count": 16,
   "metadata": {},
   "outputs": [
    {
     "data": {
      "text/html": [
       "\n",
       "<style>\n",
       "    /* Turns off some styling */\n",
       "    progress {\n",
       "        /* gets rid of default border in Firefox and Opera. */\n",
       "        border: none;\n",
       "        /* Needs to be in here for Safari polyfill so background images work as expected. */\n",
       "        background-size: auto;\n",
       "    }\n",
       "    progress:not([value]), progress:not([value])::-webkit-progress-bar {\n",
       "        background: repeating-linear-gradient(45deg, #7e7e7e, #7e7e7e 10px, #5c5c5c 10px, #5c5c5c 20px);\n",
       "    }\n",
       "    .progress-bar-interrupted, .progress-bar-interrupted::-webkit-progress-bar {\n",
       "        background: #F44336;\n",
       "    }\n",
       "</style>\n"
      ],
      "text/plain": [
       "<IPython.core.display.HTML object>"
      ]
     },
     "metadata": {},
     "output_type": "display_data"
    },
    {
     "data": {
      "text/html": [],
      "text/plain": [
       "<IPython.core.display.HTML object>"
      ]
     },
     "metadata": {},
     "output_type": "display_data"
    },
    {
     "data": {
      "image/png": "iVBORw0KGgoAAAANSUhEUgAAAbEAAALLCAYAAAB3gbyLAAAAOnRFWHRTb2Z0d2FyZQBNYXRwbG90bGliIHZlcnNpb24zLjEwLjMsIGh0dHBzOi8vbWF0cGxvdGxpYi5vcmcvZiW1igAAAAlwSFlzAAAPYQAAD2EBqD+naQABAABJREFUeJzs/XmgZVdZ541/1lp773POHWrMnMocAiQEAiQMEQVJY0vrDwXpMA8NNi1qSysgDq2oqN0y2LY22K3dL9IIAiqI9M+3FZk1hCSQQEIgY1Xm1Fz33jPtYa3n/WOtPZxbVcktCEndyvrCTZ1hn733Gvb3GdbzPEuJiBAREREREbEOoR/pG4iIiIiIiPhOEYVYRERERMS6RRRiERERERHrFlGIRURERESsW0QhFhERERGxbhGFWERERETEukUUYhERERER6xZRiEVERERErFtEIRYRERERsW4RhVhExDrBa1/7WpRSKKV4znOeM/Nd/blSij/7sz/7nt7Hn/3Zn81cLyLikUQUYscAzjzzzBlSWcvf5z//+Uf6tr8r7Nix44jaIyKcdtppKKX4yle+Ahy+37Is45RTTuEFL3gBf/u3f/swtOboQRRQEesNySN9AxERDweuueYa7r77bk455RSe9rSnPeCxZVly33338alPfYpPfepT/Nt/+2/5kz/5k4fpTr8zvOtd72peX3LJJd/Ta11yySUz14uIeCQRhdgxgF/91V9laWmpeb9//35+93d/t3n/vOc9jx/6oR+a+c0555zzkF1/eXmZDRs2PGTn+17gb/7mbwB4wQtecEgL4+yzz+aNb3wjAHfeeScf+MAHWF5eBuBP//RP+ZEf+RF+7Md+7EGvMxqNGAwGaP3wOjne8pa3PGzXuuCCC7jgggsetutFRDwgJOKYw/bt2wVo/t7+9rc3391+++3ypje9SZ71rGfJtm3bZG5uTrIsk1NOOUV+9Ed/VP72b//2oPO9//3vnznfaDSSX/mVX5GzzjpLkiSRN73pTc2x3/jGN+RHf/RHZXFxURYXF+WHf/iH5dprr5W3v/3tze/POOOMg66xtLQkv/u7vytPe9rTZMOGDZKmqZx22mnymte8Rm644YaZY88444yZ+1n99+xnP/ug859//vkCyP/9v//3kOdZ/ZtPf/rTM+d81atedcjfvf3tb5cvfelLctlll8mGDRsEkP379zfHXnfddfJv/s2/kbPPPlv6/b7Mz8/LRRddJL/zO78jw+HwkOP3hS98QZ797GfL3NycbN68WV784hfLrbfeKq95zWsOe7/de33/+99/0Dmvuuoqee1rXyvnnHOODAYDmZ+fl8c85jHy2te+Vm699daD5syh/up5tHo+rMZ4PJbf//3fl0svvVQ2bdokaZrKCSecIM9//vPlox/96EHHf+5zn5s532233Sbvfe975cILL5ReryfHH3+8vP71r5d9+/Ydsr8iHt2IQuwYxAMJsU996lMPSla/+Zu/OXO+1aT1/d///TPvayF29dVXy8LCwkHn6/f78rznPe+wQuzmm2+WM88887D30+v15GMf+1hz/JEKsZtvvlkA2bhxoxRFccjzrP7NcDicOefznve8Q/7umc98phhjZo6thdj73vc+SZLksPd5/vnny3333Tdz3U996lOH/M2WLVvkmc985nckxH7zN39TlFKHvY9PfOITD5kQu+++++SCCy54wPP8xE/8hJRl2fxmtRB71rOedcjf/cAP/IBERKxGdCc+ypAkCRdddBEXX3wxxx9/PBs2bGA0GvHP//zPfO5znwPgHe94B69//es59dRTD3mOL33pSzz96U/nec97HqPRiNNPPx0R4XWvex3D4bA57mUvexlnn302H/vYx/j0pz99yHNZa3nhC1/Ijh07ADj++ON5+ctfzpYtW/j7v/97rrjiCvI859WvfjVPfepTOfvss/nVX/1VduzYMeMy/amf+qnGRXraaafNXOMTn/gEAP/qX/0r0jRdUz99+ctfnnl/0kknHfa4ubk5XvnKV3Lqqady7bXXYozhiiuu4Gd/9mdxzgHwjGc8gx/+4R9mZWWFD3zgA+zZs4cbb7yRV7/61fzDP/wDAOPxmNe//vVUVQVAmqa87nWvY/Pmzfz5n//5Qfe0FvzlX/4lb3/725v3c3NzvPSlL+WMM85g+/btfOpTnwJgy5YtvOtd7+Kaa67hox/9aHN8d+3r0ksvfdDrveIVr+Cb3/xm8/7FL34x559/Pp/+9Keb+//rv/5rfvd3f5df//VfP+Q5/umf/onLLruMSy+9lL/5m7/h+uuvB+CLX/wiV155Jc94xjOOoAcijnk80lI04qHHA1liNW666Sb5yEc+In/0R38k7373u+Vd73qXzM3NNb/53//7fzfHrta8X/SiF4m1duZ8X/7yl2eOedvb3tZ8t2/fPtm8efMhLbFPfvKTzefGGLn55pub76qqkgsvvLD5/ud//ucP28bPfe5zh+2P2oJZ7crqWlRnn322vOtd75J3vetd8nM/93ONa7D++8QnPnHI3xlj5Ktf/epB13zhC1/YHPOc5zxnpr+uuuqqmXN//etfFxGRv/iLv5j5/H/+z/850940TY/YEnvKU57SfD4/Py833XTTzO+Gw6Hs3Lmzef9grsIHOubaa6+d+fwXf/EXm++qqpqxJLds2dL0yWpL7IUvfKE450REZO/evTOW7h/+4R8e8p4iHr2IltijDDt27OAVr3gFV1xxxQMed/fddx/2u1/5lV85KHDhmmuumXn/6le/unm9efNmfuzHfuyQ+Uv//M//3Ly21nLeeecd9roPds+Hws6dO/nKV75Cr9fj+c9//mGPu/3223nrW996yO9e97rX8eM//uOH/O75z38+T3nKUw76vNuuz3/+8xhjDnvtK664gic+8YkH9eHLX/7y5vWZZ57Js571rMZaXgvG4zHXXntt8/7Vr371Qf07Pz/P/Pz8ms/5QFhtKb7mNa9pXhtjeOUrX9kcs2/fPm666SYe//jHH3SeN77xjU3wzZYtWzjuuOPYuXMn4IOWIiK6iELsUYYf//Ef5+tf//qDHpfn+WG/e9zjHnfQZwcOHJh5v9r9djh33L59+x70Xmrs3r17zcfW+OQnP4lzjssuu4zFxcU1/SZJEo477jguvvhiXve61/HCF77wsMceqi/gO2tXtw8XFxcZDAYzx5144olrPid4wheR5v1ZZ511RL8/Uqxu8+r7Xf3+cALpzDPPnHnf6/Wa17V7NiKiRhRijyLcdNNNMwLs5S9/Oe985zs55ZRTUEpxwgknrElQHEpz37Rp08z7Xbt2sWXLlub9/ffff8hzdY/p9/u84x3vOOx1N27c+KD3thr1etjhLKkaz372s7+jBPDDWTFbtmxh165dADzrWc96wPD8eq2p24crKytMJpMZQVZbI2vF5s2bUUo1gmz79u1H9PsjRXcswd/v1q1bZ96vvr9DYfW6ZUy6jnggRCH2KMLevXtn3r/4xS9ugjc+//nPf0eWTo2LL7545v1f/MVf8Ju/+ZuA17g/+clPHvJ33WCB6XTKBRdccEi3X+0SrLGa6Mbj8UG/WVlZ4bOf/Sxaa17wghesvTEPAeqgBPAC/A1veMNBuXSTyYS//Mu/bPpgdR9++MMf5vWvfz3g3cD/9E//dET3MDc3x5Of/GS+9rWvAfDBD36QX/iFX+Dcc8+duYeVlRVOOOEE4ND9Ojc3t6brrQ78+MAHPsDv/d7vAd5V/Od//ufNd1u2bOGxj33sEbUnIuJQiELsUYRzzz0XrXXjknnTm97Eddddx969e3n/+9//XZ37Gc94BhdeeGETSfaOd7yD7du3c/rpp/Oxj33ssK6jH/mRH+Hxj3883/rWtwBvMb3oRS/i/PPPxznHbbfdxhe/+EXuuOMO3v/+93PRRRcBPooxTVPKsgR8wvfXv/510jTlOc95DhdffDF/93d/R1EUXHrppUfsivtu8eY3v5lPfvKTiAi33norT3jCE3jRi17EiSeeyNLSEtdffz1f+MIXGI1GzfrhC17wAo4//vhGmXjjG9/I1Vdf3UQn1m09EvzSL/0Sl19+OQDD4ZCLLrqoiU686667+D//5//wvve9r7FUV0ekvvzlL+fSSy9Fa82rXvWqB+zHJz3pSVx22WV85jOfAeCd73wnt99+OxdccAH/8A//MLNm9qY3velhTwiPOEbxCAeWRHwP8EDRiT/1Uz91yBycyy67TE499dRD/mYtEWsih88T6/V68tznPrd5f9ZZZ8387qabbnrAPLH6b3X+UzcCsPv3rne9S0REXvrSl868X40HyhN7IKxOdj4c3vve9z5gntih+vOTn/zkQXlngCwuLs5EGh5Jnthv/MZvPGieWI3pdConn3zyIY+7+uqrReTB88TqxPLD/T1Yntj27du/o/6OeHQiqkKPMvzRH/0Rv/Vbv8UZZ5xBmqacfvrpvPWtb+VTn/oUSfLdGeYXX3wxV1xxBT/yIz/CwsICCwsLXHbZZXzxi1/kMY95THPc6vWz8847j2984xu8853v5NJLL2Xz5s0YY1hcXOSJT3wiP/mTP8knPvGJmWg98OWgXvOa13DiiScepNUXRcHf/d3fAQ++Hva9wk//9E9z7bXX8oY3vIHzzjuPubk5kiThxBNP5NnPfja/9mu/dlCQzQte8AL+8R//kR/4gR9gMBiwadMmfuzHfoyvfOUrXHjhhd/Rfbz97W/nyiuv5DWveQ1nn302/X6fubk5zj77bF71qlfxhCc8oTm21+vxd3/3d/zQD/3Qd1RK7KSTTuLqq6/mPe95D8985jPZuHEjSZJw/PHH88M//MN85CMf4a/+6q++67kWEVFDiXTClyIivgsURUGSJAcJlOFwyBOe8ATuuOMOgIeloO7//b//l+c///lccMEF3HDDDd/Ta0VERDxyiOpQxEOGG2+8kRe84AW84hWv4Pzzz2fz5s3s2LGD//7f/3sjwLTW/MzP/Mz3/F7qoIpHygqLiIh4eBAtsYiHDNdddx1PfvKTD/t9lmX88R//Ma973esexruKiIg4lhEtsYiHDKeddho///M/z+c//3nuvPNOlpaW6Pf7nHXWWTznOc/hp3/6pw+bHBwRERHxnSBaYhERERER6xYxOjEiIiIiYt0iCrGIiIiIiHWLKMQiIiIiItYtohCLiIiIiFi3iEIsIiIiImLdIgqxiIiIiIh1iyjEIiIiIiLWLaIQi4iIiIhYt4hCLCIiIiJi3SIKsYiIiIiIdYsoxCIiIiIi1i2iEIuIiIiIWLeIQiwiIiIiYt0iCrGIiIiIiHWLKMQiIiIiItYtohCLiIiIiFi3iEIsIiIiImLdIgqxiIiIiIh1iyjEIiIiIiLWLaIQi4iIiIhYt4hCLCIiIiJi3SIKsYiIiIiIdYsoxCIiIiIi1i2iEIuIiIiIWLeIQiwiIiIiYt0iCrGIiIiIiHWLKMQiIiIiItYtohCLiIiIiFi3iEIsIiIiImLdIgqxiIiIiIh1iyjEIiIiIiLWLaIQi4iIiIhYt4hCLCIiIiJi3SIKsYiIiIiIdYsoxCIiIiIi1i2iEIuIiIiIWLeIQiwiIiIiYt0iCrGIiIiIiHWLKMQiIiIiItYtohCLiIiIiFi3iEIsIiIiImLdIgqxiIiIiIh1iyjEIiIiIiLWLaIQi4iIiIhYt4hCLCIiIiJi3SIKsYiIiIiIdYsoxCIiIiIi1i2iEIuIiIiIWLeIQiwiIiIiYt0iCrGIiIiIiHWLKMQiIiIiItYtohCLiIiIiFi3iEIsIiIiImLdIgqxiIiIiIh1iyjEIiIiIiLWLaIQi4iIiIhYt4hCLCIiIiJi3SIKsYiIiIiIdYsoxCIiIiIi1i2StR5Y3rKTHBgDhYAAmQJxQl5UqCJnPkvoZRnOWYaTKcNJweKGRfLJmE3zcyQKlNIkxiDKS1CFAvz5JsAIcIAIOGmvr8IxCCjVvpfOMXS+r39TnxtAdc+n2u9VeI8Ccf6cSrXnEdf+xn8ggPh7kPCHIA4c4n8PSDjO/8bfsSC40DDnhOHyCm77H6POegM3/PW/Ze9993D8ScdTVZbRypAs0UzzgsoKJk2xRYExmqIoqSobGlHfaHufbVOb1oOIvyelmr5429/tISJivSPy0/eOn4piymDXn3PdV644KvlpzUIsB4rQMMEPYKnCv6J4F8IvTEo26oRbqg+S25LT1eVoBUYbCmcpREiTBIVBnOAUGOWnSRWaU5+7Hrh6EkjznzWg8xulmOmn+gsJE13hJyUOlG5vQgSMbidP+8P6VPXk9j9oJouoMBXqn4TJ0ZlY9bm0hjTRDKdjdn/urezbfT9pahitLDOZFGzachzFeAiAtRal/WMloVOkMykObnSNTgd0O6PbLxER6xwPxk9FpZhYz0/TvCAvLErpyE9r4KfR8phdt9x41PLTEQmxUvyfdYLSCuvgv6bCv7eaN+UJo+mUP1pw/EghlKXjLv0RNrjXohXc4j7EyeVLGSCkCSRKoUPjFAqHnygJYMLkqCdO26002kXdSKVan6isOr7bN7VCMKMhSatVCeEG6uPDb7XuXDNAh2OsFVxHI3MiuI5WpICiyNHaoLXxE88o9u26lwPX/Q6II58W7N25hwN794J1pP0UW1pQCpMmYbopxIVGK6+O1VNUhekq9RPlOxWl6snpG97OGx3OJTNtiohYzzgcP6HAGA1aM5oUmD7khVAWjjmjEGfRCqaFpRIiPwV+2rP7PpK7/+fDyk/bz5hDRBDnhemZO8ZrGvu1uxOBwgnWBS0kdPrPl4pKLFqDOMdPDyu0vITb+CDGKG4tP8C28iWc5i5HG0XfaFJqLSaYjgSNCVozvjNQNRrzWvmJlHRMaoWfwJXM/qAZ3HA+gWYgpfNeRELH+uMUwUyvxwbf8f5faZQe19Ga6tf1uZUCe/ufIGf9O7Q2GKMxCDd96k3cfcf20BZ/TqMUg0EPrTXOCUppyrJsZzNgjEEnCWWR+8nTMb+7/gXBN0pq9SuojUrp5ny+3Xatwx8RcVTjcPykBJy4hp+KaYFRXjgYrcgnOSKCNobMmEcdP+V5RZap7yk/bT9zvjVdQy+dtWOEiHD76QNQoGsXosCR8tOahVhtBSpx/GEq/IfKqwA29IwSuDv5KBkpiz3NcSRURU6iErSCsiq5R/8Fj6teRa4VToE4wWhDqmuZDaWj9Zl2NJWudoN4DaTWcMqgbXQHbObGmZ1wztWmdXsdofXDNjKhozopJZgwBpZ6Iqt2wgSNwp+unZlZ1kdMgtaaXqahKqmm5cxNKqVI0sRrjM31FflkgpJ2gvR6Pcoyn7lxEXDOobVB6VqVa68v4hDnH1KaB8q7FLz5HxGx/tHlJ6VU4/Pr8pMCxFoGmWKDSajKgkQlVHh+0uIojXp08VOvh9H6e8ZPt502gOBq1LqV1NvPGPjDnEOsg8TURtoR89OahVgPSJVCGcUvV1AhlA6cdSituaf3V6gcMi0osaSJYloVoDR3JR/lwGiCdoayX/Hfepo35FBUjsFA0xNwGirXakjdgV79WvDHWlZpG9I5fpWW1D1RrTwIzGgmUms0nfPUuoAW0Mb7e0VAG69pGa3QKKwTigpE0/ijtYbyzNcBfpIphLSXsnXLJu6//+5GA8myDF0/ZQFKQVUUwe+t6PV72KqknOar2lP7u/35mw7SKlj2tdkuzYRrtL7oT4w4RtDlJ+fEC6YOP+nEoBSk2qEEUqOYjovg7zOMpjlGGzKjMcYwsfKo4CcttXvve8NPZ985xjnYcdb8bAcFfvILfmq2sY1VtjZ+WrMQmwvXckZTKIerHPcnHyVHOLG4nFPci7nV/G9G4wk20RRGkZeWuUxRWe/j1OJIlOZtkrBCxbfkLzjXvoab+RBnqVdQOtBG+4Gp3at1w5npQ6zMDvCh/q2NkiaKR9rPanS1qO7524VV/8IFrc4oSDVknfChRAFakWrBhZv10UuCVQ7nwFmhEIckmrTXCxNEs7hhkbn5BZYO7G1u2gUBYyuH9mogZVE01viMZS7Ku0qC6e7dDnqmE5TS4Z5adVHNtDYiYn3jUPyUKr+WVZQW5yzaGMajCTY1FBryKvBTVVtqnp/6xlDailHlUFaYVJYkNZGf6j7+DvjprB1jtNEtP9VtDr7Tej3Md6egj4Cf1uxPKqdj9l79m4yGS+y66re4nQ8Fi10Q57hd/oIkSSgKS+VgUjhWJiWjyZSz5GUkWpFpRZYaEmPYlX6Ejf2EW6s/Z1xU3Gz/HGsdzglFUSEhyqgbyCKdP7daU+n8dY9f/bqxqjt/Mwuryms8/tx+IdSF++gZxWKq2Jgo5jX0lA/j9aa7YDQYJSAWcRWuKnFVhbP+dVkW5HkJxmC0xiSarN/DiYVa0amtK+sQZxvBU5WV13h6fZI0axumFEopb6rTToLaf15/37wP30kz0yIi1j/ktvc2/HTvPXdRVtav3Yjnp6pypGlKXlqsE6alMByXjCdTEqNIV/FTTwkb+il5XjIuKiZ5FfmpucGHnp+6kYlaac68c7JmflqzJXbVX72WXbv3Mf+1axhOCrKtwsmnn4UoQ2UdTgmVrXDAymjKYK5PaWEyrfi2+RBSWdIswZiE0jnyyqKNJhFHYYVCoHIVtnKYROFEo6w3kR8M9QQ4yDeNf+2Y9TnXh9CZYLUGcZABqyA1MJco5oOJXt9REo53wcssqg1V9daOBDMdBNdoT9PJGKUURmtGwxWgjh6sTXuNuIpe1vNrWng/f78/x+KmTSzv39/eHB1VrjlP+7VqVEU1O3FmfhcRsb5xxZe/MMNP5/zwHwR+0p6fXM1PiuXhlLm5AaUVJnkFpsJVlsR0+MlatBYSEQrrKEXQWh/z/GTufv8jwk9qRrDVltxDLMSu+/q3Oy5LRfmtb7Np0xb6mzZzh/oQqo6G04bJcITpZSRpQukEO5qicfTnMiqlKfKCcWVRlSU1htQJo2nOzfwZaZrST/rYynG2eYUPSHggrBrZmYni+2f1nPEfy8G/b07TuAK8KdzPIPNWMxYwnfOA13QknEw6ETgqLITe9vf/gX379mCdo5f1uPeOe9iwcSM4y2g8RpsEo9TMBJ9fWEBEKIocRJH1+xx30kkggrUVrap20LRuOkHEta6OehLWn0Pzb0TEesdqfjKf/kU+8LI/4W3zW3HWhmhdT8DjaU7Sy0iylNJBNZ5iEPpzvZafCodSgZ80jKYFWkGSJJi0TzGtSHsm8tNDxE9n3TFhx5nzzefiZM38tGZ3YlVW2KrCVpaqsmy69h7uv28nk/EEbQyTaQHOYZIE5xzT0ZjRaIxJM9AGi2JcCcvTkpvdhyhRHBgOWRlPsPkUbUumwyFVWVAWJVVRgYNuO2a6ox2L2ddwkLQ/yDyvj+n+noNNfh/5B0XlQ2Mr/CSpDjpWNafXSmO0DlqFJv/2f2P7LdvZ/u3buevWO9lx83YSoznp5JPQWqGVbtas6tlpkgQRYTKZ+NBTpZibnyfNUvbu2c10OgnaikKFugL+HoLrsHtzYUVZnDf/nbPhtTvk/IqIWI+o+emdp76KqrLs37efV175e0wmE0zi+UmcxaQJzlkm4zHfmv4/6CTt8JNjeVoyKSwlcGA4Yjie4ooJxhZMhivYsqQsSmxZHhP8NBqOjhp+ctbinMPZI+OnNVtifv0wdIlSZGmPhYVFbGVxwSQtJmMW5gYUaYJ1lnw6pT/I6fX6DEcTTJJyo/4AVVlgnWW0tMLc3IB+r0c/EYbFmOkEiqKgPxjgUkE5CR3V+oWF1vyWQ6oxHFqDYXYSHLqNs8cifpKkxkco1QuxfdVqOPUQ1ec2WvskRSvImW8kTb+EVgbBayn9fsbKcJmqKsPM0k2lAYXCWktVVRijg+YE0+mU+++7lzzPmZtbYDQadh4M1d5vo3F2PkOaHJSD+iki4lhA4Kdf2PF+0Jos7TG/sAFXWWxwVxXTCQuDPkWaUFnLicMfo0wLev0eo+EEkySsjHOqMsc6y3hpmbm5OfpZRj8RVvIJU6PIi5z+YM6vua1zfjJJnzTtHx38VEe21J35UAuxejFOaY3ShptO0Zy78y6OM4LJ5hkMBixPJgBs3rSIsyVL+/aRTyYYramKAmcrJpMJ+XRKVZYoUWiTsLQyxJUFCqjygiRTWFuxnQ9zZvkKEgzG0ISYdvqlcbk25resvu9VrzsfrI7gVJ0DFSFbPnw+KdvrpAZU4j+3IqRhQKxIU5IGfGRUkvXIegN0asAJSarI85zhaEwawn6licH1k0IBSmv6vQEA0+mY8XDIeKTYetxWFIrRcBgeGjXjehAnnUkQpm09+ZvoxXp9LEqxiGMDq/mpKKfs3nknm08/gE7nmBvMsbzfWwibNy3iqoql/fu4tXw/c9k8Q7fMBfbfMZmMKQI/IQplDAeGNT8pyrwgzcDZEls5BBX56aHiJ+rvD9EZD4A1CzFbVRiT+DInSjEajbjuq19jyx13sO2ssznl1NPJElha2s+G+Xl2bL+V/Xv3Mh7NIaKYjEb0Bj2ccxRFwdatJ7K45TiWh0Py8RQRhxIh7XuNodfvUU6nWF1ijELqxLfWwTuDJkyVdvCbww5xvBw0ew7+vuufLjvJ464zIZ2DXPvimv4ewkKps1TWUlRVEwKfpJosTcL1ND6DI/ipJeSeOMGJYzA3xwknncKenTt9GRblHyhtEp/v1fgcAKmrc9DM5Dbbveu7AN1NIIwyLOIYga0q7jx7EZMkKJOglDC85lq27Hg9Jz3rtzll22mkCSwf2M/iwjxfuuu32bdvL71py0+7Br98ED/pieaElR/jTv0XKBHOSV8LAlm/RzGdkGa9yE8PET91q5Icrt2HwtotMRFsVQJw55kLKOfzBHbes5N9u/ewd9s9bD7+BIxJWOyfxu23bWeystxkXYtzmMQvglpr0U4xWNxIOS7RKFZWltm0aTPOJy2gXImxsCv7IOfwWp/HoRQuaBD1ZGhM+E6Da41kdX+ooLbU2ktjzgfJP9Nnq7WqzvfWwbTsfG9b5UIBVVmyb/e9DK9/J5PhiOHKEv1+3/vktWYmxBSfUCj4MitaKbRSbNl6nA/nzaftPeATOROtO6rL4UY66FtqdpL4pGjfSVGGRRwrEBGqqkJEkShfGffWU3qcuX0n+z7xRq77vnN50uafQycJ+xf++Yj46Q4+zMpSzU8CUqFdSeKgpzQZZl3y04F9uylv+m9HDT+pVR2zVn46gjUx8cnV1mGrqklcA0VZOnbsuIt77rmPDYvzFJMRidY+U96YEGWiQt0tH445HY8QW2GLgklZBl9ridaQaU2PgsfyMvZn/382GChsgdYphVOUUveNqlvvJwa06QaqnUTSGcB6gjS+6sNpOavcssKq9/Ws60zG+pjRyjI3f+MbLF13rU8orCwnnHACS/v3A64z+RRKK5T2yYaIgPYm+8pwmaKoQIVJFa5eVBViksYc9/kqIferuRfvbKi7qPaH+5/UjVsV7hoRsZ4RFDTnLLZSDT/dfkao27fjLu6555fZsDjPqcVp3zE/3Zn+OY9XryKjZM5oFjLIkvXKT//pqOKncNGZPlsL1hydqBPj/c3KlzaxZRXMv5oTfcLb3j37ufH6bzIerjTLeRIy/yREoSjwORtlQZYaXFVgjGI6GpIoQbmCMp+wXT7IadXlbJcPYsSRKUjFkTpL4hy6qnBlhXKORHUaU0+KcG86/DX3Suev1mjqDwB10BYH7THdjxW+0Gcbf+OHYjIcsfL19zAZTaiKkixLceKjb1RzwXZSuaqkshXNRghO2LfL76MzP7/Q+Ifr/nPONg9trYI1kT9Ko3TYDqE24cPFanNdqH8bEXFswJeV8g/u95qf7tYfpJxOfOCDCFVZRH56CPjprDvGTZX7I+GnNVtiSZKGzdJ8I+tyIV6w+V51gDaGqnKgK++f7pxDpCVPay3FZMhgYZHUaGw5ZdOGjRjlmE58uP7fL76eOfkQbuIwA7/I2Dc+s15QFNZSVA5EoZ035evB7Cgi7YjQ9He4H2ak/erF19V+6TYPxe/lk4Yin9YJLgyKVoo0TUmzDG00GzZs8Fs95AUOOciV4KsA+JDSemC9RukwWpMk3sleP5DOllS2bAIzWs0raDaigmbZ6maHnA/iEImmWMSxgSRJSdI0PA/yPeenW3of4MnqZyiqCucKNiwsRn56hPhpzUJM61aCqqYDffkRjGo0CsTnIrQNbs1j57zZ7iNeLHt27+bUuQXEVRhxnLB1E0VVMCymZGnCK9JPcEb1Sl8CRSmUE5/joAEUiTL0jKESKJzDoBCl/b25UMg6DAri76F+Pdth7eSR7gSRzjB0JpwOE0QhlJXDOocOG+xpLfR6hl4/IxklzM3PUUyniDIodONmMMY0Wl+vPwj5EaXvU3Eo5R8kZ23zYIkIZVmhkRktzLsmmseXpj5ZmCAqONtr/7MOLoCIiGMFWmtMYjzBWvuw8FM/TdEipMZEfuKh46dz7poias1OwiNYEwuhlTvOmENZh9JBIougrA3h8gattS9v4rwEV9LW7mtNREVVVawsL7N/3z6UUhgs48mIShxlWVAWuQ9jlYLeYC6Ywg4nglEG8FoFymeoG60o8NpNYYOlKm2kjlplvc642cJb6byQ5oNZGA39RJEqR2kFax1FkZNlPe790i+x+/67KfMpw+V9/p6KAucsKvEbyAl+YbRyFnFCNuizcfNWVpaWmYyKji9dUZYlebNbqncjiIRdVEM/siqrvdkDSangqT64DdGVGHHMIcx5L5D0w8RPPq14vfDTnbffxP6vvuOo5ifFkfPTmoVYU3lY+XphSpmOmelwobSzSv3eNLasmuNrw7Hx7SK+arLNObBvL/3BHHk+xSQ9RAvFcEiapBxYHrJk/icb002cx2vIsoxUGzR+Xacur+LwO7HWu6/WpnCtDPgJE2aDVjOm+4xmEzqwzYuoNQoNYb+ezEA/gURDqoXMwFSglwr33HYbd9yxHQUkiQmbyBkqbDCc/X+cCOIsdSb8dDpmPBrObJUC3pTPi7J1kUi97Yrr1FqrtRiaCaZCp9eFNesCnrPjGV2JEccO/FqL9js1P1z8tDJEG4NTvuLH0c5PO7/4H496fnLBbXkk/LR2IVYvuIVCmsYkPgJIga28auGqCpxDZZm/OWtJkhSQEJrqvMnaadzSvj0sAcYkzM8NEK0xopgUJfuWVuj1+qh0wlX2v7Fhw0Yu7P8kiW4bWZfsL4Bc/AZ0QMh9oDHBpZ0bTTRQZvzCZ2UFo30vTwoQ5Qtj1rO7l0BmNL0wOZqTKr932nBpL/tu+kOsq7z53euxsDCP2MpH96gwYOLDVJXS9PoDsl6f/fv2MByOUCjSupio+AoDzjnG47HXV5xDadOY5qt3NKr9x6p+CMWhMHT9DE2WfO37j3Is4hiB0oqz75xw6ynpw8ZPXx/+Kb1en/OTN3BgZciGDRvYtLB4VPLTruEQ6yp2nDHgcfe7o5afuhy1Vn46Infi9jPmSJQm04Z8MgLnd980Cb7EUnOoRimvMVhbBatSmsZ3y1fVRSCtc9x3152kvR4bN29hz74DzE2nJEnaCDOn++x3OW4ubICnFYlJqcIkqWuGoVqtqlEewsxQoSN7BgbG7/tTKNBK0HhzHPEmtY/sEeaSdvctwWe+l2IpihLnHPuu+U/cc/ddjIZDvwNqorG2DCVW/DatSXBlgK/ef9yJJzIZTUKioNcOJbgj6v4upjnadHzHhGir0BCtwbnaDSIYk/jtEerH0NnWdJe2Wkc9HnFPsYhjBoH8kl7/EeCn93CueQ3O9BF99PHTrvt2svMrv+n5aWvKneekZGnCWdvzo46fqPvlCPjpiPLEEEFpxWB+AWsr8smIhASlDQ7bTJSymLbmYuj0JnxVtbfmAsmrsNDqrKMqS6y1zC9upCwqkiRhbhGK0pEMhlw1fR8b7AYSo3h87/WYxG99XaHawpcdf3Lob+DgUNZJ1ZZhqcDXQlN+zx2jFYmCVPtp7Uu2+Lpf1lmsdezfdwDu+BN23b+Le+++F6UUg8EAYwyj0ZBBrxfcHAZb+ZpsSeaLZy4vHWA88lseiJOwqCzosCgsgo+2cpXXEMNg97IeYgz5dNJMjtoV4Jzt+JTrJ6Idwtp895PMRZdixLGD8NCffeeEnRec9LDz043p+3nS0s8xnhaMNiySGMXC/MIjzk9VVbLvq/+54af+qVs59+6cbx5XhPMdXfxUh+EfCT8dgTuxNbNrf6nWxm8zDeDq0Ml6kMLiY9WWOmpyA5qFvdobTbAqvWlZTCckSULWH2CyHnleUBQFSivmFjZi0ozpeMjpJxSkWR+0I9TDmql6Wac8ZCY0VNULh5AgoWCmNJOoCqurpa3C9uIK6xvno3PE/2ut/1NaU5z6OsZX/BRVWZGmCYijzKvGjVCb6cOlJZCwr48I+/fuC5vHdc15R+uc9rvIOvFRRS4xZFmGQqiqcqbKc/NM1GGsnU+VMl756JjpUXRFHGtQIVEZhDO3rzAeTSmmBXecnT5s/PQN/UfMLWzkwvSnmY6HqJOzR5yfBMV4POGWU1LSNGUgjptPMpxz2wh62VHJT4cKWHkgrN0Sq0WYBBO8u+KodePrlFrDCXDWb/1B6Kx65JRWKNuNCGrNUATyyYSsN0RESJOEQb+HcRYjJb1EcdX+zZzHfZRnfplt8orgY/XVvkQrKtfMFawTMu09sFoFbYZ2PCrrKKzfYmGalwyHE1y4bmJ8Jr8PT2072jnH0v4l9lz9DqaTsZ8ggx62qqgqX74FwFUVZTGl1+uTplCV09BXrde49QWr5mFpFn+1AhdSHJSvJKCVxiQpVWX9xGoWT8P9tVU+QwIjzSItdcRWlGQRxxSOHn7a2fso3/zWdTzX/EdOOu10RCWPPD9tyWb4qe6Do5KfnDsifjoCIeZvwomvUVbDh6n60EzvqpKgUbQToI68qSNUFL7GlkjH/xyO18GctFXFeGUZcYKe65Mt9FmYS1Eup68KtBMOzP81JyWnMKgsDoVFMS0cVnzRSqMgSRSZ1qRhwbO+rg2mrnWOaVkyneaMxlOK0uKs39OmVCUmMaSpzwNBNQnlaK3Z85Xf4eZvfwsEer2MLMuYVsHHrvxgT0ZDrHMsbNjIdJJDIc3AipP2344bo3acJ8ag04zpeAVnLdPxmF6/z1zYAqcoisY9oXyqIm1GvM95qR9ckY6rpNF61j76ERFHN7zFsJqfztg+YseZc48AP5Us9lIWE0Upjww/3X/Pvdx+Y+CnkzeRZRkn37ZMaS0SaiQebfyE6gi7NfLTEW3FQhhsZ31pEX8z7RFtGKVvZOsTVaDazOy6Plm7kOd/WOd11AE25TRHBNLUT5rR8jJpmrByYD9lsZHT7Es5RU6l1FA5yEvLgZURVWX9DqxamO+n3Jl9lF6WcSavoCwrirKiLArEOmyo5lyVFZW1ZInBKY3TYIzf2txWFRK0HWV8pefhypDhcBlnHb1eRpqkTCeTICjaxcqsl5IqQz7NGY9HJB1zvF3Y9YPnTXD/2CSJIc1SbFVRd71P6Ewoi9zfv7N+gbqzKNomDurw3k+Ybl/PVAqIiDgG8ED8dNYdE24/vf8w81POXclfcIp+M1oemJ9EK1yWYRLzkPLT9Nv/ldu29ej1ejzunpKyHB71/HT2neMwnmvH2oVY2HXTR/b4RbraNFdK+dLJtQEsrbnYTrDOfHACdd5ZkMLUfmqncNqb3gJURc5oeQWsBeXD10eTHKsX+MruP+SZvbeyc/6TnGxfwXgy5db8/Zww+glQCqMVIyUoeQ7p/BzLGwtvTVaOPC/J8zzUWHNoo0iMRuOC9uWoyop/qL7E3GDA83vfTy/roZQfwHu++B/Zdf99GGP8wmvl8yV0iEqqR8IkCaApKwtKI1I12kntm/cLnLodPPFmejGdYssifOqtXWsrpuOiMzFU891sjNLMABz0WQzqiDiWILbmoy4/tXvnnX3HlFu3ZTxs/GQd996/i6t77+Wc5LVUyjCeTCnGE6bTcoafRIT5+TkWN24+Yn66ZvcfMDfoc8qpp3CuefXB/HRq75jnpyPYisUXaNxx5oKXyuI1FmN8xrZSoQq01JK2DrHsqP3d+5a28jEzO1GLX4RVbeXj6XhCkeckWUael+gkw8479u/fz5XJH3D+3Bu4ofc+jlv+UcZuH9vlf3GWeTX5tOTe3l9xJq9iZTihdIrBYA5cSVkW2LIKeRGQGkOaah+6KoKtoLAV5XSK6mekRqPER/2MhissH1iiyHMG/UHYm6dCK+0DXVTtO4ayaAtnKm2QqgqTMPgv6mjBmQEMuS3aoU2Cc6WfVM6F7SY64fL1uVXQama72T9synvj636nM50iIo4FzLieAm+IE5Spnw/FOXf5Khvbz5j/3vOTtezfvx+VpCxteC9n8AomoxG3ug8iokmyjLKoOEtegUnS74KfJpyevorTOb3hp/ymP2z46bH3asRNqZBjlp+OQIj5kXTO+oXTMKzdxLZ2EVTQJgkLjKFDCOGcoTZJU0Orvl3V2rF1VFAdmSPia6BJAVob8qKkSEsmdszy0hKf33ANmrO5nisZjU/mpOF16C0jFrOUJ829GieaSe4THsuipMzHSOXbYLR3JdSjKsr7vU2WkKSGf5k/ixs37qDKLdM8pygq7vjsL3PfPXcz6PdBSVjc9G1yImit6Q/m/P5rSkGYHNqYpnJALfiVUhidoE1CYcuOC4PQh5BmPV+IM4yBSfznVWVDv3b8JFL3Zdub/lnsakEREccWan4SReCn+vOaooU6OvHh4KeyKJmMPT9V1rFs/pjR8jKj4ZAsTTjuhONYzDJG85/Aiub48Yu/I3468eSTWNQbqGyHn2741qOKn9ZcZfG057yTxQ2bvAVW2Xb7gpBD4Eu8tL5PoZ4gdCZBe9OqnVptY7po5lYtIP3urSKOqirJpxPu7V3A7sUns7DzCjbuupKTx9dzWvEtsn4PEG5XH8IWBdPJiG+N/zu/ly/hXIlOM3SaoI0Po3VWKIqK8WTKaJQzHE4ZT3JKq8gWNqKSAVY043HOjs/8EvfcdRdFngefcZtEKSIYY+gP5iiLgqos/Bzp+H+VEHzSvlFaG5LEYKuieciU0ohOcPi9e3SakvX7foIYw8YtW9i0ZStZljXnpVvUlHaC1MmMnVTPZgE1hihGHCs46zGPC/wkh+GnlpvOvnPCmXeMv8f8NGU6njYBDras6PV6zM/Pk/V7KHzlo6osyAM/3ZL/6RHz07n9f4dKH938tPY8sXTA6f/yD9i6vMQ1O9/D8v69fgdmrdFKhwnhWhNUa19ry9UhlrPjX99w40+tl9TqRjfW3WxD8unU54QkltPLb3OSXqHKElCKaVlRVCWfTF7B41XKOHdcsf+/+erWKJ6773+wNPhJev0BCgn1veq7CZnnNiQ4OsHYAtGGT+87h4u0MBrn7N65m2I6JcsyxDqcCq0IE1rhrdXpdOJ3SZUQ+tqZ7EHPIU0zyumYfDr1WgwKk6SISrzm5CzOWfLJBFdVKBGSNPXRUzhMmsJ0Gvqs23e1wjPrBqh7vMn5W2v4T0TEUQ6VDjj7CU9ktLTMznvvZnn/XpyTEH6u2m2k/NGen7w/ke8FP4kTFhbm2bJ1E5V1M/xkTEqlMqq8ZO/+3Q0/5fv2c/3Ce+kNBpxRvWTN/KQAVQn5Lf/9UclPaxZiyytDrAj9uTl+4JzfZGnfXq6+751MJ8O61e1upBDKhtTToE2Ym70vaTqN2Y+bFnVDXMH7Yst8irOW/Xt3Y23OSSefgmhNP00wDPi5sfDt8s/QJqEMORHTyZg06zNxI741/hPO4pUhNyIFpXwuolZhAVORZD1MmjFZWeZnC2H/6AC7rvwNiiInzbKQWOktfR1M/t7cPGWeU46nTS20etG4HRxBFF4bk1CWilDPWfsF1iIf46oqDLRfYBZrw261sLK83Gg13Siq7mLo6j49KJmwEzEUEbHesbw8pBJhMDfHWY89n6W9e7n/7juYTkbh4WuXOgSabUa+V/yktTksP03ygvFkckh+mo41o5VllpP3ca557Zr4SSth//797Np++6OSn9YsxFwo8CiimeQlcxs28+zF3+a6ff+VfTvvp8zHre8zDK7SaqYRUt99xz3a/bdpWKeFqvuD0NCyqCimBQeWDjBcGTEe5/Tn50myHiJwf/4/GFR9rN8kiEKrJiv/luL/Ic+nfMv8D87n35H2ehhjyHopSvkKJM4JvV6f/mBAqirKyZiVfMKeXTsxWiFOYcXvHVRrDFnWo8nyD1n5UtvNYUHTaE0V/MxVUXZa7lvqbIVWCQuL8zgS/7XWKBST0QplPsFaH0TiJ6ffbdtVlbd+oVlU1UHLaZW5+mHrTJSIiGMEzjl0w08Fcxs3cfaGDezddX/gp4lfv0LxnjNfizL+uXLa8uP2I8BDy09KWcqiOCQ/5fmUQT49JD9NxyPyfEpiEor5aeSnNWDNa2LWWqYTXw8rSVPvRjQJF5/4Vn7g3Hew+YSTyebm0GkCui6jKb4Ms2oH2L/0g5YELWNWLIfGNZ3caUyncYIvYVLaiv379jMajsnzIpRcESaTHFtZVg4skU9y8mnB8v4DrCwvYytHVVnuUB+ml6Vs2LhAv5ch4jBJytyGjWT9Hr1U0Us0V2RfZff99+KqCq1No+Vo4zddMMaQpCkrK8udcitBN2t8zAqtO7WdFWASlEkQUVhn6fV6bNqymY2bNjGYmyNJ0yYTv96F1muMOpSxCQOuOn7kmW5Una7vKBJRgEUcY7Cu5idHkmYobdDGcOKpp3PWY5/A5hNOIp2bQycJb7nrf9MkMmvFx9XlfFy9BHgI+Um+e35yzq6Jn0bLS+z/6m8/avlp7dGJzvqwz6rEGIUxmsQkgGJxwwZ+YPE32LdnN9fu+X2GS/uoyjKEc7Y7rjY7wNFWJZsJXJFug/wRbXPamn/N3jtBgjvntZ4kTRHjqIoCV28RXvhKyypoBVmWUVUVzlpOdy9FaSjynKqoKKsKW1XoJMFkPX6vmvKTowkn//1HueeuO1F4YW6tw4QtDLQxWCdMV5ZpQ1E79cbwjSrLgmo08veuDcakKJ3gqoIi95vWzS8u+ms4HxQzHi5jq5LewgLaGFSYLGhIjKEs8pnoq7o/6hBaX+us7kPVHNNEXR3kJ4mIWJ8Q6yiLAluWGKMDP6UALG5cZGHD49m7ezd7d97Db2x+AVIczE+q2b/xIeAnVLOm9Z3yk1LqAflpOi0YjSbs+srvsPO++x+1/LRmS0ysxVV+MBqfpXNoBSbR9LKM4048mWed+RucdNo5LGzc4qNYQl0ypRXKzO4y4yo7I4y8D7rrC5W28a2rlFqG1cc7a4Nw9RMBBG1M49q0VYXShsFgnjTtYbQm6/VQKIpJTj7OqcoSsZYiz5ksL1PmU356UrG0fz9/v+3xYUKF9nSqNtfVAZpxUKpVOJQP9y0mI2zdbygq68NP8+mYSbBuB/NzpFmP4XBMXhSAwgl1sRZfbBl/vToz3mfLu84EAZRu8jG8otjxG3TMdlRcE4s4diDO4uxqfrKBnwy9LOP4k07iLy/7PU6u+al+nrXnp0+Ylzxk/FR//73kp7IsWNq/nz179jyq+ekI1sR8xQ5fTmQAxodMivO7pirtfaqD+Xku6b2N0cIKe3ffzw0H/pB8OvL3pWoTtmuCt9tXS92IWg2SutNbU7PJ25A2hF9p70sWYGHjJu93nkxIet4P3J+bx6QZJk39luJBC7m1+gCPm/wkaZpRh34qpcjHY79QqWB5aYUyL/1+OuJDQiWY61VZUZZV489uXZ0064HWWq/hhZmTJglK+11etU78XkcIZVmiTeE1srB4q02CCxGfCl+lezIZk/UHpFmvOa6+Zvf6bZ/Wek6b11IfFA2xiGMFzlqc88+ROAdGIaICP9mGn35tz8f4vW2vZmHjFvbtvp+lvbv83mOBEz6hXgIivEj+0p/4u+In//I75ac8z0kmkwfkp/E3/ytlXjyq+ekIhJi/YGUrqqoiSUy4CQeiQkkqwWgDqWHD5i305xdY2Pfr7LrnTr41fl8YUTWzcNdI427DUB2BHGqaNTGa7VF1o52AVBX5eESvN8ABo+UlFjZuDlsUCMpappNxc99lWWBtRamnpGnaCQH1jS2mE4q8YOna38Oe9vhOZ/v7tWGxsjGXpVGsMEY3Ib0m6aGT1IfZOsuW47bilGE6KYJikFJM/IR3TlDGTxIJF5sJTRVfddpZh7W2yb6f7b/6CaudItJ87M8VHjqpv4+IWP/we1r6ihFVWZIkGnCIaBCHc2C3vR6lDYmBDZu3MphfYGHDJnbdcyfD5X3UD1238O93yk9N1N93wU/jfIUsTQ7LT+72/87e3buxzvqkaB6d/HREOzsjgg0mey9LcVqjpC6Y6QtAirOAb2ivP+D4k7bRG8yjbv9Zvrn0hyFCqM2En5XKtYIjTYOahgQ/aWPIS23e4wvaKqiqisloiAkajtY6mPLex2ySlLwqGcwvoJVCG8Md5iM8nteHyCbnNY7wev+eXRzYvxe2+XszWpEmKfk0p7K+iGfoHFC2dTWEf60LW6KXFflkysbNi1jnDfDpdMJ0uER/bgEdFqGV1ijnQvsVtcvW+6kJBU2l2axPh0Vn6aw1Nh3ZvK8fRoFWqQwzJtpiEccQxG/DUpYlvV6G0wolQnHya1FKo4OL8U3OgDKQzPNfTurTGyxw9+3fZnnfLs8/Svi4XA4Kflw+0j39mvkJ2oLo3yk/pdILPOcOyU8Hdgd+4tHNT0dQxT7szGk1RVn6TdeUwonf+VOHVVGlNSjrdyRVCmUMG7cch7OW4ts/yc3TP2lDPTuCuPaHNvaOQJvb0R5yqGZ1z1VVBb25OVziF3VtVTGdjJmbm8c5S1WWGDMhzTLSNEUE7yJNfBmassjp9Xsc+Np/Zvddd7UDID5xsrJ1PTPd+J2D+oNIrX2kaHHer61TQPmaYigmk2kItRXKoiDre797NfVFM71bwHmfMLUaR6NN1X5tv7WEblUhugU3w/2wavIE37U2hq895TmdyRQRsb7ho9UPxU8+EOFw/PTzkvAHW7Zysj2XYjJhMloKwiiQ6iH46ePqJSjgRXxs9h54aPlJpwbh8Px0393HLj/Va4drwZqFmM96d2jrTXZrLcbUC6PaC9E6gbC+AVGN1N649XiOP/UMbrsrQ8qyPbFXfTriq2NqSueTGcF86OmiwiLpaLiCOMsci76RJsFai9jKl0IRAXHYqkT3M0zI6kcr3jeX8BYU0/G42c5BhcVh6wRb2ZCTQtO25i5FIeJLsSRJwtz8PEXlo5GSNEVEobWP6OxuNGdt5bcGT1KMNs256onoXAWmTnqsF2a9puc3ew19p0KyZpgg9TW0DkJLedeKOOcLfbooxCKODfiqQQ7thKr0UXyen/zz8UD89B8qjdt4Im87dZl7tn8bqcqGYj7B5QC8UD4KwCeCABOEv+ZfA4qfkI99T/jJVcVB/JRlKUbP8hPiXYTrmZ+U9jlwtXXnKouIO6gPD4W1l51SyvtIaV2KiTFgNEocSjSiQYuQKb/ZmyhFaf1iozaa40/ZxobRCRzYeS/tgmk9JbqG+KwPVcIgNGVYGs2iPa72vdrKYqsxJk2Cbzz1tcJshS1yJMt89Iw29Ho9tPZmuDFeWL7FGpYO7GPpwD6MMbjS+5atC+Qf9r7Rxnh3AC5MJJ8XYZ1DrIBT5NOcsnKUxRSUwQYTW+oZHRZi26rSgkVQVYVJU7RSVMH9Wms4oUs6rmQ/6L78mW7uS2nF1y56dmveWwtiV/VzRMSxAaXAWV/g1tqKoiw9PyXa76q8Bn467pRtrCzt48Cue2l8W/VzupqfpPtODs1PM/d35PyU9Xo+urLDT8poRte/Z5afYF3yk1LeqmsiKG2X09Wa+ekIdnYWr7kHQiyqksxloECjQTnEab+9Ng6N31/HKr8Vt7MWbRK2nnAS0+UlHxFEvSjKDKPOLga2HSNK2tfNv50TqNYrLdZSiQ8ttc7iqrIJ+0wSP4GsrfgreRm/GrYE1wqKvOTeL/26HyB84dCzvnIGlbEY3d6R9nVgUNq7KxBhfmGebLCBPM+DlqTRGnSSoYFitEya9cM5FMokYeE3jLoLmezKa4p1fbfaOlW1aqN8Pog4x3UXP9e7c+vopDBOXisNRZmbMKnwn1ozqvcViohY7wgavOcnv3Zks8xvo+JkTfz0C5LyGyecxHRliXwc+KlziY9zeTC4OmthSvFxVrkXpbZ8vjt+ckmFEwOr+OnO7dtn+MmJQUlxVPKTSdJGcEkIghHnsDZYi7YubRVM2Q4lKdbGT2vPE6vNQPEV621Z+hsVvxWLd736CeI3pHPetLWOOnnNWcs55jUMFhe937Q556xFVe/6GeZI5yZoCNi/7bxupL+/C8FPlCRJEHEkvR5plvkBVqFGmKtITJhYzmGdY+eVv8V0MqZ2JSuTIigOlC9D8MmD2iQICpP20UkPW/lM/KqyFEXOdDL2N6RU04AkMZjacVyHkqqwn5HqtCf8JjTFt6d5Xlo/91UXXspVT/w+wEcKlZWlqiy28hNboQhmZvjXgFo13HFNLOIYQbO60uWnsHFves//WjM/Zb0+g4XF9hkMiuHHuZwX8TF+gr8M62qs5twZfvJ09N3ykyUJVTcemJ90vTR11PCTtRU25AiLqMBPLvBTEFBKeV7SxnOUXrM4msERCDGLQNjSwJNmnufetViWiK385pBV5TvMOkrrw0dr4ZdmKfOLC2zYvDn4YIPlUJtVgE6ML2HSNU3bKbpKqkHnoM5X0pi008mYfDJBwh5oSmu/y6n43AfnHNPJlKIsGY8mHNh/ILhOXetCdfXg+Yuk/TmSXt8X79Sa/tyCv6yqtR9fAUA6lbPzoiSvXBPNKVLnttjQv9IUJW2h8EKqY+LTPhDOeteJs44mqbDTI3WVFJ87YmkqnYRzxd2dI44VSIiac+L/LauKfDrFVhVlUWHu/NM18dOv7/srNmzZjKn5SVp++ri6nL9JXhZKLKmu5ATg4+pfN8/o7JP10PDTt/P3H4af3NHHT/h7tJUPNPFStuYoafq2jXCsLbLu2dfGT0dQdsr5Ww0Xk1BLsQod3e/1mJuf8wt1SoFyvsqU9qVTlHjR3uv3edpJv8Dnln6dfTvv9/kE9aCqYPqbdtFPKd1mnEtnkbLrlw4aRNcDKeK8S0DB4sZN9Hp9dLC3tdbeX443z/9p4Qa+tPwY/u31f0gVQljBZ6Mbo7jjGXfzlGs/48uwCBSTMYPFBX8+pdAqlNWivW86t+Zs1UxakbBFeGibWIcon9dRlWXrX8drNibJSIxfTFXB167CdbTx2+BYaotYIbUvX6SNTKp/W7tBOoIsIuJYgDgXtn6ShnAP4qfqT0Ar7JlveEB+OvnkUxgtHWDf/R1+gvD8SvNs1VUynA38hOLjXM5P8Jc8FPx0Fx9jt+37iMXCsPX6+9l3CH7SysuHo4qf8AWAtdatx07R3AfUfV7fh+cqOajfHhxHsCZWG0W1uezLqeQhkseGnUhFhH5/QH9+HqX8vjdK+ZIkGoWy0O+lXLT15/jS0jtwk7EfAfHZ3YKgUSRZRn8wj9KG0coStizphtxL8DfPSOsgCOsO8fXKEqbjMWVZ4KwN1uAGvztqkrC8vMJf3rOAre5i785dzdm8FYPPe1N+G26TJFjrNT2xDsE/OC5oOHWvq/B7X/zSV3G2Ibnaaxve0lSopr6Ys1WzI20d4aO1r1GpTZggSiG2o8VQy6F2TJo+UP430r2rztqjClpURMSxAQlbQUkjbJxz5NMphIAK751wDG55H8l5//4w/FTyq/d/mPsm9/HvB5fixoGf0ME15teFkiyjPxf4aXnJ75LcWGSX80L30YeGn5ZWGA2XPb/u3H9ofkIddfzU8ExNQtTdI809KEA6UZC0dxf6aG38tHYh1mj2ql2g646POEbjMc46H/ViqxABmPptAEzoRCeMRyXZYMDjF3+KpXxXcAWEBoqCynfIlk0nsmHzVlayfRzYu4vbyg9QV0U+5C12NQ3lQz+rsmRleX/TSWmaYkxCsrjIX8mLGY8O8LT0ep5y/efb/XScA6dw1s+6S66/ApP1QGmkmgafeN350mhktY7ho6HqNoGzjiKfBpdevaCq0YmmnBbUkUxKKTRetJRFgbOlt62sYMvS/57W395Whu5qV10fNkCzlNxoPrXvulUJIiLWP5q9rRp3Vf2FXw4Zj0fhWSyYu/EPMFrT62eYLMOd/pP+QFcxHhVkgz5v3/VJfm3hXwU+aBjKrzlrRX9uwVcmGgw4sHc3xWRKHcjxcXV5E5Zf40j5yTnHeDxiPBw1rrxD8VMtwI4mfqLLT+oQjkHlo0PrfoFgowSPktJr56e1uxOD8FDBAvO7gZruAT4PQ/nM9OUDS2jl8xrm5gf0+30Sk+C0r9eVJpqtW7cwPHCAYjLpNEaagI/JcMQJp5zK/MI2kjTh3n0LTEYrTTc1v1kt9VcnSTvnTePg5y2Lgr+SF5MvLzNcXqKYy31UUL/vfcwSCF/7Sv1XP/H7ueSGf5rRFepBctY263veLPfXNkmCMYkvg9PZ2lvr0IdBgwrT0j8/1pKPRxQ6JGxWtRkeMuGtbS2vRqtre0IpjTKdMaEj7Jo7rycWcU0s4phBna/qAzQqtPJJvLMH+WehKsuWn3oJc3Nz9G97H9oYyuD+ShPN1uO2kFQZPzL+Mz6uLu94Fb2lMxkOOeGUU5kL/LR/9y4mw2FD+h9Xl/Mi+dh3xE/OOSaBn8qiQKPYcdYC1lnOuH1lhp+ceCv0qOKnjsXVvNa65Zxa0Zaah+q71y0/PeRrYtaHgYKQJBkkhtZZ1ZqQddi2cw4rMHWWoixIzIhelpH1MtIsJUsUcwsLzG3cSBk2YGvkci3ExiPGK0scf9IJbNy8iSfxs1xTvNtXqq4bvipaUSlBJDiJUc191RPHOsd4NGLZHPAFMvMpMmgXhY1JMInfhsBaC6KwVeG331YKW/rwVGnyMvzCalWUPhFQhCRJSLMMEF/jrKoaI3m0soLRI4qixJZFx/3rK0CXRYE2xve3s0FeBRdJHe3juvpO/V+fNJgNBl4jC1FazlksBWLDDq2qHi9NtMUijhX4KvZ+SSNJUkLl2saF3vBTIEj/XMB0YimKkmRlSNbL6PV6pGlClirmFub5te0f57r5BEWrHKqQQD0Zjzv8tBmFsLPIKfMCpTQv7AgwODJ+Ulp5fppOvUjQPt/t3LsL6PVn+aksQMxRxU+enmdTFLTWZIO5pt1O/M4DtvTypbHYJDhiH+o1MVH4Kg8IYurIwnqT0HaPGAmmdmN+O58HYUtLPs1RWpGmKYNBwvyGjWzaspXJcOwT7uoOCwuzzjr27NzF3PyALEvZetxWnmx/nl+67w4u0zs6gQvNLGn+UarOyVhVgFKEqiwYrqyA+ByIx1xzGr//uNfzy/d9xJvlYWlSXEVVTfiH+0/mH49/MW+54wM4WzX1ztAJSdJjMhyGKKicPJ+Q9QdobajKknw8Cn5rjzLPsdrwn095eTMJUPCWOz4QXCGhBUr5KgS4xvCq2yHia5557cc1E0kAk2X+/p1Di8NZjStL70JoBD/ErVgijiUICrGedMUkTeSzJmj74cXMakR4bmzYpyvPC4ZqRJolDPop8xs3smnrVv6PuhxVTNv1KI0Pea8se3buZG6+T5al/O7W+3mbPYX77rrTe0XcA/PTJ9S/5kXyscPzE7UHzEcUnn1XgUm8hdnlpyKfopVGKR4yfvIBMbaxXoEj46ewvuasbSxTAUxa85NFi8Ep64sGS23EKOpE84d8KxatNbrnt9dWic9DQKTxa7bmYeve64xM+8oJRZ4zHi6Ds5xwwgmMhyP27rwfV5X47PnES3uB8XDI3TvuYOOmjcwvLnDciSfyK8tLfEXBJ/RL2ksoFUx3oU2eqy89Owh/JS9GFWXz+f84J+HX7vkw2dwCtvIaiHOO3z7hcqQqkaryNdiqsrmWE0cvTanKgnw68V0fBEpVlEyrMeXEL9gCfHnPGVx6/J2Ic/znba/yYbG1m4G6/IpmbmGBrNenqiyTae7351EKa0vKfBoensrnwIQkxjavrjbt/dhopVHGW2iOqnVBhm10ZhY1IyLWMbTRaN337i2T+kernuKqo243xCizAiZ8Jk4opgXjFV8a6oQTT+C3bv9brumvYKuSj7sXo5PEu+1FeOPKV1jY/k02btpIubDAfzphNz+zvJHJygqf0C/p1Fds/Wcijo/zElDw11zeus6UP06LRpU+huA5m27jc0tnM5ctYJ92IrYqufCr/yWE3o99AV+ESrwr0F/qyPnJCyVvTZU2hO13hMiR8pMKRYq9vKu3gmGWn7QXvFppXEeONFXyH2oh1vVbqtDg0PYghf17X7bE19BCE6JVvO7QvSVBce/d94CzbNq0geHSfkYHJk39LLQOpf4c4+GQ6WRE/8AcGzZuZOPGjZD7+/EmLCRpxv/bfwMvlI/iyikiDlv6vXl0YoIm0GoK3Un8gxu383vZK3nb3X/Ofzrl5VR57tvl2sVPQXjXaa/25VaMHyAliqoqYYvyE1tBkmRMJyO/d81mmut9357PccWu00gvO4Mf4OZuz6K04t3qtbztng+R9fr0B3OMRmOStMfvnflynvX1FZx1PKX/v7l6+BI/+NzfKgwd14T3S4ewX6Wo8y+8/OoI9u7Cd0TEOkcTRBAsB90ENWhEWm+MVgpRhDQgFVxuHX6q3Y9Kcd/dd4Oz/K8nvYmn7XgXo8kY0V4QKq1BK95tz+cXhzcynYzp9wds2LiR31q0vHXFP/x/7f41L+JjpL2MT/X/jX9GyymJuFDSDlRab2t1MD8ZeyH/YlHxxbwiHw0pipwrzngVNrmep1z7RYIfDPD7K5o0JTUGcY7JyhJVVaExqNSgNN76Wl5CnG2WFmqICFUQip2epeV9fRA/VRTB6lKhJmUtA2iU7JpoBIezFU3aVMjtq4NwuhYysnZP0RFsxdI0tY13E6/hFHlOPh755mqNMQYTMsehzadotQ0vfcvKcvddd7O4YRODuQGjpaUw6QSxq5JzgXw8Ztd4jEkMZtGfTyWJHxCEX05uZG7xmSQmxTphZWmJumK+QlFMJ4jAL6nb+H19AUppyrJEKUVZFLzj+J9AlX6R06Q9xFYoHRZAyxJXVeiwdfcze9cHHzx8YfkxOOe/c87ynI23dgYOPr//bKQZzNkJUntEFfDuM19DfzDwC7yZH8RqvMI/niM8+8YccY5LFj6KUopr5NnNZPeLuiE3ZrgSkhX91FZGt4V+w7VcN/clIuKYQO1moOWn8J8in5JPRsHj0eGnxIfWz1R8D/D85LjnrrvZv3kn/+/8a9i9fJ+vpiEOLI2brHbx5OMJuyYTjDG8Td3PO+XxqCThE+4lJKTMZ5pfm99xWH76T/k5/IK7ART8vr6Alxy4m/KA55gXAnK/ZXLG43E4Uv0U3nP2OQAz/PT8E7by1Bv/hDwf42zpLSxtvEwUE9bLOgnMjS+w7rHV/NTmmIIwXF5iZWkpFL3wQq+ur9hEUEqniIU0I4NYx3Q09PzkAj8lbVX8ek2sdmOuFUeUJ1Y3jEa4SkOWtsybdRoAFUx4pRQmTRksbsIY0+knhdIpZTFi/549DObnQ70vfKPq4IWQhOhrevnN1srKcuGus3gCCoXmD5TjrepGYJ58MmXsJj7RTsFkPKbOPfMLoQ6dJl7Yao2I5pR9jyftO8oiRF4mWRicil424BVqAy6p+AAHKIvc505kYWsHpXjuTSWfP3/g1w2RUAXAW0efP3A2PuJVkV52etuH9fPShJn6wc+nU6qyavzDTpxfVK2qEAILV49eipFdKLxWabRuaiRq7befqBdItTZ+QnXKx3QLekZEHDtolV4JJCWBiG1RHMxPQXiZJGWwuBFjkvY8gDIJ/+nky1F79jA3v4Cp+ckJIrMWS9rrgdT8FKpU+GQqlPjn8s3uevJJelh+epO9zhfhTRNesnQ3pvb4hC1NykLYvP1GtEnZc5pXnHvZgB8+4XhsZcnHK1RFzpXnvoaLvvFerrvwZ3jyDX+MSfzSTG31NPwUhIauw++ta1yaQPj9+7juwp/mouvfhwv85HOCA281/VkHjOHPG3LHRIFRpqnKobXyZafCxpdaaUSrjqLdKhNrZacjyBOr/xXv+8wnvsCjVqT9ARu3nojCR/jVGoqztslmT9MsuOFC0IZA1uuRuwJb5IxWltEqVFmuF/mCL1XwEUe9foa1juFwiFhHmqa8201RTmGLimG17AVhMEe1Md4PbDS2Nk9F+Mq1e3hW8oVwn4K+8HkoHK8c3odzjo9tPRtXwXMX5tFJysL1Kyxv65MYw3M2zPGZ5REZFyE6tFGWfJvKCqcNqlffu/CDm2+np5/MJEl9bTCpE/nqMeus1zlpAjDq8Nhnf3OKUoovPmGA+ubLeOrgw8HXHBZLnYNORr4EwS7KNWteStUZ9n5iWandCDHZOeIYQnjuy3wCOYizGK09Px13QtDyXfPcO+fCmhJ+/y6dUFeBdw7+6Lyf4hdHV2KLHJaE9+gnNJF/XgD45+vd6nwW0g38SnZL4KcR4oRfTm/hP5eP4c1yI+8pLmBYro2ftNZh40tfC1GFpYIsTXBGg044/u5beJlYjEkxK7sAocon7Np2Lgq4/qJ/jwGue+LPYJLEc4v1a1VtBSRP6kmagDJUZQG0CdpKwdef9LMQzoPy3q+Lrn+vVwwCt7fWWl1dSXweWu3GNa3FV4fU12EcjbUXllVaflo7jtwSE0cxWcGFPcF0WPAzaQZKowmh90qRpG2Zo9rMBO9y1OIFG7JApVOM0SwsLLJ3727K4PbzioxBASsH9jMyphGEJoSJvrkQ3u0mWGt9NFDiIGylja28lmF9XodJNFfdsD+4/do6YHd94x+4VGCwcx+TZ17CS/Zu98Jl6N2gw9PPxSgwOuULk5wkTRrNo7pyH85WPOvrOdmlx4cBfVJjQ3/6wAo/tMnPiFSe1JrmCqy+PvQpPG/jBgThsys+vLaeSLp2w4b1rqtWLp8JPa0jNP3E8AulPjq0o8nU6wV0PtMaffDKdkTE+oUnGYrx0PNTWPvSSmHSReqIOgC0IqENcVe1ByiQqVbwS/d+mPKkC6lMgtGa/7y4n1/ZdwLFZOpLXNWuOhQrBw6wT+/x/OQEkxjSLONtcguVFX6++oYPXngQfjJZikJx5y03d57OmkNn14+2PeY8z6UqBHSlCSfee2tjQIgIe7adR1X44A3vgXEYoxt+kjrATNEEWsx4iloSoY4x/PqTfoYnX/8+3411bp6EsP4ZJV1C5oAXVKLbcla1ItGMW+Mdqq/fxl08GI5YiHWFZLMddVV1kg1r92ptGfjX7f6L/oW1lnw68eH2CxtQSjBpj/nFTSzlOSLBL6rcTKmlsHbrE++m00DOqvleyrpXvCvS4U1/bQxXfWN/U5+sXeKTphNvOWkrbL+NbWef42+zjtBxOeiUly7fQ7MP2krYu+gsy713bOILF/T5F8HHHgz3prm1D3hm8RJI3IVeW2mOrYMtJJR2mc2V+ML5PX7gRt9mrxB0SrYoCf3Q6eXOOmbtlqiHQYfN9CIijiV0OJduEm7tTm8q1TgvsO7c8NzOc9ee4ZT9nyafjEm19vxEy09VvtNbUIhPB7I+J/Pd+nzexs1+l+manwjh8GvgJ5OkfOW6PbTPNTP8JOE5V8Fiu/uWm2uPJUqnnHz2uW2EYuKToE+8/3Yf4NYIDMW+0x/bcI4EfqqTrWcUZN9C6tARJESji3DdE38GW1lvWeJD5m0IJnvyDX/c0GSTBiWzvCiNsAwWmnOdKh3iefohD+xoRHeneeHiNoTGq4ZEa61fVv2eGeJ0VYXT2meUO8inU192JU0pJxW+SGdnczradqk68s7S2RcrJBK2vk8Q4crrdpNmPV96pdG6avM2bBrXzBnhzltvQSmNVnDergMUP3SOX++yPnnQT7Kg5SUpp58z5FWTFWSyuzkH4rdEeZm1MIS7dW0Nddf6DtfVtcXa0cWClvOF8/sopXmuwBeWz+W5m28P64hec6mvUFu+9V5itQvEa5ohp6STHxIRsa5RT3ogPBDhGQj85FxILfFH3LXhMhr/VnOC9p+7NjyXiV4h3ZuR9fts27BEPp3yS+ZmfjU9zu88jMPZuiC35s3yTUTSZslAXK08rp2fmpqnD8BPiDT8pJVqyiLedfPNgZ/gtHMf0/BTkiS0QShw4v3bG35qihcrja0sStVLOa27r67WJK5ui3Dg7Atm2tUNJrvuCT+NMn635prCnBOefMP7vMxQNAnj9VqY1PUpCYE2qDXz0xGWnQrNUt2CIOJzqZxDQhRMM3CKdsGuthUVdH/twuZpdcyjsw6TJJS0A4lWjeurKisQ10QWSTBjr7x2V9vpdLa+NoYkyxpztXY5hDtvyrW0icCu8Zcro8n/5cupK2CoWqMI61V1X6BqF0THZScabUCSBBDOfNzjcPff1lio9fPz0c3beO7CHJ9ZGQPCS5fvae5dxCGnwkc3bUMq67fwru88JBJ+dv9Z/OCW7Xxu/1nerZv4If3+hZv9PYU6aiakAPhL+3Bc15rHERHrGk2UHav4SQI/iUXw2v2di88N7sAj4KfwtRNHkqSUTDsade2qCyk3Yb0LaAKu2gi/UIIhPONf+fqe74qflEkQn4uEqtfBFdx5882hL2Dbuec9KD/59Td9ED+1/ar89cJ9H3fXzZ6fHOw57bFA7VoNvwluSgmV9EH4+hN/hqfc+D9C7EMbVAI+wlIFF+S7z3wNb97xZ2EzzgfHkQV2qMZj6RsTGtX4+KjtjHZC1TW5GgtB/HYhEhYwfQeGhVZRQVgYny8WXJRGtwEhfgAciGn8rqiwANrU5vI5Zk1ov9LBd6ya+6irUTtxhGB9QGFrazK4IcqiTgYE6Z0Gox3t3m31YiwgTntTv7mmahYxAZSSZsBCIwB45WgnMoRX1ucyCdJ0pze3X3LgHv+zWgiJY9fWsMV32J/vBzfdzheWzw0VU8JlnOMfg3Bz1vLcLds77kTTrg9ERKx3tC6WsAQc+Kn2gIS9s6R2aR0hP915YIHTN64gON7Ct5iwBE74fXMhv6i/7YWVrtfYxG9GW3usFKjEeB5Smi9/bXfDT0mWfXf85Or8NtUsf7Q844XTXTff5L8P/XLaY85bMz/VXTvDdav46bi7bm4+r/lp7+mPa5dDwvEicO0TftoHb1S2cSHWea11ZPVlSLONy1pwZHli9cArFXbjND6UMmw9XfdlLcHrqsT1oEiraiAifgA737ng+mqEAIATHLXVU0+M2VJS3/e1z/mQ+SShuyt0rVUpfKkrvy22bcLWldYoUeG6HXdfZ53pruv/AaU1j9l1oBHUCpg8/eJmsteaX/+Kqxk+46lgrQ9IqQM0ZjyHqqN0NYWxwuXCe/EamKi6y1XbcyIoNNpoXrp8N0ppdm1WfH75HAjblVNPcmexZYkLawOf2XsGP7hlR/N6rQU2IyLWBRqSDfxkTKNUNm64+tDvgJ+s9cFsdV7Zu/T5KHG80z0WpRRvkW/N3kqjZKuQP5tw5bW7MUnwqDwE/CRIy5cd7tOBS+o4gpq+nbXs+Pa30Npw2mMe8z3jp+Pvvjncsr+nPdvOQ2p+CnBikbIuWSj44r9+rJytOi7NB8aRh9hDK2CCNuD9pZ2Kxh1Nx4UJ0eR9dU7YSmk3cw2/hBkGAdp6jOI1hmY5qV4sdQLak7YX3qo5X50IXBR5R/uqk/GkeY+a3ftHdUZenHDz8RtnBeT223jsrv1MnnlJs141feYlvkPrdlFbpavcr/4CTRv8P23icx0gowBMuN+uJoRw0p0maHNw0h0ZL5N7Gq3KOQf7eziX8FK5F0T42ObTW0tMxEcv6uhOjDiWUFs+HQU4rGFL331X/HTaxuWO93CWK37B3eADI+plgFaTb5dElC/Gvbok3kPFT6La8nMCPvq4+d7naClRmNp1o+Du225p7kUB2855DA8VP9WrT7VAPP6em2f5SVToD2Hv6Y9FodvADhHeffprecudH1jTqK99TayRtR62LEJgieDC9gUqlDxqtJfahqQ7QYRmDgX/bm05SLAe8vGoc3z3JgRV11WsFyQFLnnyv+Cab3zO3189SNAZdIe4rlRXM/+0p5fOr1Zdv54M9RkUiNbcc8cOEHCuYttZ5zS+YPAbd4Oif8VXmFz6tOaHXpuhdmw0E8UFl4iqla16lioVhHMbFN/cneo8KNA8qABGtN+mQYSXrdyLGvbZdVaFaOGlK/fOWLMREesZ0vkvBH4i8JPSWFuhXOAnOXJ+8qWVwkbAkzEAb3HfnOWQhp904KdagHnK//LXdvkqRg8TP3lL1LfXucoL6k5NxE4sOQLcfestjfKtUGw759yHhZ9OuNfHCtTrfiKC3rRtJrDtgXCEIfay6p00H4tIM/C1EKtp2ms6LkTKSfOdd3n5HUjrSB5blm2h3a7m0XRI6DrngpktfO36L/rtU2rVqTXp/O3JrONMNVsEBB902wzqUPV2Jtc2Ybf1XtP49pYFKEuM0Tx275Db0rsQ5zjlzLN8uGkwnUfPvDj0i2LuiquYPusZiDgq61BIE3xRl8U5yLzvNGZ2BHyHHDJ5OhytXcdJIsKJO1JvyZqgBkZEHBOYVbL9J8J7zngtSin+49LfhudcGoV5rfy0beMBysKvyduy9LvMd917NakHt339rNXBXyYx6CRtyvA9XPxUlQ6U9rsvJ6mvaeh8QFiXn7oys647KSLccfO3AZ+Os+3c8x4WfnJOQCteunw392x+HmvBEbsTpRkxWlsR8e7EUIzXufBe6rDLkB0fBlVc1YRk+hyqcAHxgoxuxFD3lQDO0uYceIF58UXP5dobvsh5u/Zzy4lbD7Lh1CFeqEZLCjEknWbVR3R/Jt3fh+s7ASWOylm+uWmAyqeYJGHuqmsR5xg9/SltMmFoxegZl6CdRWnFwpXXMHz6U3zEpQo7BeigB4UF6cZ3f0j/8Gr7eDVUiOwM7wRU14UYLbGIYwU1D9UPqqJV0gTefdqrSfpzKAX/eu+dD8JPdoaf8mza4bn6eXarLi8tP6EbK64mZ4U0xdEfCX4i7IdokrALdAj2kno7KHybnPXF25VWmOBhq0rLHd/+FkprTn/MeRxt/HSEeWLtxetEwvq9LQvvE6Y2H6W5CdeR/m3JpNasrCMctfbZ7qXNV10PuhutKRTKGL567ad56oU/iBK/ZnbLiVuBdvF2RuHpmMnNBJdQ+kUEbJu5frDFGSzA2p8ezqpV+5rQ7qoouHHjAG0M5135VSbPeCoqPBD+SPFbizvH5BkXkyhF/8qrGD79qVRliUjI/TA+KrMx1UWHZ1M1s7Y7d2ohv2oed2+vK0tbn3pExLGA2ckdxIA05O75yU/5k/r3U7sR7zqwYRU/SbtGH4hDARiFDjUAm4jlZpGstcAIHKhMgpYSZ72ifeW1u6m3g3mk+cniU498zURBudr6DG11bZCd0T6IzFY+SOz2b/r1P7/1jQ78pNh2znmPGD8dwZpYexVtDDrr+Vpbwfyz1uKKaeMWrMvw1xpK3SAfLWRQxtcHU0r7LPMwcM3+NgFXf/2zKOCSiy4LN9IGc0hj3ipvhio7a7oGc1bqSdH0YDvUBwn74PddrUE0Ardz/jr8pHZTdL9zzvLtrQuo227hcbuXGD3jqV7TQAVr0/9GRJg84xI0wtxXvsb40kvC89Vui9DUFqsnTrjOTA2yWlOsJ2JnRkgbCdM8CA+sIUVErC+0T3TLT9c87ieRpSEoTWUtusj9fmF20jyDx2dj7jyw6H8YXGlKm4bkldLsKuY4bdMyoFoBFo6HWauIYN3V61NKhbWwJD3q+Mk5G6K6vXBW0rr1mk2N6/UzpVFJ4C7xn9uqatq441s3dvjJ39xp5573sPDTESQ7+6garTVGZdA0ogr+1xIqDur1upHejE19UptWcFAASG2+20agXf31zzTnueq6f+SSJ12GAAbHVV/7NEopvvbNL6KaUlKtMOxatwd3iGru028D0PHz1moNatWSUVdtkIM+Pdw7cY5vbV2EW2/hcXtWyJ/1dKgsvgp2O8AKyL/v6X4TdK0YXHEVk+97mu+TYNV2CyrX2lATQkWtJMzehW9KG9lUt2m2FRER6xt1VQmtNdc/8T9gyxw1HvEvNszzj8tjbFkQIuSxrmx/h3DaxiVMknLPaCuJMQfx07aNS6EWaWuhrLp6o+QLYIIQU0rzlev3oOpq9EcpP9XVfBpurmy7LhgObFhG+X3U2ttsIxNn+Ulx583fhk5E92nnPuZ7wk9HuCYW6pBJCBdtBi8M0KqhqDUSZQxJmmHSHnURypqc600bvYUFhNImbeQQncHyPWCt9YRtTLPVSG2tzN5DcC10f6+aj6mDZg4bBHNE5srhJ08YJ7593CLqpm810VGP3bOEQjF++lM6lQMAESbPvAScb5dRPqlZgN4/fQURx/jSpwVLLdyi9lqQDtXzoQ6JXaXldG83IuKYgbcevnbBG5GqbHhq/NlPwVN/sLEABHi3voC3uG82HiNlDEmWcvZ8HqyjYE3h+clZT+jeQvHc06zjd4TJl0PVIG1CenJdsHyd8JO1Fc6pUBpKYUIF/bpqSfuDjnALaQU+PD5wuvN9V1UWqKhz3u685eamagi01iPKR0J2b+ru229Za8OOwBKzFmvLsCePa0zOB5OYbUCo4JNxoQngqCeL1KPhX8/4dpuGwjXf+Kx/qTWP27vSBHG0RXAbRefw49vxi/rgImnuUuoLNdc+7AkO1VAaO3jVMc1p6uibcO2bTtjsK0rv2M4pZ5zZWTfrXi5oOsF9mH/f00FBgqL3z1cyesbFXjusKhyqM6lCBQDdFgWmbqlqJ25ExLEAsY6vnv8G3GTYKM9IZ/2JOsyiC4Xf97D1Brlg6XjPUyDkJiSalp+aIoDw5a/tatz79XlNmiJ1cvA65ScrYIxCYTo8vdp9WvOT5x2NCtVKfIkuce2WNwpwYfnHl8HSTRH5O2+5mW3nnItCcfftt/q+WiM/rVmI5eNhYzU1un0nsONQHaqUgjraxLmwYydejRGfaEiorq6U8Y2uf6s9EdcLpYROotFwklD4stOljV/40OiK08PqJao9svvR6qbK6gOgyf1afYZgT9Zi2r8TULYK+SGKO2+7lTNCORhnOzubNg9GZxKF60yf+TSMgoUrr0HEh/L7RWoHtbXauB017bOkmJFsERHrHPl4yOJNX2PvaY9FKbjowFX+eXnKiTxDvolC8R51AW+WbzauHdV91p20/ERw3wdvUF0Wyrn26VZKectLtfVJu/yktKG78WTnguuSn6Ctb+isOwQ/cRA/KQj1WxNv1TpfsUOsBQtO+ZiGunzhXbfeQlOq6gjSf9YsxJxty/nLocIpG9VerfrYh1DWrsI6aKHuLK0TvxW49S6A2p1YF++tJ0xtdhuTICLccsKmdhK2xhrtq0OTtHT/7UxYrTW2NpllZmwO4vuDJln4QFZfU2ZuryP0u+eW5sA7b7uFx+0dorRi8rSn+B1UG22yq1PWfejfjJ9xCUopEqUYfOWrOBHGz7jEL97asIBbP2zaNBMlyrGIYwV3zP9AsL4corph7LXrS3gz3+z8Qpr/aoLnx9WBaK13SBtfY7SsqsBPEpaozAPyE9Im7x4r/OQQEpP6fSKrahU/tW1r+rDTBhWiz40J2+MEo8Ynobfeo6b+7eG76CB8ZyH2B8mqWnuoR0s1B7VWlO/s7loXgC0rSlv58jDSuhPrYpk0oZY+OEQbgw2maRvQ0/mvqu9IHdQJ3eTs7nsn4rceh+be/D8HC+s6+rZxydUnlDBhZ313nRcyO/nqnzST3aci3Lhpzluht9zMKWed3UQMrX4QVo+vOMHhGD7tqaC8H33hqmsREUaXXtImOFa+TJgO2mVExLEB/0R8ZnkESnERQvcpaZ9V1XmgFAoHocZpUz+xI0k8P9lgpXk3oxLdFK59tPFTkedN22sh1baruwK/ypZ0Pq/XXy5sVJpkSOL71FrL05+0lSu+ujPwv2n3RnsQHEFgR2uv1r7abk6CL3aru/3RBmg0mlHdS4Kzrkm2q2sPUh8rBHdimGhhoog4XCVNR9cxid3o1Bk8kN3emagiDqlT7pqgEkDNahmP3TskSVO+vXmhKQbaDKTygSndU9e5Km2HNJf0cz983GhA9QS1gmC5K+zuesZjH8fcldcwfvpT/Z5mq2b/QQqU+Ik/fPpTm8AQk6ZY57CVt84sFuzaTfaIiKMZnVgDL56k+5SoUGe0rSzfWCuB3GfW4MPakLMVYqsmbah7LRXWc44mfjJJSpKmVEX5sPBTHaqiE9PslOH5aRWaD1RzP/6cfslDa41ODUmaeovTOqBkrdsdrl0VV+2fH/dgLYWcChWi4ppik3WAAf44Xe/6bC22rMJGdf4uv/qNzzVtldYGpe5VkxhMvT9P52vf/a35X/9+dbL1TK82n0t7ie5LcXR6uqk9KAK3nLCRLOvxxGHpowA7p6nvu1GQDlK0pPPf7k9V5wTS/K8+SoA7br6JW07ayuLXrmfhq1+ftaCatnR+Uzcfb7ZXlcVWFRrYcNXXSHuZnzAmWmIRxwaaTBOl/LpXN8DJBK8OhJDyUDAhrFf5dRvT4afSJ0c7X0ldh21VatkB8OWv7uRo4ycRR5r1GMwvPKz8ZK1DlCbtD0h6vU7Nw4Otzfq+m/M5R1VVPO1JW1DA9z/9VLKGn8zqHx8SR+BODC1fpT34YI/aXG7FuVIak2VUeQ4Qykt5s1GsAxxXX/fZznm6JNyG3puwnYIN4eSNmXwo9WZGADYn7nw3o3Cw+hOtNVK1ls7q/rdVxQ0b+jxpVJL2B9jxaPXF/b/d5D3fIn+Fgyymmdl70C01dyFQ5jk3bOyTpinnffXrDC95ctsnzelk5lyNzhkevqqyDJ/+FJRzzH356o7xHxGx3tEuXbxHPYG3uBsAmI2q6xytFCbrUYXq8S4o37aybfHe5gmqidt/1qYFcdTxUz4ZM7ew8IjwU1WVpGlK2utRlWXY/dofo1afblWjxYn3DgHPuOi4xspdC46sAHDnLqT7vhbWneibJlJH+226bVk1NcmuvvYfZ38PXH3dZ9qqHOG93yzNIXVyYnBFtlvB0FxfrTpf46gVOcicb46SdhCttSTGzGyjUF+L5igoipwiL3nCMlw3l1IWRXvuZr6FyV5fo3axHiaSoityZlShTlsEH9WTV5YbNg7YZu3MsYce7tojLp1kTf9Qlxc/+ZC/iIhYj/jopm1cvv8uEMeb3TcP4ofarVe/9ZHP3goT64JnKNRPlNaCatH62r587S5vJQhHJT8leUpv0KeqikeEn/zSUn0+mT22g2c+9aTGKu0G/Dl3cDLEA2HteWJupiktcdYfdL4QoF68c1r7gr8hYe6q6/4xnHDVBZTimq9/to1SCRpO3QeHHohwA0G5aIZTtfRd/1MvUja/QWZlsF+IQ6FwIeJGrTKH6+OuX+xx0bjiiUPHdYNkxiKaLYYpzWeH3fakjXiZ+U33qqt/K8753VrxewD5SE6FOJo9euoziXN8ZMOprcth1cP5x4e+q4iI9YWGMFdbXmoVP7Wk3PCT9XlMdZJu56DmLF4Qaa68dpdfGqmj6I5CfpqOxxhjGMwv4OzyI8JPM/I6uGQlpDHU3/lC8a4ptlwL0oOiKB8ERxyd2L25RpgpwsjUg9JZGwvdLU646trP0E6KdujrBFwVLDdfiSOhTjj02opq3ZVBajdRkOH6rXWnulOoPWSVfJ/RfsJANROjibA8GNZWfCMIssHcPOPhSrs5KJ0JuurnolZPvNXaXtuv6qB3q7VC//6uW/1mc4/dswwC/+t5/79GkDXCrNl7TQ7bpoiI9QypSb8zxb0y3XGVdbi7zXkNT6uTWTJuNPTWTXnl13Y1CvbRzk+T8Zj5xcVHnJ9EhGc+5QRMkiACVVF4j5wIRVhqaservd579AW8RbopEYfHEUYnqoNu1VvE3VkTjnMurH2ppjEHN1Q15+iWIFFKtRGL9ffh+s31mms1Z+nc6owaEG5t9YiteilgQ93GRlGpf9stuRJuuCwKbtgwxxP2DZlOc65fyKgDWvw9dAfWn3R24Ltzpb2Zf774ubO3Xk/YTnubAsidYsufD7cmVdl5WA5ubKOlHom9HhFxtEPgY5u2Ubuk3qMu8J+rg/nhzfJNxFrEmlXW2Wr4wLQvX7uzzV1aR/yUTyb0BnP0BnNMRqPvip88L83e41r56YulIGXgp7qgxUwfdPip6TPh3ep8fo0Hx3ewKWZHyjb/qT9rCVKcwzrXVjWegWr/29F46pO6IPyar4L93W38TJc3AlK1p+p8dIhbb6J16gglCefRWvv1o1rradWkVRoI5FO/mNnr9Tj/wJgbNw1QSvHMi0/k9/WF7QM0U8Cz7adm2wdpze8mHif8VoRQj8w1mfJ12a+Z+pL18HcmU4v6ep1PokEWcYyiEWAQntvZyf5ufQEazS/aW9GmKxXaJ/zLX9vVeIjWMz+ZNCXr9agqS5lPm8TseueQw/HTFRc/d4af6sJLzfmPIn46sq1Y8BLyIAtitVYvPtpHOeuz50W4+rrPNGeYtZPbj7q2Wn0dddDBnVfdy3cTrDsKRm1Bzs6W5kcAXHHxc7HOobTiOd/4Z5/IF/JCpNY0FFx58WU+g7/+0wk3DPpkvQHO+ar+Sim+rTVbVF3qSYUtHVR7UypEYDrni27akrIs/F4/ZeUjOJ2lqirE2iZyyq9Lhr/64TxotGXVR4dQNaMVFnHMofvQ+/cNPR2Cn8QJ79KPxZBiKbGq4vu+GpY7jjJ+Am8UfOniHyTLetjKbyqsaqsvuAk16iB+6h2Cn5SuC0kcnp+OW0f8dISWWNfE9P/47VL8VS950mWNRqIglOXXh180BN+JSeIH2drw285UEXyiXjhxVxNobkXVHx2+9aqeFFrVag0iwj9d/IPYsvRajjFcccllvEVu5PfNhegkIU1TTJJh0pQTk9RvJ6OTEHji90Srb+ZwzWwM5HpmB8HY7DsklqoqGB3YRzHZTzGd4mxJXSC5OyHqcNg6dH5GBZsZnPZh9DUs65y94DpQqjNxIyKOFRys1XffN+40wrYq1vLMqz/TrhuvwlHBT1Xl+cn6WoxJlnnuWcVPyaOUn9YsxK6uowoP2RmtyaikaUI4sFMssjOITTCHMShjcGXlJ0FjnoeufZB21N8LhK1rWo3isJ2g/E7Q3//0bVzb20CW9kj7c34SpCkfMo/hZJ2EKKQkXEc3565b01rLQtcPXpv+ztUh7c7XPK7dCqGys60qrC2xVUmZ54yX91BOl2mrA8z4Flb1dqdLFWHgaarX18noM+6QxncdEXFsYdYVNcsd0vBoG0mnwhffd81nfKHf9tPw6pHlpy8/7TJMkjCX9Q7iJ2MSX3M28hNwRJtizmo4h+r/q6/7Ry656F+0U0HqxOXVdxb8skZj0sQnGAY1ZnYY/HVVnX9xKNNdVLNNSR2C6ieM5stP+xfUhYSNMSShLEua9UjTHndlfU5JM6+tqFmTWqzzVqXgSzWJayd7rVnUbaSeFK5ZzLShSkZZFFRVgS1LXOX/qrLAVb4igBOfP+cnhuMBn4nQzjq8VzUTQXWSA1dpXR2fdPM0R0QcY1id6N9aFp1jqEtCBUVbHP/8lOfMpKV83zWf4+Hip/o57vLTVc/8l6RZj5PTHknWJ4n89KBQ8kC+voiIiIiIiKMYsXheRERERMS6RRRiERERERHrFlGIRURERESsW0QhFhERERGxbhGFWERERETEukUUYhERERER6xZRiEVERERErFtEIRYRERERsW4RhVhERERExLpFFGIREREREesWUYhFRERERKxbRCEWEREREbFuEYVYRERERMS6RRRiERERERHrFlGIRURERESsW0QhFhERERGxbhGFWERERETEukWy1gP/6j98PxC2uRaHrUqmk6nf6tqK37jaFUzHI5Ik5aSTTyLrZSiTAsZvTK1N2Kbbb1GtwvbaCiiLgttvvRFxluNOPInjjj8FpXSzvfV4NKLXS1Ha4KqKPbvuoSqmJGnmtxYXQWvdbBWeFxVPeMYzOfV5v4dVqtmxOwUqwD7ITtjNLubtP4c+Zg2fH+p9/ScC1sFNkw+hBKbjKWKFYiXH2QOQDDBmnuloQj7axcKWrSgzYLq8hM2XSDPF3NZtFKWhGo9BwejAHqbD++gvzDG36TTy8Yg0yahsQT5eQuuU8WiFqhjx1rf+4wP0QkTE+sB65KfH/cSfcsb5j4389F3y05otMUEQEZQCrRQi/jOUQhRo5V9rk7Jh4wa0Nr4bJHSL0jOdrvxJUf4/iAJjMqytOLB3D8tL+/w1EUDo9/sUeQ4ifvIAzjmcrVD4+5Jwn07AaM3Ou+6krCqsvxSq2+AwV+s/vepPqc59PsAgd/90+DvcewUYvOZQaw+Cf/Dy0ZClXTsphlMmS8sIJfnIImUBKgc1oZgOGR24H1eu0JtbwDmYjlcopssYI6SDhCQDpQSTLlKVmsnKbqpihdKOKKYjAHqDAYJitLK01uGPiDiqsR75ae+VvxH56SHgpyNzJ9aaidKA4KxrtAxxzneC0aRpitJeu3Diu8JrIG2X1xqP+F4CFP35DRjTYzqZsm/3TvLJ2H8ngjaaJO0xnYxBCYSJIt1hE8E5P5mTxLB/50723H0PCQcP+OEGuju4h/tTHDwZDnWeVV2Hxk8SBVi8hpNPHZPlkunSiJVdOykn+ylHS4grMYM+xXTCyp7dTJf2gXVMlpcZL+1BG4vSmmJaUE0KbD5hMlymnAwxiaI3t4hzQjGZYHQPbMKGzSeSZgsc2HcfVTEhSdIjGv6IiKMakZ++J/x00+iDRzU/rdmdKOJQofkifnIYk3jLWwRxICiU0hgTzHIJk8GfIFjpyk+suvOUQpxDxGGSlKw3QMQCCmttuK4BBUmaIDYln07Q2pvxANZZFAqlVGfyCQrY9YVf46QzPoDWekZiH0p6H0qrWesxD/bbepIIfoI4B1Up3DL9MJOlFYrxGIVisrxE1htQjJfJS8h6PYw2JNkAlcxT5EOU7rO8dyciCpMtopME0CRJD2dLbFVhsj5Zf4H+YN5/ZidYl1AUU9JsgcHcHCv7d62hxRERRz/WKz/de+vtnHTG6UctP02HltFwdFTz09rdicHX7JylyKdURYFJDGnWI00zksSgtSIxujV16xf+DNRzQ7WfBHOcZpB1Yuj3BywubiBJEpxz/pig8aS9HlonlEXRTDZxDmstTqQxfwG00Szv20N1039rNIzabD+UhtId0MNpP2tF97cJXsMBcOHfO/RHuEM+glKQDfok6QBtUpTOmIxXUErQJqO/cROLxx/H5pNOQCX+odSJQes+Iooky6iqApEJSQJJoun1B2RZRtbPGGxcwKR9JsMRo6XdOJeTZfjjU3eoW4+IWHdYr/y0sm8v0+HoqOMn58CVoPXRz09rtsSKfBo0GE1ZljgnJAloo9Cmh9iEfDrGKVvb9P6H9ah0Om/muw600Wht0FlGmmUkSYpSGgnuAMFrV2mWQT0RUYjS2MoiYtFpOLfWIEI5zdl99z2c/ng/QI6DJ8Sh8ECfy4McU3+n8JND014b4E79EagErSHRwjQv/FmVIe31KStLaS3aCOV0wtxCn+koD75wxXhpD9lggNIpZb5CPrVoFGlvADj68xsRhGI6olcM0EZhTMp0tAJicbnXDsfD/Q/QgoiI9YP1yk/utj9m990Xcvb5jztq+EmCn1Ub4d70I1TDo5uf1izEVpaHZFlKmqV+DoRIG60USmtEK0yVYq0NPukaUv8fhSAh5KfVLgQXvk1MgjHG+2YTb/Jr7fWRqirI8wnzCxuazyu8tmS0QQ/mKIoJzjn/G/HXUgp23XU326xDjH7AAZbDfN6dGN3fdjWn7nf15Ki1G0s7QRSwrXgpt5UfBhGq0iLO0ZtbQJuE6XiJJE0oxmN0mpMmMNoPthJ6/QxX9VlZ2UuZD8n68+STMSJCrzdHWZQ4O6Usppgk8/3uBOcqevPzOAQlFVU5JZ8sUZbFg4x6RMT6wHrmp31XvoMzH/vBo4afxEJVOBDWBT+tWYhNpxO/CKoMCiHLUpI0hc6ga6MxiQkD6yHitSHlpwg4SxsJ5L3Y3hoPZrsCrepQ1NCxYSJOpzlpMiXppTjn/dII6ETTm1+EscLlw3BdadwFS3v3snzgABu2bnnANj6QBnS4ybP6N3V0T63dVNBEHwH810T4WeunVzG15KMcXIUTR1WOqIopgiNJDVWRM17eC0CS9tBpj7IYUVUTQNAmYTA3z3Q8xIkl0YZqWkGZoxgxv2EDUi5TFX4yODtGbAnisFU+08cREesZkZ8OffyR8lPdRkS4rfzwuuCnNQuxyWiZsphSlgN6vT5Jon24p9Y450B89I/XfOpFTB9mWpU5SZqh8JqGCr7hOuzUj7X4gZdgtivdeqTDgGdZH+uEfDhiZWXIwly/8VmnWY+kyMmn7XDUE68qC/Zf+Q42/ch/wT5AG9Wqfx8Mq483+DwPhZ8gZfi31obu0B/lTcVLsE44i5eyY/BRpiuWlX27QGyTYyIilGVOma/gnMUYjTYpJkmwlUOcoDQ4W2GrCeJy8vGEqkxIVEpRTEAsowMFY7XXrxc4R1GUKBTW+WskxqxuUkTEusR656fdd93Dpq1bHlF+cgIquBKTRNFLknXBT2sWYlopqiKnKnPKvIfG+XDVLMNoL9/LqmojcPDhpLZyFNMp/X5G2vN+0q7PuR7S6WREWUx8h2qN0hrERwYRzmmSBJMYTGpQKEbjCYNBH6U0SZqijW46RDWTVWO0Ys+993G6tWhjDml6PxgOpQV1F1Xr147WPHerjj8lv5zSeTP9Dv0RinHBdDQkywYURY6tJiRpQtqfZzoe4cocqVZwKsG5knwyDG0ScI4qH1NOLc6WKKVwJaRzA87YdhJlUTIcj7GVZTwZU1WOxChQQp6XaK3oZWse/oiIoxrrnZ8OXP072As/9Ijyk60Ecb7RzkFR5OuCn44gOtH7crXSlHnOvj272b3zfoYryxTFFOsqellGlvV9/oV1WOuwtvIhqc4iVQHiZjs9RPVUZcXKgX2ILby5Xnt060VT57BVxcrKMqOVFVCKySRnPJn6v+EyVT4BfG5HUbbmPApWlg6wvGfvYSN+DoXuJKj/al9ynRCYhn8VfnKUMJO8WF/DCaQGskyTpBpXCct7h/Tn5snm5vEJkRmoBG3A2hFaC2lvA0iGUil5UVHkU6wtAcG6qjl3WZWMJ2MWNyxw3NZF0jRhYXGONDFsWFzglJNOIE1SJpOpj6gSYcPi4lqHPyLiqEbkp4ean9y64ac1CzGjvVT0+Rferzwejdh5333suv9+lpcOMJ2O0QaqsqQscpLEn945IU0MqQmZCCIz2oYTIU0zTJIxGg1DJ4T5U/8bJtP83AJzcwukScLi/IAkSZgbzDE/v0ia9QGhN5inN78Fa12jVDlbsvfK3z6s77j7evWkWJ1MWE8QjZ8QBYRF3NbvXE/Gup1agdL+StYKZaWYX1wkG/SwtkQbTTroIcoyPLAP5RLS+S1sOG4bCxu3ohT0ej3m5zcxmNsIKGxZorX30Y9GU7RJ2LhhjqqqcK5i//4DKONd/HPzaQiIElDQyzL2HVhe6/BHRBzVOBb4aedd9xw1/FTZ9cNPR5Ds7KNsBG9y+nBSAyKMhkMm4zG9fp+FxUXm5uYBhWMa/L7hL9QIA2k60J/PYZKELOuhcD5stf62Tt4QCRFBMJ0sk226DFdUmCxBin8mz8dUVYkC0jSl31tkKV+acWxLZevbOAhdrUR3Pqv/7WoujllzvP6N6vy2q+2svg4CvUxRoFnePfKTrSyopgWDhU0sbjyRyWiIrXLKfIR1JYIjTVJM0qMqJzhbkaYmnF9I04T5wYA9ew+wecsmRuMpzgqTSU6WpezevZ/heEyaZVRlRZ7n5EW5xtGPiDi6cdTxkwFnFSY1iFRr4idzx/+Ep773qOCnLPU5deuBn9ZsiZW2pCgL78/Vyudk4CNz0sSglSKfTNi7Zw979uymLAsqaynynAMH9nPfrr2MJkXjcxUXJptzfuEVvziaJAlpGsqNiID4bHkX3AVVVTLhqbhxgRWffKg3Pg9B+5IugDEGk6YoBTaUnhGE0WjEeDx5QM3mUCVaam2ljuapaPM5upPLrDq++30ziZQXYI9JXoYrK7I0Icn6zG04jvnFrRx3yikMNsxjEu9bNonx5rUDk/WxrgSb00t9mG6RF5RlidaajRvnKfOCHTvuZDwe41xFUZSAoqwcxqSIE4rCu0T6aSw7FXFs4Kjip+F+3KTAokJumV53/NTv63XDT2t3J5oUpXyplbIsqcIiaZ0nUZdz0cBkNGL3rp3s27Ob0WiEtY7KOvKypCwLbFVibeX90c7rC9Z53UAb4xdNCVpQMNMJGlNV5jhbIUpRlkWjgQ3mF0myDK0UWhu/uAiUZeUnNrB7133c/fn/SJmXB02E1Yuh9WDX0TuHGvjV6GpA3eP1qt/UuZbnz7+GLSdu5Ly519JfnCPt96iqKeV0hKtyismQyegA1ub05xaYDJcop8uU1RRRfoHYOotWkCWGaZ7TzzLuv283JjEszC8wP+ijlVAUOeIsiVIMej0SY8hiYEfEMYKji58sApRF3rg31yM/LW7os+XEjfQXB0c1P62ZxZI0RSQJmon1IZFBwnoftAoWeVjytI7RygpKa1/DTBvG4xEiQpqm6LquWdBWnHVICNf0HaqaHhWCZiSdStX9BDWtw4d8ZJBPCRFEHOIqEIIWBCjFytIBbv3mDSws/i4nXfprmKSV4d1B/06ig2DWfD+cb7s+t4QY3hOn/5pbzQcxylAtTdh7zy6/EDodMx2v+IfRGIrpCCknqNRXDbDWUlUVRVky6PdIkhSjDVYEpQyLi/OkSUKeG1+xWzRFWWCMpsgLirJiNJ4cQesiIo5eHFX8BOhBipq0THIk/NR//H1sO33bI89PGooiVCJJj15+WrMQU9oPHsag68liLc5WjblY/ymlUEb5ARbBliUTaymKnMlkzGAwx/z8Ar3+oNFinKtA+cmiOqqGdzlL80brFNn/WZh7DmmW4KoKW2fBBxRlgVj/G6U0PmTUoQT279nFLTdez2DwLrY89RebxczuwD7YxJDv8DuAu8xHES3kpSOfFkwmeXgofEjq8MBetDFUZYG4iqoqsNMShdDvJT6EFUCEJEmw1uFEYbTCVo7l5SWUVownU4w2OFvR72ds3rTIfffvxjlL5RwOoaweKCslImL94KjiJ1Fgq8BPFmuPjJ+2/8MvsPjUSx4RfgK4O/mI56fJ+uCntfuTwmqjUsonxGmNNgZbacRW4ARnbTAfQ40x7cu+OOcTBW3pmFQVxXRKkefMLy7S7w9IjPG7F6DwORe1gdv+U/e+Noa0N89k/z8AMHWOxG7FbTwbZ335f60NlfMSv3YpWGtZWFhAhkPuu/MOBnPzXHDekI0bFkHNLnLWr1d/Vt9OV2M5qJsO814EytIykYJEw/K+FUZLSyRZRpr1mY6WKSYriKt8sp9zlLlfIEWgrAqcVWRZitGa/iBj08ZFlpaGTIucoqpwItjwMOTTwhc9VYqqcgwnYyprmU5zrPjEQudiAeCIYwRHGz8t7wcCPw3AiV0X/HSbfHjd8dORLYqo7sCFqs5GI85gjPhCl8pPlsqWKKuayWK0afzHtioZLi8xnUwYzM3TH/SZn59nbm6Oopg25UakW6izvrA4TJaRhwY6UqrKsn/3feTTMQgYbeif8AKkKkLGPuy948PMz80x6Pe55777uGf7DjZ+9lfRp21j8KRfwKTJzMDLqn8P6oo1fFZPKOeEybRiu/oIo6UhxXhIPplS5RNskTCudjMdLlGMh/5hcsHlUJV+khi/wGmto6r8euAkbDdRWb84mqSGaV7gnLDtlJMas1yAA0sr5HlOWVaAorIWG62wiGMN64mfBnNIr+ddlU7Yu3fXQfw0f9NtnH76Nha3bvqe89PN1YeorKxLfjoiIdaas6p504ak+vph2mgkSf2iXlVibYm1Cm0MScjfcOIQgarMWVkqGA0NttrM/MIig8FcsM59xE4zLxVhwK3fJiCshem0j3PCgb27wwQBpRULi4sY8TuPStZnzw5HkhgWFjaidULW6zOQnPG+e+nlU5J04aCQ00O9PtyiaY3Vk0oBlRWW949YYZliMmWyfIAiH+K3Tq+oJmNwXlNzzoaJoEFrlPiCpkYZHJZ6z6SysBT5kMo6pnlBT6XYyj84aWYYj6aUZUlZFIwnUx/t0+9RlhWTac78oIdJYmBHxLGDdcVPGwI/FSXS67Nnz/0H8dPi3X9McWCAu/S3v+f8tLR/hKuqdclPa18T63RT0xH/H3v/HW/Zddb34+9V9t6n3jJ3ijSakWR1W7It2zjGBgLYYEIIIUCCE4eQSgiBhM437ZsQ+ELopHxfyfcXCMEJJRBDIAFSKQaDu2VZfaSRpvdbTt1tld8fa+99zp1i35FH0sxwPnqN7r2n7LP2Ws/5rOd51lMqV7CrZ9dZvLMIrdFaE2QpvM85S2EtUkq01qiqBAuAt5aN9QuMR6OQx9HtgpQoJYBQwqU+/BRC4KzBuXAtkw9xqo01JUpKRPV6IQTTwuKsIqkOXa21WGvoL/XodROWOx5JivSG6BKt6sq4WBD8RY9dbNIrJWm3WoxOnMeYKbYsyadjvAuaCc5X/YZCNI+HUKcMgXMm5Gm4kGuxtNTDlCV5USJEhHKO0WRKWRoirSmN5cy5DUxpEN4SRzGry8sYY5hMpyRJTLeVoKNZhNQCC9zouCH5Kbc4J0mqChWvFD+din+JTivh9JHTNyQ/7byfWDZFKoXSMULN5XtXB5vOe5QXWO+RGIT3ofyJ1tgqzBQhMKakKHKkVOgo+E+9AO9dKBeT50wmE5aWlml3OsRJC6Wqwim+kkYx65KqZNCGoqpYpPeOsgqRnaYGvERKS1Uwms2tYWjIFkk8MUmsmA42yJ/+V7SSBHn3N9Hqdi9Z+Hlc7HMWbBcMR/jiSILcWed51ryHIpuQTjZCpJKEIi+b+5BK4W2IVpIq9N4pSouQJaaYIqQMrSaiiEhrorhFp9NiPE6ZTFOKImdaZiRJwmQyxXtHp53Q7SYorfC5Y/fuYMb7MuXs5lbVx2yBBW583LD8hPq0/FQ88WPkKkbf/beIk8615ycPWZbfsPy0400sjmPSdIozJQiFrIpdiuqgM+RRMIvCcb6pBi0BXxfIjELETi0sQki0CgKDDBZTkWdcOJ+h44ROt0e/Fw5YpZR4b/F4EJIoihptSc1VPB4PBySjLfrtPl4IpAjCJaRkud8JB4wWzm1N2bvSQjz2zxgbx5m8JDn997n7nf8CJ0Sz8PPCcDlcYuZ7KK2n8B4pBU9NfwZjbHVAGgqVhmgngXMO53wjLFGU4PAYUxLHLXKTgxDESVJ9SNVMUwgm0wnOO5IkQnjHJE2rSKrgOo21YmswQVYlcPbdugZecezIEbKsaNZsgQVudNxw/JS06Hd6eCRSfhp+Ss+QG0d69DtQD3w79z/4+mvCT4flLyCFYDzMbmh+2vEm1un0MKUlaSWk6RRb5NgymJVSSFCq0nJCnoTzDuFDCKlzLnQyFSClRkQKpUPPHWtCUqHJUpRSaKWbnA6b5wyLgixN6fb6dNqhrXWt8QgZVc0TfHOIGOkEIQRbL/w8oyiamfnAeDIFoNVqIZWgNLA+LFjtajrKM05zOquS0cf/Kd03/hPkZcz3+UdqbefijHERlDGeMz9HmXvGwwnjjfPk6TC0KvKhf5GUGodFaU2ZZzhbEEuJkBHWGmq5CBpUKHdTGkusw5wnUczZrXUm05RuO6Y0EXGsscYiZCg0urKySqvTZm2lQxxrNgdTxtOUvCgWZ2IL3DS44fjpwllG0cZV89Pq2Z9hc8+3sbz39s+Yn/LCUpobn592zGJKa2TVejtN03Co6QXeWqyoDvSEwAmB9AKED2VSal/u3Mlj3VlVSYnUmsj7ICymJC9ylFTV54UcijJPGZQF6bRFkrSwpqyazgVXncMFr7QPfW4klgO37uX0+iZZYStXsmRl960MBwOcz4iiCKVUyIcwPpjtpSXLMvKzZ2gZg6jKnswfmm4ThsvMk/OQG8tkkjLOB1jrsUWGyaeYfIIpC6h7xQqJUBohwpcG7yjyFB17tI6ZTobhfqoacMaUxJFGyogkjsmLkkhr2kkr9E5SsqpX5kOR4dISxZqV5T69TkxZlbiJk4TSONqdRdmpBW4O/FHip8mZs/R27V/wU4WdB3YICSJU7woZ51VLuHkHbGW32urgUkqFkAJJyMegLnbZzLqoDjlBRBKlNUWeQdXWwAoRBElKvHPk6YQ8mwZ/tVL0eh2GwyFZnhPp4IsVlQlsvMX7cGCrlcbjWVpbZddtBzl79AXGkyndbgcpBM8fPcPelQ4GDSpmbbV3SV+fiwXjSqa7tY7h1oTHB/8vRTrBVv3DnC2xVUQUVFWypaqqARQ4WyAEwZVR5CjlyKZTjC2J4xiBwOHIshytNcZOGQ5H5EWJkqGmm5aa6TRDCkESR7TbbSKt8d6SFzl57oiTiH1793D67HkWPTEXuFnwR4qf1lYX/DSHHddODJnYs26orip6OSuUWZVdqRIHXVVrDOdwPiQZlqbEmhC54+f69tQmNUIihSJSEXGcIIXEWIsxITKmeb2tfNZ5QbfToxUnIbqoNFjnMR6OnbpAYWww/asVHQ+GRHHC7fc9QGtlD5M0D6VRCsvRE+cROqYoLWfOnSPLMpwPjfMuFoqLf68Lc3oPWV7ydPbTYC1FNmEy3MR7iysLbFlU9x7msMwzyiylLNJQs82aqgRLqNGGkE2fovp55x1ZnjEeTxhPUoqyxONpdxJ0FJFnBUUZ5kJHiiiJKYqS0hh0HNNqtej12nRaCaY0O13+BRa4rvFHiZ8uPPJDnxE/TSeTm4qfXkSy8yzyRsxP2ZzGU+dkaK2JVPAKl8biTInDNJ1RZZW9LqpSMHUwqPce6QRahoxupJyrOVblZrigOXX7K7RaXYoiJU2n5HlW3ZkOCyjCez/6+s9j/+As08kIrSW79+9nQwlG50/T7fbIVcQknZIWOdNsxPh3/h6v+oIfJNGaOIm3K2gXTYsnmOlZYXhy+tPk0wk2n4ROs0VKNvEU0ynOllWFgFDfzVTlcBBgrcVLGUx4ISmKygcdRzjrcdZhSosUClPVFXOV6V0Yy3iSYr2rZt9jrWMyTZFqSLvdoswdSUeQJFCWOaLq87PAAjcNbmB+Cv94yflpNJrwbP7TNxU/XUU/se2u40tCXi6K6RRV2RelRFWEU1IaEyJdAGcNxgBChE6pleAELcAjhQuHi4DUGqFUlWlvsKUJ0S1xEpIUdUSr3abb6zOdjhmPRqGdtrVopVAqtAtw1vBo7x1srZ+jp5Z4tT2O9x4daZCa0XCT7vIymXEcO3aUzoe/lz2ru+g+/N2X3OLFf1vveXz67xlubJAON8imw1DR2lmy6QhcOFT20BQora/h6nYPQjRt1cuyDIVLBVgfDkLxosoncUipaMUxznvOr7yRW8afrPzxBq0FZVGSpil5UXLb/ltotVqAYDAcMZ2MURKSVmuny7/AAtc1bnh+8h5nDetnTrO5fo7+0hL9lZVPy0+rD30H3T17LrnFi/+23jMYpTwx+DcvOz9Z7zCWl4yfrsIS883/myRAf7mpqzSdShvyHoy1zeNShv4+4YHQwtt5i/AWbHi9AEpnK191lfMhJEIJtJDgqxpdSs8ObL3He0mn3UfrhPF4yHQ6JstzlFIYY5mOR/Q++OM83fo8ev0lbi8G6ErTkj74xtPJJLRgAI4fPUqZZSw9ZEJy5BVmJWhyjn3Tr+Zc8RNYU4SEx6pWm6q0wpCfEb5tdYsGRCiM6T0opVFSoqWkcHlV/FM0mmASx5TG0O126S310EqRpgVjnZAUIcPdmhgEYV6NQWsYDYckscJb2bRMl0qQ5YummAvcLLix+UlIwXQ8YjKdcvbEMcb9PhKxA376fnZ98Y/uiJ+KvKQsspedn0ajYahi/xLx0843sUoW6vpiTUfT+YPT+ndBY847wsFh/XJZnZ9qpej1u1jrKEtDHIWuqEVhw0QisHict3hTokSV4yHq8jG6Pn6shFLhJZRFAUKxtLxGq91jOhmSTsc472glIXIplE8JIbYIyLMUHbVp93pkWUo+nhC3Wgw2t4iVJp1OWV5aumJyoXWevDQ8V/x7sukY58pwzOkc3jq8DELsvKu+ZK4RxFDbMfjnw0+HEAqtVchlkQLVbiE8KBlqwUWxJk1Tojii1++hSk0Ua5TS2DhmOJpgjCOONXt278Zbw+bWCJiQZhlpOiXLckbjbMfLv8AC1zVucH4SiBk/VQV2rzU/5en0FeGnaTp5Sflp5+7EqhtNHcCzs/eARIAUeBsav4WDxlCEM02rpnG6zmYHKqHSkQ6JcZ6mQZ0QwQVQX92YEmNLoirSqA5Ltc4ihETpiFarjdi9hw8WJRsbF6oskUqAnUNJGA+2kGpCb3kVDwy2BnT6jraQTEZjJo//OKtv+56mH88l9y8Ez/ufR0VhoaaDMb46PLbW4kxI7hMEDSc07wsHz7XWU9nteB+ETsjgAhBeoKVA+KrjqVYMR6EmWa/XBS9x2uGdY5JP8dawurrCWGuszYljgRIJOo7ptDscOXqcdJphjKNYVOxY4CbBjc5PLzz/7DZ+gp3z02Brk9WlpU/JT6Wx6FeKn9xLy09X4U4MDue66Zu/6KntLwu1xHrtmJVOzKkLA4KC5FFCYKxHqvoQVlYObd9UhRYy+KmF90SVdmMq68mUOQCZd5iywJUlSadHHIfGa1QdXL1nZua2Y2677XY6G8c4d/Y0cncYizVlqH/mwJoi9MaxJuRGSIF3nrIoyfP84pnYBmsdeZYzHm4yHa5XB8ThixAipBzKB49zHVYbrhPmIBQSFRhjqzFbIqFCDx7nsHleaUrgrQoFRp0nzwvarRZ7ho+QG0Oel3R7bXbt6tOKFOsbG6RpShzFJO0WQnjSScp4muGBL0lu3fnyL7DAdY0bn5+kkoGfBHA1/JTtgJ/SgvFg6xXhJ6UUeZ5fNT/dd9/dO1r5q3An+pnJfpmn61igmQkNk6ygLItwIFqFoWoZE8VRc3jovQt1vDwoIbHC4muNAKoQVEEsFHHcYjLNQ48brcmylM3NC/itDeIood1u0+50SVodpI6b1bTW0ul1aa3+XdJzT0MyAFXlk3hBd3mFvCgZDgd472i3EuIorg54Q9Xm+p5m9xvgqEJYhcAVOXk6QYiLvkgCSmPCeyothyqHxXuPFrJp7BklMWmWEYkIhA9ldKTAufDeoixI0yxETgkYDkN31STRrK4u0+m0SKII2e0wnU4RhALEeZ4zGU9AhDn/PLvC3ltXdrz8CyxwXeMG56dur0e/12Fz4wIk0bXnJwlH3HtuGH46cGA/e/es7GjpryI60Tf+5h2hOjQtStfMqJICVbX6ttZRFhllaUiSGIGvNBwVSvZ7X5Um8URK4fHEWpNrQ7vVodVqEUUx49GANE3JplPGkyFxEpPELVrdHu2lPkpqpI0pioILZ86SdNvc8ta7Kc6u47ccTkriSBNLTVkWFGVOmucIpWi3o5AvMpcDsu0WCdOR5iVZEXoQ4V0V7STwzlE4kFIFUxsfQnbxoRmctSFDvdMOOo9SSJ1gjSeONOk0RO8oJRBS0Wl3aEsF1WF0q92ilSScSF7DweJJklaMkoqiNJTGIKWkKHKc8xgTWhxM05IoabEsWoy3Nna6/AsscF3jRucnUxRcODMm7nbY99CrKM+s44ud8ZM+8e/gNT923fLTdJqSJK2r4qelbovRDvnpqvLE6sPSZhe/aNb8nA4kqoNA6V3T9iBSkkhJ8tJWmeLhIFEpGZIO7VzCoPd4BJGOaLUSvA+1uVyVaKd1FP62JcaUOO8RWuOEIMsyxsMRev0CrVabVrvDYHMTL/eB9xTnzkMaKkkLL3CxQ6mYVruDdSZELRHMcCUdk8kEY0q00uHA03v+hXJ8cymI4oR2EvFg+69yiu8OB7JKUpYmtC1wNhQPhZCQKcJ167JnURyhVUga1PqrUXGLPPu54DNXGuey4Guv3Bm15lfnsQgRiosqKUKNNzw2t/xi+RVMypR36V/BWktRlKTTnKIs+UKxxp69S5w7f+Fqln+BBa5r3Mj85J2n3+8hvCc/W/ET+kXzE95jPQ0/LfU64a4/A37yPrhXZZUvtnN+kpfwU1nkFGVOpPUl/HTnnQfZs2vn/HR1Ifbe7UzTmROesMtakkjRiRVeKnJjw+FhlZNhnUc4Fxa6CkmVUhLpcBBa79q+up6UYZIUNJOKh0iGPkEyhqn3SCHJphOmkzGT8YA272G5F2HKdyPimCROMCYc3koBURwjsyg0xxMyZKAryWg04cLHf4jWfd+EK8b8OCEi6Z8Ixfftuo0IT4whwqM6XZAwmU6QUuGFo9VbQkWG8Wgd6x3WOXrdDmShbXdYd4ktDS3taCUJSvrZWVxVTNM5R5pmpGkGAkwZEaugOXlrSLOSHM//6P81vMuCK6BqAV4UIXN+ZWWJXapPUWSMx+nOl3+BBa5r3Nj8FMcJ7XZCr9WmUzqIg7vwxfCTNQ5vDFYodu+99drxkzckL4qf2MZPnV6vqZ5yWX5a7VPkGZMd8tOON7GQ5+Dw8/qMnwmEZ+aTnpcU14S6Sgrj8NI0r7O2ClW1Dl8dMtZ5F3W+gpTVoSlUhTXd7HmoWosLnPNYZ4mlJIk1xkZonWCtIctCQc12EvoD3XP8F4PJKwVWCMoix9mgQdWLaE1JbjJMWTAajfjr6dtwH/swq72I/bfsod/rURQF3zs4TTqdkk+mfOVywsruWzBFybGjR8mNIU4SvPkykliTq58mzTK8lKGHUZU8aa3D4Ug0wb+etMAVGGPo9rp47+n1OmwNQ9SPqO7Z2vBlu2X8SbwImqBWoFSEJccLyS8UX8VX+V+kLC1KKnrdDr99y5uYjodMexlfvVMBWGCB6xg3Pj/php8QtUvO7ZifnnzqED8y+jD/tJWw/5Y99HpdiqJksH6GNE15Lv1pdl+Bn4o0RylNpPSn5Cep4sBPcXJV/BRHEd7bGT/pCOsDP+WFAe+38dNgMGE6HjFNr3F0YjDVPVfUc/z8a6vwVSEQSmGdIy0KcL4pr1+WYfBIgXUWW5bVezxCSYx1FAWAxRjXHDha75o8Dw/bS8z4UPJFShFcbDoKfteyJEkSVpaXq8NSh7WW4XCMKQ3eeqzyoDR5kWPntC7nPNNpxmBjk88dF3x4SbFv726cB60lZ06dZGNrSEtL/tvK1/Ajw98ln5SsrHs+shx656h2hJKKOIqYpCmR0hR5iVaCfreDs5bxNEVHFuc8m2tvJDnx2xgXxvlz2Z+hK1p8WflzUJnnW2tvJtKaUXXAq7XAIdDC89bWIQZ2RKlCN9lT9vXkqsA6h9i9G5eV/I9zd/L21cM7Xf4FFriu8Uedn8rS8q7nv5cLa8v8wpf/IP+3D5zwkXM/zvInzrAaSfasLPGz9303+WTKW3o/TL41DPmySYKUirj41PykUKH2pPdMptOGn9KsCMEhpWn4qbZM07xE4Bt+Es6TF4Y0LymNw7nQCdvYMIdCabKsJCtmbs5Ph6uKTgxyUmsu9Y9ZCGaTYFhBSAl4nHFYG3I4hHPhwND50MqguZgIkUB4FKGqtPeeLAv+ZCll0IhEeC60S/BYHwRXSIGqDmsnaQEiNMXDS7SOkFIxmYbseKlU6KVjg4AZ58BbyjzHlCWx1kRRzK233cqpB/ZwLs34E6ZHpiYYG8JMvXMMBmPSvKC31GfXyhLf/Ml/xTe7r+LsmXOk0/2888CvYZ1j/6skzjiUVkgpKa0lz3Imt76NpV6H0WjCyKVI9TR3TQ+zpd/ASNyL6zsQnsFgQGEKfq3zLv6M/6Xg77YOISxJW+ONpSgsvaUuRZYxSTO0UlhpQFQdlIRAx3HIUzGWz116lquo/7zAAtc3bnh+0i+Kn/7fV38Tf/up/480TfkXd38D37P+ixU/eYaDMbcc2kIv9xm87haKx87y7LPPc/bsWXZPTnProS2eO9hiz4Hb8Jfhp6QVs9SLmUxTplmONI4oTsiyjNF4iLOOwWhMOk0pyiJseNUaBCsMkrbCG0dRGHpLvYqf8nB+J8Okh/NLgY6Tip8cxllitTN+uip3IvhLBKEWlCb/ws/S9ZxzOBOyz+sjV1f5Qj1sM/e3IwhkaVz1eVV4bPO7mBtL5aMWskp0FDgn0FGoSSY8aBVuM8umSBXhZcxwlPN7J/bzJ+46Q5bnPHH33+b+Q/8CLTV5MUZFmuV+l01j2RqNyGWOlJp32Jh3P/lv+Pk3fztKSdZ2rbCyaxm84Fvaf4azf/AU03SKkor/sPaV/MX2f+V09Dztc7/P+d5r2WqNiaKIsmUoR1Mm04w8LylKg0hzTu15CJ8X5Lkh0pIsD2Z7pDX9Xgc1UXhpKSsfcp1dv7zcp9frcm6SMslSOu2oSlq0TLNQI63bajP9zcO4z9mHNRYnLzv5Cyxww+HG5yd/CT+VuWG53yLLc6wPn3UxP/2j4pOcXr2ffCkU3/3+fV/LGycpp/b+N4bJmDt2rbCyawW2BB+Kvoq3P/KfK366jXF6nlcdV+yejkinU0xZoAYjTtyzgvUwGE2ZTHPyoqAoDELktJIW3kGel0RakeX5Nn4aT3K8tKR5QdjPHNaWLC8v0et1Kn6a0mnHTVJ14CdHt9XhYH4/WZrxhPkodxy/1hU7KuGoCpNcusCXseOttUE7oVaQ6oRBEH7mjw4HoIKQIO6rrPDqkFaArvrweGdAVoUpq5YKVNnwzguMNWgdE8UxQoQB1j2FTFnyvpP7+IID63gRyst0Ox2iuMsH934dk/ULPHnnN/DGkz+NEh5vCtLJiGyYs5X/WVxUhlDU0vJ3/Bdx38YmWZozSVMmkwkqShAqRj2wByYjcuv40rWjjHqfg90YcC56NeU4Y5oVtLyoBCNv8lds5UsOrbsroc6L8JXQMuSGxBHvnfw5vsy8h6IM+RmCEM7a63WAkO9RHL2dVr+D3/00UmnStMA4g/udU/SiGOEcUgo6rWSny7/AAtc1bgZ+KvKcpKVn/NRuE8UttoZDJuMx/X6Pbqcz46e1B5DDIel4hIsivPYUZcmRIydYkvuJD72fc7sfYipaOPVZCLVFErUo8hLjHPGdn03U67Hx/AcpTUlZlkyzgv3PDfjDV382vbN/gBBz/CSC+1JrBQKyPA+uUiVptxPiKML5LHBQGbxAAnEJP22ub2H7HZJWjFSaW9J7MdawrPqUJsN5x93iQTqtJ3a09ldVO9HDnNayg7f4WjhC6Kb3oWR/4792Ifegnqj6PTTvqzQmbxFInHcoQj+bUMqkPqwVWBNCS/PpFGfHdJeWwNcHviECaTwYUe73KOkp0jGbp47wX85qum8dYUtDWYSM+E63S1HEWKEoe13SoSGqysk45/isDcuZrMQZx/lzW6RLXbbOHSXPM0QUkcQJuizBhpYGZRn65TgbcjSscxRFEXoBVe0J6midUB1aNmPWWqC0DH5560L2e1FSKoPSukrI9Hgczobq291WQqI0ZXXYbV1ok5CtD0EI2tM99Fc69HvtHS//Agtc17jR+clatgYjdsWdhp9GWxsMtKa4/Y3YJUPZ7WJ7PTqRoihKrJC4Xod0/RyRknybeRTnHP/83Kv5vgMP4m67i3ed+C2yfpfNc+8lz3NEHJEkMbowM3669fWBn174UOMWfe2H/w8fed3nVjcqWN38CN57yrJAqWTGT1HFT/Yifqqq3M/4yW7jpwfk6/BO4lGcc+szfgJUvx346ZY/vqN1vLp+YtXiCS+aI9T5IpcNxEyzqXMrpNS0u12UikinY7wtQyNW6tpkCS7PgsBUiR4CUFI1B6U60tTmeS10dY5EFEV0WhFpmpFXWeS1C0GIEGWTpjnTyZhOT2HyjEkuWX7rV5ClGQjBaDjmvz3d5eCdr+L1yRPIvCBREusdytnqINXisRw/dpLJeMR36mP8wKm7KEfD0EsosSytrLAy+HWEuIuslHgRsvOVdrSlIMuLcKBa+dV9VaNM1u49IZBCoaQFIfn8p0r+4LUDSlegVBzyOZTEWMOFjXV+a/1O3pk/y/+58Co+b7yPSI0YjsfIVoZ1obV69L+OscsrtHGY9z5D8vVvpjCOBRa4aXAj85NzIdl3Gz9NcKVE1Pw0ClXvD95xJ0UxQuYFcSep+MlV/OT4FvdJ9h89wWQ0Jo37bJ26QDkeBX4qLcsrK0RdzcZovJ2f7norbWfJnv0DfuT2r0MMwvW+YPkwG6ufhZSCNf9c4x4NkZShRc3WeEDpC5Ss+ElKjLNc2FgPRxqHQtHf4WDMffL1nBlv0F/uBX4qDV0n2OUl2nrMVk5rdYlyh/x0lWdilQSIneo6hNNSZtnuSkviVhvp41Ag0xikUHT6XYY+9NSpDW0Ih69RHIedv4oQqv9JKYjjuOoo6mm1EqwxpFnVxK7RmjzWW6wz/O7JfXzpfSm/d/ZWjN8KUT4iFAJ1ztF945ew8ewHMHsN0zwjLUK+Va2NhQQ/uOt//Brve/3nwG7JN6WP8EPlHSgpKUvLt00+QdJ/Dc5IMMEPDi1iYXh6n2L9wjri/XdRvvkoVsjmi4b3SK2I45gkiYhjBRhsFPNlR2OUcvzB6xS/2f5LvCV+Cu/BWXhb+1lGQ8dwMCG3CaUowQvio3di1p6i7QWRqQt6SqyxZOsD+gf37nwdF1jgOsYNz08unG3neU676yldicHDgTch8EgkzlqK3LGxvo6WkmmeYXVUJVrX/BRqF545P6IsC9b2LpPlJaYwFT8ZXFqStNuIpbVmziQQC0M3KljnbXxP/jw/UN6LFZLfH9/HF6w8z5s+8T52ra3R70YMBmWlCBR4L0jaCWrLolROnlnef/9bG2s1z0u8d/zvjYPkecF38SR4KKwlSWLaCLrG4bxp+CndGNB3x3a0hFcZnVhnYTQ58ds1HJj5oQUINDqOqDupOmswziKFCH5hpbEurcKCBFprCmsqP6sK2eVVB1ZrbWPa1pFI3gch8lUAgzEO2WTKV8Uta4u+klclQ57HW/ee4n+N+tW9OepqYqY0ZMMBZs3wXw6tsbtzBBfZ4KaoK2tECUlniXc8/Qj/2xjwju5b3oiOE75DPIOxLYqyCKGmSlIUlqSVkHT7vOb8iA+pz8JFpzEfOMDy228LUVLeI4Tk40bTyiI+d+0Q3jnwJRveIxF89OE+Pa0oJxlJN6KwDiU1eRZyW/6k7FGYgqpjOWVpaG09iOo8jvLh/pz3FN4y/OWn8H9l4U5c4CbBzcJPqu5PpsO/+t4I9QxNaRiPBvR6fc5sTjFVVYvAT6EosI5ioqSDtobxaIrSEcnqLnTcAqVDesAV+CmdjlA6ASdQVtFutxBS8nH7eh553cOsri7zD0//HLFeCQ1EfcHm+hCJoBtpIqUoxxlve/wDfOC1n7uNn+pc9B/m1Xynf5KyMCip6HiJavR4T+ENbmuKd8MdLf3ON7HaL3yRkjNfUNPPPS/qF3sfSpAIh6qiBL2zWOvx1oK34aDU2JCjkdcN62RzTjSL8pFz/mqHrc6bfOV3HU+zUOJE6+ZQEUIguUDQanX44rsGKJmglEaqiJlUh8+QUrL0WV/KHz79fnQk2HzsIJ03CCaTMVKp4Dd/5v10uktEWkISDmnf8exH+ZIvepg03ctkPMRbR1mWOGOIogQhFNPxmDLPeGP0DPlrh3y0/eBsTvCIj415+3KfW/7kAdaW76GVRJii5IPJ7yOE4m2fmOC85//co0PWfqSxNmiHSkuy5ceR5+8DIIo06dJjqOFroeXQIjTVs85RqjAzk9GiYscCNwlucH7yQKvdoddfRslQ0kne+VacLZjZduHIwZoS7wU6aqGUI89SJtNxyM3ysLy6iyhSRJEEH/hJRpqlXftJ0+LT8lPUXqa0Q747epZYRvyYeBAPxEkLrWN+6nXfzA9s/XLDTx/7+FMIofjgg5+L857XfvC30ErxOU9/CGs9v3vg3WgtUWrQrMu/TB7mu8STlEWJVWFjl3iM85QqzM01r9hxiYF+ibBc9Lf3eGewpkQIEeqJqTYeQZGFsiTOOpACY0uEd0itqvwKEbqiCkEU6WrzsNSugtlhbEga1EpQliEXQUe6qtsVBMQ52xyeIgRZlqK1QYjQQjt83qwTz+ij/53lP/ZlKB0FjcR7Bh/5TfSrP68y2T2yyHEtQ63neTwPP5Bw9sRhdNxG65hOfxWkRkqNjoMbocymlHqMFI4k6dOWuynzAVTZ7EVRMJ1O8R52rS2z0u8wHoYw/M5yh6I0SKX4gpUetnggJEqaR3De0ZFv4n3piM8l5Kwk7Ra+3YaRRI5eS6GO0rJgCJuYjzSmXHR2XuDmwA3PT4T3XMxP3slto9c6rpTWCKVj8CEYbDIeNi7FTreLa7WZD1hJBwPSaXpV/JSO1imzId/mP8mJ4QoHV0Z0VZtfXPlCdr3hi1jpdRg/8b6Gn/7H+dv5ruP/kVJKrCmRSvDh+78BN5qQ6Jg4iUnTPPBTq0VLtEmnKal3JFrRMgKDDfwUK+z6Ne/s7LdpMleE2P57cP36mb1TtcQOl/RIFM5aSuuQVdVkvMOaoCFRCU2tizTeaAF4QZHnWGOqB0IOhnN1lFHQgOoImf2vupvn4tcQx0nI+1KfrAfYqGrLb/lyWq0WpZBV5FEQ5jrT3jmHc57SBA3tgQsDnt69zHg8RmmFEEOstURxm97qHpZX1rBZQWnDJqriNjiLVBFvK57jg8mryLNxFflTMp16pumUyXhKMZ0wnqQY7/g/90V8zidSkpZEfXyMfvMKzjp+b+tu3qAepSwNX2RiMvIQ3eigPXgtRhksUGiJ8A7rwCmBa6kQO7zAAjcDbgJ+cs6TZzk+hk+89puZTFLKYsrDWx9seMp5R6vdQdT8BE2QWMNP3jX8pJTCWvui+KnThwxLnk3wHp4/3yYear5x5SNMxgcophPef+u7MP63Odz+43zl2cMcX/pCtu56HaaOxs7yitsMnxtpft17pNR47/kRXoOJDN/pnuD71Wtp4/i83jP8ZnYvut3iW+THdrT0O97EhBCImuznhaE2z7cF/4jmJXV1C+sseZ5VlnEIK69P/gRBEyqLYhZEUUmFoGr7XV/Q0UT0hQ0FytIhpEKqEHgRRXHwdQtRhaEH4dNaVya3R6lZp1XvBVLOXAn5J38HFSWNv3rpj/0pynyC0hpfeBASKRReeJ7Zs1L165EUeYEQoYZameeAp9uOaHf64ErywmBNgTXhoFd5y5vsRzmy3gHvcXdbokjSPfQ46ZkXSH1ojf7qh0oeyi/gH/BIWfALywf5HB+y4t++3GVrIqvQ2LJxj5RlGeZOCP5rMST6rC/gj3/kd/Aekrd/OSLSsDDEFrhJcKPy06ldX8JwsAmEmoJaRyil2XvyWdI0I8smnPCr3LlrCoRctE53KYwbqpw1G9qraI0vSgQyWHGEDVJWTTxfDD8ppUiSDknSIYoCPz17rs2FLAfvKMsPML7zq+hVaUFSCuLjz5DlBWf334MXUBdBts7xRUsdfi83lIWp5k7ww/4B/kS/jQbS4rUYkfF53UMhF28HuPrOzk0k3ZygXIRZeCu12xnvHaaqrRWecI3+U7evbrLtq4PMOsM+FNWszfRwiOmqHId2u01S1f5K2h2SVgfwmCKnzKcc6b+d1E9BBBNcqmDOayFot2J2j49woXdHcAcIhYpiSjzCWYQMVak1VC4ARasrKJRsoqF8pR1JqSjLcZWZH8adplPOnztLr5+STaY4T7CGrMX6UNpGSQ++hZQSrWKkkuS54/z6KMyN93ipMa7qumosf+rUc5y65U6ssfyvwZjPbtXaXF23TTaTb53jC57KccXvUyqJ9ZJ2FKG0qprfLbDAzYAbi59eaH0OZZFiizwMVYjL8FOCFMEzc3Szx+0rY5SOQ0S1C96hUEOx4iclaXVjpFIhB7Xaa0N+6ovnp0ce20LKc0gRPkNKwR333hPm5jL8VJaGPM/oHnqUyYH7gbm8OUIU6Dv6Xf7PYIy1NniOJJRC8j/TjFYS8f7x/XyWeP+OVv4qAjsaCbjs4zOZmZMcT6W5VEGcdV6ElM076nOmkK8haqsbqqKZzlqcDd1Ua/lyzuKMwXlH0kpCZWnvERJsmXGk+/mUosCoEleWaB1z24l249Ou++3cft8DofJFLX0CdBThla5uwwOV8PqgNfRX2mxpGWoo1iPyYIylyHM+/sSQz/1j+0PDuXRKmecMNzcQQtDpLhFHCik9trCk6ZRWEnP02ae57a57wNfFM1XVi6fOI5tNunMC7yV7ThzGWsuft5bifAd4hvPdOwAo8uB3lpXvPWTazzY4qeS2BM4FFrjhcYPw05HO54TzpzwNfcacR+u4+s5v5yepglLNdMzJw89xUmqSVotetwympZC85eE9TVK1FILHDw8QwoIYbeOn6WSL4WCDL3jbHcEbdRX8ZJ3BWF/xUxjnc08+3fDTbXfd3UxpzU9SRXgke048S1EUrN/xQMNjn5cojCl4ez8o70rKip8EX7zc4w8Kw3ce+xnMDpd+5+5Eqnnjokif7TJReYTF3JsIO3jIHAy+3LncqPm60x5fpXhU4RLO4QSh0VslUKKq+qySmWvQWENZ5Bxb+kKk0vh0WkW7ipCMKEPysGhcBNVIvePoM0/Sff1tJEjSKpQ2JB6HzcT6uvJ0yNxXdIl1G1NWPu3qHj/06DrpZIT3jt//0Ane8obdlHnR3KFAkKfTqkSNoixyvHdotURROo4cOhQqZEPY0CAUBq16B83yQKrNSSmcdzgbqj1bY6svg8EYi1SSOGmFMH0heP+bPp+3ffR36Xzhn6IsTXPgu8ACNwNuGH6ajKqIRnbET9aUnHnhBToyCvzEdn768CPn2Npc54+9bhUhJEp00ZfhJ6k0SdLmDz96mre+cW84N9sBP33kEylJqxM4UHi8cXhfACHlQCrNicOHOXjPvcCV+WmctCgKg1Qm5N5JFdpUVXH33gXLTwClKUN/sR3y01VGJ4rtzuUrvG57boaolIF6QPWBZvVs49uthEbM6UtSBg2JUOlZSF1pMSWxTvAE0/do/+3YyCAceOErQQyRObXG1GhkVWKgA55/8nFW3vKnKIuyadMtVQtjHAKLwoQkyEPvp/uGdzIcbFIUBUvLS9x9cp10OuXZW9cwLnxmJDXWhmockY75w4+caXzj9cFz7ZZ8y+vXEELwgY+dQ+ukmVolBSeePwzVoe+Bu+8N145DOxdfaY+uykURUqGFRClHu9OpylmllW9dglLsP7iJUvvBw2+Np7xzpd9cZ4EFbgbcjPxU5FkgeSln/KSTS/hpbdcunjicMRycYWl5hV1r+3DWk04mIOUl/PToU1PyPKWoNqq3PLwHvMeakj/46KlQ67HKh+v1V7DGbeOn0OTTUZYFlAVCSI4cepI77n3givx065kXWJ6Gzzy1746KnxSgmh5s1lrWjj/D21/1mup4ZGdrf3Vlp5gnPt8IwKW+Zz//hossfA/IbY+JSvsQQoZFrQIyah+x95AXBa4sw+t0hDElR/tfEHy/rgqXr1tiVyqWkDS/ezETECEERTpF4InjGGMdxhZoGVHVmqneL7jv3BbP7F3CVIt65n2/xFttQlE1iKPyi0upIG4hbahW/fQRz67d+6osft8c9oYK2Y7Hn8sAgdQ6jFOENg3GerAOWYXnnjr6AlQHz7fdeQ+idjcKiahbgVf/aR1TGtO0c6hflyQJXzs5x2GlePfoDO+NE7xzfGGvdbXLv8AC1zVuJn46efhZpFIIqQI/iUv5SYhQYNeYwE95kTEZj1Gqfu3l+anT61OWBaYseeqIa/ip31+pzvvCZ0itPiU/SSXAOfI845lHH0Eoxe333n8Ffoooy5K9J54liltEcdRU97fWcmrfXWgdsffkc5xceSe3bf3vHa35VW1idRuDehLnIbb9/8raUHOkWpnTQRkRUPmDpVQIpVBRhHchkc87ixCq8sdKTq5+EVJqJGEihayEotZuKrWhjiLyhKREUW060+kY4T0PDaaclSHO3DvoLwk6fc+kcilaAU/t24WzIVwUIXEOPt5NqjyRBJ+mzWd5AKnxzoIDqSJUMxe1K4D6JHk2Gz6E7c9/caz3WGPBBO0n0pqzJ45ijWXf7XfivCfSEVortNZ4wNiwYYYIJEur1UaKylWhQmWBKNK8e3QqHMIOF4EdC9w8uNn4KWkl2Kr8TsNPSzAezPgJBM5RnSkFfhqNJxU/VedrLxM/CS2wxvL8k4+z/657LuUnY6ir9ltraKkWsuppKJRk36nnQh5dtWGeXvsTO1r3qzoTq2+0LtF0iaBULl3fvEdsv4CvHps7e4JQfFPqKISIeoctS/J0ClUovI4TTq2+M5jhUqAqc1zKejw0Z0bei0b46oCM2usb8jBGKCk4f/I4azJUh69lNokT4riK7GFWj8wj2Pzwb2LLHJ20Q6M7a6pyUbN7rxMhqbSjUCpmbhZqGRESRC0o4RVCuOBCnJu9emDWemxlCUZKcv7kcbyz7LvjTrKsqFwZ4TpxHFE404TyguA/r93J12weq4JFJFpJvBd4NS+WCyxw4+KV5iclNSdWvuia8pNSiqIswvuAJKn5yXExPyE1Wkfo+JXnp6TV4sKJo5TGsP/Ou2b8JAI/eW/RKmr4yVmLgBfNT1ftTqwnZNvlK8GYL/ESFm9WODeY4lCXbAkhoRqEqA5VPWWe4Z1FSkGkI06uflHQfpRCSTV3re26VNPbsV4EZuGu4KuzJM9kMgYBZ4+d4DWbY55c69N3HiVBCMdkZDC2FRbXe6gOW72rI5BCKwGBwAkZwlzlrEo+tVAIGXp9uSAwcZyEsFVTVj71SmNshJCqnbcIh8V+JkDbJazq8uqCuX/6yJHGFDelYeWt9+KMw6PZNXqBvP9wE/6rlOK+175+btbcRYu4wAI3B14ufpJScmLlixrXvbqG/BTFEWUZ2rcoMcdPJrlh+EkpzbkTx7j1zldR5gYvJM56IERZIkQV9elRStPpdOZmbef8dBWBHWEFLvYgX/Sibb+EiQh+ZClllfAXFhwRJsRag3VFtRMrdBSHzUtKdGXC12Z2LQRzF7/MEGoTmODLFpKyKClNzpmjR9Ba8ZrNEcaGqhsbH/ivlEVO9w1fzHg0wNbRMt4jvK8EzlJ/DRozu5oL4UUj/NvHEBY1VKg2PDRIeXy5jTFzgaNi+08BIVLJV63QK02tjqiqTfH6S2mtR+BDwdIofKmMMWx98FdZffWDWFtijeUrzx3Gao2oQ+v95edugQVuVLyc/BReKzm5+sXoa8hPWkecOfo8UawxxlKamZdI4AM/OYfUrWvOT0mrRZ75l4SfThw+jACMc+w9cDuCULdRVBXr6wjFF8tPV2WJzRZIzBbuSq8UQOVDVkojqqaSIQrGhJBKH+r8Sa05tfLFTeSeag4FJXJOG2jmVMz+3pbvVB/SVv5shAyHl6aYbWAbI6xzPL7ar0I6w33Un22txTlb+WVtdd1QrVrJ2UFk7dv2Yvu8VKOq/lYIQhHQx5fbPLQ15cldvVAZgHq9Z1pb4wYR1Rw70URKhVSTKuKnvudaWHzwqa//4a/hrCFOEk4+f5hdtzwYmn2Wodmn1hpd13/7lOu3wAI3Hl5KflJCNRtXHbQgriE/aR1x5sjzRJHGWkdemPBdvww/Ia89P+EhSVpIWbxk/OTxnHrhMFJJDtx9L8aUoTpIpSy8WH66irJT9W0F89rJuSiZOa2jMceFDCGUoup0akxo1+09x5ffEZLcqoPQEIZZCV4Tfiq23YPY/j9msjETH19LSFWxIs9Tjhx6Eq10mKAomO1P7uo32eMez8pbvxxTFgw++psoFSGq0NmZbz1oYTDnGtg+COaFoxbeoBMppBAYY3lspUMrjrnv3BaPLbcabcyLuUsJUUVD1Y6H6i7noqj8FcqxeEBUYfgA63/wa+A9Qzmz/m+7656gVSo9K5ezwAI3OK4lPwlBlYelObn6xcFCqzhJXmN+MrbgzJEjaK2Jk4i6zmBdGb+ytYK1qDVChnO5l4KfPBmtVgshQiHil5Kfjj/3HLXlKGXgJecseW4bfjr1wvOXvc7FeFFnYo02Uf3la0FpBESAdzjr8d5UUUPBZD+x653EciYIwf88E5KLnQHbNJz5R+Z+hFpnIWMdIXEeijzl+HOH0EqhlCSOI+47u8Xju/qhoO/cLWz84a+y9Me+jNlCh1WbvWaWuT8/kvrPsHxBsJqntqlAEiEc1hiyNOOFA3t53cnzPLYUzt8ElYCLuc+qLf4qu37mRJ/5o/3cQvhmMubHGf72SJQKB81njx2prE3HgbvvvdISL7DADYvPhJ9q5e7Eyjtmm9ZLxE/eO84ceQGlFHHV1ywvQxWP+W9x3fn95eKnVrtFW0iydPqy8dPpI0e4/d77QuCMtRw99NSVlvcSXF3FjjnDsq4dKAQhkKUZXtBk6hqaQkhO7nonSoas+EjOWVv1YlxkOc4rMUIwy/3w25+YjUcgK+3JeUeRZ5x84XCoeCEhiiLuPz/g8dU+ztq5T5iVdBp86Ncrf3cl6HNai6+t6G2azUw7mQmvh6Y1eqitNvukMBfWGtJpyuFbd/PgiXM8vtKey22pda+Z9qiFwCEaLbH2/TefGz6yKX4a5Gb7ZDoX1ku6uqqAItYR50/srHPqAgtc7/hM+KkupfTJ138zu48/Q32M8VLyk5CC088fJYqi5jw7z8tZeavqOvW1pZgvI/fS81Or1QrdPvLsZeOnF555hjoNIY4TLrqdK+Kqqtg3fl5ktSnPReH4umeXDyaqkpza9SVIpYiaTat6T6URzZvfzURe9Jn1e+rcBed92IiazPeqQjJgraMsc0698HxlMsODm6Ho5ROrvSrzvA5vrYXAo1XIY5CNLe7wdf4C1ZdD1F+AUCrGVYeqgqZReTVmWX1DandAfTMhwklUbcbTdMKTaz28nR2kinrBmfUkoh6XkCFnxM0EqpaMML7quNaDb9qzb5PiJnUABFb4uftdYIEbGy+Gn5TW1eb1d9h97Bn2HD80U7BfQn6SUnLi8HNIGTxEUkiKogwFua8jfqq3rOYl1yk/XV1n5+qaoWaWaCZPVlEutal5rP/2ICR1pA/M3Ifze78X23ZbMff/8BJ/kToh8FUoqSCEjcomm9xTFFklHCHL/MGt0O30idU+RVlSH5LW1wsamqjOwIBKMC62yuvfJZLXDjOSpMXjKx2yqnne7MX1tYNAXOx6aEROBhdBfXgcplbMpqX57DkBEgIl6/5BM40oCEoVEutFcIr7Shj89i+er9wAdXKlv3SACyxwY+Iq+Ml7gpK9+k6kVOw+9szLxk8gOP7ccwgJcRIssKIwFMZcE35qtTskSUKe539k+OnqohMr80ZpjXAz87a+iWP9LwRAuVkiHjArtVKZvdSTMi8hzd1s0xuqCQiv9d6jtEIxc8HWn1MUOUeeeRqlQsO1h4c5z92yhnOOIs3Dkl1ihs91dZ67XlNepnptHZL6mq0JcSc0pHvduOCxpR5FXgtK5WsXcm7kYaCNQldpec7Y8LnShnpqlc9cNAvM7L63zX+VQClcUKbmtJ7534J7vJ5vX98s9cBqb/qnDEdeYIEbDJ+On3xVo+9o/wtmVhQvHz+VxnLmyAtIKem2OwhCm5SiKK8JP0VJTNxKEFLR7vUQUv+R4Ker2MRmzQaEEOi5diXee471vzA0YBOiaSNSh4XKeafyXEBco3lUfbCqmbjopkWjZAkp8F402kFteud5RlkVovR4Xjec8uytu7nv3Baf6IWkOtkcaoYrz3b5uckTtX97tlD1c6FkUwQeHA7lBa8fZTzaT0inEzy+ilxSTdFQ5v/vBB6HVFUOSmXSSyFwSOq6iqJxTUCdUb9dBOr/h3/bl7lWk+ZN+tlPMRdBtM3VssACNzwuz0+feO3fpm5tsnr0qaoMm3hF+OnUCy8gpKDdTsIFpCDNimvIT3HgJ+dQAjrdNuBven7aebJz1WRNEMxz64JgHOt/IUKARKCVbLQEySyXgmpB5/WX7Yd2VUZ5HQJTtSSpW3BfZHRW9xgEsa7EfO74UaQUvHYw5fCBvTxwfotPrnTAujlhrHb9uYlvhlFJ4vxhbP1DVIvvfPBGa6nDYaQzPLhleGKlS5ZOZ6+fG2ntl64fd9YgVYQUGo/De0PjzfdzoakzVanRmOof4W5E+NJA8yX11Qlqc5vbV3Cb4G4XvQUWuLFxOX76xEPfyK7nnwj8JCRCqVeMn+I4BI21WkljIaZ5Psc514KffOAnpXA2nM3FSQJwU/PTjjcxa8rGn+w9nFh+B00vmDqRoKkLVi2tr/2htRna2MTU/XeaOWl+nRMIf+mNhTyOME15lgGOCydPIoTktVtDjh7cxwPnt3h8tY8tq6CJZkbmpm5+Fn097dUTTRZ+PSKPMSWP9WKU1rxhGsJyH+0loatzUVS9g6p7a7SIi4W8Omh1tpqD2mUAwW1QJyrW+SHzcl17meulDfMnBU0bdPzswLWJCNo2g8zdp7+MIC2wwI0Ja8pQAqryBHkPa0efrr5Dryw/tVptXnj6SVpJTBxFSCnIizIEmtVvvAb8ZMoCpTW9fh/vPdPJNPBTFVxys/LTjjcxY2yo0LzyRdXgBPhwU/VO7L0PE1APRgqEqNoLVBNQm4miGrmoNA/nPb6u9bV9BZufHprXmbKgNKYKEw9W4NGDe7nv/BZPrS1hirkNbG5f97M5nqF2EXgqLWtWdqqe8Poeax9xnW9ijW2ibTwgnANZLcG2k8mLXAB+ztiu5scT7v/BrQnP7F6mKArqaB0/rwXV8zH3vZMC3Lz64mvR3K4hbvttYYotcJPghc7nX3SUcX3wU5IkvPD0U+gqV1XIkFhsjK2HwY3GT3GS4Ky9bvhpx5vY8aW3h8Wu8y8IZmzd6n6mJRCKRDbm/ZzGUG3dVmw3ucMkzE2e3x4Y0mgK1WNlmeOs4dzxo1jriCJFkiTcf36AdZ6itLM8EV//j+02aqNQiW2fgidoE5da7Y1p7JxDKYnSClHO6TJi9sKZLM5L5XZB2bZ81R/WOYyxvGZzwjNrS2RZipufDzETPlFrl4TQXFVV5vDO4/z2BMRLzfOrMdgXWODGgL+O+CmOI44883TDT1LKm4SfwuaspLou+GnHm5hSqlojuc20dtY12kq96CHyVM60lkZYLhc22YgXdWglUAWvbL8R5zxlmXP8uUPEcRyigZTgdYMphzsdDu1dIS9KnKmrPFerNrfrC+Evs0TbQ2mZe2Y2xrkvByCk5NXrIz7RiystpK4U7WkiiuYEO6ztbA5E/dglc+F5clePSGtetzHCOcujvThk8Qtm9rufld1sPqC6gtQS4UTojlqVgLlk2hfx9QvcRLie+Ml5z/njR3Eu8FO7lVD39irLsun0/lLzU2iBkl9zfgq1Fj3tdoeOEkwnk1eUn3ZcPE/VHYVVHboqZ3XEan2mMdfr3IL5mw8/64xsUZn+UorGDTC7rkDJ4CKMtEbJUO04TSecPPwsSumq2rLn4VHGc7escd+5TcrSzDVemwlo/fF1gcpKZZmfsbnf6xfP3li7GRpJEqAqIXngwuiiiKH56/ltGty81lRNF1U2BTO/d5hLU5Y82k84fOtuHh6XKCW3XyuohDOT3xNCWqt7C3MY5vOy34AFFriJcL3wkwDOHHmh4adup1259ngZ+Sk049RaNylHLwU/TacTpFR0u/1XlJ92vInVPtb5PAVkCFOt225LpRBKI6oWKs3o/ezfzNyfM+TnJk8I0FoSaYXSQYjKsiDPU84dO4LSUajkjOCN04LDt+7ivnObPLV7iaI0eF/5ty92E1x6R9v+mukxvjGfRf1EpTXVGfi1fvGeL/vqUER0XmvyM2nw1dVmcuma6/u537Z9Xi2MQmCtYTKZ8Owtu3jD1KJ1NG+BV1PqZ0Ij5iKCqmvNks4vWura0l9ggZsA1wM/xVHE6aNHGn7q97tVmSgw1r68/FQ9ppTmpeYnBPT6S68YP+14EwvHieKigVU+YyGq1HQ5m8g57UDMaQm1j9l5h3UWX5uUTeRKMMuN9ZjSMZ1OSbOUM8eOoKOo6QL6WWmIlrzn7CbP7F0lz8s5362fLc7lFJBtaticKtTMXqUV4es/595bZ817/vJvvDf4neV2t8J2vUdUGpad+5JU/+rD5jrK8xKNK5jc0+mEZ/Ys84ZpSRRFVUmZS2+r+X3OnVJHJNVa5MVfjgUWuBnwSvOTjjRnjh1p+Gl5qUddCst5Xn5+qi6otHxZ+Mk5R6/ff0X46ap7cTSeTVFNpHMzbaDRZq7QlbM5YJ2bxmqinHdzyxU6fmZZSpZnnDl6BKU0ZWGwzrK01EMpyTO7l6qyLSXOV9rYzAt7pcFfhHrB5sRFXPrieozhNiqXQ1UN4P5zw+ageE49aj5SNI9U//mZEM+PYvbWbb4OnHVMJmOMtTw8CRvZxRpjrUn5qhDnxQsgEE37m+CfF5dfowUWuIHxSvHT6SNHLuEnZ+0rxE/1v/AOKdTLxk/dXu9l56er2MR89X/R/Dnzks7ZkM0rqkPQSmjq3dw5N/OdMtNERK0RVLt7nqcURca5Y0dI4hDS6Zyl1+3w4NaEJ3ct8eqNCY8td7FVaxX8xfd9Be3DzxnL21SD6o4EzMqJzq4gvG+av7nqgFcIQaR1iNqc/8IwM/4bs7xpWeCp6rLMjWpu5JfxYzjn+GQv4endy7xhYoijqNGOZpqYaG6vESIxG0etfAZh2Z5rssACNzauH36Kk5iytOgoJsuKV4CfAl+Af1n5KZ1MsNbR6/VfVn7aedmpOWenFyFNbt4Mx9Mk0dX9eWbawNz9z/0dsuxntcfAV43RQpmWc8eO0mq3Q/8r7+l227x+lPPYcpcHN0Y8ttLFVH7mmZQ0dvWc6iCoIz99vfjVzM768MxVbA5q09xzlRBXf9bhsXgfOsPq6gvkXGXNi7nr1ffrq+E5xHbZo/7GueaTZvpR8yXyAmsd08mEQ3tX6EnJaDTClCXbBGx20W1fxvoLVD8ihZh1s11ggRsd1wk/dTodsiwnjiOyLA/NJl8JfqpeKmWo1h/u5+Xhp16/R29p6WXjp50HdsxF5ygZ6m9VI6GeszoDu95RL7uR1jJVaQ1yviCl8+RZRlmEdgVRFFftCwxJHPG6YcbjK10e2prw1NoSRdPCm20axvyftWA41/xxZdRKSPPei2aWsIS4oLl5BHGkiSLdhPzPaxizN1eP1YealZ/9Eo1vXgvy81pjmCAhwDrDZDzmrlMX6HS66EhVwne58OC5T68WZfadXlhhC9w8uB74qd1uk+cFSRJjjL0O+AniOHpF+Mla+7Lx01W4E8POr7SeFYkUtcFeTcpc0l7wR9f+Z9esWHjMN6Z+fXPGGNJsijEFWkecO34c6xxlURBHmocnOU+tLfOajRHGWrK8qD+qmoDtAnLxTAUN7NIXzCZWbHtqfgpr7Q0P957bDFFOQqIqH65SmldvjMPhcTMB9dVmQlLf97w5fcmo/ez5RujmfgrAWMOjvZh7zqyH8PsoaFrbNaiZhjZ/ze2Ts9jIFrhZ8MryU7fXwRhHFOlXlJ8QBH6SoaO9kgqlI3QUv6z8NJ1M8N6H8PuXmJ+u6kwsaAyhffT2ltRXfg/MAjV95WdtDNjq/dYGAbHW0Gq12Tp7NjR2s5Yo1rxulPHU2jL3n9/EWsdjS53mTGr2CfUI5z+7/pzwczaJcxPYPD97fe1SENuuHn4ThLBVIUI3U+9D8zZd5Ys042gW+TLzJOcHc5FGc5Fgza/jvDJkTMknl0IS5ZtSR1RpWtu1tXmta36GLvqMBRa44fHK8VO708YYh5Sh8WWW5q8sP2mNIASfeEJnkVeCn9J0ghCSpaWVl5Sfdh5i78PBnzMWb10zoPmIlmaAfm655ndtYNYeG7x3FGVBlqfgHe1Wh7PHT2Ctw3lHHEe8bpjyzJ5l7j+3CcBjK51QQX/b4OpfrrBziytPh6jdu/Vlqt/ryMOZn3pu0cTsnuqSK0LKoO1UV5q//4s/UFDlsVzhJbNHq4KaF99Wpd6VZckjXY1zjjdMDFEUNx1dG83Nz8ZdC38jIos9bIGbBK8UP7XbraoFVbhcluevPD8BoQK9w3kfKpO8Qvw0Hg9D+H1v6SXjp6tqium5yCSsbWUxdx++PvITjfCI+ReIoGFYZzFlWfXZOUycJMRxC+8dpSnRSvLa4YRn965y/7ktpBQ8ttILJaW4zNw3mXGzCZp/XdMHh/nJqp+tm8zNbszXEiO2f9KhfSt0Oj3uPbuJc+FAVyB5avcyoiyr915m9isVpfaRC5rep9vvp7Hn2Sbcfm4o89c3ZckjHU2n2+ON60Om04zHltqNVlZ/ZrhGpcE1b1/sYgvcPHip+ElIwfmTJy/hp1Y79O8KFT0EWV7itvewnA3lZeInT2jBAlX1+IqfjLXbE6EvmbyXjp/GoyGdbo/+0hLT6YQsza4pP13FJlZ9ICFiRjRN3KrJrSd5Zotv22XxUBfidM5SlgXGlJw4/BxJkhDpBGvD41IKHhpMOLRvlXvPhjOox1e7lOUso3xu9asJALwLi1AN5NIpmN3DNvVGXEm06sfr5fSURcHYDnmko/FeVkIv8dPxTMObv2+YCdy2q/vLfO52bHMz1HIjZsOr78NYw2Qy4qndSzy4KXndaMyj/QTn7Cyxkznh2JmreYEFbiC8NPwEEEfxJfyUtOLm+6mkJC8KSnP98FPYrNyMn/CvOD91e316/SWEkFWC9LXhp51vYi5Eu2zPqp67S+/nDlJ9U9hR1HdbLaaxhqIosNZy5sjzdDodhJQUZY61FqUkrxumIAR3n1pHasXjq72qZAuwbenrGZuZ1mFnF1W+gZj5pue1j9lwmveKevzeMwuz9XMTGxbfGltpOjMtojbtQ2fpeiCeJuZV1HXSLtFrZiZzvZAXdzSYf8223+uaZuG91lpGwwF5bjhx10E6kwnT6Ti4OuqiqPVhbf3GhSG2wM2Cl4CftFKcP3EcISXGmIaf2u1W+Ejr0FqRFyVFaRf8xKfnp15/iXa3C3DN+GnngR3VpDeaTb2ji9rrTKXdOKw1M1O4imUVhAPSIs+x1nDq+eeI4wQdRYBoBOThUYYQgqfW+sSx5uk9y5SlaRITqeaf+TFQRRjVA621jstMeBjSnBbUKDz1tcT2y8+9BkTjKq61qXnNA1/3+Jm7dpObMneAOle8c6Z5zT5v2y1u+3yaZ/xsuM2jzjkeaWvyLKPT7dDt9cIXxVvmi4AuDLEFbjpcY34SgsvyUyjoKzDGEMc6RCgu+GkOn5qfxsPhNeenHVtidYHNMMDZjQk/EwLXjLwaydxojDEUZY6zllMvPE+700FKRVkWlGWog/jwKEMqyeMrPVpxzDN7Ioq5SJ9LBzVTKi6yvmmm2oembbWWsU3ZEDQJjcHs3mZfzzQn6udmk1wLykz7uiiHXly6GH5eA5ybt2Y88zc2/6CvhfjSFwcf9uxv5xzj0RB8n063ixSS0WhYHT7L7eNa7GYL3CS4lvwkpWL99EmkVFhrGn7qdtpIJcnzklYS2iMVebngp1eYn65yE6Oq0HzxovnZrlubvHMjsMaQFxneOU69cJgkaRPpGGMMZRk6ML9hnBPFEZ/od0gizf3nt3i0P4tErHMYmlVuPifc7axWF82izkz0eoL93DKDbw5bRbMQtVm77Q7nnwtvBO9x2wTP04QoOcD5qhu6aD6CuS9RoxleJEzNfdQnrNUHzOq9Vc+LUPAUXzfYqxcgaHmjwQDhQbcSklabbJoGQZGycavM+gotsMCNjWvFT0LK6ox+Oz/1uh2iSDOZ5iSxRkrBdFos+Kn6gFeSn4S/bKjKAgsssMACC1z/uOoq9gsssMACCyxwvWCxiS2wwAILLHDDYrGJLbDAAgsscMNisYktsMACCyxww2KxiS2wwAILLHDDYrGJLbDAAgsscMNisYktsMACCyxww2KxiS2wwAILLHDDYrGJLbDAAgsscMNisYktsMACCyxww2KxiS2wwAILLHDDYrGJLbDAAgsscMNisYktsMACCyxww2KxiS2wwAILLHDDYrGJLbDAAgsscMNisYktsMACCyxww2LHnZ1//TvezL33v4o77niQI8dPU+ZTXJmza203xlhOnz7BdHSBhx68H+cdzrW45W3/zzUf8CU9W70nL0L78EcH/5rJdMKevXvJshKlFM889SR79+1lz+41XnjhCHv27GU4HNJf6lOUJRfOnUfrmM+77bvZtbY863RaQVz0mTvsmP2ice6DP8Tjn3iEe//kD3Pg4MFLxnMlDDZzPvDzf5VJsY5SEiUVkdYgBHfeeRf3vOOH0PrS5db37rvWt7DAAi87rpafilu/kQN33H3Nx/FS8dOdd9zO65e/4RXnp1PHz/P4Jz7Oq1//6mvGTwc+5/t44IEHXjQ/7dgSe+1r38CJo6c4ffI59uxaQaKqluChf7WUAiU13nuUFCgd7fTSnxZ+7l/zmPdY68hLwxHx8/y4sHgEg60R43FKpGOklBRlwXA4xHuw1qG1wjlLWZaMRiM2Njd4sP3X6fbbGGtnLcPn23TXf/tLhfRaw1qL9aL+uG3wgHOO0pQYa3DO4etW5d6jlGyuEUUKqUJr8iSJkHJhdC9w8+J65idrHdY6Dpi/8KL4aanfo9vrXB/85AzixM9cU37qXvjZz4ifdmyJ9foJd9/9ao4ff4HblWL32iobmxtBSKoJjSJdDdKh9LXTCZqFAwQC5z2lKUmzHGc9a/YrMN2SSCc4J4i1otNJOL++wWQ8IVJxNXFRJSSOIs/Z3Fjnzbu+lT1792KtxzmLs5441uGWvKsGQPVl8AgEnpdG4/HeUxYFWZ6SptMgAEI02pYpSy6cP8OFj34v+u5vpL+0TLe3RBy3KAqDVAIlJUVZUhaGVitBKTUTpAUWuElxtfwUn/oZuO0fX5PP/nT8ZK0lSWLOtP7LVfPTLXtvZc+evewvvoZSXAf8lO+Mn1qtFu1Xfyvd3hKd87+AG710/LTjTezZp5/mvgdew93J/Zw4/gJ798Ha2hogKMsS7z1SSpyz1YRe22l01lFai5IS5zxFacimBXEScUL/En+6BJRAKUmaZfSXl+i2EzrtNp1ul8FgiBCz5U3TFOEFBw7up9/vNI9ba0mzHCUlpTEIBFJKokgjZXjNTk3oq0WeF6xvnUNGlvMf+z4O3vlTtFttPJCmU06fPM7x3/kH5GmOOv5PEVIQxYqkFSN1jIodURnhvENKgdYaISVSypfczbDAAq8krmd+EkJgSoPSL4KfDuznNZ2/yvXCT4Mnfmhn/KQU4vB3vCz8tGMb7p577mewtU4cC/bfdpDNjU3ybECrFYcBC4nSCqUUUkr8HV//GQxrO4QQSCVRKmgpCGglMWtrK6yu9Hmw89eIooh2O6Hb7TCdZlhjyYuSXr9Pp9MBPMa4Rmsqy5JWq4Xz8Njkp8iLAmMtP2hSDpv/iPeeSEeVcMjgGiiCifxSwR7+t6RpjpSCLM3wLjgptrY2OPT0kzz7P7+L4WCMNQ7vwBnIpoat9TFbmyMguCOkkKTTlNFwhMczmQy5cP40g611ptMRpcnx3uH8S3cvCyzwcuJq+Uld5vzlxeLT8dNSv0sU6RfNT1uDccNPaZZR5MUrwk95bq7IT8//1nddc36Sx//djsa145VciROSXXvZGqyTtNrs3Xcr6xfOIYSi1eoFf6cX1SKIa34GI4Qg0gq0ah4L6+0RUnIgfxcvlD9L0krY2tzClCXOWpI4ob/UYzgYIIXCezDWUpaGfq/PCf1LeAMv6J8nHad8uZDc2/5rtFtJ4+P958rxdwowpQHUS2bV+Du+HvX4t4R7jSLAc/ZD/5TnDx/m/LnzmMIivA9aZSUM3jnSsqTTauFc0Da1UpQOirSgaFvOn9tg9L+/m1YSkbTbJK0WrXYbKRQH7vu3L9HdLLDAy4er5SchXl5+8sDu8Z/hbOunroqfhBC8wM/R9i12b/1plFT0ep1t/OR9+PlS85NSCqV0w0/65L/j7Mb6S8tPOxjXjjcx6RRdXyKXd7Ex3ARgdXUX6xfOs2evpN9bYjrKCQJybYXEe88T6U9S2pKyKCnygjesfBNRFCOEoDQO5z2TaYpzkGUpw+GQwWiIkNDpdhhubZIkCYJw7jRNJ3S7XTweJRXeW/ZMvoJdq6vkRUkcR8jqHv5OKfA4tFLIl8hU336/kE6nPPXf/w7nz11gNJ4inAcXBMQ5j9YWocJYnLGkWYoqBVEcEUURRhe40lKmGRiHlYJ0kiPEBARoJQGxIyFZYIHrHVfPT9f2zH44HlKakh91BUVRsHttje8UrW389HT+7z8jfsry7LL85LzH4192fnrsk49cF/y0403Mao0sHO3S0o/anFq/QLfbYW1tLxfOn2d1dY1O+wBSWYwpia7hJlaUJc8+/xAbmxfwXiA8nOx/iHa7zb49HyFJ2hy070JKQbfbRuuI6TRla2uAkoKNzS0urJ/n1lsPUBpLkeeURUm71Wap18M6y+kzZzhZ/jRv9d+BUorxNKPXaQPwgv85rLPcLb8WxEt3cCoEOO/I8oIiy9gajnDWASLoV86FKCjhMcYgpEQgiCPNNM3x0rESryCVQCoF1uOMwQlBKSVShNDWLM+I223wi4jFBW4OXC0/Kak+/UV3iKIsefLpQwwf/xG+oOKn3lKXx9ttDtx6EHXXNwH+JeMnYwzWWuI4+iPJTzvexAwe1UrQ1tF3cMcttzJIx+hYsmfvLZw5dZzbDt5BEkvSyeCa+pydc6xf2ODE8ePY0kB1KNjt9lldKul1+0yHGZMipdsT6CiiLA1FUSA8uNKRpjntdqvJ22h32qzt3kXSillf32BjY4vV1VWc8ySxxhiLdx6PY+/kK4L53FaIlzBEwnuwxpNlBda6JmJHEbSbOoZHeE9hTBDY6vfCe1pRjCAIW5REFNYjRDhoVgI8HussxlhMlrFr796X7F4WWODlxCvNT/94sM67jhznh277Wr7z2HtQWtPr9tm76xZ2nf0PfGLVkk4/M356/dLfuiw/5VkW+En90eSnHa+kECC1xmKQQtH2Ar20iwvDDZJWi323HuDokRe444591zxgwDmPKQ1umnK/KSlLw6E4QQnFufNn6PXabK78N9wZwfmz6xhrSJKYNJ3S7/awvqQ0JVmRYYxlc7BJkRVs7fps3pSeoshKVpaW2bW6SruV4Jyj00maz82ynFar3ZzzXY2YFGWJVrPIoU8F7x2mLHDONgIiIAh65TIQCELUcBCOvCwojEHpiEjrKmHQo5SjSpFpfOey8s1rrUnTnMHW+lWtwwILXK94pfnpW579KU5NU35y8hHKrQHPxAlaKM5fCPzU660yGadXxU9SaF51150NP62uvLL8pI7/u+uSn3bsT4rSDGELhHP4JMariNhK9iytsX7+HNZMOXDwTsbDKc45xDUM7DDWUlrDHiH4/P0t3rGq2V2UGOs4evQ46+fX6XZa3HnHfnbtWiUvDMPhgCybUpQFR9Sr8c5x6sQZXhD3Y/KSe+6+h3fc4ZBS0eq2eaj/N3mw89dJkgilJMZYnHNM04xut0MSXzk58uJEx3mMhlNOnz3NcDwIQlolAZ77yA9w5uwZxpNJeL/3nP/o97K5dT5EGIVEEKQPz7lGzwl+Z+8czlqKosQ6UFqjtERriZBz55J1Hof34RDYhfDWJImZbI6u2RotsMAriavmp2t4dmSs5QcPfC17hOCP7094+6pm9y0PU972Jo4eOc76hU/NT8PhpOGnwdao4ac3PPzGhp+WV5dYWuq9bPx06vTpbfwkT/w0p88cvy75aednYtMp2llotcAL0MEM1KXhll23cnbzAmt7enT3HWC4ee6KPucXUyLFOUdRFMTOIaYelUhWhGWryor33hFphVeKbq/Nvn27OXXyJEVRoqRkbfwJnlj7bPaqo3THj7CBpdttITW0Wi0mkzFOOqZZhvOeJI4w1rGxscnJ6Bd5Y++buJIYbMuYv8wXwz3//+MjH/gD0nJMHMUkSUSSJOTTAvehD7G6usTet/x9nHEcPXSIyXTaXFNWzgFbhbIKBL7SXqg+TkkZci2UxrnZfDgfvqgSMROU5n0h6bDX6exwBRZY4PrGVfOTunb89BMyWBz+wBsRU4tOJKvCs+UdP3Tw63j44IPcr+/n7yKY9P7tJfwUwuQ1SZKgI4W/DD9JEV+Wn6QQ7FpZ4cXyU1EUfOQ/f+Pl+cnB6uoS+w/cgjOOw8+9cF3y0443sXJlCTNJSbIMrzRYiZcSoTV9pejd8wBnz50CPN3+GqUxJFwqCEVZoqqcjZ3CWoe3ljPG8sxA0sNyynmED+b08RPHWd61zOrKLoQQWGeZTEaUecloPGJy6+ez9+zvINZW2NzcCq5JD1mWMR6NmUxSnor/PQcn72JlZZmVpSXKIudU9Iu8tvcNWGuD9sAVEgm950d8wXeL5NKxO4dSMeXYU+Y5eWoQIgWCv3gwHHLk6DeiVfjS1a4OgUD68P45HSeUlhECh0cJQaQUWZHjkhZSaoQUeMv2ma8EuNZ4PL6qZLDjJVhggesaL4afFNeWn84ax6GhpNd/I6cyy0+IB1ma46eit/uy/JS0umgdI5S4Ij9FseHc8MI2flJCsLyyvCN+KkpzWWvNWr8Dfjp2XfPTjn1+Tsfo3WsUWmOrndR5jwVKQAjJLfvvwBhPUU7hyP/XlHtpruE90ywlK4tLnvuUn20tzlpyHP8zy/jV1LApBdYU7D/5NUSPfgnHf+Ue1tc3QMB4NEHKkCk/HGzhvWVpuY8pSmSVuS+FZDKZorViz541Vlb6PDn5SWIdsb454EMX/hUP9b4haGxV5RrnPFyhREpdF6x2DdZJi6PRsMnloHkuCH5pTLgmEudC1j++sdRD/bX5f4SfpXPk1pDmBaU1wf+cjsmKgjQz5MZjrL/EjRD+9rPxLcp4LHCT4Gr5yVyGg148PzmcsfyAfDX/M8341alhUwm+pfg4cZIwnGR84tEnWN9Y/4z56Wzrl1nfHHD67DmWV5avAT8Nbnh+2vEm9uGPPcHpcxew7TYu1mTZlOloRD6d4nzYjaWAvbccRHjNZLTOj1JsG+BgNOTw+/8hR08eIy+KHRsCJ+McWxW/zHBMJSAFrijJBluMNy5w4exZ+MjnY4yj1+vS7rTRsaIsCtLJhCydIgVkRQoi1DerTVgLXNjYYtfaGmfPn2c0HPGa9tfjEVhrAaovxSyjvoYAEIJv9zMtJ80yBo/9GIPRgPX1CzhnwXuctVhnKE04yLXG4L1r/MfWOayz2CpktrAWYy3GOaz3QZAqIfIIrPcYB0iFtY7h1hbnL1xgfX2TwXDCNM9Ji4zcFBRzRTnr+1gYYgvcLHgx/FSasnl/zU/PvPDcVfOTdQ7nLN9uH5/xkxD8iLmffLjFaP0858+eYX196wr8NN05P527wGg4otdbuip+mnefplnG+uYGg9GAwSd/5Ibnpx27E9tLd/DskXOcX9/iwK1rtNoJ+eYImWbgusT9DgiJQLGya42zyV/hO478DLzqG8IFvGdra8jR546wcvZ7ue0r/w1JHDcFJD8V6puz1jZqgHeepeU+u80a09GYSV5w5tRp9hY5xlryLGMyHhGpiDQNyYXTyZQzZ0+RJC2KsiQvS5IkJs8yVpaWiWLNc6P/yOv634DWEXmRNyb6UfEL3OH+PDJJUJ9m6x8ORzz96Ccpzn+YrRPHwUO71aEoc4wpsMZWFakdcRw0MuvDPfn6/gjBMVGkGj+xr015EbQiTyhxI5UCURUOTdO5KCHRRAtJGcriSCEQUqKEQF7DXJkFFnglcbX8tH7BX2QGBH46+b5/wkp/6Zrw0/d2jvKzu+5mOh4zyQr+3vmT/KO9l+cnn7od8dPp02Pa/dYl/OScQwqxY356/IknkCd+kgvnN294ftp5YAcFvdW9DMcDnjp0kj1rHfbsWkbkJUVZ0rIF0oejPmNK+nuWkf1vaN4vhCBOYuIoptfvEcUR7sJzsOsupLpyqRRP1Z6krglW+Xy9d+x61uNWDa1Om9w50mlKkRcopUFAmqXsumU3aRzjrEG32iipw2QpzWQ6JU1T9uzZjVKCLJ1yy749nHHvJZ2k6ELRSlp0O23uEX8J4y0/Li3f5eVsHPU4Gw1IkGcF6+c3mR7/IYoiZ3llmf233UmWpYwHm4zHI4wpyfMMKlO8Ns+VEmiloarBJrWEqlyLECpECsmw+FoqrLPUGRrWWkRpsCb4yJuMfucoyhKKIvie5/4tsMDNgKvmp6Vl4jhu3n85firKIoSffxp++tbD/47XPP+/2Gjfvo2flJJ8e/kotAT/t3vVFflJxxF5Ovm0/LRn/Kc5sBZC60fDAalWtFoJ3U6bJI4xJvCk2gE/DT7x40yz9Kbgpx1vYoON8+AdcRKjVYfT53NG43Psv2WVfr+NtRZpSpQWOGcpipwzZ0+GWllRjBSSjfUL5HlGlk2x1oTq0mefRqzdTZK0tgnKNMsYPvZjdF79d7HWNWGxghD+4oETB6Z0LiSoKCIrCroy1C/r93ucOC7AC9rtFqmHwWCLVruDVAolJcYUuMLS7/UZDgdMJlN2ra6SpVPu1X8FH4PWiljHJCImjkOxzW+3Dq9qcWgkBO8ceVlSFAXTyZjSFJUgK1ZWd7G8uoqexigc1hqU6s5cjdU1pPB0uz26nQ7OWEpjKIxFaImUCiUFpTEgPEkcE2mNtQapVOUTt1jrMNaESzpf1VQrkZQIIYMyIEN461W4/RdY4LrG1fOTYfyx/6fhJ3fwrzP85A9v4yfvBEVZEOnosvwUen31sdbxIwe/jr+x/r5t/DQcj+i2Aj99c/Zxfmb57ZflJ3bIT2t9Q+YcraRFp90O/BTHaB01/OTmkpCvxE/FoX95U/HTjjex8SB0GM1ThdKKbq/PcOoZHDrF7rUWd915G0JroMQ5y9ZwwCO/8rdIkoRef5nRYAvjPHlWcOHcBZ7/39/BvZ8V6h+a84fYyguy3q1EUUwURQyGY04eOcLB20ZYb/DVJhZM0aBRyU9MORmHnT5qtZlOJzz77DPsv+1AFeIfzN9ut8v50uBsSLCzzjLY3Ayr7ELW+BtXv4ldvTXiKNT2staitGqy4JvIH3Vp24Asz1FKsrW5xeO/8S1MJiOydIqxFqkUcTtBqlAQszQGvGeaToJmIghN+qREK0m30yGKYpxyeCHQSZv+0hp1EGpeZKTTMUK44OvWEVEczcx8D0WeV4LjKxM+I8dhnSeSCh1HSB1XVagXWODGx1Xz02CLj3z4wzN++u3fvoSfXvWOHyKKYooiYzQaYmxJFMW0z/4sg+GY48eOcfBz/inWWr7thZ/me1a+gm+1jyKQ/Jh8CJkL2ueTwE/t21hNp5flp16vS/Ep+Ol2927u2r3GysrKgp8ugx1vYq0o7KClzcHHDDYLlIqJW12OnRyzsf4UD73mbtbWVkjTlPHzP8HG5oCNh/4m/eUVWs/+GO1ejzhuUZYlJ46f5p43eLz2KKU4dOgQzz367UQ6tBYwxtJKOuwvDQZb9QJyVWY3CKnZvXsPS/0+k+mUwoZM/fv13+DU4L1Mp2Pwnk6ng1GSJGnhcUwmY9qtdmPyWmN509rfZrjrv3Ow+zdDy2w/i+apNasalzNx8zyn0+mQpjlnz15gOh3j68geLYMm5MOh6HQ6CRFQ6RRnDe1Oi363hzGmqjemQqJ4dWAbRRoVxZw5fYI9e/aQZTlCisa8l7Lyh0tVeRDCY/X4TRkOnadZgUfSTiKUlLQ7LaRYnIktcHPgavlpazBgY3NAu9XBec2FcxuX8NOddsZPz//O3+O5w89dwk+3H/lJjDUoKfl2+xjGOX5CP4hEsHvPXvr9JabTCYUxSCSdVp/RYLyNn+Sn4addayssLy/T7XYW/HQZ7DxPrCzZtbZKpGF9Y0ReWMqioChSuv1VhmnJb//eJ3jgvv3s3r3K1uYA7wXGOcaTMd1IE2lNpCQlYRfO8ilxKyHNMrIsZzgYh8M873Hes2tVgxCUpQldl51vFkkAS0s9er0OSgtGk5Rut8t/ufcgy0vfw4EPfxfOwWQ8Jlua0E5ilFTkecGulV04Y1lZ3UW73eY9u1f4v9t/g+fMf+AB9VcRgKwKaV4kIwhChr4Qs3YzeVZw+sxJzp9bx3lHFCe0+8vk0xTjQsuFC+dOM51M2NraIs+nKAGtWLO81KOVtJlOpvg68a/67CAAFlMYijy4N/KsJEnCoaenykPTUZPH6H04GG062npPWZYUpUUoQGgEwe0q5bVr0b7AAq8kPhN+Gk3GqMvy02SOn4rL8xOBn+wcP9VusMBPbZQWjMcpX9v9DW6/8w0sLy/z4Q9PGn5K2vZT8tPKyiq9Xo88zyvL68Xx0+YjP3pT8tOON7EiL3DW0e5G3HbrKltbU9Y3x5S54UJ6iijp4eNdfOSTJ7ll9RxJDHmRkxcF0yxnY/9X0oo0dx7+eUAwkYLf+rW/z33338vKwT/HZDqpAntmeQIh+S1Eulhbl4qZHZzW0TB1XkUURzjn+E6pOXPn3+fwc3+Fg7cf5PHM0tKalZWV0AbAlvT7fZaW+5RlyTemBSax3Ga/Bh9X/X+qCb5clvs/3rrAW1pPsG/fXt4yfohP7H6Ozfd8D8PRAFWZwysrK2xZD0UVkeMlzpThALZI6fc7ZNMUpYJmJ6RCCd1YnCFPwhPHLeJ2QqfbQkXhIFdrhzUFUoT3hfkK0iwl6CgIgnMOqTRSxUAahF9plJKV/CzciQvcHHix/IQQpFmOtSVlmaNFaAEykYL3/YevDfy0uspkMr48PxECE5x1/Lh6iG+3jwEX8ZOQfLX4z8TxLWETiRR333MXh597hoO3H+TU6TOoT8FPRZljbCcU2fWfnp/WL2yQZlP27d1Hq93CA4/+2rfdtPy08yr2zocMcpmRJC06nRghgitvfWPMeHwBESfErR4FAp8PybKsWoQSWxaoTgfrQRBqbk0mGb/QPsCbfusHMSb4X2e1kIOA/MvI8468SgCUEms99SZ+8tRJWq2k6tSasHR3j2+zkkPle7i1+9V0u11UpDkweJLj6ZQsT/FVnkOn20WriH5viViFShtxFIVKI3HoU1ZnkV+M71/bB+zDDR3/w/weZ86eRZcG7yBuJcE14D0Q6oC1khZladna3OD8hXOsrS7TihPyLG/yIYSUaKmC2Y2vtDqFVIKiKBiNxywtLTMaj1haam1zIzjvmjYIpsr5UFWvNaUVUSsOLgAh0EmMjsNB7LWsb7nAAq8kXiw/CakoyxJrShRtRBRv46dDzzwPwl+Rn47c2aH/6AAhJV8t3suPya9uOOPkyZO02gl/VvwyhU6qrsaC3eOvYNT5uYafOp0O6xfOXZafXtP+eqIqinKn/LR33x4gbK6nT53iwsf+GeVNzE873sTW9t2FszlpPsaYKUJqPJJ+L8KUmrzMKNIBeTqhI3soPdNCkjjBSomqOn0iwDqB0hodRWxsDIDt/tyQO6D4Dq/5wfYu3nDn3Vw4f5oiz7GV2R6dSsnSHISkv9RGKRnCZn3wY/f7PU6eOEkUt7DOce7sWZTS7Nq1xsrqKlEUc4/+OqQIPto4ivhhl/N/eV9FQl4eohKQLEtZ+/Wf5TeSNd4iPP2lJe659z6GgxFlNqEsCoSAKI4ZDDbY2NjAWxvGKAQ6SkBInPdEcRzMdai0rWqnDke2CESjfQkxJyDOIpFYEebPWlf502fhtXEUs7KyC+c9cRQRPCIO/CLEfoGbA9eCn+Rl+Snm3LlzwOX56VX+3Rx66Oe46+TdXOgM+Fv57/Je/+cQQpDnBVmaMSWjv9Sq+CmqzrQ+PT/dJf8SSZJs46e8KAM/7JCfTrz/e3jiqSfRUXzT8tOON7GtzbN0ertQyW6sz/G2xDnHJBszmU5RKkKkE8oCWvuWZmGeUmLrkEoRSrsEeBQhzLKpk9VYj2GndzZkjP/z227nrO7wVeu/zdiExMK/vtKmv5KEMFGtwQuOq/9ET76au81fwllHq91huLXBymd9KdHpE5w6fZpOp0u318N5xz366+j1uvxz5fjy8ue523wt3yE0xtrge/4UeQrr6xt8/Fe+nvE0w71qjXa7jZKKVjthNBxhnUVEQVMJDesS+r0+SnSIoyjkSei6KKbFe0GW5chOsCxD5I5FCAmOxo0Rqg+EeVMy+J6DuR8EQyeXLmlR5EynI4RUdNoxAh180wt34gI3CV4sP0kpMdY050svhp9edfsBzv7pFvHv/S5FnvFV/Ce6nT60w3dW6VvqHOjgElShOkbNT3fdvYczUXQJPyVJQq/XxXsoTYkUIULwqvnJc1Pz087zxC4cYzIa0V/uk7S6RFELIRxCdxDK0NYJ7WSNM2dHSKXJi7Ra+FCk1zuDkgJfhVIKwMfVos4JxwyV4R5mhJWVPv/5zZ/LTx//Zc6cPslj9/wF3KtCfa/SlBhj+GdrbyWLfpdD+Xvodtqs7Frl+cPP0nnq14micLiolcIjSNOMH20XfNdU8sX8HIVS/FjL8F1En1LLqXH+3DnOnN0gKzLEXYJb9+8nTXPyIifLpiF/QyksDhVHqMjQ6XVQmHAYKxSDwZSJzlhZ7pIkLUAEM13O/MFChZIxS0vLRCoiiVtIBK52bdSHyc7PegL5Oid+5v5wziNwUCUYeu8QYhHYscDNgRfLT96HLsTeWowUaCWvmp8Omq9hb7/Evq3kYx//BGdOn+LBBx7EuYqfylBSad++vegoIp3k6CU946du77L8VEYlk2kacq2qzSDW+qr5KYrim5qfdryJSSWJoohEG9LxOUZWoaIOSdJCJ8s465Hao6OSulLz8bv/IstC0Ot2iLSgLENeAm5W46s+IA3KzqySce1/Ns5w+uwZTp48Sb/fI2kn3H7wIH//dQ9XohT+V5iSra0BZF/Fifi9DEdjxpMJaZbyyfEeVjePNdFDK6sr9Ps9vtL/Iu+PX8ubtr6CXrfPdziFVDKYu59Cy8mLgrMf/n6KMmTf9/p9enHGZJJy7vQZtjY32L1rjbIoQ2K0F1WyNpSFoaVC1GXWeidKQ899gNj7xgSvy7t4D0pp2p2EW27dh/eevfv2Mp0Mca5ohMLVlaS9RM7lifg57VFKiRey8aXDrCL1Agvc6Hgx/FRXS+91Zvzkg7k0x0/uU/ITx36S0+pvcvLkSYYrWxU/HeDhN70egIPmXRfxE4hYs7z1ZYwn30+apZw4fmxG5HP85L1nNByitaTX7aMrl+eL4qel/tXzU6lQeHqO65qfdl52yjqMMZSlw9uSMp+STSfkkcKLGKG6KBWj4pDjgIc7nv95tt74TVhn0V4RRZpWHDfRPR9/4xfweY+/n7QdfLCe0H8GITEmhH6+8Lt/nwvp13Dq9GnarYQzD59ibXmZ43/4j2klLXY9/H8hlWQwGHLs9/8Rt372P+Y3eu/mT5j38Jr4r/GY+Djdsx+gFMFnq5SinSSo6oAS79BK8eieZ3nz4DXI+NJkwYsF5Mj7/gHnzp+j0+3SX1phY/de0ueOYa3BGoOzFu8c1hiiOCFJYrIoRmtNpDshcVtCvAJSgyokQkiiKCRGOueg0lOm4wmm9Hhn8R6MKSmKjFo9LI1BSkmkdXCF2Koh6ZzQRVFMp9PHOh80OhEsYucWm9gCNwdeDD+pqimjdRblFTrSqIonwrmPQmlJ91Pw07PPHaJ46lsrfmrRNpa15WV+/Ohn0UpafP+qRSrJ45N/y48cexM/euvt9Fstjvj30ut0kEKSF0UVmj/jpzv9uysud2gVQcULL4afur0uaZq+CH7ygZ+i65ufdr6JOY8xJenUkeUpxoAQGmdTjHWIWKCjbthxBWgpaEUaa0MC3RhPr9sNvXJsuLGQSFDfmAj9fYRA4NE6QmjFyVNnGJoLeOcp8pLB1hZFmvKB5x+h3W5z67FvJIoiRqMxZ86c5SdedQy5rnmNOYJQR5FKY01ZmetB49BaE0eaPM8BaLfavHnwmis2yqtRlCVH3/cPOfTMIVrtNrt27wWl8d6RZxnW2FB9WgiKssRYS0ydFxG0ReFCqwLhXJh8X4Xj4ul0u+EgOJvQioI/ejoehSgqIUNhTlOAtyEU10BeOlZXdxHHMelkqzpIDQeuoQJ1OCzt7l3GeUFZZHgsArmwxBa4afCZ8FM6nSKEp9fpEGvd8JOSakf8BME6yfOC0WhEkaV84A8/yD8694s8sv8WoigiHY35s2f+G2dfdScXtObYbUnI5boSP2kdUgAI/BTF8YvmpyKdvjh+qsLAr3d+2vEmFjZFiXOhPIp3EqrKww4F3oHPcbbyJ1tLrCTdVgtvStI8I80y0ixHeAtC4LwjL3LSNEMIESatylSPo+BfbcUJ46nG+xykrGpqCZzXjMY5v9Xaz2c//gG8cxRFzp/7ve/j3zz0zTy3/hxlmTeROmUZInGMNRhboiON1pp+v0+Stoij6LI5F8Fd6SmN4eQf/BOee+45BsMht995J91+n/FwSJ5OccaSpmOWl1coi1CjzDlbZab7RqvweEpjEVKx5j+CLQ1aCpwJYyqGjskkxUSq8gsLzCQcTBd5jicIeVE6nPPIKKGztESsYtLJGOdCe4laswv1yspQpxIwxhJphdZqkSe2wE2DF8tPccVPWZGT5nkoTlvxUzuKd8RPRZHjfVFtBjLkXKH5nt1/gW99+qeItG746XdZp9vusfXs8U/PT1HIe01aO+Ono0ePXpafsnRCR3Svnp/aS1hn0Fzf/LTjTUxISafbYW11hfFkwmBrgjHVRHoQ3mCLDO/bzQAjKbjj0L/n6YNfg5KK0hiMs8RKhWiVKuTSehC+qpZcR2dKQexd8JVSRw2FQ0AVaZJ2C1Masizn0P6v5J4Tv4KOErK85JtPvYAxX8QzvfchZF4l5wUBSNOU48eOkSQJ71v723xh9Dwql5f4mGvh8N5jnWMynrC+vtFoQ8570skYiaMsCowx1Fa2EALRhGcK0jRUixYi9NvJ0gzwoTW5UqFVt5JopWm3Wgi/HPLiqggkX89Dc/2Z4HkBkQ4bMkJRGkC4xncfhMQ2dyUEFGVoGyF3mIexwALXO14sPylXopVESVlFAIo5fmKH/DQ7v/GE3Kd/cPY/YUrDVpZTyJx2q8Pxe1aReYmOSqKkgxfRFfnpHrXB2tpulNIouTN+Gjz6o5flJ1OUmPjm5acdb2J1/8yiDHkKWkdIKYgihcvsrN+MdSgpaLfbbBmHcRl5npP0eyyvrNDZ6NJSCmTwqbY7LaKoyiEj1Aobj8cUhSGbprRUwrL6eTLxFeAF3rqweC50bvXek6YpR+54F3cc/UWMDZWSkyhh39G/wNbSv65qdwVBKIuCzc0tflW+i9s6Hd43uJfPvpyVXmk3/zKCv2urKCZrKcoQuptPU2TLY63BWEfcStBRFBZQUHVFDZn8RV7gvMMYT5YaNra22N/eF7LfPSjdIopj8jzHY+j0ukwnKdPxkHrjrg9A51vFheKhPTbOn0Oq8O2KkhaqKgpa3Ub1JQlj2drc5Ml9f5J7Tr2X5eWVnS//Agtc1/gM+KksSXqBn9xo2PCTdY52p/1p+Un4kG8Wjtgv5idHluZoFfGqY3D4YIK1jjhu4ZwOVttl+Onkfb/Ewc53kmX55W+34ic5d4Z3JX4qrb2h+Gkw2qDdae2Yn3a8ia2urtJfWuLAwTXOnDodMuClRCmJlB7vBK4q2BhHMWUuEDpCJN3KkrKYMsOWJZMip6xKSU2mKXmeoatSI+0kQUpBYRylcWTFX2Qp+jn2r/wGUmk8d1WHi0FQbhndjhEltz33HzECrCn58bUDFHlBfsuUL80gjluVVmUAwc+mf4q9Tz6JUorv6e9GaLEteDYISInWmm938PE9z3D75hqmLCiKoimBFcJNNVEUIytNyfmggZRFjq+inJ498DXseeKnmY4n9LpL7F7bS6sdoo+KsmQ0GDIdj3HA8vIyJ+/7y3QP/2uGm+vVmVk9MAFi1lpcKsktt91Cu2XIplPOnzuHEMzqwMWhRUMcx013gKIsyPKc0hha7fZOl3+BBa5rfEb8VG40/OTn+KnT7nxafoqdROuYXk8jlWZrMGgiDcOGNrNMjCkoC4+gz3Q8Is9zpLyUn6bTKel//yhnvvQUq6tr1LUKG8zxU9g4LcaUL5qf0qygKO2O+Qmp2NoYvmT8lOcFOtY75qedn4lVRSWFkvRXlshyixSapX7M+fUBk0kRGpsBuur26bzD25wDh3+WE/f8JYrxlDIvabVbOILf2XuQVSO4vDps9FWX0vPZu4m9p933aE2lcQSb1fuQhFdXtj/2qndzx9H/hPchee5bzh8hS1N+eOVr+M7JcRCCp7q/Vd2H5Pz5dT7+yCNsPvQmbr11P85ago0t+NjqM5RlwZsHD5JlU55df4bxf/9F8mLW82a4tcnetTV8koQimMbSanXAh0TGsjScuPfrOJW02HPsOCdW3kn7/HtYWVnG4zl+/CTOOZRUjMdTnPXEScQjt70TzpzidpNy5oGvxXu4/8yvoYSuDliDazxETkUoFXN068/T9z+NQOGcx6SWzJd4N6k0o+AGkUKgtUTsgUP7vgp35Jd3uvwLLHBd4zPhJ4THpDnFZEqsoh3zU27Ajx1Je56fZqlDtnqtd0FhP37PEr7IKYoc4yylDedgrSQJIe152vDThzop2SOP8IaH33gJPxljKcsCEGTZlBMnjnHuwz/wKfjJXZafvJCMJhnJseMoJUi9/bT8dD47ByJEEepK+e92e5+SnzbHHl+yc36Siul4yrEjx3a09jvfxKqoFmuDGZ1lKUncxtiw4weEGH+lQvkWZw04SzdJeOD0rzCZpkRJizhJkDaEZAYhCQeiSmm0jjDaYinBK5yOcYgqOzyY7W965PewvSWcs5xfOsHnHPpoCNuUGoThWw7/FD9x519mONjkLdGjPJZ8NIwnDVFGG5ubtNsdbr31VpTWWGcrDcbQand489arGY1HjMohj/7Xb+ITB15NZziilbRIWm10MkG3WsS9Jaz3TVHM0WgLZw1ZOiWKY5yAssjpkCGiiEHxtejz/wlTwGQ0pdPrkCQRcbSMlBBFEb3T7+XwHe/i2bd9Ma2TitJZ1paTkKlvQmWBSIU6krmxlK4kSVq0ZIeljgdCm4i6Vbqpsu2tDV+qDz30FvaM4J5T70UtqtgvcJPgM+UnoXXgpzie46ewaVyRn6Su+KmY46cQvh8U7JAXu9TrIaREVvxkrEHiMcWUNM0DD1bKeOCnLdrtNsne7mX5KY4i8jz0OPvYxz7G1qM/HDjgKvkpzUPyc7fiJ68Tzp8/9yn5KU2n5GVJr5UwMDml3Qk/dSASO+InY3Kcd7TaLZTY2fa08zMxX5X/r7pxhqgaiy1pFrC2LZXSzXlVfYgqKoEw1uCtIVYqRMYIgVAKlEASIZSmv7yE856l7ojhcBfCh7D8UMfLVb7cICRCVkJWNVlTWmNMOChcXmrTEhFKBY+lQ2MAAQAASURBVPPfex/qo/lwENzrL+G85fummyil+KtbI/rOES2v8sjas9x7bD/DwYh0rSDPc7rdPnGUoDY3ET4c4taRNdPphOl4TJalIWlQGfIiR+uYJ4uCvU8b1tb6FFlOr9sm3ruKiiKcs8HclyEk+Ml9X4F3hrc89oc8ccufRrXb2IGhLIPGksQRUgikFEhrmUy+Ep+UWKbYyKGkxLqcpNUikg68xHqBkBHOeeI4LPnxu97Ng2d/dcfLv8AC1zVeAn4y3uP8lfnJOQXK4uwcP7mL+EnM+Eko2fBTrCXLS+0QtVia7fxE4KfV4Xtx/gGGwwFKKYbDQcNPzvnQIeTJf0GaBqvsyvxUXIGfCrSOeLIoaOFYW1pmOB59Sn4ajka4KrdWRxq11A7nblfgJ5mn+KSDMzvjp80tS5YVeOfo9q9xxY56g1BaN0lqta9WQMhyd3VrFBHM38rUklW+gbWha2g5zXFa44zDUdLb08JSMDk9/f+z9+fxll1nfSf8XcPe+0x3qkmjLVuyZMmyZMsTBmIg4LgDIUk3YUgI0CSk0+lAmjdN0iTp5NOdvBkIEDrkhXQSkhAwYBMg0OmmkzSQMBpjbI3WVKWxqqSa73TO2eMa3j/W2vuce3Wr6pYsWVXl89Pnqu49wx7WWvu3nvmh3Az9eqSSyO1fQK98hHKyHdX/VhWuKfJJMAc4S1UWKK1D2pkxVMZQ5FMG/YRf37yDP+J+l3CJnlRl/PXJOv90ZYWtrQ2+xxv6gz7DwZC/vn6BvzHeZnVljXw65dzZs0wm0/Bd65BKhsjIJEUCm+sXmORTxqOb2N7aChE1IlR1dr6OIajhurfuVqydcdRVxcooIx32o2TWmisEzgvuOPnzPPumr+fT7/4DDM8KrIPz6+No2nAMBz3WlkehKKgOtuSl9McxxqB1hncCITW9rIewU5yHprYIoUN0qDF473nLCx8jWRrsd/oXWOCqxuvBTz5ROOkuzk8yVPgBMeMnt5OfgI6fmlp2/GQVDAYJILoOxi0/pVkfrRVbmxvwif+N9M7vZDAcsH5hnXHLT/mUjYe/P/KTvyQ/TSZjqirdk58QELLAQiBLeRl+yno9qEo8oYzU5fgJJ0BWGHkl/OTQWpHoyxXXCti/JiagLHNMk5EmKVLpLlHX+RiVEu3BbdKeANrW2a3k47yj9JYkRuWApzfsYaRCbeTQhPbiQMjAP/9/d9EsUrUO0tBivK3UXFcFoomdUK3FWMtfOvov+JG3/3fBwRqvX0iBTiS9TNJLJX/xxDH+8ZHb6GUpHkdRFPxlLfmF297KibMnaH7j++n3+7z/kd/GKkld15RVg/eO7fE2VRMG/P5P/Sq1TrA2tFDIen22x1vB1CslWmsOPa8Ry6GPjoohvQ6PQFLVJb0spbHw4u3fTILjPQ/9Js5VTKc1jRBorWmahvG0oJeljGTGdv0n8c7x6Hu+hHc/9nskWYYWkDRJkJyCWR+dJKASPJKbirdSU/PynX+aA2d+cd/Tv8ACVzVeB35SToK8DD819S5+Ygc/QTDDiUZwy1NTnrk1w1gLWiFkaK75Cn5KBb1U8nfWvom/dvKjZNvfBz7w0998258N/HT8OGeeeYZ+v0+e51jnLspP1lpw/pX8ZIMrR2sdTKj68vxknSNJNN57+plmOq3xF+EnnAfnSKRA9of74qfQAdoihUfubw+7khB7KMsafCjdL4SYmfKECA7Mdj2JIO3IGJXjrQ2quQslR5TWCK1iVfugUiaiH1qDCwdzDlGAz7zrQ7z/sd+J0ThBAtBaYk0oA5OmaVdZuev8LCV5UWDtzNmqleKX5NfzyyuStGmoG0NjLCrxTMcTqqpACM+3PPS7vMsd52alGWZ9fueeD/D+R3+bIs+ZTCc0dRPKzziHUFCXNVVRkqQpR264gek0Z3t7m1uf/WnSLGM0HOJ7QA01IZy2qmuMDdJJXuQkWqKSHvdv/Ae8qfitd38Z73nwP5P2+vR1hpAiSCnO4VE4BEv6Z7DWIsQfQmV9VNYnlZ6i2EApj/KhD1JZVdQuRynF+upLfPCzv81wmqJin6IFFrge8JrzE2ETvBw/QdyA9uAnhNjBT3e+VHPsltA/K89LrHU7+EkKhzUldQ1/NPkY/+CWb+Vvnvk4f/vg1/NdZ/8P/uzDP8xDZ3+OzfVNVJJx5q6DrDx4AinFFfMT8f5WVkJV/zyfwGX46cDBg3hTkU8mgLokP3kc3lukSPbNT0miGPSGDAdpJyxcDleQ7TpTuau6TdCLDdOEiJJHqxZb0l6CV5pY8hhnLVIQyvN3bQS6UpBIFEmaYYyBokJOCnw5O0+oc2gBz7+898+TKNFtWmHfCseSsm3L7THG8wdGzxDzpNGJRsqEqjaUteH7V29B6xQc/DX9DFKl1LXl6aefYXs8QQiJkJqvfP4xVpZXQ4fpxgTncJKgdQKERp1FUWJMcMDWVRUidXyoKZb2srBIyiKO5KyF+c6pCLlzKsTN4pxntLzMgUOHWVs7wIGDhzhyw030ByOM8YgkIV0e8oHHfxehU0SSkmY9hFC0yYbWGPI8ZzzepshzkkSzujKkn2iUuiIZZoEFrmK8HvzU4kr4ybEySmf8BJfgJ4exbg9+spS14efc1/PX1FGam/8sOsmQOqVuAj9tRX6640TNysrqG8BPft/8pBL9uvLT/n1icfLXz53DtgnHxNbcXWip7yqjOBxOSpQHEfMl0jTaOesGJyTOGoSTMBZ47ZFNGvrQeEhUgvEmZMuL2JdGhMEb9TxKBqdpLwO86xplhrwM+KG3/FmaScGvnr+Nb5C/BwJ+zn0joghlaYSIzdl8yJZvjCNNMpx1NI1laWmZXtbDOM9oaQVnDVvbWyAEEhES/xyUVUGWpLg05GTUjZlloPtQ6bkxwcQJotu8WwlRtpqkUnghO6nC2SDlZVmfyXiMaYqQ29Xr0+/1og3a44UIdmUHAylCZZO5YBepfEhWFJ4kS0l7GSrWfzOXLCW6wALXDl4PfkJFbe2K+AlGPc+WbflJvIKfbj+eI4TgkQPBN6cUIMA6KMpQoPcX5dfzD8TjCN9HyUf57qZC3vGluKLg+8q38g/WTvEjK1+CtZ6/cfrjn39+cq8TP2VXzk/71sS8D3XIhPNo6xEeGgulETRW4FsLc1TdbWMQtkETm6PFm2ptt6HemKcqKl5+5iVeevpFNl46h3AOpXSot5Vl9HtZqH8Wo35CsERrb/b85tZbMabGNKGqtI1lTISU9PsDvmL12U5j00lK1uvF1tiSpq6445d/hjIv+CHxDrSSDAfDuLBCIzfnHFIJRsvLHDp8I8PRCt46vPWh4acLTsislwWnMqKT/uKQhGhJD0onSKX4leM3UFeG3zlxE9ba2HTOgwuaprGeaWmxXqCTBBsz8Zu6Cr2JjKcow4PhWzOIKfjVpzNctHu3RT2zXsahG27ghptuZe3gEaQKEUfhoV6UnVrg+sDrwk9w5fzkHJIZP0nh9uYnIXnH2eCrm+enjc/eyv+ZfEvkp5rTp09RFjmf/MwZtFIMh0P+snkUqSR/lSf4y/Yx5Fs/wOidX/Wa8dMkr6grgyua15SfpuunXxd+uqLoRDykTgR7p/dYB8ZJnBNR4gmflUrRVAYdL0MIgcNTlgapFVKpGIYZWl8XTRntoSlKCFxjKDe3sAr+4R3fzh90z/MDb/52tHS82z+KAP7Zvd/NmXNbJKXnB9/yHQgkCE+iNVXdUE6nDPojfnP7Tr6OT4dJUpKvObSMkoKmafjPk4Lf/+I/zOHhEKVC5JAxhuWVVe78jZ9lurqKVAl/5/DX89fT5+CgZFTX/PLPf4Ivu/Fl/svJG3jv2ja/ceomqqLiy289S4gUCpLOg+/+cj745CdRWiJlRmNqqsJy7sKY/zhZwzVbTPMcmEmKeI930BgPsXdQ2u/jhaCp10MujBMUNSQJqBga/FvPL1PmZ5jcWGOsp69CKwlHdNBKKIucuiyIU0myT5vzAgtc7Xg9+CnbBz8ZFfzvIHYEkQ1HK0yKbYqSeMxQYzFNEioP0+mUwWDE+YdupPcHvzoUFV5+njvuWeIuu05TNvyXR18k0QmHb8hYWhrx6c9uYIxl9YY3c+F4xcqK5LaDlul0QmMt3PEljJ75HdbXL5AoTVlWeDy1aajKijTrMc9PwRUjXslP5Zg01TjTMPBD9uSnxpFlet/8ZMabTIopUslL8pOpCnp9dUX8dEXRid45rPcYEWx2WSIYpNAoT41HCBX9SBJTWwRgo13Y+S6ilSzN0Fp3xX2zfj+orMBqv0e1McY2NVYIyrqmNjaEX2IgCwulKIuoAmsSCVordJSIrPVUZQVIvmLlecRmu8gdpqlxsfjwnx6/zMrqKluPHcUzq0HmnOfx5t24M5bfeuDLEdOcdJSRDYY461hZO8BwNMVUDZlOqOuaxjRBVe7m2vOBz34ClaWhlllZY03o8No0NXVdIvBMJ1OGw16028NvnryJLzn0Ion2JMojvKAuKwSerDeID0ywv3vXVhSQfOSOLf7T4xn/8ckBX/6WTQbDDKzAGkNDhdeSIs/BO6TS0YxqLzbbCyxwbeEN46fQA0wIEfgJwIdCvoGf1IyfdOQn52MbKIn3a/zaeMo3rp9gMBxhVOCnl557liRJWFldIUuTECeoJDrx5JsblEXBaGmZY6cT3rw2ZrS8Gvjp4CG2NjYQXjAZv0SWJVRV4CedZjv4SamQkrCbn4xxHT952MFPTdUggCS5Mn5aWlnBVyVb586TjpYvyk+J9EiVXRE/7b+KPR6pJY12WAdIQaIEWgsghKtKEdRLgaByltI6dOzkaWNPmhA1JLsFgvdorWPGt2V9e0zPWhQh/PSrHvtdlr/27Xz1pz7Nb7/3y/G1oKhTsl6ftdUM7z1JkvCHD67S7/f596fOsb29GaOHbKib5mMtM2v5XeP5b8tzaK0Ra2topbHGIJXCWWhsQ6JC3S7nPF/x6CeY5jnP3ruEzEJe1uFbb6HafBrr+ljrwTEr/AmxQ6nkU+/8IB988pMIJN762CIi5GZkicIa10UuSSH4T8+ucv7MSYqlguWljEEvJCw2VUl/2CdNl2nqitEwI1XDqHY78IL+8hqql7K+fo7fOfMmvuYtpzvpyTQ1OE+qW5u37xbxAgtcD3ij+KnfG9DLMqRUOG8p8vPkTeQnkeGdJ0kTEp3Q7/eZ5jm/+eY/HYqiZz2G93q+8fnHO34aLC3R7/c5/EVHeOn5Z9H64vx0/uVTNHVNY27m8ZOnuO1ISZKs8WzvixEOzo/OcUf522FP2YOfrGlCXMJufiLyk93JT9tb25w/c5qDhw6wPMropf6K+Gm6XbK+fp61vp/rnr2Tn+KgXxE/7Z/FnI/OPhCEZmbGWIq8oqlCroSzIVPbWkvZGErn0CLsxDZolXjvqasaogQEdAm4Lg60lKAShcOj2rbjoxFf9dlPcuYuyYce+wy9fp+iKHDWkfUy8nd/CefOnuV+Y/h/6gaE4MMrQ4wQ/D/9b0PrhO+oLrBiQPf74T6io/WO0xd47uYjCHzX+VTrBOc9SitMU7O5vo5KNNY4fjy7nz+39lXc+96ah15YAfFf+NBNp0jTJTzBhzYcDuj3hzgnmI5zpFL0+iOmzSZSOL785rP8+ks3kGSh8CVChqLFTagO4r3AE9Tp/nCI0oqNC+foDwYkaYIUfeqyxFgDeMrpFjq9iX5/yOb6OuXNFVlMRswnE8qqRijNAw/9Bn7UC77FuRDhBRa4pvE68FMaU1AuxU+JlCRJSr/fo2lMMM+lK/T7PaQqcM7RyzI2Njb4lRu/ATc0NE3DweNP0+tleA9Jr4fWmsFgyNLSEjpJeOm5ZwIvEEtqeS7KTy889QTnz59j/Pa7sbYkTRTLyyusrq5yqvkIZVlx9pa38Qde+OgOfmoaQ900e/JTmvaoquqi/NTLQl4XXAk/JfR7QzY31umna3vy02g4oK2Ru19+uqLOzo1xIBxN4yjr4EBNE0GS9dFIhIlRpsE4hxJ0m1W/3+dHb/sL/NXjPxlCWGVQ67Ms4wdv+3a+58V/09U+q6SAGKKqne5MBc77WCgyLFZiMqNpTJhofIymCQ3ksjRDqx5/fjqlpzL08nI8RywHIwTHjz3N3SY4JkNnUtNFNLUYDIc8c6Kgrqe89741vurRT6LuvY9ev0+WZdx837vYlg9QpgkbStHIhluaXw2dUoWKddQ8VVnjoasonSQJiVad/RlvkSIkHzov8LKPR1A3FaJxnQM4STL6WUYuJNPpFOcc6+fOIzZ7uLLAeE/TNGQ9jSfWfdOarD9CJwlSJSAUxSTf7/QvsMBVjdeCn3q+H0LgW34SgiwL4ecAj9z/ndz38D+hkoKH3/2dvOvRH0UnGoTfwRkvrX44CNZJgbUWrTXbZotDLz6Jdx7rHfQysjQU/l1aXqaXBROmEIIXjz7d8ZNzNtZP9Jfkp8NCsnn6FHXdcPvdd6Okotfvd5GTt2+d5vwNX9Pxk+s7mqahqg23bPza3vyUvrb8NKxc4CdeW37af2CH6uFlhpcKmcBQQ5okJIlCStgeT6nzBmywNfeyXrdApFT8kzv/O1aE5F/e/z/Stsf+MvEM/+ze7+Qjv/9rPOrejsfzn9/5pXjv+CvHf4JPrb+V5eUhSkr8XN6GUOHGhRD0PnI7/NYp3rx5GucdUkjeOQRwkF9AyFtQQ4kUMxNB6/tqnOWusxs8feNBXFwcoRCnD2WcVMhMz7KULE2xZsQLL8PagYOce+kkxhhue+ttON+Pef/hGrXSnFr7CEKMOXfkD3PL5n/GA03dYGpI0yRMlpSh2ogP9de87wdpUqoQTRVzWCbbY+q66CSztJdx9qZvpv/YD/Brzx+m8RasZbA1RrgasiDhealIeykHs2GwZzcGIT1b9/51lG9YeeqH9zv9CyxwVeNz5ackDb22ZAx2aPtyHfvi/xm858DzTzAcDjlz6Kvx3pGmGYP+gMFggG/D5/EcX/lKbo8CehuirhPN6soqbnk5JlhDsJuJWbuYyE8nnn0mmv1Ch2WdxMhH7/bFTwiYbmwwdhcwxnDjm28L97aLn5xwGGPoZSnnjnxN5KeaMze9hQ88/S/QSYIxzS5+skEwlyoGsFycnzJRMN0uyCcFjQv8ZLangZ/SS/PT8sEjKN+wvTnZ19zvexM7cOAAvSwhSzRJIknjT5Zq0kRz7PmK7Ukd/YaC8zd+bdcuQAj4lvwshL8AT1lWnFoR/KntlzmVZuE9IfiaYw8C8JR4N2urwZTopcL6NjdBY63lptveSmMa/HGPuv2OoMajYuKg744nhOhKy7QLyOGxznLi2WdJbzo0S5qO2foKgnTQdklta67FzVMqzx0vn+fJQ8ucOXEc7x03v+WtcXMMm2xoyBf65azf+DX4mJ1+4/p/JCmSLqT2E2ffzFfccjp8T0h6vR5C5PGaQsHjVnMMtdg83jTYaosfevM38q47XuC+T/8XPvnyjaFMGYCzIfHRiVhJQCKQGNPwmXd/iAd0gqjO0+st8sQWuD5wpfzU7/djt+FYeir4FzoXx8nBl2Od48jJY6H6Ra/HrWdfxMdGjQe2zjC57U9QJSFwQilFWVeI8akQRm8i4ce6jEqrS/LTS88903Vxdj7wk0cghOoq9F8JPznnQIhL85NNEFKgZCiebhJFtn6C04f+cBT4Q75WlqXcnv9m4Kcs9D5z7jL8ZLeQLkdnGmcIGyEg3/Q+OPXwRfkJQkNTUZ6n13uNfWJvuXm5Uy0T3Ra+pJsMnQ5AO4SdYEzDyy88j4n9e1qtSUrRpq9jv/Qw5j+e4NxoFMrEhE/S/iPicZGh6nwIew1RQFpFiQXfRdo472Mhzfh7THoWcWGK2OpayjD5zvuQwIfsmsN53NziCotDSoWUkjtPr3P0yGoMzIjOX6W6pL4zJ052fcW8D/2GbnFvARVC+9t7uHDD13LnYccZfx9vPeAx1vC8vBulJF98+FdiTkYSbN/OhvySNrs+Gu6dKfCm4KtvPM5bP/Fp7HDEV77pHL++3ovlXjwK0dnNbSyq2dQlR06/DX+LA1dTV8V+p3+BBa5qXCk/hdyuuJnEaOWXVj9My0GqyPEWsiyLmxzde+1vQgZriWc3P4XNSisNii7iuQ1kmOenl557dsZPxnb81EYj7pefWtdKx0/i8vwUNo0ZPznvueWtd3Tnc97HaEXLs/0P0SQWu+TYSBKMMSyNlkjTIQ++8yN4F7pMP5QN+MfV/413Bb2epud6JLe+F18WVC+dDcEet70PdeggenUZ5wkb9oufoqlLdJqGYBBXU1fNvuZ+35vYylK/S5AL7QsAZlno3nuEa4Ca9Y1NrD2I93POVgF3ntng6A1rdNWlxcz+GuC7TQ5iyKt1sb6ix3kLJDukmdYyHBrizbbCdiK6Ntidyk/cKMLCEdhO0mnvo61lJsRs4zt240GE90GlBp678QD3nA73Y53FCx83Nt1F+Jx76SWcd7zp9rAwpPd4KWOmfCg2qrXuHJmnDn4Eaywej7E5R5MvRsmE6eG7g6MTQb404sb6U3gcv7Z+O++6X/PuB3+zi0AS3iM9fOrMrXx4bRwWs9YIAZ+890u58YIGQtdZIRfRiQtcH7hSfjKxZqFUEoHg5MpXRRuRn+Mn8Up+mhO0fdw4XDTxua5hb/vZOX6SouMiEb934pljrxk/BS1SdvyEEAil8dJflJ+UTnA+cEbLT6dffAH8bBPz3nPL7W/DR64ShIRtYw1FUVDXhlumL+G9Y/22exDe8303fxN/68SP4G79AC5PYkBMvEcP0nmU811sg9Qa0evRNI7//W3fwQ033MD3PPF3EDLb19xfQdkpP5vHdpJaicB7NDnL6RQrKtbXS4xZQksVJYaQoX70yGocIDHb7V2YeNGabNsNql2QzCYf7xGxu6lnboPq/j+nz7WqupiFbUoVanZ15sPud0jTlLvPbkaHaXA8Pn14pfs8eO46sxHuITqEn7lhlXvOb/P0kZWukKfzDuRsISuvOHX8RbzzUVLy8ZjtA+C59fbbQcRus7Ev2ptfVkgp8M4w6IUkReGDufDEzf8Dy8Me3zApOH/sJZ7NvgSvLFb+PspDKiWHb30Tj8sRiGAukFJQlFuEbq0S0VvlWP8r9zv9CyxwVeNK+UlKyam1P9RV5RHOdTUNvQ9tRdoNquOnubN1XNPxDJG3Ihv52abUhuq3BxHAyeee7Uo77ZefVGxuiYAmVgCZ5yeB6HiTGOimtEY6cUl+8vg9+UlGfjr9wvPdMW++/Q6894FTxE5+Gp15gbcmmkP6IC/f/K386+QQ/+32J2maCm8sVgqUF6RSUlUldjyGaM6U04KiLPjL9jFuFeuI3irlax3YMZMw2iUTLaZehlqErqKnLaXzuNpxx93vII2Jvi8efTqGpspI2ILnxCZ4uOX2O3jpuWfDHMfF0k6mcw7jHNgG0ZYiEQIlISo04H2M/nOzTUvEclFCBgkkSlRhQ22X0dwmR3BqPrrSC5KJUN194jzIcIynj6wCIRIKF2ovHj28hBShbQ4IlJDRTOGjgxYQAqkExJD5Vpry3qG858yJE8wew7jBuZC3cktcNO0icx42Tn2WafF2igtPUVclWitIFHmmaUyNShQm0RCbgxqCmcIah5s8S56v8fO9hA/bhU9sgesF++enF/tfQb8/oB/5yZqwGQSzXDDHSdoE6LCJBOqJ/CRVtAyFAr7WNDitgrVknp/govwUentdGT/V3u3iJ3bwU9u/bJ6fvDWhMtLnwE/tJuuBsydPXJafNrcmTIuGc70ef7++g++VT4FWjLOExlaBn7QGa8GAERZZ1VjrcM6S5znS9DCu3NfM718TixJAGDffCSPWNBRFibOWM0e+pqvKnMZJUEpzxz330q0EopouNW+9+x6GwyF33Xf/bCl2Is+seoY9Z1D3HmY8HrPFSd5y111orTj+7DGscagswXvP206vc+zGA+F7oRwY1jqUCnZj72YTN3NO0t1Xq6a3izHurNGUF6W00JwoZt6DkB4hwoQSo5ukajVN2docdoxl25YhPHi+892Fc7f3Hq7nzPET0Zy6c3FZ+3isCBCkIiEkBokTEuHDYkvTrDML4D1vlncgpODC8U/zlqee5Clj9jv9CyxwVeNK+Gm5E5gDP2mlX8lPqiKRnuFwuOM8e/FTmiQoFfppCYJPTOvgd7d2xk8tDXjv0Uped/zUbmjWWurJmD++tQl4XpTLvHl1ghGi46e01yNNQ0Fl5z0nDnwk5L1tSIQ7T6NvxkyO72vu972JtREwoSaZpSpLptMpx9IvCbbTkQj+nHZABOCjfbA1EzL3VveX7yZYiPn2BcGMqFRwdKqYuyGlQKcZUkre8vZ759R2j3+H53bnOH7sKHetbyAEHLthjbef28J7ePzAEsY45h20nlA6hdnapNUCIUT8JEp3kUD41uIZWwlY2+lQgpBlfteZTZ48tNRNeNuuof0utNW0RWd/b+9bxQAUT1jETlgUKvr55gaQbO53KPMqFiuWM21WKoQPKdPee06/8GJ3rSpJUcmin9gC1wcuxk9lWfDi0le+IfwkAaXn+ClyhnOOXi8jtDPzcdMIYf2fD34SIvb+eo356fSLL8wGMOLWO94GwMltzYO//wRf8r7DUUiQIBRCeV7eXEaq4Mv3eE5sr3HLyiaq19/X3O97E6uqiqIqKKY50zynLEqeH34FfrJJmw8hYq5Da+sVInQBVW2vAXxXJHMmVRC/N+fUjG+0ana7u9toHmsH3cVgByVDnoV3wYTw5rfdRX6H57mnnkDVhicOLPHOzQmDfo/bXz7PoyvDWWQSdBE8MqzO2XsiJgREiSs4UJkt4nh9jTE01qCkpGkaHj8wjIVFZwuhPZloVXhm74WPzVV8lqGdgpAC4VVcYMFE4ryL5WF8txhkzDMBz2hpiTIv2dra4uChw+EYUvLIDV/Ke8//XhcxulP2WmCBaxt78ZMxluPLX4nY3L5yfnLzZsTXlp+kCNGAVVmj4jOcZSkD3cM6R1FUrys/AV3A3evNT8ePHUUqSV2E8PnR0oiyKNna3CJPQmqU1JIszWIyd7i+09NDvOmOL93X3O97E3vhxec5ln1pUFelhCE7Nq+Zg1N0EymljA7FuUGVM8kl0Qm9Xg8Ijsq6rjsJo52k+d+NNXhCGRilVJRiRGi9jQ210aTGOYv1jrfe+XaOPfE4eZ7ze72MdDLlkaU+1phugjwg4wT5OQduK3WFPkAu2pzbaMqZUxcpY1kWMNYicfG7jllqwcwO7YnSTDQ1dPXaRAiL9bFkjsUjRZD0WlOiVB4IocEu2o+98zg8xjQIAYN+j14WfHtKSXr9Pr1ej1tuvYXlepmtrc1gu7bdbSywwDWPF158nrIqg7XCh2f05OqHQ2+qV8NPWqFi3ia89vykhCBRiqKsyPOcXi8jzUKBXtsFk1x//PTIk9s4B8473n6/pNfr0+v3WFs7yOb6RuAnAj998qFzfPM+5n7fm9hT6oMI6+ONt2Hz7eKgG/Tdi8VEv8v8a0II6n5N3UjG4zHQhpX6OSmptcHOonWcc2HyhQrSTHTetpKBEkESUSrkidiYiOeco24aYD6TPtyXjOJWkGhctEPHhSCIzuFoz3YeNx8AFH8QgkSHrHhjDI7WiRsWcSvJtZaM9kEQso2C8sx657T3HrJCvLWzgBcp4+8+5KKg5xr+CR48/EF6WvHV6QleuvePc3JrgtSSwWBIMx4jcGRpCHn1yUIXW+D6wXSac3Llwzv4SX4u/FTXKKleHT/Jy/NTovUXHD9prcgnYw4euYFbbrmF5aXVjp+m4+0ZP3mH15477rl7X3O//yr2MZFPtCMUF8crVNJXfC98aP7dEM0SQljbRdSaF621naOzHazWBJClKaOlEX7bddE+XkqEFyg5W1RBRVXYwuCsIcuyGD5L19U0HFMBMV8kTmZnAw9Hi8d0EPLNZ/cQ7m7HX1JJpJezaCQJuDCpQsRcjmj39dEp2+Z6tOftxjP+3wvZmQu8t7EsVbDHS4Ldva4ryqpgcHAAzvCJ4f2sbm5RFhVbW5ssLY9QSvHJ5Qf4Y7eejwmP3RJfYIFrHgLVCdWvGT8JccX8xGgUS0Ndhp8ShS2/wPhpOABnMU3N1uYWZ06dZWtrk3seeDdKKvqDfki8Nn7HdV8O+97EwiBHqUaI7jbagZr5uGb5Ed3C6SJudjksd0k/rQTQOj/D6wRnJCFS6O6tAVa4zgfUDrGdI2UhBd5aXjx6NIbrR+dkjGASceCtNXgv42QEK6loQ1C9IwTdxJyJWONs5hje5Q2O95BojSCG0LZO0CAm0eZxtNce7O9+tiRiHyQ/97qfs0s7fIhItEFCE1EaK6Y5TV3xpdMHefLWP4i1hrIssM7z/o1P8fjwy1BS8keXzoEX0QfgF3vYAtcNXlr7cKcRvCb85F8dPw2HAyyX5qeXnn8Wj8ca9wXFT73lIUuj1R385L3DGoNKJU0dojuvlJ+uKE+s/beNzJkXbma/770Qdi+QmcIb2n1rnUTVdfbO/BF9GzET7d1CBclLRkmqlUy8d5iq5vixo1hrSdOUO05d4OiRNe46u8ETB5bbupWzqxUxnFUGB6WzbqaTE5y81jqk9N21ifmb3nGxIpaNaaN95qObZjXQWoEgLAjXTbgUAidmZWrah6tbFHH8jLXxJkINxrW1AwgJ773wKX5n9C48VWijPhzwJ28skKIEH6Skrgjpwie2wHWDa4efqqrsIgfTNI2BIOE5D0Vwr19+stbRGLuDn9I0m5lNXwU/XVHdoVY9F8wvinaEZqprOwFSSrRSqNhiANrIHRelBouxBUkyig7CoNLOSwh7OVLnpSkXcyRam2xdNTz/1JPdBb9nWvHYbTfy3vUJTa+H1km8uHk7eLjmts2B8CDitbcyR5u9L+Vshc0WjNj5d1woztqYBBilMC/Cef1sjFoH7bxd3bu5FRwXWnhpFurbVRcApG+jpzx3n9/i7gu/iUBw9IY1dJaRZVm4r10P9gILXE+4VvipjhGCCMHSaEhZ16RJEsjdV/Hirk9+Ulqikh6tLy/LMs6dPMHNb739Ffx08tln9jXv+97EVCyoGRZK3C07ycPPrZrZoMMsJLXtDkr8/c7zB2DJobRAqx4uSjgzW/Mr0U5qpzLPnQ8Ppm4oy4K6rhFCMhoOkGVop62l4MHVIbhoG5aKu89vIaXg2A0HuiK786GyQfgIEoJ3DmdtZxMG4oS1CyNeTvuAiFYaC6bNtlxMazqY/7Box3Imr0WpRBKN1MTL6L7XOncFIBKBj2Vljt10kAcmZegom2iaxvLsE4/z5jvfDsSHFD+bvwUWuA7wWvPTyvIS8Hngp3iZWknGscxSy09KyW7DvF74iXjf3jvquqFpLPgKa2em2pafus3+MriCwI523MTcTYnZQM5GlfmJ624KkLINySdUmo4VoNuKEu1NdIvBtWVcQkXmdkJh5gANhw8SUVkWnDh2NF6j4P6tCZ8ZZTywOeWRlQEmL4NqbxxeOp48OAqJhqbpFn6iNTqaArRW3HV2M57Cc/TIoLultsbY/EPRqfHRhowI9nKEoGmaMImxod0r7PIiRge17+0yBYh5gTKuzM4UArjW6escj64MuX9zQpok3PHyBR5Z6rG1tclgOCTRYWOz3l70YVxggWsN1yI/9fsp29sTRqMheVGGIJI5fvJ+1gPxYvzUBl60lXyuBX4qyop+LyVNEpx1TKfTPfnJ7LOi0BVoYvoVNybizYluENtdOr4nZxOMj8Un3cwO7YRvhxMlZ5nh7fpqJQjnPa69oVa8wMfchqBKV2XJ80890U36cJBh18fBxqoE02kRHaAiSg2+yxHxeOjU6pmZQCnFI0vZbDKaJlRylgqpwji8/ewmDsGxI6udfTkIKq3N2M/av1iLnXsI5jeRdmGH33z83GxddKr53IvtuZCz70olcdbz6MqIe0+tI3sZ923lPHTsKEfedBuDQZ+VlVWcd13i4wILXOu4Fvgp9Fdkxk/GBH6SvGp+Ulrt4JPd/CSlDKa+yEVXCz8VRU2aanq94Oo4vgc/7RdXZk5sd9i5xdEKOcLPJrl1jLaDGBZMzH8QgjaixsbuqVKqnYMmZ7ppO3E7tOHuBj1aa/K8YjoNXUCdD7UE79+c8OlRxnu2pjy8OsRsTeM3QgM2BLPzSgGSEC0Ujeqhx1ArcPhubVprQ5nMeIlPHloKUoq10f4dF49SaJlwx6kLnYr/+IEhPa1wNjh3vfP4bsG0YwYIiexU+SjJOBcineakJES0ubvWDCLCd2UwaTy2OkQninsFHDi4zNbZ0/gjR5hMJiwvr5Ck+2t1sMACVzuuBX5K07Tjp34vZWt7wtJwwHSaz0L5X2N+cjFxzDv25CcX6zDqJKGu688rP5VljU5UCO7IUrbOnubEeBvvfOCn7LVuxeI7JTQskPlJ9T6anuduNN4gIkS7qNjzxrlQlmSWqxDU8tkOLhCtATpKIfHXbsDCYvVdO+y6KrsFed92yXDQQ+qE+zYLdC/hzjNbNLEUytNHVmdOShsqPb9zYxrzMkTonCpDRWrlFcKHytYiShYegxBteGq4n7oOGk1VV7Q5EwiC2i8lz9x4kLvObHL/Zo7WmuFwyGdWVtjc3OoWlYfgUBUCCDUQ8a2NmJh4CJ1deu7h6a7Ng/e2mwMhJcYE8+I7zmwiBTy+vcnyoRtY37jQ2aEXWOBax7XATy8//xyDwYDhoI9Ugl7WRycaasOwzS+bD6KI/JRlKTK2PlFah6AT52O9xnCu9hqC26ntgxZKVNVRA6yqOmh4LvQE00p35lOBoJ9l6CTw0/b29ueNn6ytSBLN0tKIrJeyvbV9Rfx0BZvYzOjZVVFuF0h8v7URt03avI/lR6zFxs93YZnQJcZ1enm0Pfu543am6yhltNE3UoRBzPMJ4ENBTQ/P33iA+8c5Dw8z3mUt02nOo8sjVFtixQYVGuGDNNEYnlzuR+mqswQQxs/EPI64WDtJDcDFdgQOMoFQEgYD4ooI1+1irbHtMY/0QmvxtNfj7vVtHmCJzywvs7W9hbczE8YsqqeVXmS3AITw4Gf5KqKVIpmZUIiSWSsbtq8/fmAZIeDeC9v482MeW+kzzaf7nf4FFriqca3wkxbRfDjJGfQzppOcoqhn/OReyU/Guj34yQF+jp/YxU8Eforh+KLtdD3HT3XdzHx83nf8ZK1ltLSEc/7zxk91HYJS0iTlwMEDDAaDffPTFQR2zEkw7bC1E9juum1RybhAjDFdhrtWuntv3mYdeursPpvvJoK595QK1ZJllCCmRU6R5yRJwvFjx9BK8/azG5RC4Id9auN4dHmEtxbjbddjJ4oO0Z7tQIZajsQ6kD5Wlw7N8sKVhEK7Kkpv3RV1UTdSqXBdMVzXWoNtwv37GMpqjcE0DU8eXOLezZz3+gGfWV5mPJ50D2FoICqi9hckxVDbzM0czN3z6bo5kHOLs6uzJtt8mVnU1GcPLKOk4L7zW7iFIrbAdYKrnZ+cixwhBWVZ4R3UJviGrjZ+8kKQ5zkrK8uA/7zyU1UblBT0+n3S3mtsTgxnl/PTN5N+4sbahp+2uQStZNDabTtDLcwuPDobxdxqmJVVYfbZ9ncEWmmquqLIc6RUvHjsaZRU3Lc1RacJZdVwz8aEsmoQvSSEkhIyzVt7bDwYXbGxiNAbp8278CGBcC4CaPZFPyehEc2IFtd4dJJw70bOZ1cH2DjpPpSgxpoGIQVPrg25dyvnPT5jPK15cNgmU7aqtqB1xkra8GEZGuDFc7v4fjBfxr5hxPBZKWJSZPheZ17xoWne4weW5m97gQWucVy9/GSd49TzzzEY9NGJoqyayFN1IPE3gJ/SrEfly4vyk6kEhZAsLS0BMB6PP6/8ZJ3ZNz/texNrK78zt9EH+6vsJrirOUaQVaQQSK3bmQ5SDjMVsssaj3r5/GKYn4757yilqOqK8fYWQkpefuE5BJI0ScgSgzGGY0dWuGd9yhOrA1zTEHsYhIFFdOu1k9laW3TMGVFKIfxc6ZSoLuNatT7ey2zlhnu3Fo/BmobHVwfx2gW+M2GED9umQXh4fGXAO7cLhqMRo2HCZDLpMuGZM3040Za4EfFcYsfDKuLYtyaOViKS8Vqdt+Bn19AuFufnH8UFFrh2cbXyk1SSE8eO0ctSslRjTNC4BNCU1RvGT85ml+WnOg7LcDTEe3/V8tP+N7EukY52dYSdNxbKJA7qfMZ4d2O74NtJ8uxaNDNpIoznzFGqlUJKRd00bG9t4b3j7Isv4rwj0Zok0XgRGl++48KYxw+t4sbjIIi4UM7EQyeBidkl0IZ/ejw61by/DlKBdQ6spyhynjy4vOM6BR4h1A712Vkbwm1jaOw7twqePLiEmes6G54KgWkanHeUecHxt9zEfWc3yaclj60OsNbFq/G7xmNufNqFGc8vRKiUbdukQu9xPoS0hvsMtdg6Z/ZCDVvgOsLVyE+pTjh+7OiMnxDUdUOSptSNwcX2JFfKT6sHDsz4yUORh+jGK+WnrN9HKnVJfvJ4Mt+j1+vjrKOsyquOn67InOiJTbCF6OpreYgNIGd2TdqB7+5sJrF0AzWngLf/91HtZcckelKlSBNF3Vi2t7eo6pozx18IbcCVRivJOy5s8cTBZe586Tz0+pjGdNfVDhrzfzO7Ju/Bx7phSmmGSwOUUnymr5hOJjQDvWPhtx2U37mVkyZJV8W6yBse7AXzgW9qnj68MpPcou3aEzq1CgnewLEjq7zj5XWsgDRNuW+r4NHlXiju6T3e2RAJFM0N7ZjNHK0zSbF9d2dZHM/u5RCk0cUmtsD1hKuLn5JEY61BCYlWkkQrmrqOh5SYpn7V/DRaWkIqxfbWduAnY/bkp6yXkaZprEYiKfKc8dZ2x09JmsZxujg/6cRH37klzVKQgiLPryp+kpf/SHtkj2glHKm6C+06pUoRmqB532rmc6r23GG6w/mZxtyZrud2ddpW4AIlFdZ6xuMxdV1x9sSLXVSNUoo0DU3fmtqgtQ5N2Zom9hOKP4jubylbW7joVP52MpuqpioLvHfcdWaDyfaYpihxxkYJxnfq7mdXBxRFSZKmjJaXGS4toZOERIVs/6auuPPUhXBs70PIowsLViUJ924VOO95fLXPkwdGOOfo9/uMlpY6m3M7Vh7f1Tnbmesy398ojtxcaRxnHda5rhtsMCDE99xcVYEFFriWcRXxU5qGQI6Xnnt2jp/8a8ZPb3rhZd526sJl+amqKoqi4B3rEx4oDKOl5VfwE95flJ/Sfg/nPXVZBM3MOfr93lXHT/sPsadVa3fue4IQ7imFQCoN+Fi2RHaquJ8/xtwC8K0wFN9p10uwhYbJSHSC9TAZj8nzglMvPI9WGu88WiVoJXnnxpiyNtx5Zh3ZH1DXDd6pcNRu+59JZ60EFWy7M3WbuABCfoegP+jzoWl07LooIdl2IXtcVUOWxu97Prs6xG1soBLdTeSTB0fcc36Lx1eHOG+RSO7emvLszX0+uzqAPEdKyT0bU5686SDv2JjwwLRmMqn5dF+FhWGhTTaEEGk092zFh01277UvSimxzuBt7OLqBZ6ZLbt9MBZY4FrH1cJPSoU80xPHjtHv9dFKkqWasgpamFSKujKdb+7V8NOLbzrC3RemHT8dvWF1x3209+2iT++ZtQH3bRe86fgpzqRiBz+ZpkbrhNqYjp9UP0NISVVWENMGdJZ1GuhoNATv2drauir4af8h9lJB7FaKn9mJQ/kT2UXItNEw7e/zTtE2nwDRdiqlU6Xnu0QLYu0xIWmMwTQ148mkC+MsioIsyxB4dBKavH32wBL3rk9wwBNrI4S1rWG2uxwXu5C2tts2i2GWwyC6wW3vTacpvk12djGHREDb88d7jzWWump4x7jmkwpMY3Yc9+kjK2gELtHoJOVoL8NVVZe34rzniQMj7j19gSduOMD945Ll5WXeu7XFp3sK513I45cC5+LYxHBaAdExHOARcxJZaDXuWlv5nORknd9R622BBa5lXC38pKXg2Gcf3clPzlLVJtQK9IKmrjvfz6vhJ7GLn+5ZnyAEHD2yRpvBddfZrY6fns1S6qohSRKENK/gJ+ctOk06frJNQ7OLn5q6Jk1Tmqqm1prl5WW892xtbr3h/LT/ppixqObM9BqLZsbCl22vndnV7pQL/OxA3XtKypBs6D3g4m4dvpulKUIqyrJkc2OTxjZsnTkT6nylCVmakqSa+7em5DbkUqASnjy4DGXVlZHx3mOqiq4z6pzjsHOgKgUC7j6/HSYqsSgfeviUZUVdVWHxCMHTh1ej+SFm9zvLu6c1HkiSlC+2ku1JzmPLvWAjFiFv5N7NkqcPr9DUFd4Hm7UVsTq1tSgUTx1a5t71MY8eXOadWzmjpSU+MJ3yqTQsjDZaRyC6AqMhe584FzI01oMuVLdLS5xbKDM/3SJRbIHrA1cDPy2NlrDOkc7xU7+fkZdN4Cedzoravgp+UlqTpgmNcTx5aJnbXzq3g58mwwxng8D9mX7S8dOwaqjqiiRJOXT4INubm5R5sYOf0hi4cSl+staQ9voUeXCDjEYjpBBsbGy8ofx0BZpYa9MMlSqkDNE43vuYqR4voh0YMdtFW0HCz46A9+CM6S7YeY90YYdOdIKUwTGaT6dUTc25k8dJdIJ3jizrAYIs1VSbhkeXRyRiJp0gWvt3GFCVhG6mXXVrH7P3leLt57YQWqETzdKBNQbDQfieCArxcNhHa8mn0xCxw3Qui1wG6SNNNKnW5HmO98Gvde/GhM+u9LnrzCbHbjzIQz3B3c+d4KlDSwgpY5jp7FC2sdjG8sgw4Z1nN3jk4DLvmpQMRyOOrA44e+YsDmbSDcEe77zvxto5h1YSJ6MpwoPwsW9QXGDz0o2ck5AWWOBaxhvNT1mWYa3lxLGj9Ob5qWkoijq4KLy/Yn6SUiKURCcJS8tLDIdD7ji9zrM3HkApyXDY5/lbDrG1sYHZ3mZme2SOnxQv3nqYvCjxRUm/38dZS1WUCASmbqjLCqVUzBO7OD8ZY8j6A/LJFLxnuLREkiRvKD9dgT1JgHcxY1uGSY47ZVd2pK1W7OlqgHlm7bzD7x58G90T/y9CNWkIORBaa5y1lGVBWZUoKVEyFKbM0gwpg535/q1JiEJ0lkx7nj4woMkLfN0grUcYC8YgXLQ9O7fj5+1nN+kP+qysrrC8sorWSYjMITo3VaihmKYpH3SKwWgQrREeqVr12XXDY63hM71Qz+zQkcOsHTrI87ccBmcRzvHEygBXG7yxnQNVOJAE57MSAtcYnlwb8c6NKQ8PE6aTKfdtFfwBkZKmSVfDTUTTibPzrdKDeUSKEI3UlcBRCiXjAxHFVa1VV9ttgQWufbzR/CQ5fvToDn7q91NMbTt+ck11RfwkhaA/7LOyusry6go6Pq/P3LAGzPgpy1IOHjl0cX6KQRXWWLa3thBScPjIEdYOHURr3fFTU5T74idT12RpynQyYTqZ0Ov3ueHGG94wftq3JmaaBgThpmmrFsfika1tuev4OdtBRetEau27so1mEd0Ngwh21egodT4UrZxOp0ghOHfqJbxzJEmKUhop4F3bU5wSNGVDeljzjvVtHhr2Ed51arli5sD0XWRSyHBQOiHppSAlZV7SNNt4D8/fepgvsrK7J+s8jwyDOfADekDlFJ8ZKN49adBKBodtPwmTIwU60WgPOkl4b+n59NISRZ6H8WoMTVUHNTlWdN4RGSVElIxqHh1lvOP8mMdvWOX+cUEvy1haytja3MIYg/S+K94ZasDZrrV3p9aLoMK3hTTb95MkI0n0jq60CyxwLeON5KdsMMA0IfKw5afBIMNZG/gpDXliVVVcIT9lIBVlUdBshX5fOtEdP5nIT9tbW6RZxgca2fHTcDRCK01ZlgSVys/4SWvuvjAGxKvmJ2cdSZZSVxW5Ci1VlpaW3hB+ugJz4qxkyzxaxyi0RSB31sLyrZLetSeYjUrXfM2H7Pk0DVnkTV0znYb8h1MvPA/MWokLQjHNxNSMxwVHj6zxns0xFrCN466zWxy9YS12OW0bBrRN72SYGELplScPJlFSsDgXomZkUdCIdO5eBfdcGPPpvubdW1sMRyM+UHusUkileO6Ww9y3GcyIx244wECAdnW3qO/dyPlUEnoDKa1wTocWD40Ndcxii/H5qgIAzhqcMdxzfsxjh5a5b7vgASl5eG2VjfWN2JE2PpQ+LLBgKnE7H9I4F845BII0C/Z6KcRcWOsCC1zbeKP4SSmFMYaXn3+WLM1m/JRIxts53nuyLAkdmRuHECpqKJfnJ2MMdVVHfgqfbIx6BT9prdna2GQ8qTp+ekoppJKo2Nyz/f5gOEDrBNNM0FqTpj2mk8mr4yer0FlGmefcefoC/cHgDeGnfZsTVRttEtVA1TpM439dVnlU3Z0PoayhTlnsONpG5MTVJQjOO+8daZICIYAhz6eUZcmpF56Lbcc9SaK78757PKGuDY8tj0gzjVKCsqi4/dQFHHDH6fUQeTQ3UEgJseKylBJnLaaqccYG22y8vPu2ckxswxCcsJ40y3j72U0+lcDG+jpCQJIGx+k957e7yfXe844L4e/x9jYXzp0H7xkMBuA9ZVHSxEZ4OiZJ0y3jWXZ7WNGCx9eG1GWJlJLHV4c0dc17pg1rB9ZI0lbiDOPtYymbNrKpjeQM+XSQpprhoM+g3yeJ0mrb0n2BBa51vBH8pFQ4z8lnj+3gp+Egpa4NZdFEfoKyrLHO4/BBIXyV/NTr93jy0DJPH17dwU9Syh389I71CXe8fIF7zm9z55mNjp8SrRHM8ROvnp/qqtrBT0+sDd8Qftp/nlgMt5zFn4jOERrm3Hev7cg4n4vCYf6zMXRTIkjTNEhM3lEURQiQAJIkiflgGiU1UgjePZ4iMsXDoyHCWO7bmmK85bGVIQLV2bm7aKW53byVfnSWBonK+R2Vl5XWJKlHK8XDoyxsGnkITc16wVn78DDlfeMJS8ttAd3Waem58+wGIk27bqsP9hWjYcID2wVFXvNJERtnSoXSYuaMbh8iPN7P8lEAnlwbkdQ196xPeOSGNYbLI967MeXB1VW2trZp6qYzl7howw7Co8Mb4oMlSZKUfq8Xcuyi1Km12u/0L7DAVY03hp9SThw7uoOfhoMMITzTSYUQgl4/xVhLWVQ7+UmqV8lPKVprppMpDw9TlpaX6GlN1ssoi5KHhykrw5T35M1OfvKBGO46u0mv3+fTNx5gc32D0XjMKIbLXzh77or5yVQ1AtBpSj6Z8viBJd67MWVcej7d158Xftq3KN5JLe0u6lzU1Wd1rlqJZz6bG9ix67aVNlpHY9B4LMYairIIHZoFnDt5vItqSZSO6rwmTRUPDjKqsuKe9TEIeGR5OKvJNRcdg4hJc7E5pYeu/D9C4EU0NHh452bOOzYmCASPLPXY2tikrqou4z+NDeNCVrrrsskfWc5CawXv0DGRz1pLr5fxQF7ztjPrPHvzIZZXV3lfE3r2CKW6Gmbguy6twUhMbP0Q70WG6KGnDi3ztjMbTMZjPrs24oFpw8rKCkmahO/H+2qrW4soddo49tZa6lgPTSq1COxY4LrC55ufsizj5eeeBXbxUyYZj3OqskKnGgTkRfU581PW64UyUQjyaX4ZfrKv5CfnO356+tAK923ljJaHMQhEsry6wsqBtVfNT9YYPHT8NFoafd74ad+aWDu5bb0vCBKLautmxYg+D6H8S1w0XSmSeBwpJQ7wzpImCW0CYV4U5NMpQsDp4y8CYIwh0RoZ++m8exy0rjwP5+4PEjyOurJ4L7DehdItMURUxMgcSXTsRqnGGhuljCAR4D3HbjyAkCF5sb6wHgd9FtGUJBqlw3dToWPuCUwnUx4aaj5oRCe9GWNI0pQDhw5inWPt/DZSKpbX1uhLS1WW0dnpOmdtO57eB2ezF4AIdcwATF3z5NqQt798nmdugrpqeJfzfGY0Yrw9xloTQopdiJJUSu6oUWasDcVHE02SJGilSKKJZIEFrnV8PvlJJwmeV/LTcBjywPI8dHjv9xO8968JP7WYTCbUZTXjp3ivSZKgtA78lKbIwnL0yBrT02d4aKg5KOCusxs4IXjLS2dJ0pQvMqGaybNaIaVmZW2NxphXzU9SKaTWjLe3eXxtiXddGH9e+OmKnSJtPa8WNnYvng30LALIuzYDPoapRru1sxatFCoGa4CPA+dIkoQkSZCE3Tt8B+7bHKMTxWOryzgHvX5KmiiqssEaGwZFzEI0u3ijGBnjrQ2L2IdB7MJvXXi9KkrKaY6p69jKfGZW6KSQ4JLtWpfLWNesMSao+7HcSrv5PXPjQY4eXuOJ1SFFXvDoKIvjFK9PSZBB4uq6oPqZqg7gRVg13jls03D08CpvO32Bh4YJxhrekzcsLy/FhebnTfph3FXsGCva5OxgopBSdQ/AAgtcL3ij+KnXS9BaU5Zmxk+poqrq15mf4kYWySPwk9uDnwTP3XxoT36qy5oiz8mn08+Zn3zUhifjMcYalpZGrzs/XUEV+wAXRnkW5TN/Q20UiyB2KZWtATTap0OSX7+nSXUCQmCtZ3NrTN3UWOfYPB7MiC4uKu8h0ZJeX9PUNUUsxvKucY5VgodGfZSX8bNt4ck40N3/wqy3jsrWpCAcKKXbtyFeYxJt5DrRaKlpHcJ48A4eWx3wgTp84YtqaIxFDRXGWJrG4LxDa82bXzzFJ5XDGsM5BH6jij7RUIqmfa6cc7Pky9Z56qNlv42iih+uq4qnDy0jnePRpYx3TxreW1geXFlh/cIFjHFoHSKTnHWh5iMCJ0L5HWdDwqJLEsq2qvYCC1wneL35aZSkeDzHn3s6+m8iP/U0TV1R5MFHNBiG5OfJpERFTe314KckCR2pvZvxU1mWHLvhAAo4cGCNpmnQStEYyxMHl1BK0e/3aKqKC+fOd73Y2uoZnys/JVkKKB5dyhh6z8rKMkKK142frkgTm69QHH4ceBechvHmpQx21zYXot2ZBUH9ViIkzzXGgnfkRU5ZVeDh9AvPY62hqetgHvAgEdy3NSFRgsdWl/DOcv/WlF4WQlCDyjuTtERcmKKTTMKg+3a5iGADVnPSWhcJ6n1wYsZImqXlMOGeYLM11uKsYby5zUPDDOdCouFwMKKNIPqxj/xR8EFNT9KELEvDdTjXmS66MGDvcabB1M1c1nq4hta04KNkEpyd4d+mCnkaddXwyHIGeN6bG1ZXVwGPMU3Im/E+miXC9dv2HN7TNHW0eS+wwPWB15uftAqll55/8okd/NTrJyRaUFYG7yz9fkovSzFdZfnXk5/CRmqd28FPk8kU5z29LGM0HNJqQXXdRO0vaJWvNz+1QTAry8uvGz8JPx+Ws8ACCyywwALXEBaJQgsssMACC1yzWGxiCyywwAILXLNYbGILLLDAAgtcs1hsYgsssMACC1yzWGxiCyywwAILXLNYbGILLLDAAgtcs1hsYgsssMACC1yzWGxiCyywwAILXLNYbGILLLDAAgtcs1hsYgsssMACC1yzWGxiCyywwAILXLNYbGILLLDAAgtcs1hsYgsssMACC1yzWGxiCyywwAILXLNYbGILLLDAAgtcs1hsYgsssMACC1yzWGxiCyywwAILXLPQ+/3g9rEzO/4WV3iii33+Usdp39trp939Pb/r91fTrlq0x/We/zT5f/mq7CvQaXbJa/tc0F6j4JXX2x7//y1/iz+Ufmloa36R819qLPZ6ff7f/p037Pt6F1jgasUXGj+dfuFZDt3ypjecn86cfJkjN9/4hvLTvjexS13UlX4fXnnBex3Ts3MAxa73dsPt45iXur75zydKIoXYcwJfC1zumD7+Tyrw3iGQ3Xi07+/1O1x8rAU7x/S1WOgLLHA1YMFPry32z0/iDeenV72JiT1en7+ovXbVS+FiE7tbgrnUZ3afY69z7kfi8kCaJcj46u6F8moekkvd/6Xe00mC9HLHPb6ahTL/mddj0S+wwBuJL0h+klcJP8k3lp/2vYm1J979s/si9vrOXq9fTqXcfez54+y1COc/dylc7Phu7jUHqH6GqORlr/1i57vSidhL8vCA3zWA84tiHrull/n73P0ALDayBa5HfGHxUw8hrxJ+2uN8n09+uqJN7HK4nMq41+DulmQEwcZ8ucV1uUW21zVcDjuOKSQIsaeqe9HvXOaYF1OR9zJdhPN5pFQ7Vsp+zreXWWP3YpH7ONYCC1xPWPDTpY/5qvlJvLH8dEWb2O4JuNhNX+y1/V7UXhOx2568H1xMqmnfu5Sp4d0X7sSPxCsmcK9JuNSA78eEsBut1OV9/Jl77VKS1V4P3qUkowUWuJ7whcRPQgg8C36CV2FO3H1RFxuESy2evT5zqZu/nHTTfn/3ca9ECnnlG5cfxr3MB/vBxa7zFeMpBKZpcFH06xbwHp/fjyS2lwlkgQWuFyz4ae/vv+78FAf7jeKnK9bEBHsvkCvZ0Xfv2Lt/3z2Iu0NYd0/KxRbmXmrrXufY89rF5ya97GfRXO443nuUlEgxk/TmP3epRXExn8Bi41rgesWCn155rL3+vthrV3qcq4WfXlOf2DwutoDmF1lrW55/Dy492Rc7z14Dvnsw9/rsxSdT4hE7HKqXuqaLSX57XevFjrH7sx6QWoHdv9S11zXNn+tKJLIFFrheseCni1/rxY6x+7MdP12BVrjXNc2f69Xw06syJ+514ktdxO6FIPd4fT/f3Y32vJebsPkF4y5ynp3n9zsOut+BvZIFstdrr1hk3mON2yF17cfE0R579xhc7CFcYIHrAQt+ujReN37ijeWnV2VO3H2iS1242/X3bulmr2PvPtZuCeVyN3mpxTzv5PS7fvZa9Duu0cdvzkUF7ed6uu9f5pr3ktbuO/NW/I17n+dyD9Xu+9iPNLbAAtcqFvz0+ecnZ+1F7/vzxU+vOrBjN+aliXnp42KLYv6Yl1Njd6vXl5ugi51vrwW+lzQEYJlJZM45qqqmKGuGgz5Jllz0+l4tLnZPDx98hg9z5JKf2X2c/Zg3FljgesOCnz7//OTnlMI3ip+uqADwvFRg535M/LdVhd3cz/z3LnbM/Vxke+PuEj+7JZdLnbeFmPuRc/8+cuhYkIqM5TfEp/nU8LP00wQlxStMBHuZDD4XzF9zkiYXVfUvdo+7H6oFFvhCwBcSP+F9x0+bFzapivILlp/2rYnZud8vplbvpRq6Pd7bC/tRIwXhgnebAHaf81KDdqlr2TG48Q+tFF/p34+wUMi6W0R7nWM/x90vPME88N7Nu/Erl5dydqv0838vNrIFrnd8wfFT/FcrxcGDawgBRfn55yet9b60z9eTn65oE9trdxe7/r4Ydtt15yF2vXe5Ab/cgrvYItlL7Z1/vYULMxSuWYAUAhd3NSFeKen4Xf/u/v1i573Y9Xave3CIV5hC9qO2X+7YCyxwPWHBT1+4/LTvTexSk3yp78DOhbRfqWP++/O/72cxfa4D6fHdYtihEu9xoPkFs58JmZ/wi038TGLziF0nfbWT/lqaExZY4GrDFxw/seCnFq86T2yvSduNvaSg3a/t5ZTbbU/d78Dsx4ywn0Updn1QAMLTLZz5Sb3SSbvYotprPNvr2O+D1JpH9rMgFpvaAtczFvy08zv7xbXIT69JZ+e9JnX3z7xjs73IvfIxWmdsE38MeztJL+ao7c7nZ8fay7G6G855GmN5UX4ca2dW7flin48cOta9vnuQ56/D7vEz70iev//dP2rXv/MP035MIu2/u+/zYvOywALXO64nfnKei/LT/De/kPjpVfUT2+vvvd7bLdXMD8z8bm/ZuZgudx7nQYpX2r3bz7fHMo1FCEGiJdaBFnQFl1uJorEOax3PmJ/kNv/N1BjKssY5353HOk9VNfynM2/mgcShvOokkPlr3uv6L3Yf8xLTxd4TgBCue5h2S1f7kbYuZh5ZbGALXE+43vmpqmqklGjtqKsaLV7JT3XdIKX8guOnK9bExD5+5j/X7tpJ/NHMomcMUDOTaOalGs8rF9YJ+XG8g2fNT2Eqg/AexU6pwMcV8qz9KR7f/jEe3/4xjlY/uedisx6axvJU+W8opgXP+59hOp3yvP9pvAfrPT8oHVVjeLL417xfP8KTxb8mL2sa4/h+DGVlqCrTjfr8JOwVVjsvDbWhv/PS0I6J96FO9W5p52L/7nWPl5NAF1jgesIbyU948A7q0lyWn+rKsL2+zfbGNkVeX5KfppOCYlpgjGU6mWIa0/FT4zxVY5hMpkwnYyaTvOOnyrgvCH7a9yamCBOsmU14Mvfa7veyuZ80fr/d2Q07F8VuNX4vVbj996j5afK84LPTf0VTNTslG+tpjOM5/zHyaU5TVzTGcUv9TbTRPPOoG0NtHB6J85AXBfk0pywL6qri0e0f4w9NfoJpXjOeTMlO/Abj8YTH83/DE9VP8t8X8GTzU9TG8Yz/GP9IOF4QH9+hfu++n4uZMubVfDP3N0K+Iq9lt6q/l+p/MUl0sYktcD3iauGnojLkecHW1uSi/NQYP+OnxuGs3wc/efK8IM9zyqqgris2NrYZT0qmec1kklM9/SOMt8dsjwvG05qycUyKcIyq8RjrsdZfd/y0b3Ni+8H25Jfa/Xar6/MXNL8odktGu78/D09Q0+uqYry5jcTz4vDj3GH/NMfcT3GH/Facg6P1T6K0pCwK6rJm9eAIIQXW+a6d9/zxnrEfxRhLnpcYU6OTBF/XeOfY2twCIdlQ/5Iyz3G2xnlBWTaMVtZ4ZvAzFEXF0eSjaDRfrX6GWgsaEc8lLn4/F8P8BIayZBLDKx+ivaTLvVTz+bFfbFoLXK+4KvjJeeqyZrK1hcCzPOrTWEtZN6RpinNQFBVKKcoip65qVg9cmp+qusYYR5GXNKYmifyU6pTtceAnqTTm6I/gbI0oK8rSMFpdJWVAUZSkJqExDq0VSkk88rrip9es7NRe0slue+r8jaq513YvEMGcU9THm3WeSVFQlyWJlkgheYv402xsbfPc2WOsrZ3j3NIvU5U1SkkG/QFLoxHWC16UH+du/W04MZMWnA8SRVHVNFVJU5cgBc5ZkjShtAbf1IBAiArvDeeX3sWh8SPoJAXhaKpgBjCNw5qKwluUkkx1xbnRv+OtfHN3c84FSUsIwdxafcX47Jh454J9gp0TvdcDtVui2v37/PcWWtgC1yPecH4aF9RVgVYy+Ka0ZmNrm0+d/UccOXyEO9PviPykGAyGLC0tYV3I8dJa7s1PZc1z9idobAFKoIQiyRI2hWHTNbz1eBGuxRusbVDP/1P8bX8B8DR15CdjsdZSOINSiqyX0esl6ERdF/y0b3PiXpEslzrRpezPrWo///v8a+3nvPXYxtLUhsmkoMynJFqFHjYyWK4f2vwRzp4+yadO/wDrF85hrKUsa6qqxjiPRWK832HfNT44TJ/zH0OlGU1jaZwBAWVZIJRGCIWQEqTEWEdTVYDHewvCUxZTbFPhnCHpqWCCzHOqPOdZ8xPcar4JAbzIx3HOc7T+KNNxjTVh1OYnfbc00v0tQAi5p1TDrs/PR0TtFQ21+xiXqxm3wALXEq4eftIo9Up+OnXyOI9s/gjGushPFcY6LALj2ZOfGuNRae+S/PT8W0ZY56jrGT8J4amKKbYpcd6QZJqqyGmKgiqfUldVxwnOepzzFHlzzfLTvjWxNr6/dXrOL5C9VO7dNwGvHIjdi2heErIenvU/TV6W3Fx/A0/mP9YlINd1xYHDR3B46qqmmuaUvYJDOiFNU7y1pInCIVBAqiVJ1J7bclKNB9cYhDWkWYpUHikVXohg5/WWJE0BgdSaui4wLkg0omnwvmC0tELVNFhrcdaAs1hT0x/0u/s3xjHJK7aLCRN+nHcP//uLjtVeEHPS2Z7v7/M4+52vBRa4FvFG8FNtLPm0xDrLZLzNSf1vyVxGZXMOHD7CVKlX8lOSBH5K5/hJiT35qWgahLsIPzmLivx04q4DTLcFzlRIqdD+o7y1+FaGyytUdR34yRmOi5/h1vob6A938lNVNUwnORLJYJhedKz2wtXAT1cU2NH+7JZM5qNvYOb8a+Z+6l3/ml3v1bv+Du8LGgvP8bN4oUEmNMYipMA4z4ULG2ytn6MpC/COXr+P9w6pJEorkBJrDbfW34AzDu+iA9U5cI63yW+mn2lSBcIbvKmR3pCq8LleliKER2mJwLN64fdwzuCsRUgVJKCmYToZ47ynqiuMbXDO80zzUaxxvMX/SZ7M/zVVniOFx1mLs26HU/WSP2IW/XM57GX22P3+YgNb4HrEG8NP0DhPY8GzBz+tv5KfjquPRX7SgZ+cwTu3Jz9liaKf7p+fnLMdPyE11lmapmE62eYF+XGqusKaBuegKhuscSgpmG5PqfLpNctP+97Edkez7KU2OmaqcG1sJ1XMX+BeCXR7RckY5zHWgZToVNMbDhE6xTpLkmVcWD/H75z4e+Tb60gJVVlw/uwp8nyClwLrLF540kGG8YLKOp6of5KiaqgaS9kYnvM/xa3mm9BJgnMuSBW2DUf1pGlCkiS4pgE824c/iNKaJEvp9TOwDYkU2KpESXCmQSnFdDIhn04oyxpjXVyUliTVPLL5z3iq+HFwHmfCghF+72gegUcI2T2Elxq33ZO/l115t6S5wALXC94YfvKRnxJ6o1fy0/Hnn92Tn46n/zbwE5D2Z/w0Luod/NQYg8fvzU/Cc4f8Fm4X39Lxk9a646d+PwNjOJX+W16wP9Hx00vZz/FU8S/JJzv5SVhLkirWz28yHefXFD/tP7DDg5+bxfnyIe0JLfBD0vIXa0dZVgwHPZJk5ykut2t7Qv7Dc+6nMHVQp1WikFqCMzTGUxYFJ559mjqf4G2FEDAZbyFPHedNb70L7x15UbO0tgZC8Kz4GD2VYGp4sv5J0kxjhaeuLU/Zn+SW6uvZ8P8C09TgXJhYoGoM1nscHqEUqxu/jxOCJE2D41ZKGtOgJGgV1Pm6MEhVkSSKJ9yPhSieusSZkiLPKfOcfi/laBOiIgHenn4bSaK6MejMIsHT2pkyLmYO4TLv7cbueVtggWse++Qn6xzG2M+Zn5q6ifxkUVoitSSxfv/8lJcsHVgFISnrGuk1xnnKsibNEqz11I3BWktJqNQxz0+JCPz0gvo4rgn8ZF2D8I4kTTmZ/lvepr4NrN2Tn15IfhI5DW1UaldiyelXq5RFzrt630lRNhhjABj0s6uan/atiRnncH6nk273zw8px3dVnh+Shh+wJT/gDd77V9zA5Ryv3nlurr4hRL/gMXWNtzW9TMfdX6ClpiqKKKEInDPYpsbUJXU5QSuFs0Et76WaRAl6vQSpJVVdh8ALIVA64Xjyc4Akn06w1uG8wTmPsZaQzgdCqu5cMklCVJIU4B3eO4rpGNOU1FWFtYamrpiOJ6yfPcN0e5OqDHkhg9ESSdajqA3jSc54kvNU81Ea51+Ri2Fj7shuh/Ve47fbrg+XfiAXG9gC1xP2w0/We6x1WGepq5q6sa+an2zkFnCYuuY4H70yftIy8JO1O/lJKaqqoi1C/nL2CyCCXrODn7znefEzl+Snk8m/fXX81OtRVIbxOPDTtKivan7a9ybWLpD5aJP56BLjPN9Veb7P1fyF3CKk7EJQ3a7vGe/5gShd7HXjQgrO9H6eLEtIUo0xhqqqY/ttQdrrs7x2gMFoBeclzju88CAcF86+xMap40gctmmoiiLYlJ1DC+hnCdJ7XnA/ga0rEukZDTKkFAjv8D4EaSgpSJVECQ/OIvB4Z/HO0lQ11jZUdUPdNNRNTT6dxoVksSZIMc4anGnConce01SoJKGsG6yDqiox1lDVNWVZY2OY6/yPEGLPGmy7o338rvlg1+/MvbbAAtcb9sNP1jqKuqGqzWX5qTbukvyUJoosuhue56evmJ9eUh8L/FSWpDpwT+AnjfRg6wpbV9zuvnFvfhKCO/w3vy78dMx+lBfkx3nG/kS4t7q5qvlp/yH2rq0gFifezU7nXQjT/EFCGOgPawdS4PH8IA3MSTsOgqpcN1S77NLt+85DYwxlG4bqHFprGtNgnWX9wmnyySbGVjhhQmFM67DOMNneYrK1weaFczjTkKVpyCuTknxa4IxBKYkSgjTRNE2NMQZrDDpN6Q9GOOtIsx5pr0+iNULp2eBKRdNYhEqxSIqyxFqLdSHYQwiFR6DTjN5oGSE1KkmQKqju4/GY8WRKVdfUdU1Vloy3tnki/3GmeUhsbMckOE7nfueVduluDvb42Y3dtulFcMcC1wv2w0+NsbMHSoZPN8Z+DvxUf2781DRkSUKiJFKIwE82mCeVhDO9X+A5/9GL81O/x+3iW153fppsbzMe51ctP+17ExM+7LoA3gdnoI/qebs/f7cR+BiGnijJXxUpQoggofhwUd55GmMwNtQWm7ddG+epjaWsan6m+GN450iThF6WUpuGcjrF1yXT7S3On3mJ6WQrROJ4HxZJ4zDW4qJxvKwbvBQgJUpLkl5KXtVsbW9x4cI5trbWsY1BIkj7PTyC6XQcpBVrcc5SmQatJGmqERKUlKRZGvPVBDiHMyVaS/rDEcPlZUZLK0E6Eg6lFVW+jZIe4R1VMcHbhmKyjWlqmqYIZkkBJ9THeab5SbyL0UHeI8JbWGN3TOruci67F9H8Qti9IBab1wLXG/bDT0DkJ0OiFGmiL8FP9pL8VOYl3lnSVH8O/GTwSkZ+UiRZRl5WbG9t8fDmj1ySn26uvx5nLXVTv+78dCL52Tg4nqqsrzp+2n/ZKSXb+8A5j7Wh+K1rLL1ehgd+WFn+0tTxD5uSdDDgh7Xlu43ECE8iwyL6QV+RNznOOn5wqPhrsWqZ91BUFT/oSkxj2Fo/z1RdwNR96saglCZNNevrmxTb62EAvUQ4SZoqjLVY53HOIbXGekdVlphmiOhDZR21MfyC/xN8tftXCMAYQ20tNDV5kaO0xjYWnWV4rXHe4z1Mp+OoqkM+3Qah8LZB6gTvDMV0zGhlDZ0meOsp8ylVEdR3awxNVdHvZ0y2NzHRjl6VJSpJ0EKD8OhEUzUG7ywv9j7O7XxzOD/h8Xvo4DHes/H2rjTNxRyp+0ErBbm9xKEFFrgGsR9+CpuJoakCP7VPgnF0/NQ0DVWR46xFaxmqWszxU1PXmMawvX6el7OfI3Ovnp/qqsQ0A0Q/ozKBn7y3HJc/fVl+0jqh8vCi+lmmW58HftJJx09ZluAUO/jJeb+jdNbnk5/2vYn9g2bK9zIImeje8XfzTYrxmP8lGyF7Kf/QV9jS8n/0U2xR8z1iBVE6UPCPped7Zca0KDm/eYZ8vM1fT0f860RjvcYrRV1X/O3xeZo8pyoKxpubbOmz9EcjdJKRDAdsbWxS5jn5ZIoSgkSGPV0gUUp0WfJ5PmGprlg5NMR7T2Usp0+d5N/5b2S8/gL/fPI+vlH/EtlgRI2gyCcoKUKZFu8ZZD0mCKqmZjLeYjrZJtEhzFUKhTOGrekFhqMlnHNUZc7KgYPgQxRSNR2jtKaa5tRliUo0UkTJ0DSUk23y6YTecAhZj3zLUE62UUqT9fvcnXwrYuCjSSQ4bu8/fydO+KC1wUUjgnY7Uy+lth9tfpr38j/tdwkssMBVi/rYj6Lv/IsdP423t2me+mFGwyHpygpl3eCMZZClVOvr9A4cCOHhSmFu+TNIrZgWJVuP/EPy8Tbpnd9FkiRYpTp+2tpYxx37EaqiYLK5ydYdK58TP1049H+x4r+NqrGcOX2S4+LjjDcuUI630El6SX7yCJ5xP/l546cHJ9+PUpq3Jd/OsJ+S6t4OfvIInHtt+akoDUv7mPt9b2LN+Dx/V0i8AOcF+WSKrXL+1vpJ5GmBkIraGvq9AV5I/pd8A6U0SdYj1SnlYC3kJow3sU3DP/CWlanm7/UsWZYxnmxRjseYpqauSqSU/Pv0W/i6+mfxzuBx1FVwPOq0R1PmSK2wxgZJSKsYLQTee86df5nByip9v4RpSo4f/SxbKx/CWkdTV3ys+Rr+JL9MJkQIqfeWKp+glKI2NR6PqStMVYBzNHWJbWqSNMP74KLMpxOU1ggpqMuCpoa6KvF4mqbBNg3OhOTDsiiQMkElGXVd452lLvIwWU2DbaogzWU9Hnb/mA8m34PwNjh8CZKOELOKBHstiku9thsOuMV8436nf4EFrmo04ws0D//dQKYe6mngp/PrJ9k4+Up+Opuvo5VGpz3S9e9DL61QT6eU401c09Ac/WHM6kEmb/susixlvL2FeeqHaeb4SScpTV19TvxUpwXPu5/gyWc/ycrKwcBPTYWNHHQxfjre+zim+Pzz0yPZP+IB/930brn1decnt9sheRHsexM79dzTuOgY9QKQgtoYyqpEAEoEy+dUb5NkGtMYnHFkaYJUmv9RJ3gPdV1jfQgfFbYk7a+g0yyotUVOXZd475FKUFc5W/k5nDWsrB1G6oSqbhiOlpg4g2kapJIgBEppjLUoFWzBtsypttbxdcO0mFJNpzS9CucFUiqkCHkXsi4RKqWYTjH1BK00mxfOow4aRDGlGG/ifNj4tNYgehRFjmnqGCSicc5hagNMaco81i8L0yllkFSaukb30vCa1tgy5I/prEddh8VkmhA6u3nhPL/rf5Db+RaUWEIlKR6PnKtTFlZD274hGKZ3TLkn+gLEK8QhH77KU/VPciN/Y79LYIEFrlqcev6pHfwkIj8V5Rw/iVfyU5omKKVRkZ+ayE9Efkry76NJM5wx1JGfmOOnoph8Tvz0dP+fzvHTaN/8lBw5RPUG8dOjmz+K899JovTryk/Tot7X3O97E8v6PYppTmMMQoSupJuTKbUJUoaSGilTRknKMBvhXI6QHgvBNl0Eh6B3HucdiNAfR6qzoSZYLLfinMXj8Q6Mafg39VfxJ8TPh6KaKkFJjfMWL6BpQhOAXi9Da0VVGdJU4z0spwlsr9N4z8aFCwgRHL7OBueqwPPR+qv5hur/ZLi8QlMVlMWEXi+jLqboMqfe2sSaGqlU6GCqBFprbLQNW9PgrMF6i7EGbwxNOQ0dV5UONvi4YOq6Ad0AItjlTUNTTfE+TJgUoJUGD/l0Ql2V/NToLKtJzV81nn+i4W8Ol5FIvPc0taEqQ1CIlBqtNVmWdCq8856HDxzlXeffhlSyc3oDNHXD3ysnfPGpE/ud/gUWuKrR6/fIpzmmifzkLBuRn7RWSKlRMmWoAz9Zl6MiP1Wlwbk68IPznSZTTAuEOotUKlSwcA7nY6CGh81eQlVXCClfF36q65yyqvfkp6YcMHkD+enB6h9xT+87EKIhNx6BYGll6Yr4yVsHgj35aTKZcv7l09zB7Zed+31vYsaWOO2pmwbpBXVjQ+SPcwgj+TuHbqI3WGFlaYnhoB/sv0JQlgX/0/GjmKYiFK4MtlePo2lMKGkiRZBupMTjQrSLDVFEzll+Xn4931r936jEQSLIJ2OKaU5Z1jjvkFIyHA4hLr6qrlnSPUxd8Uvjj/Bl5iew3jIeb2Ebh7UmLFQhqUyQrIpySp7nSCWpigmjE7/K5vYmTVMiZZAahJCU+QQTM+mNNXgbHppWShMuhN8iaoRQIWRWSahLqqZGxnDYMp8gMJR58IVJJE4qfGLwItZqSybkW47vrc6TZgMmN76JpeUViqLk0a0fZbK5gZSSrD/gPy59B39HHUQpHSKGpOCB9bv4R7Lhe7zgnyTw3UbwjP0pXnjhee44+SLPrJ+HP3YlVLHAAlcnGlvidQiNlwhqY7EuJPoKKzl4+MbITyOGgwEyamZlVfDic8cwdQVIbCyw4L2LmxAosZOfAJyzvOnYBBND1wcDh46mxM3NLR4/5PfFT3d89mXOHBYzfqojP+EAiTZ+T37Kxwn5G8xPz+p/yXAyIL/geJv+Mwh5a8dPGxcuMN3aQEpB1h/QHy1z8ODaDn6SSIyxSOm7TayqDC8++wIvn3yB6WM/wBd93SOXnft9b2IXNrcwxoaTCon3EiEkzlr+iu9z6PDNDJbXOLy2gpIyJBN6T13XfM+JE/zN6VkGw2GndRkTanIBMcQ1amh4rLPYpsHHYpQoz8+q/5rvGP0qkzx0Xg7RPo7aGmRRkWUlP1V+LX8q+yWMM3xc/hlSIVFFTl1McMrTmAacQAIOgXPwU9Ov5eunP4tKQ6htU9X8jPhavrG/yUe3ezSm4ev8x1GpDvkjeQkInHc477CmRkhPPmmw1iGkxFqLd55fFN+EFAItE/6E+QWKsiDtBYdo0xQkiaQxBmsaBJJfUn+KxCdRK/UcXmqYbm8xyQvS3oC/pQSHtOfDm/+SC2dOUxVjlNL064p3jz7N48VJ3tH/Dh46cJQHLtwFAj60+gx28y6+q5Z8Pw3vf/Ekx558gsn2BlL4S8z4AgtcO7iwsYWxFtNYlAz8JJE4Y9FpL/DT0iqHD6yihEREM1pdVbx04jgbF84yGMz4ydpZbfYgdM80NDfHT9Y5hAxVhZaWRoxjZ/g3PddQVQ21NZy+U3H36XUevwGyLOXNz28zftcQhOSpw+7i/OQJnean0x38VJJTD/tMtzfDd7x7VfwkEEghkDLBGC7LT1IpXKzC5K1nNOoxHW8xmRY83vv/sXLuBh7ge9je2mbrwb9PlY/RWuMGI6o7/xJJmrC0FPLcgpITyoAJFxPSjePUJ/6/PPfYw1fET/vexKbjMhTkJeQiJEmKEpLGAIMexSRH6xR16ABNUaKUiFKIoj8cUZ02pM6SJhotNCuDPjpLOX/uAsaDCPbD4Bisa1zd0LR1DEWDqw3p4YSf2Ppy8rIgyXp8Zf6vqaqGRCfkRcnX1j9Nb7TKLw/+HMtLoc+OKgqapgGlGA76mMpiqgqECFKHg3/vv5k/mfwSxhr+L/0t9HRC3Rim4ymNafiY+uN8s/q/+AX39QgvULFO2R93H8N4g6sNODGz+QrBv+MbcaZCIMkE/Lz6OiZmStKkWGNpXI2ugxqtpAphqqbGugatNErq0AE2L7iwscloyeKF5CtGPY7bP0ben+Iyg5KKbaUQG5qjS+/gtNzCnDjIr+nNoPmeuZH/onMwnreNpzx8/kOY8W/ivcMuYuwXuE4wnUR+8qCUJE1CfdPGAMPITypFHjpIUxQoHaLpAj8tURlD5i2pDvyUDfskLT85kN7hrUF6oK5pmib0GbQOLwM/3XDkBsZbZ6iKwE+TvKSqGt70/IS83+eWoxWHD67SWz2AX17GWoeioNluuP1kxbl7VjCljVrhjJ+k86RJirGGRKdonYTq9OMpTdOgtaSnJN660N5FKYjVOy7GTwDO2I6ftPI0poaarnWLjfwkhMBjabyd8ZOI/FTM8ZOU/L79fprGcmNdg1Q4JFVVIZ78x1w4OaK457sxjQlV/EXYqLVOwHsm4wkvPXuMyXjrivhp35vY2oEbQrSLVBRVEZMDBWnaIxsMsVWFsBYhBEkvDYltHkxd0R8OcTIWupQJg+GI/3X5JXSvx6YfYzxgDfn5M/z97Zuw3tE4RxU3MeMcqjE0jY8OxoYszfiV4bfzoepfIKVEqIReJvjE2p/nLUeOsDWZkGpNXwrEOYcXmuVRj9wVlF4HJ6ROGS336A96/PLkv+XDzT8Pk2stRV4wzQUeh9eKX3TfQOJC4VClk+iv+xqsd/xJ/e9CYqF31I3h38lvQqnYksFYfFGG43pH40JdNKynNg14QlUQIYjeQKw2JDrBxKoARV2RNhlfLTLc2RznNZnvxU8TnaSQb08pVRF8j9Bpzghw1lHmU9bPn0XlU1KtuXQnoAUWuHbQ8pOWiqIswAV+yrIeWX+IrUqEM0gpSHoZABKPqepX8FN/OGK0soru92jEIPCTMeTnz1JvXcA6R+MjPzmHaRyVMNRz/NTLMpaGA8qq2cFPN62tsnzkCGsvhcjBfgnZCxP8IOXdFxzT7bDxCSkRWqKSAYNBj8nZbR5ZS8AHU2bgpyJabSR918N7S1nM+Klqaqx3pFrv4CekQCmJUALTWHy5i5/8HD+xBz8pQ5K8kp+cqSkmE2qvcSoFmXZNPn3jKTfGbP3e34+h+aGCimnm+Sln/fxZTJVfET/texN7yx1v5cLZc/SyAS+/dAJbFzTeoZVAKkWJw5gKb2pCbXYRivBWNa6pg9qLZXm0xN9cOcNmo/FTh+yvgAv25n46xFaSZrqBRYRqGz5ITI11WCFwMfylriqWllf55fzbGKiM/2H5NxCtvdo7LmxsMOwPSIWjbAyyVhSTEm8tZVmilaIpcipjyXqaosgpXc6F8Xn6wyH2oKUJnWAwQmClB2soq5zEJSQqxTWesm4YHMmoypqP1/8NjbF40SCV6FqXuybY15VSoXW5CHZ25z3OhRYJMtrdPSHhsqDkYH0Q7xyJChWkB72UvCyY1MGRLUSbEBiSMYUI57LOhaoDxoYaadEpbWK7cu/DAvULTWyB6wRvuf2tXDh3jn7kJ1MVGFp+kpR4jKlwTR1YQrCTn5oGvGV5uER/9RCbDfiJQ/ZWOn9YPx2SlyXNZAMrIj+5wDqNtYGf4rGrqmJ5aZXtrERJxerycsdP3jvOR35KLsJPSilMkVM2lqwf+ak/YDwOm+6BlVUaZ0IUowArdvGTTnG1p2waVo8Mqcqaum4iPxH4yc3zUyh39Qp+8uCayE/M8VNRcvDwQbzdzU8lkzpUKCEeQ0TTqBSCxoXglZafGmMjP9lXzU/7b8UiDEIqGmdIewOskmjh6XkRW5LU1ONtXDGB1JOkA4TW6NEIZS3L/T61F3yveh6VvJliMqExFUmaMOj3g9TgHH9t7QJ/q+pjbYNWKpgErMXjcL6hdaTVVcP2xibOGiQZTV0ySCW+qXj26ac5dWGL1aUlpsOMB/lTfLv6ZVb7GXWimZYVpjE01jItCupGIPEIJdmelvQGI5I0oTEFQgmEDpPgrGda1uimop/1AMiS0DbhZ8r/uitXBYKqcjTGohNFXTfUVYiSylJNGqsLSCkRElyM6MERCoXKcH9eKKwJhYxTrRhkKadfPsmp8xvctPQLKAX/jm/CI6jKGq0USidIIXFR0plOg//QOcfX6CFKzgXX7DMPY4EFrnpEfqqdIekNkEqSEPlJzfjJl2NIPToZIFWCHg1RLxuWB30aJ1DJAJX2KKYTmmYXP3lHcuAI03Iy4yfR8hM41wTzE1CXDVt2Jz/1Iz8981Tgp7XlJaaDDINiRWWsRH7KW34ykZ9M5Cch2Z60/JSGwLiWnwBn5vipF/lJB34qyzoW/93FT1pT1zVNHYTsLNOkMpgRpRSxc7PsSnN5Ij81DZ7IT2aen17i1PkNygMrvO1kToitF5RV4CetE4SI8RLGMs0LjAn85PGvip/2vYnd+os/x83OIRAgQi8tKUM4ZnXHByjrikolHLz5AImu0dkKKhmEApmJZLhyCDfOsV7S5FMGW+cYL/XIBgkrfcH6pCIvc5Rr+Lu90/xdfWdo8iYlgzoLhSdFzWCph0ol3kKSagZ+SC/L6Kean23+G5qtbaq6oT/o0fiGrdzT7w/4P/U3oza38E4Ef1ii8cYDEikVQnh6vR7WBu1IyhA509TBGYpQOOOpK4PsKfAOay1p1gs2aCFIsxSTl3gg0TJEDAX3KUpJTBPqiyWDNI6jQCdJDO11+NbRiUDrhD/y5jP84lMrNI0hH0+Ybm2jYh+zXxTfxH/dfIzK1l2PJKs0srHdplU1hrKs8C50DKgyHYoft0mXbmFOXOD6wPET50OwghAInZGm/chPlsl4HPhJJxy8+SCJqtDZKiopMdZ3/DRu+Wk6ZbB5nvFyFvhpEPmpCPy0NhhQqJpE6xB5GPkJUTMcBX7CBH4aMiRLM7JMY5qGl7YKyqqhP+xRuwabewb9AUppTm9sEZLcBEJr3Dw/4bnnjOPFEzk3THJurUt+31pME/kJhbOeujbILCRWW2dJ0zl+SlOMifykZBfuLggF0mf8lAW3mRChVFUM/fd+Jz8Nl0fUeTnHT2OUDErN7ccLbEwXsHbGT01ju01rxk8O5z1SKZRqI0T3z0/73sSsJYRkQrDLxoKWWENT1WxsbqOU5Ld/99NIoRgN+ygtyfMCnfRglLK2MiRVkvUTz3D3UHMuW6I/aFjWZxiNLGeEol+luOUehw6vdfVHluM1/JL7OtZGAqGWovktqJ7Oe/6D/0ZGXuCcDj2C4obgbZgMPDgc1nqUFUgPvZ5C20EonCI8/z75Jm5+U8Ug7aOTgsM3HsR7R5Iqev0U4QWCVbSATCuGPYeTin4/YdmmSKVIUxUjloK0YWPOhDWOSV7ine8y+BWeVGcsDUbk0xydJAxHSxR5TlFOGfb7IYVBQN0YxkXRtYDoDTRJlZKJFO8Tvle/gJASU5X8rfFNGOfoD5c4eORmvit/kL9+/hC/3Iz5WjFCOhe1wFdb3WyBBa4uhJQjiffw6Xd/Ge97+DexjecHb/0W/uKFHw78JCW//YlPI6UM/KRU4Ke0R5plHFgZom7/ItbPn+Pu2w9zbvUG+pNPs6wiPzHjp61Dw0j0sxJL3hlWR0OkWgoh45GfWi0Gn2KdZtn7LjLPW2IR4sBPznqkEYjIT8lyqPEo8CSJ4OY3H2CY9tGJ4gNVH+8dj77rD5IPR7z/4d9mOk3ROfQ0WCfw0jAoGoqxQSpFbQTGOaSQ/MBtf5b/z/M/zvfd/O18aOkZimlJ7jxjCYfHD6EEpEpelJ8G/R4rz084NYDaGA49dZ6DTrByoaF/aEhdG7SwOJ+gk1GIEahKNldux1hLPxvyb5Y+yHc99c85f+4M3oWUKn+F/LTvTex3P/hFSJkgheYPPPibeCtoDPz2e74Kc+wh1o8e5T33fYhf/8T/w2RakCUpR244zD1v+yAH1oZ8xWOfpMhzTrw1IR9PEe4Ay6ueyqRUYsS57Q3y2jJ1DZVViCZKA/i4UcXaXs4hlUOpNgM8LIhQCd4jFUGSQaCQzPqOSqy3MUw2mAd7PqRuWBdCTr33JNmAftInyRQ33LrSBUlIodBKkw2Xu6RIJcJi+Hn/dfTWQAhJRhYTJoMT1OEh/n3Aj8ALmjqYCoQQLA16/PlkxP+ROL5D9XnzTQf5sXrIU8+WCAleOFSiGKyuoXt9bpGSykNRnOdj/o+RaMFfqp9k2oSiot440kFKKjS93jL/6/AU6sCbuXV0E1+6PQ0dZqXsWigssMD1AKFzlEz4obf8OWSh+MSdd9I0Dmka/tnb/3tOb4yxtuF/rB/ib+d38DdO/gxHjhxmMq05kA3JsgF5PmX9pVM7+emmL6FKMs499v+SV5apM1RWMZrjp1AoPPBTM8dPD933nTzw2I/w0P3fyXse/6cdP4m4++nITz7yk5vjJzvHT26On1Z6kZ9SxQ23ruKd4w+9/BBCKPRKSjZcDlzpPIqwGThvyA70EEhSslBwAs//Ov5Z/ME+f6/8eXwxq9X6yXd8MU3z5Xgp8IM+v9Xcy5enP879Zw1vXk3ZEoL/kMz46W0vV6ysLaOX+qwujag95HWB9ZZEp9Q3fRGVmOMnClLh6PeW+N+WTqO+5E/Qe/g/sbl+msl4m//99j/DX3nxJ/Y99/vexG6+4TaMqZlOLvDQB78MJTSN9Xzk934FeeQm3t9LmT76CW65+ZbQ/ybups8ef4iTZ3okWYrzgqpqMB5OljmDk6dib68QGRR6+Vj6ScaHfv/TJEkwf3ln+b0PfBgPjCdbIYHPgxBxmxAe4UNAR6si+1ZK8o6mDuY0KcO7UtEtilA8xCNFiCQMXVkF0ntkbMUQGuhYjAlqtXMeoUQssyIwNkpbMmbzu1i2RopoiozX5EKOXZImCBUusJ+kaJ+RqT6pl+AKkhRWDy2jEkl/uceqXiJNBb8stvhzepnfWKoZJj2EkBgj6MsVmga096RDTVIv0TQFf3H795nYEQcPHmQ06KHzkjTTLGUDlJ4LuV1ggWscN99wG9bU/C8v/Su0VCihqW95H9YYfnR0L39r4+fIb3wPTXMLd7i38DO3fS9/lSc5ICRZ1kNkKX4ypTpzZm9+sm/CabBLgZ+2srehtUYriXMWrUOazHi8FQK7JBx+7llODP8wB587xonhH4q1AH10JUTh27OLn+DnD93GHxwNOn7ysUyfMQYhBH/gmZ9AEvjJ+1id511/gVBtY56fQoRm6AHmY2HD3fwkeOCRH8UL8Dbw02DUR0jB+x75bfpJyn+VPsrm1JP2Aj+lqeKBLc3bXi45vRL4KUsFJA6nLaMDKbKEf/SWP8t314+j7PIOfqrLbWqTk08KvN/k4MGDLN3zISanTpDm2yylQ1bWhvvmp31vYm86eAv/00vHEKQI6/HCcro8z/e+7/18xVNP88INBzA644BUSKW48/QmTx5aCs3lYmfQoqhwTmOdoaordJaQSoGQYdC9czTWkipHUVvyqu76/dz1q/8++Ahjuf9EK+46u0GIhvB89I9+PSpG3SilUArqpg69g6TrHIcCj7MeQbDtihBYExyZQsWGesRjaOLbM61PqdiCwBPa9XjSLLRtcTbYdnFtMmHcLF2IzPFO0FgTlMcktHkoRcOPCc/7fvfX8O//rwDBl/zer/PShQbxni/lQ5/5BJOi5Pc+8GHqUvBPywkg+dBnPoHH8ytv/xLG0w2cD87YbGmZTGn+4KO/T3LPEsV4kzPlhGm2xm8NPHI0QorvCmGti21sgesEbzpwC74sENkKwnu8gNODlLPjTVQ+JXnT+xnqHlJKbtQ3ApLDzXoIuqobirKJ/OT2x09Vgy8jPxFrMwHeCaTKSLQK/jlcEJIlkZ+Cf1wpcVF++obzL8P5cDwh4MJt9+zgpwfv/U6WB0POb6/z7sd+lIfv+040cPDFJ2PRiKjbRX4SIiY/29Ct+uwtd+7gp8/c8z8gheC+h3+Exhre+YlfQ2iJSRWFaKitp6l96H2GwFuFdEOEl0iRoeUSwiuaUnChLPBIFBl/xT5NXhim+U5+SrUmTZcoi6LjpyTVrKwMGYubOHLgCHn2Tdy69Wv7mvt9b2LFdIqY5CRJgrcGW1f4pkamCZmA3OV4J7A+JOJ9drWPFoL7t0seP7DE9nhKUVQUhaFpaoqioJwWYYBjYt5gOKSqGnoHFLe/tM7RI6udb6nTnAiSSVk1PDgaxKZsgvt/61eQQnDP+S3SNOGFWw9zy3Mn+Vcf+eN8+3/4RX78D/83YWKliOq878qfCBmMjtJ5lABXO/CSlGEo4EkbXNq614JEFaIyLd7bsCFowmJMw79ADE2Nm10Mow812MJP0O4qfue9X8H9KkEmI5DBVOGso2mgrhXv+cSvd3MhEFSEsjnflT/G+uY2aZYgBJyaTHjvC8/QW1nis8emmKZBCMg+kPKhh34DpSSfeN9X8qWf+fVouvgL+10CCyxw1aLIp/SLMvDTLQ9gq5IfbG7g28Vp/oZ/nE0n8U5ivea7ms/wuw+e45NJglKKqjZsj6ecO3uezc0LvO++1T356UJzE1XtObTW5+AhGzUkyYlnj72CnwK/iI6fhAzVMUKEcsJb7no7ZV5jmtC+xFmBR0RT/05+OvTci0H4jhsS3rG6OiTZzjm39se55eTJwElqFDfVtiiFmOMnQIdjvPncS5GffMdP5950N09/8H9+BT95Ae96+Ef4wdv+DH//ws8i9QiER4jwuaYWNLXGRP/V8eWvnNVBPCuYbI0Z+pM7+OnAgRErK0skWvL8+UOIGqSRKKkYZJJvyy8gsiXOH9pfTbx9b2ITb7ECZN1gvcVZi7NgGzAWfueBD2HSIR968HdDq3ApqauSx1Z6pEqytrrMm198md95ouGBe0Z84ndfDqa/eMNSCIajAuccS0uWpQMrIQCBECkotYzlqmz0colYnDIsmDYv7tHVUWgJsDnhwuoS7/3kr/DY6hIPfOI/4WJkTSiYCW+678MIIWMjNx+P58gSSW08X7slCEWoo22S1onru8UZym+lnY+pNWe66NDtwlSd5+cGnkSHwptf9Klfo25qILx/15lN/B/5Vioz5OZ3fg3nfuuXQlBJkpBoFx+O2WYakh4dn/7sBnVd4+w0lsvxDJcGvPXkWZ44MKKuKpy1fPXxJxCHDiMF/FcvPEbvppvoxaTPBRa41jFxlvTN70c6sLG9yF82j3OhBmM9iAZPgyIEXt1y++2ceOYYCEmaZqytLlNVJWU55dOPrseWJXvzU7mxwdb584GX2p998lMTO0M/9uDDOBe6x+NDqb3d/HTrHW+LZaFktzl678kSgTGevHRIObvG8P/ID6K1HkqEUF2VDhnfl3P8hPj/s/ff0ZIl930n+ImI6zJfPluuq6od0A4eIAkQIAhDpxWlPUfSSKQIkRSXpGZGfkSRomZ1NGZnNEdH3qy0kmYoUaREUSC5srNnJFKkBDq4hm+gve+qLv9M2usiYv+IiHtvvqruzmoDVDXut0/1ey/z5jURv/z+TPx+vxAcf+ZppFINP2ljKMsShGD3yH/FH5mNObP5e5mPNihUyRUzRazvcOXolMmsIOSuiNB5AcdPcRIzrU7z7Fce7fDTnOFwTFVWHL/1Nrf7tbsNFwKVkixJVuanlZXYm7/4m/yZE3dDPscKS5pkzAe38O4vf4ZNIxlVEfuRcNrfu9dKSVejsFgwHA7Jv+mtnL5wkSfOjLnl5Ck36MEb8utLQgiiOAnD0XSVDh6UEK5NSa3rZiGSMHme5EOmjxAC4TsvRyryQuAaDButefJz/4G6rrn1bUGZeSvIRgwev41pU+SHsz6CCguC6e9XhUyaID/eszO2sz26gN8/FUjpsg3tm77dx6ZdQsji7WAXBUXpivxOvOnDTCfnuP0d38kiL6m15cyXfw1Lex1rBdEgI8sy13fSrwsKIXjoaIKwljQboHXNuaef9u1kXCl6liZkWbLq9PfocUNjdnCRaXIZFnPAkESShbLYXLBpXC/FfSVQieQ3Pvc8iItX8dNtp08SR4rJeOzWn+Bryk9PPfwQdV1jLdx+9z2ui4eQYBXjSU5ZaYQw7X0Szu+jRtC0tUMKRHjdb9ZprW1aCSIswji+EiLkDIimFAgEi0XB+fJKk2E9m8yQwhBH+F6T0vFTeGLPT5efP8PG1sYSP9W1QQjJpbNnOXnnnejaNS2utAZcwpz09/lSWFmJ5Zef4WK6gUURW8NxATKOQCUskphvOP8M/+UNbyZfLNzE+GGUyrm3i3zB9vY2J44fQ0lFVVdN+5HgvohmANqBC/PvXOkwCYJ37uU8sLXmKu1hSVbwWUOdULUnfgEo50kpSawUSsWcf/jXqaqSqqq59W2/g6qKyAu3LYFwLpePb3PoWu7kJXV750Is/bON8Lo6C0HVLOgKnyUommxBAUY3yjJ77FYWZo62LrR44t4PopTi+Yc+1nlON1TCZ7Io/+VqnxeUSrBx3Nzf3eev8MRmtvL23z163OjILz/L/5T+Tn7cPkxiDccLi0gihExYxAlGCD75+UvoWn9V+GmYDMiL8lXhJ61rnn38UarKKbQ4iYl87ddtd93jkjQ699dEhZqT6/YWPC9Jz2vtcRZja6+o3f2EEKholmBoargAxuO5Dz065ae19XuzRY2hjXBdj16Mny4+9yyn33BXM3bWWiSWZ594fKW5X1mJ/drxu7FK+6aXNZcE1JTkouZCHLlMOa2ZzeekWUYUp1jt9qoRPvOvKiuGa0OSydRPugmj2Dxzt0rbxZhdEqofV5fNU1V8ZWfEaDigLGsWi7kThkam7NLfS8LSTBz43fNQUYKKYtLMcPHR36AsC7TW3P7O30kURUipmnsKk+y8LbEURnTKycXJwyyGsGJ4xiAgAEK6DM42ZBnecBvMhdo8V8sondUlBHe+87t46gu/4ltN+ZZT7V20YcfDD+3xxMkjjQfZo8frAf/T8R/EKs1f1ffy4/UXuSgsuioxccpn5us8/+ST1LVmPl98VfjJWstoNHzV+aksSsqyoMhzpFQ8+dBXENIlkdz6xrvdKZb4qeUV96tTTNork1AaYL1mCXwCLn9A+qYWrRHvlF/gJ/xyjFIGIdwam5KuI70Fzj75BKzAT2eefNzfo+dX4RpBrIKVlZhdi7HSICKDSSxT//rH77wTKRWRzdBFSVlrEuuaRhp/n8LPmNaaN18ec1mp1rLpTiZtfLd5WGvBBu0dDnb7BmntkkHesjvjKztrjQcj/AQF52ZJMJyd42/MvRl2GBUI0iwjzTKM1lx67DepypJTb/1OR/pKuZMFy6zjcbl7dwpMdfbH8bkcy1+CEA40uG4aov0yGV+XFvnq9fDtMKZp90tVVRy9+wMIITj/8K/7NlPNA7p4fCc2fTiUsWQm9ejxOkCXn/5G8ubm9e/be47nn/ockR2gS/uS/BQr5b2cV4+f4iShLMtXnZ+quqIq3Q7OCMkzjz3CbXfd4+7Je1tNJMlfSwrnGkn/gstcPKSY/XOEnquic67AT0q58ichfHjUh3U0riWV9s3gT97xBp5/6snr4qdb77qLM088zqr8tHrHDuV2Y7bWp6kbd2EpI5RJqQvDN/72f0JEA1SUgJBOy+PlQAhUpJAVSOsaTWoTzhdqlpZdd9t5qe3dhbNQcC7sZDzhK9trLoaLpSNjbuBMV7v7iQOX79ohc1dQ7c4tABlL4jjGZAP2nvw4i0XOLW/6sFMwkXfnfTprOIc7n6HuWBOhmDFYH7Kr9KxF+IVhG7KCvLteWUtdN1O85N4Hj85ayy33fRCpIp5/8GPuWGtplVVnAJsvQ3tOl53Yo8fNj2vx0x/cfRYhI+54w1t55sHHyAv90vwkXb/WV5OfoP1evhb8VFcli0VOWeQ88eADRFHMHfe+idAkor3/oMx0a4D710NmZZtR6dbEgjcW+Ck05a1s7fmp3UlD+rVDR1Z+/7Mqp65LpIqXxuFF+cleHz+tvrOzrZtNLI01CCuQNiLSGVVheddv/AfkYI2NkWu+WVaVvzGaBIYsTXlsI0U/f85pd0kz4bZ9lvZBguZuude9LcFtHRfcZEEcx25h0F83nMQ2isYivUkSlAAsKxslOuGCTvgvSTKSJGX87P3keU5R5Jx+23eRxAlJkvhu9KZzv95yCjFy0Soil+zaBB+Q0hJHrVenVBAYixVtfNpisdpiRGsNhjBiXZccvfv9nH/oY+BDn43iawTYtPKypM569Lj5Udua79t9FnAhfGFB2phID3jqoceYzwqSFfjJ4jIFb0Z+qqqq4afHv/IlkjghThOstZy68y7fDKIlo2ZZrOGTZVYQuMzwOGqTVqxyysmGgmlPbpaQFBI8yNbTKsoSQUUURSvxU9eYXwWrhxOtaTxcZQXSpgiTUJSGb/ytX0YoRZZGIKD2O4c6ber+JXFEkiTMF4tmgdJPo/Oo/aQ1gkEbZ26PxKfDd4fZTXKSxEiRMJ36+gZvYrmFQn+sbT0id1/Gn6U9T5Cv9p7adaMkTUnSBGvWmTz7afLFAq01p972XUSRa0vVfCk61kb4AjTPEzqLCPzusP5L01hcthHeIMiyMdW6oYv2i2WM5di9H0RJhVQRz335V8NTHJ7JjgXZq7Ierw987+4zzfdGWYm0ScNP83nxdcdPZVmQLxYUiwXGWp557GGiKHLnNYZbQ9gxXLf7JP5XIVyWZOAn4bvZhwzD4Mk1SyrdRz/EL9oa6qLwTSRUGFWuxU/PPvHYdfHTykpMSuka4AYB0TF1rfnmT/4qUebSvFXku1kYfLw5WBmCwWDAXef3+G3hUimbeHLrqDeue5PZJxr/HJfuadtQcfexjWE+n/P2gwUPHdlw9Q2dAWiO94PeRgBF40ZjafocdsazsUDCC0G5JElKnCTUVcXFR36dY/d8kNwURFFEmqSug3bzRXHfFBvcdxFi4zSazVqLpi2QbBY/3Y2hvYveTSZp192c22+tRBvXxf6WN30YJRVnvvJrLAtLr7p6vP7g+AnPTylCR9S14elHHiFbkZ8sMD6YvGb8lGUDojj+qvNTnucU/l8URSRJyrmnn+TUG97YnLuxslm+f+HJyO0LZlrjOoQFnQXtjfKOsvXnOfvkE86jExIrLVq77WCEDPVwklfKT6srMaMQNkLoGFMDVvOtn/0YarhGHMcE31SYdnqCx5CmCaPRiOnlc8zUctitCbUdegQhhAtfNm61E5Rglyw9qvdEHtxZJ01cSmrog9i6yK3r74SRduy84LmU+MOp9MtD2qTd+teVihiNRszOfpa8KDh617eyWMzdBpi+I0CYoLD4GVRYEJauNdc8mQjWlvslyG6oB2sDkqIdIzdwgHXF6MZw6s3fhpCKs1/5NZoF6K7E9ujxOsBhfjrzxKOAYHgd/DSZzpvdkt1bry4/VVVFmiZfE34aDofkRUE+n5Mv5kileO7xR7nj3vsI0Z1265PORbt/d6/WVVgdpRYMcsAnZ7RKrb1nV1dmjEH6PSNd/Zvg9F13c+aJx7geflpZiYk6w2rZ3NQHvvDryLCXFp3qdNsu0AlARRE7OzvcfWGfj6USXVRLk9e4ruFCjTvd+POHYJvC4tbqcRMbsh8fOrrBdDqjSYC1jbQ1wtHEdf2rIXsmNNvsejtLAYJmQtp7tIBUEcOBYvzspzlx7wdZLHJm06m3fBKv0GSbgGI752+u4e4zOPeC5XtoFlc7CSVtlk9r/YQz2RBbFpoT932Ycw/+Z1/oGMak98l6vD4g6tTzk+DsU0+4zWFVtDI/IQS7e/tNVt1rxU9xFMFg8DXjpySOXahxvmA2nfLIl77ovbaY2+66p1mLcgq56+m1V+k+cvuWS5QxxvDc44+3iSx0FTVLbp4xFm2cPpDCZ2PbcP3V+Wn1xI7S8oHP/RpxnLi6qSgGhPcQbCskBIvETcw3F5aNSc5vJlAeFICv7ra2U0TXDbu113Sna20agXClE0F+mslv3BS+tDngGw8W3J8qH9u2jeAdRtdCaM7Scd+tdRFn4318JzDODVpKrW/dJpIkZfepT7pF1sWCo/d8gPligSwKkiQmjhOUdAWNTbbPVaHhEGtu/xL+BSlEs/DZff4gMN3xaL6M1qCN4cR9H3Z1aUpx9sH/vNrE9+hxE+Dphx5zSQhxQhwnhPXjl+Knne0thsMh589foCxee36aLxZsrK+T5/nXjJ/iOCZJUteAN1+wWMzJC8kTDz7g+N3vc6WNWfICl2+uGwXqjkno1LQcMbrqOWiCRlhrqU2N1vD0ww8iVdT0rF0FKyuxb/7kf0JkGUIqV4KNaLzWMMFBUIJ38L7Ksn10h9+WhoPLvrLMTzzgCbx9xK5X4Tzl5YXO1oaSjWcSbiCIS1GURCrhG2cFn4yvFoyudeIEok1vdQaFW3cKQtHedHi2cP+2M5G2SZWVfvuVNHXCMn3uMywWC47e80Hm8zlRVJImKUmauoVWY5pUXppzw1IcY0mZCWfNiU7iiOl4Zl7Cg2504Uf35XK9y2q00dxy34c599B/WXX6e/S4oVHXmjSLr5ufjpSW397d5WD81eMntR2xvr7BlStXrnqOrzY/ZVnmmh3nOfP5HOX5KU1dJ/6wO8dVnqlsxyNkTyJo9iqMIkXXeDCha74/R1DwTV2a56da12A0SiuXzbgCVlZiSZISRTFNimZnBbMZPH+TRhuObG9xTCR8KhbsXrxCyLQx3sJpPmc7BA6N5RMsqC6M9aQMPpHBE3kTkxUIa7h/KFFrI+x4vPR5L38dCyF8jlbKwiHBkrFtnUgbhugeSGdyXINL8I0shSBJM6IoYvLcpzly17eS5wXT2Qy5WDDwhYtRpNxO2Y13ZTs323Xp3WumMayEXyCVLkfJtmPq/rYIq7wic8+hvXdW1zXH7/3QCjPfo8eNj+vlp/eWlmO3nPia8NP+/oHL0LPLn/9a8lOapSzmc/K8YDabMff8lGUDoihyDYq7yky399222AvKVnhvkKYHovQE1XYHacfXdIx4IaTf3cMlAK6C1ZVYlrn1lJBx5+6i5dswUMays73JB1XKp2PJuXPnm5tp3XFnHbjJ8H83Fk1YL+pu2thMaWPhGL9ZHN6FFuEOBOSLxZJ4tdaJO0tbrd5KRog1tx+y/jP+2gLXYaMjwN0UUxlSZTvP4c4pQUiiOGXvqU9RlQVH7v4ARVEym88pyoo0TUnTxBVY+j3Juu1f2pCFAAxh/dU9Rqe/mbcFm3ES7lklqhEW8NvFCK76EvXocbPievjpmwvDydMne346xE9ro4gkKVgsFhRFyXw+pwz8lKWoSKFr3dzLsufn4PJK2hovIUzbQPmqiKTPB1BeoRkLGFcF3ok0vRRWT+zohLeWB6M9xhjDzvYW3x4PubK7x/N1jtEaa67eflG047/kZYQLNK6789ubA4U95EKHxU/pD28msL1WCAuI1kZBiOU7Ohzz7RYUNzF0L9XWN71020K3kT+J9BPWuv/Wuu0OnOXjmmNOnruffJFz9O4PUFYls1lFWcRkg4wkSVDW9aFsnrFrojX+fGd4RCiUVk5YjdtKIWQoNk9qvUArCdYuZev26HEzY1V+em9pufX2W3t+ehF+StKUfJGzWCwafiqKgsFgQJIkWKxTZuH+bUhEa5M4lhMShQ8xRr70yK3pa+026lzmJ9qGDytqsdXbTmmLkDaYJu0k+oE0RrO1ucmH1YBLV/b4WL3oJC0EAWs9gTAR3SzObp5NuwhLR1igTWDoWD2CNnW2I3SNxYAN88kqPW9DJKIZw2AZ+V+FkkjanZyDi1yjkUGIvVxJ4fdDU7KxilQUMVwbMjlzf5P8UZQV1aQiSzOGw6HPIiobrwysb/8SBDd8Sfx25GhqWbuYtPTXCl+LbjilO66d8e7R42bGKvz07lxz6rbben5qbu7F+SnN2uSPsqyYTCrSNGO4NiROYsqiXPIQ26zMwC/W9190N9rUh4U1y3Ajbcips/ZmV2an6+jYYV0ctEm9caNgrLMktrc2+ZDK2N3b52PVwm2M6QdWCoGhzQpq3HZhvUdxyDpws+/smyaASnM94a2H9mXbtmgS7QCIxkpyrrm/eiN4jfx2pauj/Lt2gO0+tn+yKFI+ROGSM4xtY8bh2bVxbWyodRMbDv0TZRSxtr7O9OznOHrXtzKbzVjkC4qyZDAYMMjSRti0z2Tsel9AU/Hv3HG3ribw62QixMrD4W3Gkku9X3X2e/S4sfFS/PSewnDq9Kmen14GP2XDIYv5gtlsSp4vKD0/ZYMs0FMT9XFnbv/Xrg1al8BmQKBRSjXGeePFIlCen7Rf8lgF16XEwsg1aad+oHeObPEBEvb3x3xM567ivXNzzTPRdRGdzeLO0UkbXXJDm0s2MxasheYYL2Qh/h1ea91tLxyWcJXmpCEdtntsMHM6vy5NfGdAXDdoLFYKb4VI30exu1ApGiF0O7mK5v6kaBts7j31CY7f+2GmsylFUTCfzyiLgjRLGQ4GKKX8ppamHUNv8bgN+2hsQGudwtNh471rCINr/bKau96jx42OF+On91aWE6dO9vz0CvhpNFojSWKm05afiqIgyzIGw4xIxdRau3P7WlinjFsF1bRa8Aa3CWN1DYKKIvXqr4k1U9k5sZSSIztbvN8q9vcn/Lop/E6kYVExOLi2ccfbiQ+z4MnX0rRxCcJHIGDLUnxUhPixEOjOZIQzt8eFyffv2E5H6iA8zb3Qhgy6UnktcyCE58JEdN5yKaZ26biQAh8yp5wAus+i3RxKBOce/i9Yazl2zweYzxdUVUUxLpt4dBxHrtO2xX8R/diY7kKqt4yMBovfr0zS3dgupLfK3hXr8brBtfnpvZXl+KkTPT91xuTl8pOKIjY2Nyl8On5VVYzHY4oiZzAYEsURkVK+vZTBhKa+oS2VHzPHT8avxzl+klL65/PjcW3ddk1cR2KHGzfrBzuKFEeP7PA+LZlMpvwmFbqu24XM4DaL1mLAD4YVwvUvazoX+4nuCKJtsnqcOSJF2PfGuf0y1Cl4a6UdgNbzWK4UZ4m0g5EQLDbAC2pn0v09i6V2TdB00ACwxoUQGoE0zbnCuIlIoGzYftxbKT5PPlhXBouu3Dbnlx79LbSuXUp+UVBXFZO6Jo6Tpr4jbI9gjU+n74QdpP8iGHyvMq298Hqr08eurypg7NHjJsUL8dPxnp9edX5KfVr+fD6nKAqqqqKux0RxQtbhJ2GFN7B9pmVX+frftHap+06JebOi4afV5v76PDH/kFEUcXRnh28uYX8y4bdETV3VCClQyMY1dtZAO7xN/YClcTGDhl6qx/C/uwezjZBJnGXTWCjBp/YXsEueRnCV24SIoOZD6M0uxQcsIT3dhAG0oj1/MwzueCmFXzSlzYwS3dCAP6tpM5FCXRcWrGwXXK0VnbCCpTZuZ+fdpz5BVZacuO/DFKXb6lxrTRzHxL4vo/PG/d5Ivrt0kwrsLcWwuV3zCEY099Ojx+sDy/z0vgp2PD9duHCRemfU89OrzE9roxGJ3/CzLEvqqmLu+SmK/Z6LwmU+Wuu38GoUuL+eCNnUbU2YNEE7rzbzq6+J+f+SJOZbaslmadndH/Nx5bbMxs+BODRR4f/CtuTqjhWtxRDc3zBo4YrWOMslTI4IG691eqH5AZHhunTkpnk/CA20o0iQXLpGQkdOCe529yMiuODh/oMJ1/r7zYQ3F/WWjPAnaYQGmkxC6DTv9BNurSWOE3af/ETTxurEm76NsnRhkTiKieMIqZQLCRi3xYPxGYuher5z97S3dainWY8eNzECP711d8rRo0fY3N5gd+/A8dPWEIzp+ek14qc4TkgSx09lVTX8FEXB2JZNWn2z96KxbkPg5t5bfgprZWJFflpZiRltGA4zPkjMYHPIJ5XgoqypiqodDNEOgkTio6reNQ+z0jm8eYBOLNp2BsrY5VPblpgFYBBNeKCNc9PEFpZjze58rhq/tVaCZdJEGbyV1no0wXLpWGzeegiWjehORGt4ufv0FlirS1phCtYj/pxhZ9RQiW+sCwdK4TbLjCLF7hO/TV7knHjTt1PXNVUdkaYpiffMqrp2XQMELv4fhLO7kOwXbVf213v0uMER+OnWW9cZrA25fHmPj0vd8xNfXX4q8oK8cH0hq7qmrl1afljPr6vaKf8OP0k/JsFQCMp31UjRykpsbTjg2+IBg8GQ8+cvckHW/oZsay34kWnaoXg3NiyStjUFQe+2rrLT+v5BfOV5sDYQNHu/uZiu7JwnDHqnzQvLQhgm0NrWfW5i6KJtl9JaLFf/HVKFwjla46bbEb694LKX0z6z9O56cxG7LFzd60svMMJbT7F0Bc1REpNlKXleUJYlWmvKKCbNUtIkIbaREyIqlzFk2/FvbiuMa48erwO8c7Lg1s2dhp9+W9bUZc9PXyt+ms/nFB1+igI/pQmxiamqihK3PBL4ybxMflpZiX1nNiJJUn7DlFwUtVsk7V60GaTmLmjGuZkRmt1XG3RiyBAWRGnbtoT3wjzIjgCYVlt35szfV5sqGhYXg1nT3EM4sb9HAaG8xJ1TNCdsnkhgXSg6CEqwVgR0qrKutnr8bzaYaf6ottOADwOE26Gdw1DrAs69T5KUg2c+xTHfVLgsnbIqy5IyTRkOh6RJgpKSsirRvueZ9iZd2zC412I9Xh+4447bSZKU55+/wMeV7vnpa8xPURRRJL5UyPNTUZZknp+SNEF6fgpF2VjbpuhfBz+tvilmFPHMs2c4HztrIxBh6/It9+fyLznLIvzRtTyuEe9sMme8Gy2t8HFnmutJIRwR+4FtC+ac5XQ4ztyNN/uPNrHf1uDo2lz+PWsbq6QpQ+xYB8K3bnL3y1IMPBzTJkJ54bAW6xWKCDF0H7Neir/7wLuQ7U257Kf2fSkVV574OFVZsljMOXLXB6h1TZ67RdI0SUj8v7r2m/BZsMJgJRjTr4n1eP1ARhG/WszZFZX7jvX89DXnp8FwSBRFLBZz5vMFWtcscku9xE+p56caYUG+DH5aWYk9/dSzfCZTiGbzT9+oMgx2Kytt5XZHWLDtZFhajSulxNK1drx3LgRWWHTNUjzZaItQ7cQvLYqG2+i47qKZMJd6HgRJ0E4u1rZx4WCdWNfKBtE5d2fyha/m9wFpX/XfDsMheXHXoGPB+PvTzaptuygc5D4spErpsxBD41+B34VVuF6LUcTGxjrT2Yy6NuhakxsXl87ShDjy62VVTVXp5hqdSHiPHjc1fnUxZX//oJXonp9uKH6KopjpbLrET3VV+y1fXH1ZVVVUlfZjuzo/razEPpu5/WGCtg1ebEhLxVrfuiUMil8sbVzWZa0abjTAmI4bTvDw/WKiP9DQZt4JEbpRhEf1U+D/btpzGb89gj9xkzbqB6kRtM4khllq9sDpuN3db0Vwydt09q71IJAiZDW1tpiUirADaiNI1o2P1m27mvZxhKuj8L832Ua+kaY1rsbiypOfpK4rFvM5O3d9gLp21fN1rYmTmEGWkmUpcRxRVxVlZVlRRnr0uOFxsH9Az0/+/zcgPw3XRiSp2+5lPl9cxU9ZlpJlLgGkqipMdSis+yJYPTvR2mYyuouKFpeeigiZON68EK37bJshcv8XfhZDWjjQDE5wY5dMhY71EUTCCZVtYtR46yMM4lULq7bdKBJoN7wLlgXBLW+vHQSoiWsLF46Qobo49DIMlhXe4jEW0TXzBE3Boza6iYU3Auq/EIQvmSVIjr+eO7/WphlXIQRv3ZvxxMkdiqJAa9ePbDhcY/rc/Ry954PMZjO0qah1TVWWxHFMmqZEcYJUEVrXq05/jx43NHp+uvH4KUkSpBRX8VOSpOR5zmw2o/L8VJYlSRz7TMYUpSK3QeYKuI7eicFacHFgZxmI8FLrNodZC6MicSZKEJ7GEnKjcTiNstuYto1f+2uF8fMzKJuMoOCahwk3S7FwsbQ3TWtxda0SN2GhgaUr+gudpZtrQlO456sZvNsuXMaSDTspt5ZNiAG4IVm2YkIIwx3avUoniwnb3Gcb03YLuGma8n4bU1jDp1MoigKLIYoi9p/+BEfv+lbmi4Xf9kBT1y75I7SHieP4qnnu0eNmRM9PDjcUP2UZW1tblGXB7pXdJX4arY9QSrFYzJtto+a1S/6IG35Krprna+E62k5JQqqmwLnasnHVw3Nbb0GI5Xhmo8nbMWp+Np+3S4PXubD72WS/0Iy96A5cOEe4Ey/UrdHkBcFvieCEwlW1C7ucWiqUu6YUYX+2MMmtxdZUzXurxQracIW3BJ18t58RrQwQDgzP3Xx/vHXTfC2EaASvHTSDQfDZQcTbL17i6NGjfEhJPrMzZHwwRtcurrz71Mep65pj93yIoigoq8rvUwZVWVLkxYtPeo8eNwl6frrx+Gl8MKYsK75FS5TKruKntdGQNEso8qLhp7BBaVmWyBX5aYXda/y92Y7G7U6KpYnZduO6ocEjwc1vDY9wQjrq/KrzNrUbptX6Xbc/TL6FTtfkNj3TWjqp5BYbtiEQQUDcGdvbae/fmHBvncwl//zGts0+3QJs66oLge/67KwwEZ6TIBdBINrO0WHywyWbc3W+ZKIbnO8+J5YvrWf8FhWLec77TcSHVMZwbeBTViFJEg6e+QSbmxuM1lwn6mBhdlu99OhxM6PnpxuTnxbz+Uvy0/rGiI0OP4XUfrMiP62+JhYaOeK1cHchMjxsq+aXhOpwimiTfSOW27OEczfzJYIZZBvzQkjZCFMT+w79y/DT2ly7DSd00cZ7w7XDtFi0Na6a37Is2I31tSzYpjvZoj3QhlvzFs9STNrfrDumG5toHqcRom7Mu4tmzIGiyPmEithJJVvHTnGsKjk4OGA6maJ1jRCC8w9/DKylrmtn9ZQlJ9707VdPdI8eNyF6fgqfvrH56d1mwPvLgoPC8Pm1pOGnOI6Jo4jBIGv4qaxe5TWxkE4pfKC3e5OtkDg3uStAwg9EGOOgoekMkJuPbpw1yEVrGZiQHmTbPCIhRLN4GV7vjqe1BoHsTKh7Bkn7DM19dQQX4b8Uto1zB5kJ7zeT2IxDx3ILTyHacy9lCPm4uju8DSsAvkloO7b4L5J7LtuxBNsvnwWquubypcvk8wWbW1vsbO8QxzEHBwe+t2VYoFasjdYY6AHTM/e/4Hz36HEzoeenm4OffmttjXcby/bODt88mfCZQfKC/BSWPl4KK4cTQ5aOoU19tJ1htth2mwNv9TTWBh3XVbSGQ3Cf28XI1iIQze+ttST95m7BLRbBagDXc2zJIOguOHZccOsWN41t3w8TENzppvrcW1vdvYKCJdYt+lu6bpAoQv28u4FguHWtxM63rH1OP2JCLFuIS58QovNFbF5E65qDgwMuXLjAZDZnbW3E0SNHGa4NQUiM7xattUEpSZam15zrHj1uNvT81HnmG5yffouKz48y1kYj3lfLV8xPKyuxWhtq7S5QadO0Mgp1Ea22D59YdttNx11tLA+/l0x3CsLPcLwzbjpWkBB++2z3ugyLtBZfvOjjy64VshMIL+DtnLbFvs0khIkTtoklh3tpfwvPYjrhiFYQpd98MrjjQWLchDcj4q0c2whEGLew66qxdmkTS+HrOYLFI/x/n958dyOw3dY1RVFw+eIl9vb2yQYZx48fY2NjHRUpwFlOtbbki3LV6e/R44ZGz083Hj8F5++F+OnTieTMnadeMT+tHE4syxKpfE25kJ2HdpBS+q7L4cHwDTMtTfqptUtWQ9io0foJMMZvLucL7UKhYuu5ysa6abpDY7F+p7iQoSQEIN25bGM20Vg2wT1u7ChvCbUh48MtT2z7/+ZmQCAR0ocTrLMGVaT8E7cZRV1rxG0A524pxKvbGLjpXDKYhCEG37Ew/b198/5nlkIHxgu3EFDrmv39PYzRHD16lKNHjyKEYH//oDUr1ZJp2KPHTYuen248fgrj/Frz03WtiYV4sqD7MMEFDUJCE1uN4wgh3eA1E95JRbXWor1ASOnaxIQUS+vMItf2xRfRGed3o5TAGKhqZ3mFugl8XFeGz/n6DyUFtW6tHWMMIjT+akcZEI3bLGVIefXuuRcg0XluMM0OqOB2ULWVbi0501pxSimM1t5lD1fr/PQWTIid2249h+hckkMftsGSEu1jELJ7LOPxGK0Nx44d5dixoyil2NvdQ5turUqPHjc3en7i65afhF1W6T169OjRo8dNg5XXxHr06NGjR48bDb0S69GjR48eNy16JdajR48ePW5a9EqsR48ePXrctOiVWI8ePXr0uGnRK7EePXr06HHToldiPXr06NHjpkWvxHr06NGjx02LXon16NGjR4+bFr0S69GjR48eNy16JdajR48ePW5a9EqsR48ePXrctOiVWI8ePXr0uGnRK7EePXr06HHToldiPXr06NHjpkWvxHr06NGjx02LlXd2rh+78Frex9cNbOffM+qjaG1Y5BWn8j9IFEfEgwghBcLCY/XPMUwUk8kUbQS6tmxvDrlH/QAPFz9LVRsm+zNUrMjSBBXBzvj3cmX9/6SuNUpJNjcGSCn8VuMgBczzEqUkSRxx1xv/zNdwNHr0eHXQ89Orgy4/GfD8VKIrexU/5XnNMJWenyS6NmxvrJGlitm84En780z2Z9wpvp8sS1AKZvOc4XBIXbsdsDc3hkgpCHszCyGYLwqUUqRJRHzPiZe8594T+ypD4AZdAreXf5Air5hP5mhTkaQSJQVPmZ+nKCrm85ILl8eMxwVvlD9IksZIJdDGUtZu++4TJ7fZ2h5hrOHKlX3W10ckacz6+oDhWkpda8qy9kJiKSv3u1IKrc2L32yPHj2+rtDlJ6ENxaJkPl4s8VNdasdPi4ILlyaMD0riOCJJE2Tk+anS3G4+wruP/XHHT8ZyZffA81PC+nrGcJh5fqqwBqzFcxVESlLXeqV7XtkT6/HqwwJviv8wZstijCWSzqa4mz/EQ/afsz5KeaP4EaSA/3U65XfNJmxsHOMJ+y+pjSWOBHlZoZSkrGqMgTSNEQLusB/BaHiaf4EAVKQoyxpjLUkcMZ/nvRLr0aPHC8ICa4OEQRov8ZOIJNNZzfpaRhxLpICD/RmL+YKNjWOUleYp+VHeyPfzmPnnqEhyYGfMxZxb0x9Da4OUEmOgro3jJ2WpKo0xhiSJmC0KtNYMVrjPXol9jWCMYTyekiYxozU3VT7ih5SCdwx+qHHpLfDnRMIXCoMBam1YLAoKKRmNMkylGY+nvPvon+QZ+S+5U3+EKJYsqprKWqJIUJY1Va2JlCTPK9IkIk3ir83D9+jR44bGS/HT9nq6xE9xHDMppxhrG356SP4so7jlpxO3HMFYi5KCSHl+0oZICcqqpqo0USTJ85I0jkhHq6iwXom9KMKkidfi3NZS5BWDLG1eE4d+Wpxbb4H1tZRvGfwZnq5/niKvKEvNYBAhhODgYEqaJawNU7bkDyCUwFpIk4g78o/w+OJniSMJQmIsJInCWktelK/Bk/Xo0eOrgRuNnwaDW9DahRq7/LSx+39nFBlOJ8eII4kQLT9pY1gscuJYOX7ynpg1ljwvWMXM7tfEvkaQUrK1tU6WJi94jOj8q6uKv1LOOLn4HmaznChSZIOExaJgtqh419Yf41z2S1jhkjhqY3m4/Fm+dPB/sL87ZTzJyfOK+TxnOsuZTBYrx5x79Ojx9YWXw0+L+YK61MymxRI/PVz+HEeObhPFaomfZvOCvd0xB3szxuMF+aJiPi+YThdMpgvqerXljl6JvQjCBL0WkEIwHCRIueIVDPzxaU1VVtyjfpBBllCVOZPJlNFoSFlVaOBp9Qs8E30UIeDW6iOUueW+5Ed4+9p/zX3xD2ONpKosQkhOld/3Gj1djx49XmvcaPxU5iVVWZGl0bX5yYIGrAAhfCJHbhgMBmxtrjMcZFgrqWqLQKJDSvVLoA8nvkp4LV17gDiJuDT6N1gLNgG9qLl4/gJ3qR+i2PrP2Fo0N2ARPBf/ImbTcGqww1G7ThwpDPCO7I+gtVtM/cLBP+KD/G+v0R336NHjRsFXg5+yQYo1oFKFLh0/JUnCO9b/W2xHHxlASMFglHIq3iFSouGnNIsafrqyu8fRFa7de2I3CaQQ3Jf8EFEkuSX//VRlSawSjh3bYbI/5eLwXy259wiQSnJP/INESYSVLpPxf5kd8A8y+PLsHyNVb8P06NHjlSN4blEkqaqyw09HmOzPSNMYKXzqvv+MkoJsEC/x0/7BhDiSHIwnK/NTz2KvEl4rCyfAGMMDk3/MyeJ7+Er+UyzmM4wVRErwnmN/gkhJYi2bQsVFWfOc+ihWOte9Npa8qPlTuWA4rXgqTkH0NkyPHl8P+Grw0/7+hLrWzGZzJsUexgrewEfIbhkQRRIFS/wEkMXREj/p2jLLC6I4ZVUfq2exmwQW2Nn/vXz8ub/JbfX3YWt4+9ofYX00ZJBFREo2x1WV4YHxTzOfl3xx9tM8VP0c80XNF3f/EbtXdvnUub/LcJRQrxhz7tGjR48XgwVmk5znnj4Llpfkp/29GfN5ye7BjOmiYr6o2b20z+6VXZ5/7rxr1GD7NbHXBZraDCFYnPxlvm3jL1BVNYkdMBqNiCIFOG9La8PD9c9xT/SDJN7C0bWhMAVPiX/OxtYmB4NfYSc9hrWS2H+2R48ePV4Ouvx09NgW6xtrL8pPs6IiS2PHTwR+KjkT/wL6iOXE7PeTpDEWQaxW46feE7sZYEEbwy2L38+X5z8FAt659ccYrmVLhwkhqGvjs3osZV5iraGuS4oip9YFSabIssQXKPbT36NHj1cIz09VVXEwHr84P1WmyTosC8dPT/HPlvlpkGAtxMlqSqz3xG5gBCvHWktZ1nxp8n/wrs0/itaGWrsGv+59d2xtLEYb6tpgjMUCk/EUbVw/skE2IE5ShJJgLGVRfK0erUePHjc5DvPT3t6YI0c2X5yfjG346Vn1Ueaz+RI/iUwipOenfDV+6pXYjQwLxloWecHZ+Bf5D4M/zLsjRVlpkjghUgptLI+bf4GKFMfL7wEpeKT4GcqyxFiDjBSpSlGRQimFtW4R1mUR9b0Te/To8TLR4ScpBINBSnQNfipKjYoURalBwHyW84T+Zy/CT5ooUlQrNmPo40k3MIRwfcr+38pyt/xB/qfhBn8vEVwe/RuGwxQhBVpb8rymyCseWvwTn96qWSzm1HWNFAKpBGWxoCxzV1Vfa7SxTCazr/Uj9ujR4yZF4CdhIU1iNjdGSCkZZOkhfqooiorpZEZVVTxp/sWL85N2/DRdkZ+uS4lZnOsY3MMeXx38WSsRAgbDlJ8UMfdEf5gokvxtZXhWfRRjNHWtMVq7cKKpKfKcuir9Xj0wncxYzGcUxYJICe/S955Yj9cPen762kAq0fBTEkdkWUwUSYx1SxrGGOq65hnxL3hG/PyL8tPj9c94ftIr89P1eWIWdFWj6xprTLOR2Y2OINzGmuV/xqCNQWtNrTW1rql0TVlX1Prarmx307ivKoTAGrcfmNtCxU30qeJ7MDrMiaauauqqRNcVdV2ijUGqCBnF1No9s7XWWUB9nViP1xN6frrB+Mmg6xqja562/2JlfnpWfhQpBWeiX1rp0te3JiZASIk1FiF8A6xXiCBozoJymhtr0bb1FKy1aO0mFkT7tzGoM//E3RgWa4IguHMJ37/CGo2xtnkdT+BCiFbbW7A4K85YjZKSJElaohfCx4AN1hqkbDNnhH+/+dKElhkWrNWua3N4VmtI7/lTS9WHApe5I6RECuF+9/+wFiugqEr3LFj+lqz58RrmVc6ihLIsSZKYoiyIowSjXSFhWRZkQ40xGmsMUaSQKsZgEViquu9i3+N1hBuQn2xQJ/7zxgQeMgjPLdbo9nUsIJBSIhDunLa9F+fZHOIn0XZRNEY7I1W2vTHCMDjugy75WGM8tQmsNWANa8O1V8RP2mioYb4o0MbwhPlnJPb6+OlZ9dGV+em6EzuEFPxtqflxXAaJI36LDhPqrQdjjFcqtlEO6rl/gg4WklcI2rpmj26CjRcS2uP8aFq/iBj0RPtOMx3Nce4vdw0hBEZrd3wj2I7Eu58Vor0OVlBjKYqieT1MkFNM5qoviPBnbAQGEU7mhdVSlAVVuUBc/ssAzZdAStEItBB45es/11zHK2Uh+L3Ak1i+11guCMFaVSGl4IhxXwxjrHtma0myKwghWCtLhBREUUzy7AQs7Ozuw++6jsnv0eMGh5DCeWGOYK6Ln6xxysnxk1M42pqWn6wJX+mWn0QwVsFwiJ+W3KEOP4lWOcZnf+Ya/BQ4wKG+9YdbfjLu3drzyTX5yRziJ9Hhp+ZuHMdgrcsGtIGfcoQaA8HAdwpReEXp+MmfdslQaPkp3I0xbnwumD2UEm4zTJF7h0JgjGQyXSBkTlWWSC1QqubiJafk9icHK835ykrs0mf/sp8GyQ9qwwVaReJc3zCB1g9Q558QjbfSDqzwnYwD2YO1IbxlsVZ2Bt0PeGcAO9OwhDBVArDC/y5xkyXCZBxWgbYjDNZ7Vc1fS2cPP0UnFGfbjy1/Rgials0IlIjYG08YbR0hijKktI0wh67OZqmLhhvTIEDNl9P/sxYwFQAV0n8RtRcuibWG+bxovpTOkiudlypEayX26HGT49Jn/zLV6R8BJEYbAq0I4YzFUHKCPcRPHXJu2rD5D7rvyLX4ySmTq/iJxkYGLEK2RjVAdPaftloMb2gL9ZL8FJ/92YafqtM/DFY0nBN+0twH/t4P8VPnjFZ0j2/HQYmIyUN/l+ytP0kUpa+In55VH+UNz8zBVJg7hlS1bCJTTh9ILIbZvPDnCdcqsWPbXnAFrKzEDhYagUAI2yqlBt21FQtIT+hhkOwhy0QglERJZ5HUtaXLpy70Ruv6Oo3UOZN7PfwerIxr+WdddK2WjknilFZzObGkkLqw4aNWLSu99rG6P66KyRurGY7WAYPWBVJGzgoKilf4MepoQ6dwwm0qus9YH1yhuPg81lQM77wHkhHWuFBFdekcUQxs39IMqLGt4q/3rxCJ6gXHqkePmwkHC43OjWMCIYjP/tOrjgmqQ3h+qk//aPNdW+YnV6uklPPOam2C3UjQafbQWREuS896YxsE6sxP+yPE1cdfAyvxk39PdKnukPEsUIiwhco1FEF76uX35Jl/zHC0jjz7j9G3/jdIqV42P6kohtmYIjvFyY99ggsfeic2WWsM6urSOVQMausWdyoTlnrcKeqDKyhW46eVlZjtTGAzJZ2HCQ8Spsxa0QjNVYPst6cWwQ/vDudhdzx4vR01ddW9XePV9jXvP3qXuHsWEYSl6yB2hOPwPTnh8eGH5klF88W59nNYt/cArkJd1zVVVZINhljkUsihOVYuu4FdOQwTbaoSvXuZeHObwiYYFFIX2KoEFVPVFpXECKP9fOBNMOOEaHePSPTFzj1eH7AW1Jl/SiBbZ3C+OD9FZ7yi84fVp3/U/alcY23Rfolbg9T/UGf+qaOORgkGb+0a9/Yq8lN89meoT/+I4+JrjEPDT95DssHx8OR9+DNdQ3uJn878FPr2//Zl85MuC/ToTuK1EcU7/ivusCNkLTF1CTJmXm3zfPwowmggGNcCfAjzevhp9TUxr0iE94rcVTte0SFPyg18oPrue026BdKCCaou6EXCBLfu0IuGvToKBtvxUzqvh7BC44aEwRf+bpo5bgXxsL3UrofhFmWRjbBYEZ6s8TkbgbFBSVtLmqbUdYmUioO9XQajdbJs1IRhw3WEucZzh0VUf49GG6qyIqkvMTp9B5U25M8+STU9YG17AyWH6OmMen8XsRgjsyFyfYd8vO+STaxE5/MXHtcePW4mvAJ+0qd/JLzQ8IcAJALDspHtTmupT/9wk9xgrXWhwhe4r/aDrw4/yTM/jQDqW39k6dkheImen0zgIHfQEj8F7rKW6MxPX5Of4uMLsmztZfHT/9d8D3+6/Hck9UVGp++kMob8uWV+umN6mnpfIxYT5MWvIN/6O3l48tsu5Ggltz9y+dpjeggvs2NHiCvDYSW1PEvtYLVCYrBGYLXACtcmyWiNCQPlJ8Quq/eOgmkHs1nr8dol1IgEpWG8AjFGE+7AmLBA22ikJh4bXm+u4UNztnOM9YvFopE4794L0VhT4Xrh+YNNZ60hTjLW1o8wPZghZeTv0duHjaXUPntw17vWoLUWEUWY9W3m558hfewrqFNvQG4fByLq3YuYoUHYGmsEyIx6UWLn55CRwqxvYaZztx7Zo8frDtfHT+rMT1Pf6rww9x2nWfMy2mXPmVYbYLGo5366OR3WUn0t+On5//k15af0FfDTT8pHmK/vMD//9CF+Up6fNMJql6giM+pj78ReeJ67onswe49dFz+trMRqXRFc9e5kBlVvcYMZ6pBCCOvw4FufAqokYA1V5Qp1tfXZQl5oXPZPyCBqs4naCTOtIBg3kHVdN9cPHlP3eGPaiQ6eXrCsGkExFindhBtzdUFwK4TO+JAd4YiiCKUiyjK4wYI4jt1vQrC5fZTjp44gpeLIiRNO0I3thDo6ptphy5HlL4kQgsGRHRYqIj/7JMP9y4g4QZR5+/yAUAqVppiipDIGvZiR2EtYEyHTZNXp79HjhsYr5qe9v9Lz0yF+quLk5fOTOsxPlxBxiigXQTc7ZauiDj9Zx09bd2D3v7AyP62sxM4887jXtmZpkqxx9RHWOIui1r7SOoS9fGaQ0/huUo3xT4Ftsl2C4xXS7y3Bx74ajW3lXVgpJUkcs8hztNZLnwtC0HWfg0vt1j47rrWfJGNcuNOY9v7aFPzmRp2118QB/D8hXA2ZF8BsMEDJmPWtHY4cP4lUqrkfGjf96nsIdx9Cl+3YhPEy6NkBSWyp1jcoihw5vozcOYHNp/781mVo+s/EwyFFklEeXAEMNumLnXu8PtDz02vAT0GZvig/2eZ5W34SWK3R0wOSKPDTAjm+1OEnf48doyMeDhw/PfAf3TlW5KeVldizTz+F7KSjutqmNmumDf/5+gIpUEI2VoeQEBJmnMscjsbHlsPfVy9mthCd+Q+/WOI4YZANqLVuUlSDfrC+ADEca32MuXW27XKowLo3jbfaTCgG7Li2buKcfISxCGc3xiC85eOaYg7ZOnKc4fo2QiqM0YS6sfZ8nUdsXHaaY7qh1WD1GGupFiWmmKHSFNa3Ka9cQOkKs7aJTYcYW2NRmDjGEGGM+6KqzR1qJIv5+FqD3KPHTYeen159frLX4J8lHUarfLuvgOUJvszTH7e8761rh/ip7vCTxiIxccJfk+/ix82XEc9+6rr5aWUltlSpjdf8Pq20/dtNcnBf25TRdkCxFnOofqJjcHS91GZYWvELkxEE072eJAnD0Yj5Yo6uq2aSnCUVBEt0Qppt9w7rLbBGqACMxQizJCSHpdYCwoCV4X6EF0r3l1IR6xvbbGxtMVwbuc8Y7W5atLHxpTP6zy6lsGKb7KJuvF0IQby9g65GqCgCFSHSDGztrCmhwBqEdcWMyoIwBlFXqDhGCkm9WH/pie/R4yZAz0+vPj8dLhHyC1hdneu5yP9p2/G43XyE57d+mfufLvnAe4+DjPjEVw54/7uONPz07P4Iay3SSv6QWPC8eAP6tltRccwv7NzBjz38D190zgNWVmJxHHuN35my4KH6QQtCQuOCt9oc2y46doVBdEaknShP8m1gF1ej1inQ9ZJiLVghiOOE2hqKum6EUwYLygtzuJ6QgkjIjtDZTnzbx7GtRWsXjrDXEBLhLtCEB6T/FighieOE7Z1jbO4ccdtyt0HlEKVo0XrrYA1WOKnrfOTQ4e1fMooQkSIs4kaDzCkuARbZfCnCvAhrkUni/rYQj3ol1uP1gZ6fXn1+is7+NPWpH201crM8IV6Enxyei36BU+9z/CNJwFo+9P47gJafVJIu8ROen6yAP3/257Ar8tPKSsz1xmqHSkqJUhKBKx3woWJCP0KXtSK9YyHABqtBektINlaTO7Hwgy2RysVsTa2RSiGjCLDNRIf+hUFCB2sjoiR2BXZ+cK0XMCXculLt4+DWOFdcCtEUBAYBlP5eI2+l1VVJVVeNYB0WFIVCKV/jASilSNOU0fomg/W1ppea0ZqyKtxzWHxarqtul0I1f+uqQEiFjOJWgI1x1/bl/82XVHjPrBOOaDOaNAbh+siF0IRvYdA6gJ1z9ehxk6Pnp9eIn575R+hbfxRrbYefIppCqYafRIefBJraKV9j0L5ouUlYsdq1nbKDhp+wjs9+Yfs2d/Obf5ifePqfrjT3q4cTVeQGQ0qkVE5AOhq+rivCImZZVWAMSkUgcRNlNFWtkSoiThKiJHELjH4yBa4mQwiJUhFSSeqqQilFlLgsGdco07gUUR8TRgiSNEFFEZGKkFL5U9rOlIY2LBYrncCGwZZCtJaNFWhdY61BCYnW7idLAuJdbWPQ1hApRaRcZXsURSRxjDE188kBcZygRuvUtmZRzIm8crJY92yRIopisFCVBYv5jGwwJE5T/2WzaF0RqZhQj2KMdoIkpbsHXTdjJoRgMZ9SzGcMRutEceINKCesoUeaDim9QtCjx+sBPT+9hvz0xN9v+Cm6+08SpxlC4Pmp7vCTMwTOJL+EMBI8PxVMr8lPJwdFc6889xn+1ht+lJ947B82/FStyE8rK7HR1hZpHIOQRGmCFIKyKDHaaVlRCnRVAX5ypPTWQdfid5aJsZqqyBHCtScZDIcsFgsvZAqky6BxBpKmrkonRLpuXN9mgVOHNFPBcH2DbGMTozVVvsBiiOMUGSdIP9AuNdVS5gt0uWAw2qAoCuIkJoozly5ba6Z7V7j8/HNUVdXGnP2YGussDGdBWC8sERsbG07oao1Vym0JgUEI5e5J1z6bSKAihfZbqJR5jjGabDBESEldV1jjOuULguC6dTDXpVtT1SVNzzJrmI73UUqi4pi1jU1nKTZ9FHFfjJDJREjZXXX2e/S4sdHz01eHn+S5nwUB5ckfbjw8ravGsz0T/yJWW0xVNuuOT/AAp8Z3opRCRZ6fWOanv3HHD4HRuGzs6+On1evEyty5k0KS2QFJmmGN9oLirAPt6yDqWqOkaKwYKVzRYK01Eouua5esYCwISRm6xQuBFJqqqlB5jhDWbd6oNUJKtNYo775b6wyQLImaju1aa2pjMLrCYJr7SiRIJZEqRsURxXgfo0usrpgcXKHWmlinpKZG+C1WQmq6NRp7yCJw4QmLEoJsMGS4tt5YOlGcoP0EVHXlQhQIqtJ/gYSzukzpLLayyLHGkKQpQrqxMH4iW6vNZVmFIe120S/yRZOVBREqTlAqYrFYNAIipfJLbsalHId/L7AnUY8eNxt6fmrxVeGnJ/8BXIOfTnl+evLONQDK3PHQo3yRe3knKro2P/3Ysz+NNYbyZfDTykpsMZ25i4b4qrAspjPKsqKuKqypndVhDVobThzZIC8q5oV2rqeuqbX166CCJFHo2rnwg0FFnA3R3j3FQqRcTNsYi8KSl7Und4mIFUmaogFdlawLV7BXLObMZmMELg6MVIAgURGRkkxnU/LZlMXkAIFAKUWltd/EzdloxhpUpIhVRLMyfAhL/cSsIYpcPYPbSsZQ5Hnz/sbGOljDfDqmDQA7ITPaUNcVcZKglKQqCvL5DG10sxhtjKGuatIs9WtbbR2JrjV1XbmQQRxTFcJZReka04O9JrUW4eLRVV27L5l0ocqy6PcT6/H6QM9PLW4EfpqPqyV+UnHMg3yK+/Q3en7a9XueOUPCju6kevITL4ufVm87ZWoEhqJ06Zm6KsnnCwwgrCWNBdPShb10bTgYT4mkRNe1H5SQeAAqVhR52dQ6SGGoq4LaCKT3QrRV6NotkIpINqmkcYSzaMoKGUW+eNHVNlhrqRYL1gYJVVVQlBqlImZYTF1gywWLgynaZxbVde0SIICNQcxkUblaKgNCiWZCBG5BN0xaU/AnoJgv2K+dxTBYGxLHCVfOn8cajZSC7a0trFVcOXcOY+om5uzFjSTLyKdTpgI2to8y3r3iQhleARlj0LUmTuJm8RRcxpKr+xIu69WP78bWNnbTcvHMc27b8E42ldYaIcOzdDKzevS42dHz0w3FT6Ozliduyw7xEyy2xqxvHiX5+APIN7zH8xPYZ+5/2fy0shIrixKXjanI53PmugZrUFGEsJba+o0YQxYNIKVrtRIGREg30HHktrKOhWCeGw7GC6LEIFVMJCxSgq5dvZMA8rJ2NQz+nJFSlFVJmsRon0ruA9FoY5gvcowNBYEVdrFgPtUoW6MEaOsj49a6yTCGLImZl9pZGSLUPrj7RICRtokxdyEQztKzliRNwFh0WbpFXp98AQpT1xhdEdLhLbgEDSGpywKp3H2gDbbWfhsyQZJkGKHdl02E6wdfDCc42n8B/eKySwByTTRlFPmWOJokilAyIopjojQlTtJVp79HjxsaPT/dWPz05B0DRNic05efBX4SFp68NeHu2nT4yTh+uvN9jp8uPLAyP62uxGqDFBDHgroswRoiX4cQydAiBWIpkFJ49zoijRV5GRpcOj2/WFRoa4ijyLdAkURRjIoTrK58nNR6T1PSpJELQVkZam1RKiaNFbUWzVoRuEwjcO6+kBKiBKkidFlS5b7tf0hPx8mWtrA3y5dazFggjiO0Tpay+KRPU7eh+4UKKbkQRS4rKk5jrPH1FwKSJGW4PqLIZ0i/AGstLk4dR0jhzhPHEckgBenrQixkmxvYuqJczJrPuXu0fi23E06wFhVHyMjdg5CSdLAG1hIpwdbWFsO3fAeDwZBsOCBJeyXW4/WBnp8cbhR+itP0JfgpQT33xZaf3vV/c/w0Wnf8dFKQZK+yEpNC+iw5V28AosmGc9kkhiSJfLZKTRLHJElEURo/Kb6mQOD20Az1ELjiPemFq6otyhcP2tpthGBE8FRDFbvEAJPcZR6pyFlCRtc+po3L8AMiC5EQWDRxrEC4e2/6pwkBNRgrSNKY2PoOF1GMiSrSLAVfMxIWZ8NPjEZFEqVUIyRSuQXU0AbGpaK6LKAoiny5SZhYQRRJjIyQwi3uRrHC2si76TXz6YETeBW6DHRkwv9PgM9atD7F2GUXGWvI8xkbm5uc+pbfz9q6y1qsa814nlPtH/CWVQWgR48bGNfLT2fv3vT8VJIXuklQuOvZec9PrwI/xUn0gvwkPD8hLPnxN7OxucWp07ct89PRt1OVxUr8tLISE9AoIV07oVAyIs4yFK7aPZERi6LEWkiUJM8LytrFWaNIkiQSYy1Foam1papLIgQaqBY5xhiqqkKDWyC17qcWFitMEz6TuDCAlALqCisl0hoUIKSvc9AufICBQRyTZTHCZwAZI6jrAmENUkkm04I4koxGKUF2tJEU+AQlH5vVOnShdrFgBW2Gjc9ecmmywm03g7NErLGgdTPBoUUOiHZx049yEIQgTJEEiW0KCpsqfzpbI1g3LkKG+3HnlQjiJOHou38P6fpRKlzKr7VQaUlRX70o3KPHzYjAT0/fOcDiyk7SJObNl0XDT2ffsOH4yRiyq/hJcd+5HJNKikLz2K0Zdz496/npZfJTpBR3Pj3jyTuGV/GTEIJ/Kz/CT7zBhQyPHj/5ivjpOlLsa4wRaGMwwimzqhbE2mJMjdaVHxzneQlrUdLFgwWCLJFsbA3R1nLp0oTQRkUjsUJSa4utXWxVW9/5OUlQSlEXBbrWSCVJ4oQvjO/hwqXLjNKE7zzxLNFwzYmxb9VSlJqycj535Ac2UsLFdZWbHLdzq/CNQt0zSBIX77ZhR1TAaPAFlAhXeNhU8h8WEB9S8H5040gL4SwRYdulSusFOqS0hvqVsHVCnpdoa1lL0sZHd10E/J9BmMLimJdA6V14KQRSKXaOHmd9+zjaSi/kNUoKVCSJtFp1+nv0uKHR8FNlMaL2/CTRWjX8dNsTB5SVq03K4prHb8sIzXKzRLL1KvHTIEkdP2UJQ8nXJT/d+YxLob/rmUV7EWtJhoL1jQUyEUQielX4aWUl5rI8Jdoav7AYtDWUdU3t6wykjLAYSmpXpR7FGAOVdkMTRy69tNl+AF/Zbl1PL6fyDEnshEQbgS1deouUEcPBkGq3pMwLJlpzUBmkgW1r0d53rSpDXbk9gdwGcBprFUVZs8jdfjaDNEIpwaIoKIrSW1k1MsR+s5FbaExjKgtRFKOlaorwjPRbPeCFwkP6MQnhCT+DBHvp8GvOemmFJAjbZ6dv5j1bT3oB7Bb+OaFuMpDcRf1yrLeK/KkHgyFH3/N7kXFGVZRoo7FaI3Ahhd4P6/F6QctPwUto7LqGn566Y4CUbo+qe84UzVpX4Ken7hhw15m55yf39xufKa6bn8oipywcP1VZ+rrkpyRbc97my+GnO97NTzz/FQbDNY6eOPWK+Wn1BsDSUmmDkpZQtSCVcHFSFUGkvVspKWuDtqBrg9bW11cYruw57ay1bTZ1SyRoDakSxFJQ4RY/h8MIpSSzuSGOI0Qco5TrdRYyYbQxbqNHbXzsVaCN7+8pBCoSrK0NUWlKUZVoY5gtXP2CEBlKCfKiRAjJaH3EdDKlmi+I4ohNlYGUaOHuU/tF1Vi53U4r7RZhJY3B07jgDYSfR3+ANcEVF838Nuu3phU4A6BiPrV3Dx889hjhFCyfvf3DghUQZyOyt/wO1GCdnVPvZn1jHZUMUVFEYjS6dmnDbu1ANIvMPXrc7Aj8dPezM564M+UNzyxI0hS5tt7w031nXe+/sjZoKTn9xBStNY/flqG1YeMLV7js+emu51z4MFHy+vlJ14DrlPG65acoRlqFsW6DzZX46d5vI1vfRiVr7By/41Xjp5WVmIoVVhqUd2eD2zoYxBQY4gQiBYtcY0pDXdcI30IluL7TSYGxljiKEEKBlFil2MwSKqUAhTQWJOQ5JKnEYvwaj1uU1FjiKCaVCqKIKHF9yaSULsvH+omyhsHaOtvHj6CFYV5WRMI1u6zrmqKssVajjUXJyO9g6rxLa9xEaWOoao2KYtIswxhDFCmsseRXdv3kicbiEL6TRrOgqS3Cb4fy2fH3YnTNezd+CQ1IDNK4EIW0FmHdQqzQmkgbqvmcaV5gdgyJ8NlV1lL7sYz9RT89/T7es/1vOf6h72fr2CmqumY2mZBFCSpRjCcTdo5mDIcZ1hqm08qlFVsTxLFHj5seXX5SKsIiV+anO55a8PSdAx7YUdzx9OyV85OKSWV0U/GTNAaMRiJX4qd84fhpe5S8KD9ZgDh9Tflp9WLnJCXCdVeWRlNXNViF1hIZZwirsVji2KLTnDwvsFYgI+UXE5Xvx6XRVY0FFBakohD4rusCK3DvW0BGGO0WZQ0abTWRUUQ1DFWCVrItjBMglPTlGAYhoSwLJrMZKnbXdZ2qtQsX4LKJpHCV8WXpXPawAYKutRc8hTaWqtZorZnPF6hItYuifqKkMXxu+hE+uPWrfHz/+4ixpEpyJ59GIIhFBEry+en3M7OKNQXKWop5TCQhkpZvXfu/uH/yh7BVieU3MQg+eeEOtre+g9LUYC2VWx0lkS6x44Pvu8Dpe/8k2WiT/b1dppN98kVBFsVMFgUiyTC6RiIYpDHYAdPZ3Kfg9p5Yj9cJPD/97Tt/xPUzvKsmVhH/y/jfrsRP955znTD02tor5qdUe36SEm4gflK4koOqhhhFoiTKnzHwk7WWostPpfH85Ld1sRKJwgpfiG0EWTpw/ITFCunaYHl+yt78bZy+9y2vKT+trMQ23v5dTA4OqJ/8uC9OcyHBUDgIvnjPupYkLl5scDt9W5dS6rcosNY0sWtpDaYGEuV6+wHWZ/AIBHGsyPOaunYZML997lbSoiQSgqoo+fi5k/zO9TGmzjE+OydJE7fXDu7e4kgRxRJVO4fYNFPbiZ/jrRZhXffmOMHWFUmS+bRd6RYclUsVTZKEqsjdsxhLjaRSMVIK0rUh0rv6C10SW0OeDNA+u1MhWDTX9tlPQlAJSa5iaiS5dj3W5M7voh6toyvtF5sNdVVRWsuHv/kiw+OnKbRh9+xzLGYTqkKT5wXZ9pDZbMoAELYCIxBCsbkxYjjIGI8P0HW16vT36HFDY2Nzi//X9u9DV5XP0DPI5KvPT6Y2mEI7fipLhBIYU98Q/JSomOEr4CfR5afFGGMqzGDrBflp+JZvZ3j8xGvOTysrsW957/s4e/YsZzc32f/Sr2CNJk4jolhQFq61ijEVeV6R56GDsURIt6eN1jSNbYVP/5bgqt6F3+jNbzGidA21xtaV6/DsXeAkjV2zzmZHU8EHTjxHpLZBa9eIU7j4s1JOj0+mU2Zzt6BZVE5Qda0pctts12ApMb4/mYwUJlhO1u2hU3qrB1zqrNbOYhIEK8zVh9RohIyoaw2iBoTrTi1T9znf1iWkooZqeyEEURRRa8v/eTpHWs03PTunLl2vsiSKkdq67R+QvOu+J0EJ4mSb2XjKdDxFSoUxgvm8II4NO9tbrK8NEUoyH+8jpSTNMiI5YH00IE12uHLlyqrT36PHDY1ved97eYt6G8+ffY79vT2s1cRJxN+9+0coC5f19mef+qmV+OmL7/zTvOOBf/Cy+MnmTlG5cwmUEm7jyRuBn/Qr56eDvT2k1dRFQV1dm58qDbzhvcRJ+sr46fP/caW5X1mJ3XHnndxyyy2cOnmS506eZH93l8HFL5EMMmbTGUVZuNqMTLO3u++SL2TkCtuk89q0cZ2bsW7BEQTGSGzkOkfXeoawhsiAirwbbgxWa7QxaC2JVYSmorYGJd3ePlGcEWUbqOjALYoCSRJRVZrZeO7+TmPqWruqd+v2wpESokgSKUWhXbGflJK8qDFVifTCaHxLGWex1ehau8m1Fl3VyEhRVzVWhg0qbac2IkKo2Kew+u0boLOYWjeb7FnCorDhM+//bt72sX+HriqSumYElFXJAQpdldRFyV5dkiQDhsM1osEIoWKSRHPyli3e9rY3UZUlVVWTL1y2lIzcl9BUJYmS7GxsrDr9PXrc0Ljjjjt59y3fxPffsstzZ3b5H/ZP8z8mj5EM5symc4qy4G+85ccwWrO31+EnIVDKYo3k20aZq92ymi+97Y/yrgf+4XXzU6oitK2ojXHe0Y3ET+ZV4Cfj1quSJCEvc3RVkdY1a3T46eQ7qeeTV85Pm6vx08pK7PJszjBNOH3HHWwd2eHi+fNMb72V4onfIlIzSCK0NlijXLYOIOOUPM+pSu0qvgUoDKWuMdqCUEhl8MXlLn5sDaU1JCLiK29/P+/+0sdBRWhdUpau75bLxjFESlKVFfl84fa+0RpjXOuZKHKbxrmdWgUPfNOHeNtnfgMhJMZU/nXXUsYl9kgsgqrWWF3zube/l3fd/5uUZeUzf2ST3RM2l8Sns37xmz7AWz7x626PISncBn2+rYwILV+kom2t6csThIFvfd51br7/ribDZ1HVDIZ+a27fL6eylmm+wHzbJThXkcgapTXFwRy7fwWxNsBs3UKSZmyNRgyyhNFwgLEuli2l8luyWL8diytY79Hj9YDzWx/hT9mEgeennzp/nunkOEVVEKk5JIr/p34Ei2FX7VGbGhkn5HnBXy/vQwrBr+0VfNfGwPMT3P+m/wapIr7hy/+fa/JTpmvXrLfDT5lynXK0NUSszk+JAmvVyvwkdEldsRI/RcpSlbwsfjIW33bKKTgs5LUmGw4Av/ZFy0/1G78FileJn05970pzv7oSu3iJwWjIIM3IkoyTt97O/u4Vntfvh73L5NMp+WO/ja617+4MdVW6HVT9QAX3NmzO6DZq9IuP1r1v6tqHJjV5UWGkJI5TiqpiMV9Q5gWVdguvwsJvnDnBdw0Omr1notg9UlEZEMo1vQQWlZtEMM719hOujasjwTorI4Qp89L6xVxFrFzPsZB22ux347tMz3KD9YuxWmsXC5e49i7GoE1NvphhjHPhAdeGxRrq/7RD9KHzJPkcXVXYOMSVC9yICOZYfvktKe/5zBwqA3GMilKkBGk1idUMdcGV2QEyqZmdN+xvpWRHtqmta8kTxwlRnDQFiSpSLtbfo8frAJcvXWSwNmSQ3cUofbjlp+efByT5oiT3Rcm61p6f3A7Pf1485AuELc8+PeDcqbvdSa3lV/fH/OptP4Q1lu/aHKFrx00fmy3Isox0uIaKU/7o+OMsioIszvgrm3fzp6ovIOKYymqKrU2MngJX89OD7/6z/Npkxh+4/DSRUly69V7Wn3gApRRx5LZb0bWG1LHPpdvu4+izD5NmKftvegtF6VLwlZK884F/AFyDnwrTNDe+bn7ytWmZBcmQz7/tj1NWJUmasZhN+OAzP8dfuuP/gTCGPzH/DKYyqFeLn568H970u19y7ldWYvu7e2AM6QbU1nlPg7URt5w8xfb2DmVZkr/hHqqyYj5fMJ3NWCwWFPmc8tFfR2CptaGsrPfCXGsYJWQzCUIJv8DqJqLSxmnqosDUNQIneJV2vwspSZRy7i5uMIRUvk+Z9RvN+apv6+LbMoqQUUTYRVUgXAqrP0gg/J5DLu4speTM5nd2vHDb3J9t9tXJObvzOzg6OkddVRw9ftYtLEtFXZXEkeLk6Ut+UdkLiXDZO2dunSOE4uSpS5jcZVDpuqYwc7LBgCzLOHHyIn9gz/LcB6dN1lJeaVQUodIM0pSZhbqqEWXO9ErO3pkBejIlSmB9fUQuFdlgnaiwSGPRdclsnnPsvlUloEePGxf7Vzw/CUEtimvzU1Fcm5/yuecnTVFbtp58GCvc9+x7VeT7kUrETFLkOZdO34Mxri4ttgJdLvPTf1d90ZcVCZIoaTjob7/hR/nh3b+ONZpnRt+BlJJjZx/jI9ZSeX46ce4JzGCA69bhCd1vaouA0xefxiQpWlt2nn2EuqoIraWeW/92Lt9+H9bCO77091y3D0uzWWdd19RVRV2VWKupVctPgjaF/7mN7+D28X9uNtsM1WXGuL6MpsNPl47/br539xmstTxbbHLr5vjV46cnn+bYCnO/shLb3vow6+sj1gaPAMLVF0jFaH0DZERlFthaUgGlLrAiIk7d7p7ECQiLLSuSJEWpoXN5sSjpUlxD760sda1gsC6DSOK0cjQaoYRAXXH9F/ELj+kwY21t5BRhFJEkSdsGxTfqDAosTTOfvmqb2olnN76D0JEZ34Km1hpr5pzZ+E6X8ip8xbkNRX1eo+E2u1NRzWAwJFKSx5L3MTSuAFBK3/5JCkajNUJn6tDf0BpLlhp+e3Yvbxld4Wz2nVC7nKUkTfimb3k/Us0RuG7OUZRjsZwdDziaXcZojZZu47nQ4VpJwczC/myKjAzbQmIWxtWoKAmXC+JZjZ2Mmc/24XetKgE9ety4OHbkCOvrI9aHjwDR9fGT70z/8U+e4eSdb0QNlA/J0SRXCJ82nqUZG5ML3AXomSGp9/lXR+5k5PnJjOeYUI9lIc1S1tbW+Jun/gDq8iUuHPtuMJZMiPa81jWDSNO0083IwfqU/CV+wu0uLcAXWLf8dOLsY4Dg4tHvbs6xyAuGgwHjJOZKklLc0vKT2jpJEg/YO/2m5rrrQrC38fuwxjKfz4njiOFwSFXXHHn2IZddmKWcOH4cOVprDHOtNedm29y2OXH7sb1SfnrkiZXmfmUlFlFTLmYcVHdS1pq9gwVJ8gh1XTOdTp3nVBYUZUmiItKNLRaLBVU+JYliiFxsVylLlqVuB1aLb4iJq1YQApu4uKwxuonDJrErnTs3+g544n63TmQs1mref/w5zh/9CCf5Mue2v4ux2qep5vM/XNuYXZ7b+PbGAwrvYVxGEra1RITfn0v53VtDOm1QXaE1ixSu6FsKQZomTauU1IcwXbzZHRvHsfu0cGcK96EixfdPzpGsjwBBLFJqbUnSjEGmvDXmBD2KZwiBGz8MRVGhVIRSkRMUrYkiSTUYsreYc/KWHba3h85KlIJYQVGVlOMJdjKhns9Xnf4ePW5o/H1V8ROLGTMzpaw0e+MFUsUr89MnvniZKI65+Nyz7vslZJPWfvquu31jW+n4ybpWeYvFAgH84Ow86WZKZGBuZ25TsRCpEYIkTvhz9it8cVwyjuMX4Ce/hmXMMj/BK+anoihfkJ+kX+h6IX4qioIoivyyjCCOAz+lDIbDJX7Kcxem/PxXDnjTXekr56fJavy0shJbGw4pisL1tzKGg/09qsWzlON9jK6I1teptSVKYvKqYD7Z9emdkufWvx2UII8L10E6TQlNJfEDEKwJ6FgfZsqzax8m8buGnv3KAyAsaZawmBcUxvJrZ07wrtsLnlh/P/X+XuPWt1Ig/GVCQ025LER+wkPjYsDXv4UOzuEwsXTO4JFJr4gaAQvWlT/3Y8n7UVGMNIul8QyPHfuMI7cFueUHZ+fIi4LMZOh4uxFeYy2nns2QSjBYH1BVd5PkjzOZjsEK4iQiiiKMqYl3NqjThHlZkUdrbGyuOS82ijiw+xxMrpAuCmZFTo8erweM1gbE+efR2i0nHOztsZjlK/GTUx6O16yxWO36w1pcu6TnHnm44adb77oba+G5xx9lkefcee+beObhB3lGwPvfuuP5Kfb8ZNB5zrAsqMqcuqpX4qczjz/WPpg/2HXscC9UVcWxW29/VfgpXyxQUb10Lv+W46d4mZ+SJMLYmDiOffFzy09uqxfBm971Tm4Z7nLhwsVXyE/LnPlCWFmJHUxmzPOC2XxBVVZU+YLFxSPY8UMgJXNjIB0wn+5Cvk8kNCIeoON1bt+Z8tx4nSSKsLi1Kjdp8qrriJACYyVvuLAOmfCJIYI73/pWHvzCFzgYj7HWeWPrSoLR7F25hDGaNImB1tsSwqWr3rO7g0okHQk6hLZjchxH3LuXIdPuwaLJzgnWTtiW4M0HKSJ1celGFfsU1qos2rh1kxriLCkhIPrERS65F5rPWSzTyQHTSxfatThvpYVrWGAymXLP7ZK6rnjq+ZSjx7cpi5q3vHUDJSR7e2MATt5ynMEgJU4SxFpGvD7EVBV5n9nR43WCg8mc3fmU2Tynqhw/VZcvUO8fvCQ/GS39+lXs+cnXkF11FcG5p58EXIGyHA64dPZZIq8kokHKvK44OJi4r7OxrCsFRrN75SLPPPy887quwU/GWuZ+mSGOAy17JXcIcRwxvXKR+V6XPwW33X33Nfkpy9Jm3ex6+Wk4HPgXNEoJdrY227wAXWOcbuO5xx9b4qfHWeanW07ezrFjxyiLmtHGcDV+uvVdK839ykrswQcfcmtRFgaDjCRJEElEbQ3kJTqeY5QiEpClgrr2Ve3WMBiucfmh56mrstHw7dC3Y9q+Yrk2BCJOMSICDBsb62ysr/HsY4911qvCCYVLX+xMaufNq87bWi+tJ0jzuWuIsxAksXLtY4qasqpAOIXrsiDpnFN0zrV82XbpdPkNG1ZysY3AWysw2m1pXpYlZVXy2S8vmi3WL5w/z2hjnTS9jySKiaMIFSkWiwKlXIdrtTlk/S1vxFQ1m2r1rmM9etzI+F1f/iWe9Cnlw0FGkqaIJEKvwE9feHhGlg2vj598WnoXn/jCFSaznPvuTADt+GljhDHwW/c/77kgVMjKhp9civv18RMYz3ktPz33+JPtJ151flq+p+vlp89+eZ/3fcMxRhsbvOPY219VflqZxVy2nQQE48mE2WyGLQpGukIZg7Vu59IaQRWtUyHQVmJrkMpitEEI5Qfr6vOHwepO1FVjGqwL3JBmWUaSrLKFdfiMbf72V1meOH/uUM8RtjVwa7qyScgAiGLJIHMLsXGiicu6dfm7WT0iSIK/h8PWULiv7uuHYa0vhDRI6QozlXJJLMPBEK1rl3mkNVEUMz44IFKKJEnZ3NokSlJGow2yLHPlC9awmM+vCiH06HGzwnT5aTphdv48tizIVuCnOjTCfZX46ZOfu8D7vuEYWTYgSRI+8dmLRFH8Inf/9cFPDzy2IIprnr/yGJFSpEnCd3/Hva+Yn1ZPsT/YpygKysJVaUdRRJqmaClce+g48pvIwdxEfvBiIr9FgVARqulKfHgw3PQpqXjT5QMePbEDWO45v+cWGP1oSiH4VBo36avjgynvHBdkg6QZ4MOWVMBjt2w33vk95/fc30torQ2pZVvL1j2imXC31bdSviOJhSjCu9OHLSrR+XnoyUNounn1sMXT/q6URCq3jhgylaxNm+PC1ujpIGMwHIE11Fqzu7vLeDxm98plTp06yebGBkmSkGxuO+usR4/XAQ4afio6/JSsxE/xoEAX85X4SSnVlOO0ysdBCsE8L7EIPvn5i6TJmFtuOU42SBuP51DQjiW9de3o4aEDbn5+Gg5HrgZNa/5/v/owH/rmU1fx09/b+gB/fKFfaDCWsLIS2710ESHcZmXpYNhMZrS+TmTAphlCutTULMsYra0jpORgvM90vMd73rHFFx8cLw1BGLawUw0IHj2xTZjcx04sKxohIJ7lSKnYWF8nzws+HsHxrXWyLF5KTb3KI/ehUCw8enwLlubTv+FfUEo5r/+FBMq70toYpBW++4Xtvnn4YF5QWruCK6zbqTkcbVuhdEaWS8u3VvstbtwzSSndFgzAd3/7PQyGQ4QQKN95usgLJtMFZ8+eYzadsrW1wWA45MrlMXe8wCP26HEzYffSJYQUnp8G18dPB3vESjAcZC/JT4235JPDlind+kStlp8uXdnj+LEjnp9Me/y1Vkxs93XxuuSnjc0Nhg0/SV/DFl/FT/lowaVLEza4+wUessXKSizJBu7xjKHIXVZblmUU6psYHT1Ltr5JkedY3yV6Oj1gOhmzmM+IlGSwvt5sMRBwrfWg0Nu5cdtZbskfRRFYly25ubnBlSv7aANpOqQsFo0rZoX73JJxI4SbCGjOunw/nYl8QYuoPaHWxm09YNotwK91XNfguurJQ3Zk+L9oIuAEibGicw4vLM7TFv5v2aTLTidjjNEMh2tk6ZAsU6wN17C+x9qiqIjmC4RUXL58uVdiPV4XSLKB++obQ1HkYB0/6bWE0cbOi/JTVS4YjDZ6frrWk7/K/DSbTLDGeH5K+fb33+G9tmV++pPyszyzexZ474s8qMPKSqzIXU2EiiLSLCMbDInjBK01uwe3kxaPUhYuldTUlW/fRBMbTeK4s6AYBsRXN3Tc1iYFtLP2pWvfDkq6eiwrnGVyZGeH4XBIkg1xW/e49PkojlBR1Jz77vNXwLosoIeOrAOWSCkncEJwz/m95p6ktw6+vL2GwFkR910aA5bHbtlpJtc1M9ZY4a53OKoNLnZtreVNV8ZdeWkgEBhjeOTYBgLBfZcOiOOYR45v8cbnL7szWlxIQMmmVU7td7YW7cAhEDx+coc8L5hOJyRJwsbGJhubm6RJShzHpEniM58E80XBLSdPrDr9PXrc0PjLxRv4czyI8k0NsqHnp1oznhwwK/Jr8tOnv3CFNE2Jk68dP1lfI2aM9Ulay/wUbgdhkcI1Ui+KouGnpisR4T6vj59CCr5TRK3HJ/AtrLTrNCSVIo5j17vWv2Zx63bB863Lktq3AGx1pmg8tXxRMJ1MSNKE3/lt9zCbTV8xP62sxAaDNeIkJYpjpBDUdc14vo8xmjiKyWeXCJ03pFQoqXC2g8vBnH3sWQanj6GNblxx4RfuhJDEccTb9uYopXjoyAbgCgrzosAYQ5rExLEruEuSmChO+MZ5hbGSh4Yps+kEKQRv3Z+RphlRFCbDYodrGAtf3hpCvkBJxWA4JE4S7jm/C2vDznMOXDW8qAg2x6MntmnsEStaL9pPvH9n2TjqxA0eO7GF/wpcFXQ2RuPyVOGxW3bIsox37U156A2nqesaJRX3XtrnsRPbVHXtYv5aNyJpjXVhAylZyzLWhmtcuDilKAryRc7BwT6DgeskvTYcMhqtOQ86r5hM55xeVQB69LiBMRiOWI+3l/lp5vkpjgkNcg/zk9ciDAcDoih6UX5K0wwlVaNoXoqf1tdHrI3WqI1p+ClJE7flSBS3ETtjXFFyXlDreomflqN81vNTzaVLF5r7d31ncZ7Ry+CnsI4VlHSLTqzQQynFYDigruqGn0L3paqunXIX4hA/ua1i1kZrKBVx0fPTv/sPD/Bt77/tFfPT6kpsbYTWNYv5jDJfYIwmiiKX2y8ESZoiZdRsDWBqjdalq92KFY8c30TquhEkgeDu87s8emKbJIl4x0HOg8e20LrGlAWuFYumLMumDZW1sL65yV1334upS76wlmAt6NnMV31LHj2+5Tt9dGrCvFDWvlULhH13NA9sZu4Q6yyi91bGxZyNq52w1mD1crd3Gz4gnJKua9ud8qsUlfaf74YHRKMWbSNhxrisnC+MEiKjede05LFbdvjyVkU1mbTHeqFzO8RKNkbrvO0g50EZ8ZufPsd8Pueb37lNURbkZcF8vmA8njAYZKyP1hkMhxRlzd7uHu9ZVQB69LiB8T8Mn0bXgsVsRlnkrjtEHBHHMUII4uRqfvqt+89gdE0au87z9SF+cvkJrsB3MBhSVXWzw/Iq/DSbzxw/ad3wk7WWqiypq/pqfqqv5qcmkOf5KRtkqEh5R/Frw09VVRLFMWujNUAwPhhTlcWL8lOaDajKiqIuGGRDtC4pipL/+F8e50PvPf2K+GllJbZ35SK6rhEC0jRjfX2d4doaVV2zWCzQRqONm1hdFxi/wdvm1haPP2t585UJjxzf8k0k3YA9dssOw8EAKSWfGVTUB/vLfcM6wdqyKtHGwHjM+0qNtQI5KdtJw3WaV0ikEc2MCO8eF3nB/anwE2spy7IzZf56xmJF4vp8dVJP2wM6xws6nw8RYz/1zXGyiWNb3M6yTQihayL5n34plLKsqMqK+5OILM/5xnnNA5sj5vOpL5YEhGC4NuJd04qHsyGfr7RTdNaQpDGff2iCrjS1rinKgne/fdsps8mUJEmwBhaL1Srie/S40bF35SK6ckooTTPWR6OX5KeyWLC5ucmxY8eIlHI7P3f4SUWuZ6CUkoODA+qqWomfjuxsYq12FWGiLWxWShEptdSOLiijvMgp9vZemp982PFG4KcyL8mGA9Y31skX8TX5aW20jq4108mEqiwbfrI2Io5Sal2jjSGfTF82P61eJ2YMw+GQ4doaaTrw+784d3WmDYv5zDV89MorjmOOHj3Kg48XRHHkPDEhuPfSxLmkgwFKw+dVxSJfHJ6vdhCDMhKuw/1QWLa3NpkvFhSLvDUfBDxydKvxwO67tM9g4ARwOpnwmUw2SnjZ5mg/j8DHly2CGnHoOCvCkqs/R2ukdOZ6yf9v5ExYOm555xPCLt2K6CyS1nXNdDLh/lQxiiO+Rcd8YRRT1xXfMK95fLTB5/WY/MoVF7a1bdBAIIjiiMi3e6mrivH4oIn961r7DTh79Lj58TfsW/iLw8cZjjr85L9vM2MoO/z08c+eI44cP21ubjkvwxq/C4YrwHUNvSMmk8nL4qfFfE6e50ufM9pQGUBolJRkgwFKKibTCQf7+26Z4CX4STUhTnHD8NNiPme0vs7RY8eZTafUdcVoYwMhFNODMXm+eFF++tJDM+65XbxsflpZiY02tji6s0NVa6exhe8qISRGVxSLCQJYWxvyyNM1m5ubnHhmn3cIwaPHt9yipdE8cmyTtx/kfHl7jflsjpkXywuo3h1dgl8UjKKIb64EKlN8fhgzrqau+7135bl0EYA0TcE69/dTyjCVNdRtFpHtWBzNnHlIIRBKgr76PsLwN1PR3HI39bQ92bWTgTppulzrfRqhCrFtrTXj/X0+O0jZWh/xlr05hRKceuwZt6W4CLF9WksxSBsWpSLufwZOH7VMx2Pc1jdquSShR4+bGKONTW7ZPkVV6cajcOItMXXNYjZt+On0qVNsbm6TpG7/qrAJY22ccklUSlEU7M323Jr1dfDTzs4OSikmkynjg71lfvKfS9OU7e0drDFcunyF6XQCYjV+CqUzDjcWPyVpytbWJkmSkRcFk/EYYzVpltJkZS7xE2AtaqQ4cjRh9szTL4ufVu87ZNxa0Ww+J44T4iiiNprJwZiiKFhfH/Hs+Zg62uTUadcw8rE09T243E6mSiW8+cqEL20PKcZjP8hhmDk0J12t7SZ2Y32DuFZUZcminDW1B+FwIQRroxHvKaCOaj4uSopp0VSpd1oMNzPSfa1xspXEbdl6aJYJn/F3J2y35eFVCLHy1u0PBx8KSTRn7bwXWrnQxubzRc6FvOByJLEK7PaQNv7sjzfWbQUBzYKxtQZd1zzw2Jy3vDGhrutmXnr0eD3gJ/QDSHWCcjb3GyxGaK2ZjMcUpeOn06dOs7G5ydvfrvjN+881m0d2+SmKIhZ57sqIXgY/RXFMVZUsFi/MT9vb29S15uLFCxT59fOT8tGiG5WfVCQ7nLQiP91+hNH6Ogf79XXz08pKLKRjZlmGNZa9/V0O9vepyoLh2pBHn67JBgnj8bj5TLAmBMLFgYFPpwLyhXvP4uolbHdjbA5NqPuplOQd4xw7HDKdTDGxacIF4NJI351bhpXkCxsJB/t76FIjlVieb9uZEGgGNAiiMYY0TpFCvogl4Cbf2M49XwVvVfljO1+FrhGyfM5r/BXO0sgQhroy/rwuSt1WyLsPGONj+8a2LalqF+b9/INjqqrive88wsc/d+EFnq9Hj5sLWjt5zzK3H+H+3i4HB/tURclwbcCRnSOuy8/YlbtMJuNr8lNLzdfPT4PhAGtx/GSu5qetzS0Ga2vMpjPHT/r6+claQxRFrzt++rXfPOCb3r7N5x8c8+53bGNq/QL+4NVYWYnVdcVsPqcoCsYH+5RFjrWurqquKi5evEQcx027EymdS+j+RSjl9saS3UVNaOouwmtt7NaHgf2ha8M1BrXCaMNnBhJRu8mVUjIYDtna2mJwYZ/7U5juXelocuuK8Q7DX6C7wApOiUnlivOs1p3D2yFtXPVDwh0KIbuzH+ov3AGHRN+/1kx0I0TdL0l7j7YrOd6IClaOW/Q1viO221LCGO0WsnWN1jXWP1tMxP0P7Lo6lB49Xgeoq5r5ostPBdZYpBTUVc3FSxcdP6mIT3/xymvDT4MhRhsODvabb2+Xn6SQ7O/tMZ1OXjY/aeMy/l6P/PTxz5xDKslnvrTbOE2rYPVi5yLn3PPPuUa++Apwv8j4ic/8sj9GtkIRKSIVEUUxcew2Rosi10cxNOqUUjRCYzuD4cahrYpP05T3lBCnCZ+KDfWVA6SUpGnKxsYG75yUFM/v8snEkk9mSwN7lTp/IQ/VD3xoJBp6Nh5uetlYa3b5bxfHJixNNQeIbmsWfw5rm7r/1hL0stWcv3tZe+iXzrWDTDoBMT47KGyg53ZvBYm1IcbcPlHYbbVHj5sdRbHg3NkzrjBXuB3VUU7S69o1CChkwae/ePk14aft7W3iOGF3fIW6rpb4aW1tRFEUXN695JI9ePn8FDbD7PmpxcpKzDRV2KKxWAA+9blf8a9LQnuRkELadUvdQBqMEYBxC6o468AtPC73KGsGVko2NjbISkFVlowXc+IoYjRaZ3Nzk3suHjAej/ncUFHndfC7wxAuu72dG2pfX7JREIjGKms+2BlLe43fwrgsX8c20rRsULSzf1gIw26q3as1hYzNNQ/dkP+c9LVxSoU0XOOFRGGtctlaKmT9aKTSbTpsjx43Oa7iJ79uZLTh45+9gBCOs1SkXht+ygaUVcV4PF7iJyFcev5kPG467bwSfgI6ipaen7gOJda41cHlBj71uf8ECD+o3jWPosZNj5RqX5fKC5Jof3q14eryGv95yWJIk4R3TApENuBLGxnJtOSbFoKsFHylrvmErFhkYHXNknHTccevmriuO9yYH+71x45v8y1GEkUxZVnQfDTckBfCbgjgWtZQcx/uCb2giPZcVwlPi8ZqunoWOge1zyGwWF/Y2CpjifV7F7mwr5sHrbTfyqFXYj1eP/ib6m184LMfW+InY4z3XNRrzk/P7QgW8zlJErGxcYTBYEBRFOzv77PIF4RNJuGV8RPW15v1/NRgZSUmpWwq2T/zxV9zrymJFK4Fv5JeQIJQhBizUs1GbM6D8xXxIuzu3FY7HN49RinFN81rsu1NQJAkCe83MSaOuD8TzC5fovabvYmQwon1LqwTCNk1t5oxbq2wzniDFMxmMz4+HFBVZStg7cfaX0Vn24FrIrjg9qrrLd9DxxYLC7FLAti+dy1XfsmCk8KXdQhQXtB8CCJYqEoptN+KvVdiPV4v+ODnfh2hZBP6gq8OP22sr5OVTmkmScKxY8ex1rK3v89sNn1N+MleON/zUwfXtbJvjUVIQRxFjXsuvTAsC4JshMTFpyXCC5QTEPdcjdK/ylZweMfBgo1bThLHMVob3ro34/MbGQfjA6qDaVOv1lgWYZHSBwKauoulAcULU+eanYlezOcs5nN/bveB1pk/5LeLpQTcqywcoCO8/r3ugq6/Vxd7DsccupY9fMb2WUK4o/ni2rb+PnwBbdg91joZNEaiJFghEaJXYj1eP/hq89NgMOCbFoY4S7n34gEP7oyYTseOn8qy5ye+Ovx0XWtiFvjSQ79FmqbeM/OC0nHDhbd8pGgzfbrZPe4ZRPOjmTghoDOpSRSzuTkkSTJAUBQFn4g0iysHLkyAvXpSlooi/LlcLKD11Lk6chuybw6JwbXP3X3HHioMFKKZ+DC51zKEgjvuricOXVh0fi5/ur0X9xkXBgjFjcvWVBMD98JssX4jPde2RilFNhxc4+569Lj5ENpFpWlKkny1+GmLZze3kFIxn824dOmi61zU89NXlZ+uq05Mf/KXee/2Dg+uux07nWB44ZDOonG326apOsFZfgjrB7jjPXs58ccIwWg0YmQTDPDZVHJ5MqfM235ijZtquxPR/nbYcgq7njaTEybdW2JWhPO6cxo/0Y2105XxYK3Y5fsIv4Y7uZYrHyyfcGA7BnYpUyi4+YjuhNvGugnbNwRZ6gpK125sW9EIhHQmTxjjey8cXH2DPXrchNBas7Gxwdb2NlXp2hW95vw0WsdYONjb5/Lli5RVz0+vJj8JsbzFzAthZSX2xYd+i6N338klqRC+23OI9YaU1vAwUtLEOIWAw5ZO17CxWCQSIVQTo43jiG9caGwm+ISs2T9/AWN0Z0Cbkbz2zTbmzNWCuHSMO4k/TrQesqCtsehOZnCvQ2ZQ195qD1i6hSWhDr9JX3FvD7no17BUun+7LKn25I3gOql3933o23FIFN1v0rXa+cIooUeP1wOSJGW0voH1O7a/1vy0sbmJBS5eusT+3pWen14DfppNp6yClZVYFMdMp1NXT6GUXyyVWClBOLfRpaYGC+fQCbpjGQQMED7tNSBkqjxydJOD8Zjp5THWS6bl0DmWYLtztDzIS8ISrIZrf7QZ1KXGl5alB2jqKJqbZmnrcX+gszr8Auuh121nsoNtsixUovPX4ZqJ1qIJFfcdI8l9dun9kCjsn9Vbam0Pth49bm58tflJ15pzzz/PdNLzE3xt+em61sR0o80Nina3UCUsrQr2D2cBjH8g1dw4dB7GL7iGFi3OxbWURcG58+fQte9i3LU2woR3XN524Gzj5toll9h2JuXqAsHweng663xiJ5wmXNgLTUeawqB3TtIaLR0Lz5q2vsSd3zQnEN1Tiu6Jw2udZ0C04+qPbTJ/aUUxxLSXtg33goUEaWUjOD16vB7Q89PXLz9dX4o9ojPAYUL8/jYE7Wnb0ROdY7uuJsHFd/2/hJQYC9a4hzfGYGywmrrDGM7mB9D/smzUuM8sucHdQQ//WzZtlqyGrmUgmlEWzTO1TxVuwoctDgmfCMLa+XZ0xJ0gTcJbI/g4dsjYIcTgbXjIkMYqG6FGtPcdMqGW2tgIu2TVCSFczYa1qBfOv+3R46ZCz09fv/x03cXOeDfQ3Zf1rp/tuNTCTTASFYKgFpd5Ej4r3L44wW10jS3b9xuN3/n/Ya3cjoObBNe+pBPb7sxNY+TQsXLE0kncHyEGbG0zZ24xeHkcliTtmuMcLKvWHGqFlrYkRIpDz3fIAgv3419ut7BrrZn27P5MjVDhx7Vzu50hCxlPPXq8HtDzUzsOX2/8dJ1KTC4P8vIRzQOHQkEawRK+UJrmNVfIdtVJ3DNYCNkwVthD73X22glPL/C1H537u9agX33Ly+fuvGSMxVqXhtsOZsfSCVbFC4x09zN26YXl1i1Xhc79HTRfCtv8r2NldY6xyz/bWHtr5V2V7hu+lD16vE7Q85M/4uuQn1ZXYlIsTXzjugfhaf6JVqC8u7kkIEFbW9sYAo0ciNaiaQRk6VmCFeR1uxXN78YYosi1kmlc3TAwgk7WjPVFh8E+EEvC0sRrJWhdI6WCzr48h7NylrEsmM0eOsEiaqwwn4rasVauMeIv/M6he7DWum0Xlibex7ub63mX3p2gtS579HgdoOencItff/y0+ppYqLWQwhcRqqaQ0KWriqWbD79by9IuoP72vaXStZqC6XJoV9NWybeDgj9neGobLBNniTT30hkDK2wzQGGQmnttLmORUUSWpVhjmc3nrmv/oUkJ4QQhOoJgO8/s/9cuerbPE9Jim/YrV/n717bQ2rqR7nVscx3h/fJlYW47VzcFiMLvM2Svde0ePW5O9PzU4uuNn67DE5NNyxYpVFMRH6yfxgIKVfDhRg9bBqJ90HCMkD4bxYZRaA9thUu0g9CcsjFfuGpgbec9IZYK9ZZu55D1MRwO+LZ4SF1p/ksG8/nMT/Jhq8udXwqBse3f7k7t8hx0BD7YX87wseHo5UfpfLCJk4vOF65zI8FF76YOHzZgbHPrQTj8cS8VzujR4ybB1ws/vWO84NbNI9SV5rmDPRazKY+fPPJ1zU/XlZ0opUI1VfChgDAIjjgkHJ0PL93L8huhLyLetXeLroeODvFd/0LQ4s0DN2483h0Pr7avQUhr7dpULFk8+IXcQTZExxplCsLGn4TrLx3PUqZN6FRtwxthwqzt3k374cOwXfFYPl76hWZrwmK1aD5grWk/JVy36DBYTfjDj2P3sr0K6/F6wdcjP0VK8eiJbdSSh/X1x0+HGzO/8IFNnzHfJFMeFpAXPlXIQHEC1HYvVko2nYqlavfraZ7DfaB5GP/nkuXjTtV2QZZCEJZP27oEmvhuG9+mjYk31xDNRIemoTTj6jfa61hhze/NiW2zsOvm0NLJ12n+uUn1abLWbRfho9DNOLWPuBzjl75BafjE0o3gdk3tCnLz9iErqgl19OjxOsDXCz/R4acnTx3p+YnrUWIidII+tG1BEByBj0kf2t6b5XtpJszPuLFuC3Gjw2DRaHxxDfuglaDW2ZRCNPfWhBAsTS+va0UNICzqhpCDP6vfgwgsURR5F7ud4GWR7Zx3yWDqutPXnovDdk73y2G7B3khts03zY1o05sMmjloP7x8U+31DyUCX8PY6tHjZsTXCz89enyr56fD92b7FLUePXr06HGTYmVPrEePHj169LjR0CuxHj169Ohx06JXYj169OjR46ZFr8R69OjRo8dNi16J9ejRo0ePmxa9EuvRo0ePHjcteiXWo0ePHj1uWvRKrEePHj163LTolViPHj169Lhp0SuxHj169Ohx06JXYj169OjR46ZFr8R69OjRo8dNi16J9ejRo0ePmxa9EuvRo0ePHjcteiXWo0ePHj1uWvRKrEePHj163LTolViPHj169LhpEa164C/+qz9GWZVsbKwxGA4YZgNAUJYLNjc2MFoznU5J0wFHdrawgJSCutbs7R8wGU/Z251gtOHsuTNMxvvM52OqquLY8W3uvvsekmTAlSu7PPTQA+SLOUrFvOc938ptd95BrSuefOIJzp85y7d/1+/g/IVz7O/vs7O9zcbWFpcvXuLc82cp8oI77ngDm1s7jMe7rK2P2L20C8Atp08znYzZ2Fjj9ttv427xg81W5WF7679uCn5SpgAYY/irVc5/Hw+QUqC14a+ZkieefJrzz59hbbTJHz3665y/8DxRbJlPcwbZgDfefRdvzn4UpSRKSSKlsBb+qs6xVjCf5/ye8ucBw5Ure6yP1ohUjDaaKIFfMr+Pi+ev8DdPvpHjJ3YwxvDlzz/KXxw/x7u+4RsYDtf4cyImihQQtiAXTPc1//pT/ytPX/gUt91+gssf/t8p8po/uTAIG/OFz3+BU3dsc9dddzOfCH73r/wGn/yLH3l1JKlHj68h7v9bP8TixA+wsTFiMMgYZEMQUBY5mxvrGG1afjqyiQWUFFS1Zm/vgMlkxpcOfuqG4advPf2TpFF0FT+VZUmSJIDjp3xRkA2yhp8e1z/HE0+1/HTs6Ilr8tNoNORO+/1L/JQXBc/KX2Q+z6mrmhfiJ21KLp6/wu233ck3HfkTGGP4vx74S1zaPcO7vuEbuC/5I8Sxekl++tCHv5NiUXMy/x7OqH/NFz7/Bd57+o9x111388j8F3jsH/4K3/NT//El535lJRaniigZMJ2OiSKFTWOiKGY4WCOKIkQUMZsuWBsOsFjAMl+UFEVJVdaMRmtsbm4wn8+w1Jhjxzl37gyDtREXLp7jySef5PSp2yjLAmsNxlrW0jWybEC+WGCsxWjLYDBkscipSkMcpZw9e5bzF89htEUIyWCYYdHM8wn74z0W+Zw0GZCmGUIYBIJIpRRFhUkt0guJkxLLnxNOQP4mFT9mFT9OhJQCow2z+YLzB5f5XfOfYaImZGRE6SmqsuLMc89w5MgJ1je2MAZmswX/aC3iJ0n5O9LwZ60iUoo/axSfXvwjRlsbjA8mgGZ9Y0iRVzx39lmKPOdcdoV/cM+9bG1tIARYa3nC/hz/9U7N79n8ThACoy1lWRHFCikkQsBoW/Hdb/kL/OMLP8R8MWM6mSBMQppkCBTnsn/Nzvz7McYwXEv4kdGvAL0S63HzI04VrA3IH/k7RG/9cbIsIVIRw+GQKI4RkWU2k6yteX6yMFvkFHlFVdWM1ta4c+f0DcRPJbFSV/FTHMcA6LoGIVGROsRPF1jM50gVYzFEqXgBfsopVEmSJlhjkV6Z3S1/gE/nf4+tF+GnQbrOfW++h83tdYR2/FRVFTs7R3jX5h97SX76tU9/D1vzS0y/ccLt5Q+RZgmpioiimHy+wBjDfdkPcGH90yvN/crhxPH4AF0XLBYLphPnWdVVTRwr4khhrSHNUqJYIqRgkRcURYmuNZESLOZz8sUCLGxurVPZBSdPn+TY8aPc9cZ7mYxzptMJg2yEkDFCCKI4oqxLam2Jo4Td3cusra1R64rZ7IDLl84hkNhKUS5qAKbTMfsHu4zH+wgLZVEyGAwYDgdMxmMGg4yt7U2niK2zb4wxGGOwOEvHWosQgr+jNEkco7VhUVbM85Lv2P8prHHH1aXm3JnzSClI4zVOHD/JkSNHKIqc59Nf5M8JJyB1XVMWFT+mJca4Z4lURF3XWGuZzSdcunyRupSMRlvc86a72NxaJ8gvQvDvox8gTVOstfzVas5kesD58+c4ODigKivwz7J5NGF9sM1sNuPCxedJs5Q4iTBWI9Du22BBRbC+MVh1+nv0uKExGR/wtP1nLOYLJuOx5ydNHEeenyxpmhJFEikEi6KgKKqGnx4tf/rG4icVvSg/ISTW2qv4aX//YCV+UkoQx7HnJ01ZVJyJf4Fn5L9cmZ/u0N4AFoJIxQ0/5YucBxf/+wvy0+U3nWY6m3HhwvNcXPs3np8MAs1z6qPXzU8rKzEpI4pFhTCC/d19rDVUVc5sOmY2m7FY5ESRZDyeUhYlAtFMwnyWE0UJm1sbDIYZcRIzny3IshSLZTCMeeMb7mZ374BsELO1vQ1YpJQoqdjaXEebkjxfgDCcP3ee8f4UXRviOObo8aMcO34cpWLyvEAKRTHPMdpQ5AvKKufS5fPMZ1O2trew1jCbzynKEmMMtTaNuy6lc4F/TEv+u1pirKXWBl1rHpr/lHs2CTvbO5w8cZrTJ28lUpLtnW1O3HKMOFZYq/k34g8ihUAAf6aW1NqQ5yWPVT9LrSumsylFUTKZTJhNFxw/doKjx44wnc74kd0x1gutBQTwE0RYY8mLgj945iKXL+3y9+OErxz8DOefv8j4YIKua5JMcOzoCarcMptOiWIn7H83siiVMD44oK4rECCVWXX6e/S4oSFlxKmHDxBWMH3gb4HRVGXgp6nnJ8V4MqEol/npkfxnbzh+erj86RflJyEcN7xcfhLQ8NNz0Ud5ip8nz0vyRfGS/DSe7GPsMj+pSDb8dO78eS5f2iU9+/OMdxfX5KdHTww48eBFokQ286BUwnjc8tMzb8xWm/tVhSSKE4SQ7Bw5QpIOmM8XzGYF4/Gcvd19dK0xxqKkYjabMx6PvdVgyIYZa+tDaq2ZzWdMp2PqumYymTDIBtS1ZWt7i42NHZ544lG0LhFCkMQJmxubJGnCo48/ys7mDkpkbK1v85a3vp2jx24hjmKquiLJEgaDjCTJqKoKi0CqmMlkypXLlzjYO0CgEAJm8zm7u3v8jweXmS0WlGXpJsVCHLs4tDEWYxzJa635azqnqiqSOKUsSk6dOsGxE1sIZSnKkizLSNMEIdzxf16laGNYLHLysgTgr9Q5i6JgPJ5y+cous/mE4XCNU6dPEyURUST5jZ0/xf+8d0BV10vjL7DUdcXB/phLa/+eO+68g79x+iQfuOPH2dra4S9NZ1y+eEBeFHzy1j8NJuODl/4+s+kEa+EnVcxwuE5RVM7CMhat66vmuUePmxFRnCClZGfH8dPD5c8wn+Wenw7QdY2xxvPTgvHBAWVRYDHck/wwa+tDThbfc0Px0+UrV1bmp6Iorouf0jThafHzPFr9LHlRAbDIy5fkp6Pbx9m9NKHu8NOz6qMIoK4rvjz5KS6t/Xs+cNt/z8lv/Qvc8cbTbG3tMN6fN/z0rXqdNzxluHjpIrOJ46ckjRiv+wr4AABt30lEQVQO18nziqf4FzwrProyP62sxISVpGnKztFt1jfXKcsCsMRJQpJmrI3cgupwbUCapUihMNqwvz92mtUap7FlhBQxcZSQZRlRJDlydJtskLA+WmN/f8LelSsIIRDSIqRld2+XK5cuc+zECU6cOsWtt9/KztFNsuEApHPR83xBFDuXFmC4tkZdF2xtblPkJRsb25y45ZRfo6sQSH734uf4i/uX+MvlzA2GaJ9XSumFxfC3peZPLGoEMBhkbG5uMhwOAbDWIP//7b13vKXXWd/7XeUtu5xz5syMRjOSZtRlW7Js2TKhOkAM95IAJsbGBRuIQwkJ1aEn93LTaAnX4BtCEkpCjE2zMWBDgDjEGExzkS0XlZFG0/vpu71llfvHWu+795Fk+YzVRsp+9BnNmXP22ft913re33rq7xGK5d27ybIcay3GWI7L36CqDMPxhLq2WOeojGF9Y0BRFpw5c4aiKFlcWqSsSoqioNPNecv1h8iSDnU93UDvPT/pRmwNN0mShJfs+U6SRMfrhKXlLj++bx9apXz04i+Q5p5+ZzebmwM+/9ybEcLxczlBceVvYpyNe5rudPvnMpfLXCRplrHwwn/KyguupKpKTujfIE1T0iyjt9APYbtelyzLkFLjrGNzfRNjKw7WX4cQ4rLCpwfqX+Uj6/+B0Xgc7vDT4JNzjrquLwmfnPdUtWU4mlDXBus8Vf2Z8emGmw+S6Q51ZULoL0pRjQM+pY+OT1dedQVapayc2+T0czpcfO41fGyX5ez5U5zSv4bSgixLcR6MNXj8jvFpx4dYr5ezsNRnY30TUxtM7TDGIhBkWRYSqVqhtabb6bCwGJSm3++TpRnGGOrakGUZy8u76PX61Kaiqgq2ttZZWblIluXs2XMlVWVwLiQGz104y8fvvovJaIS1sLDYx3iHVIput0dRlAwHAybjUcghCSiLCUmSYoxBakG/v8i1111HrxeSvEorOnlOnneoS8N3lSAQEN1rQaisTFRISH6fD9ZPnmXkWcbi4kJUgoo0y+h0uyitqZ3DOBAqpSiDYvyUKXmzMPy0N7w+fw9VUbKxuY4Uik63z2QyYWtrC2sNOlHoRPLP8h6b60PeLAzOOTY2N/nS9Z8nSRJ6Cz2giZN7rAv78HM57Nm3wG29b+ZvX/zP7F7ehbOes+dP86+LNd7kZIiBexgPx+2DMJe5PBuk1+3QufW7+cTgF7bhE0CW5uRZxCel6HZyFhZ6dDodei0+2csSnw6MXxmKQh4Dn7RSCCG4WX/TpeFTTHFY56iNpdPp7Aifev0Om+tDrHMcF7/OxuYm6xsrAZ/64fB8OD5pLdmzb4HFxT4LHz69DZ+2hhsIKT5rfNoxio3HW5RFSa/bpdvp0ul20FqTZgndXkjAeR/irFIKtA6ucZYmJKlGiOAK93pder0unW7O1mDA6VOnOHf6Iv3uEgv9BZaXdyNliJMmOmFzY8DZ0+fYs3wlN1x/Hf1+j7qqUErT6XWZTCaMhyPGozHWWoRUSCVJ0xSBZGNjgyRVGCxSh9v1zoH0GFPyw7pDv9dr77OJ81pj8T4oiMfzFu1I0hSdJOSdDpOiJss71MZRO0dRGVbW1lFJQp7lOA9SKQQhH/YVo1/G1BOMqUhkRq/bo5N3mRQFk0mBsWGzHzRvZc8Vu/jRtXX+vvt17i9/hbs3/jPWwG/zan6qnlDV4SHy3uNdiCe/yUoQsLiry/N7385N6htJRcZoMGBzcwOANEvRKuFc/i5M6TC22On2z2Uul7UMlr+Wqih4bvpGnpO+kVvSN3KDeANpmtDt5SBCDkxKgZISHcNyWZZO8Ukrnpv9Q56b/cPLAp8OlK8gz/Md4RNAklwqPukWn8ajwY7wqSxL9uxbZvXiBs5ZxuMJaysbWBOuq5iUj4pPzQG+uKtL79Z/SpamPOeEZd8nzwd8ElN8SpIUW+0cn3Z8iDnjWVtdwZi6VQDnbMh7xdisVjKUezofyu4RaK0pi4qqMkwmE8qypKorrDOsr62R6A7Pe+6t3PKcG+kvdrn6mgOx3BQ8nsFgkyuv2M+LXvxi8l4XnSbh8Ew0HkjTDt1OH61DeCBN0li941hYWqIoCtI0Z2t9yObmJpNijPee8XDMtfb17N2zm14vR6uZpfDRXZcCEy2KH5A578negEoSKuPwCNI8Q0pFmnUYjUZ47+lkCWmquZ7XISUI4Xl5/TY2NgacOnmafVfsI886KKWoTcVoOKSYTCiLks3NLUbjCZ1extf632Jra8D6+jp79uxGIHjj4h+T51m0KGVILCuF0qppxkAowf6DuzihfhOHpZjUvGzjF6jqCiUlSgikFpzOf4tEd3e6/XOZy2Ut4vh/YW11FWNNxCewzlLVVVs4oJVCSolzjiQa2VoryklFVdUBn6qCI/6tlwU+SdSO8SlNU5Is2TE+BfwI4VBTV5eGT90UPI/Ap6XFJfI842z+js+ITx7R4tPm5gZ1VW7DJ6nljvFp54eY83S6PUajCYlWZFmOlCpaBKFSx1iLdR7nLN6Hg00IwZ49y+zbt5dut8vm1hZrq2sIIUl0RpYnXHPtAZI8RShNZQxplgOCiyvnuHD+LIeuPUR/V5/K1FRVifWOC6urKCk5dOgQvYVFxpMxzju0lozHY4aDIXmekaYpSiehsmY04MEHD3P61AnyPGX/gX38x64i9OIFV73Vkpkv0zSh2+3wg6rDb5ivxdSGbqfL6uoGW4MBeMdoOCRRCudBKclPVmN+ohrytfwmWmkEnuuvv45OJyfvpKGqqDZ450jTECsXQJ5nHOVtSO25/74H2L17GYFkfXOVtfULrKxcDFVFQiBChKENMTTXn2aK/7n0LRjnMdayvr7OcDAIlpEPoQmpBXm2s+qfuczlchfnPXmnx2g0JlGaPOsghcQZh3cOJQXGGJx12JhHgpBG2LN3d8CnXo+trS165/+Px41P2YUve0LwKU2THeNTluXsL17FgeKVnxGfJuMJ4/EY8JeMT8aaT49PqzvDp9t637Ydn4afPT7tuNl519IuFnb1WbmwwsbmJloq+gsL9LpdvIfJpEAIWk9sPJ6EPFKeIVW4hTRN6HV7DLfC6X71NVczGU944MhhjDMMN0dsrIfyciEEtrYIrUjSlNGoIEk0HsF4NKY2VXiPq65iOBpQTEYoqal8DV7EUGeGUoo9y7swtuLs6bNcuXc/Qglu1G+kNoY36SzWq3p805gVNwCCpWadRyeCnxaWzGS8UH8bp9J3UFYV0guyJKVUGmMqskRhKnh5+TYmxYRBOQ49dEkIaaxvrrG4EHKL+67dzWQ0xDuPszXO1RTFiMlkxBX79nDxnnM4akBga89oWKJlxmAwAAH9frDwmFEQAUgl+LG9e/n1ZJlRdZ7haMBoPKQ2Jb/lXsELxYMAZHmy0+2fy1wua9m1uMyC/++c46vZ3NxAK02v3w/4BIwnRQBHGRqVx6MJAkHeyZAy4lOS0O32uGf0y48bn9bMLz0ufEqzDrUxJHkG7AyfautIs5RunjFOk8fEJ1NVTIoJxRONTyLg07rdeEx82rd/N39y09WMqvPccc95Rs8Z4uoc4+qWpWSn+LTjQ+zkqXvJV0O8t6otnTxHJx6tLYhQ2plloZpESkG320FribMe50JYzVrLaDxhdW2d4XCLPMsQSnPh3BpYwdLyIovX7mFtY5XBYAOpNPv2HSDv9FhaXMLjKKoCa0s2Nzfod3sUZUmSpCRZiscBnkRrUq2xpqaYTBAKjh09wi0338ykKEjTjAfMW0lHmjvUt5Nnsu13EA+7b09wV61zeGf5YZ0hpEDgURIWFrtkpWYyHuKtoY7h1bIMzZEbG2v0+l0OXXMtw8GA0WDEc55zFadOnWQw2gIBzluKoqCqSi5cWGH38i5qZ9ja2mJ9bZNyXON9zf4D+3h11uUnyjFpmvKmzRG9foc0e1gVjxDsuqLHh675IZ7zwPdTjCecP3uKE+W91PW1rZI4W+90++cyl8taTp26h3ytR1V+jDriU7ZvH7bfp7jx2wM+pRmIwNLT7XTQWsVSdd/i0/gywaeirNiqh9Gr3Ck+OTp5ipCCQ+bVDP2E44tvf0rxqdsL7VdWwuAz4NPBq69n/CfHuec5PW44c4piXFPXY4QQHDKv4X77Mzva+x0fYvd86r5gyahps12SaJI0Jc8CU0caS0izvEOiQ4IxTVM6ncCzWBQlzgmSROKtpdfvs7Kywr69+7j2hhtYWVljPBliTY13wWJaXOyT5RleWgaDIefOnWdj5SJap9iqpqwKvHNIAQu9ReoyWAZKS4qi5KqrruHM2bMU4wkr6yt0O/3YM5FjnWFclvx/GfwASasUs4oSab/QSvIDRmNFSA6/R7+WL7G/iFKS5eVF1lbXKKuasqqoq4qtrS0mkxHeOvYs78F7x9bmFoeuPYjHkyYZ3bzLeFAwHAzROsE5S5blTCYlQkr27bmKRGeQKYwzFEXBWxLHj/WvwHnPj00G/EBtSNKkPZiaa1ZK8qO9Bd6JxpiS9x3719S1xe/x6CShLCpOnzu80+2fy1wua/nUY+HTn79/Gz7leQedJCQ3/hOSNG3L0YtJhfOXDz65CsZliVCSNPIQPhY+pVpibcAnKcM9qPSpxSeE54or97BY9xkORtSPgU9Lu/rcd+0i0pQcOfIAdW3ZvXsvOkl4wPwq2d98DF75mfd+x4dY0yneUDJ5D3VlMaakmFTB5fQuuOY+xKjDhXuEBO+C6yulRCBw3rG2cYFwuA0ZlZtonXBx5SIbG6vRZRY4DysrFxlPxmRZh3IywTs4dO11ZEnGxsYmJ08dZWtrDYTBOMu4GHL6zCk6eQeQrK5cZLi5hVYZ3kmKMvS4SSFxV/4Sdefb8UqDZNtibxMPb9GeN0mFc47vKj1HOkm7Ls4bXC3wzlKUE8bjIc4Zlnfvpt9f4Pz5C9SmwNQ1E2fJuxlKC6ytEUKGRkad4L1lPBlz6NAhBusj1tfXWegt4AmN5N9rVWDbQPD/9JcQUiKYRsmbq5dS0OlmJCql9gVYiXOgdYKSirMn1ji3em6n2z+XuVzW8lnh08e+g0+HT+cO5ZeET3uHX03dffcTik/CneHKfftIk5REys+ITxAOYOcczhq6eUK3IQt+ivApRKlClfquXQuPiU+3pN/IXeqvPy0+nd0hPu34EBPNprlgCzT/jpqDkAJNBHR8m9xz1uJdeJ21HmdDo51zjqqqEQKGwyFnz55pi0G8dXjvUVIgBWilqasaaw3OGPbt20+eZ+zfv4/FXX3GkyGrK+c5cfw4xP6I8XiMUiokTlXKoWuu59B11zMYDinGEyaTMct7ltm9vIsfUdlnunmkhDeZ0I9hjOFfjzf4xn7gT6srgxKC8WTE5uZ64GxTKaOywHmLUpLxaMTuPct0OjmrqytsrK9S1wVlVcQEqEdG4s9ev0tZTFhcWuDYsaN0rs9JdQgTvEU7vr+scN7T6eTbFOTh+5XlCe/Rr+crzH/kj7vfxleM/htSKpz1nDt3DuPm4cS5PDvkicanslSXiE+GMYMnFJ/SpYTdy7voZp8hNxTxSUrR4tPW1mbIST3F+ASBt7Goyx3hU6ISagu9zi7G48lnhU87PsTwIKRAqaAoDTOxiH1hzWucszOd5X7686a6RkhwQQmsqWPnu0Qr3ZbDOucQHpSUDIabpKtnKauauq7Isw5JqhiNUs6fr2M8O1RDhvJZj/fhuqx1jMcT9u5d4OC117D/wF46mynOeUxd44Hr/Oti9/unv/VmI96iHd9jBHVdY21gnFZKUmFZXFzg1OkNut0uUkoWlnqMxluMR2OqqqSqKvJO6JgPTNSC0WjIcLBFlqVI0cVbj0403nrW1tbo9xfY2hpgvUXgGQ4GrK+tsuI0nW6XLEsCy/WjXbyAvJPyDZ0/4sKG55+ni9znlnDO8bbBy7lq5QeD+TmXuTwb5AnCp6PX9QP+WLtjfPr91ZfyldVPPgKf0tOv5Kz89c8anxbtIiqWqu8En8C3jPLWOoSQTws+SaHYnY13hE/Pzb6Njwx+nH6vj/ApzjnGg4KLK+fZtUN82vkhJgiU/bGLWsVZN1LE5YtK1CiMkIESxRgTKxbDJkopMF5isTgPeIsSAmMNQkjwtv19oRTr62usrq0gkEglkVKhEx37pRKkFNS1pYp9Br5hfI6KQrSYhBBkqeaPe/+A0WjEj+7exf9LzQek5Ue8C0r/aW49KK7nu2uB856fkZZ+v4fSGlMbRsMhSknyLKcsipb9GTwCH6wuranKig27znBrQK/b5fyFcxRFQd7JERJ0qllYWKAsChKdMh6Psbbm/Pmz1LZmMi44eeIk/3e/x7/y+/gPmeJHsi5pkj4izCCALM948fL38Edr38e/qVb5Gjvi5fXbeUFxmL+cTHCRfmouc3nGyxOAT8ev76M/C3x6/tq/5MSj4NMn9EcvGZ+em72R0WjE0u6l0BLQhEF3gE/e0x6y/X4fpdTTgk+9Xg+/579w2+Db6PY6j4lPV+y9EjY1g/E61oI2KWURpqWsHvwMEbIol8Q71CxQ0wcWSupl1BCB0jrMt1GB10spSaI1SqoYsw71NVJJlNKty++9JUkz0rTDtLlAxr4BEPEyrY08YVXNYGvAxvomG+tbDLa2Qjd801CHCCzw0eO76sA16ETzq+Ov4rsrH0v9c/551kPF/jbv/aO6ve2iC/gPuWy79V+j30WSaMqqZFIUdLodtvZ9HlubG2HMiwsW0XA4oCwr+v0+k0nBZDShqmqSVFMUZaj+cWFgX1lOcNbEYZqK4WCIUoojDz1EURf8rnwtQiiytMO/TwTftlkw2Brwb10gJ3YPu4c0U+zbv5tuvsSXD3+JYbGJx6FUgnchLzmXuTxb5OnCp98Rr+Vd4tWPG59Go3Hbl9Xr5vR73UvCp0TrKZtIoh+BTzrRTyo+hXyiIss6SKGYjCYMtgaUVfkZ8Wkw3Pqs8Wnno1hEeKnzPgyFcwbvDMbUOO9wJn4d6UaCm67iHxmmfAqBsTa441ICjdKFv5M0id5aTNI6DwI63R55t9eSXkopkSIMcVNKoaSO1+aCRUbD2WVIk5T9B65kaXERax21qfn+WImolOQHZYYU03EAn1ZDhOC7a/h3ruB7bbhGgWAwGATOsF4XYyyTokCpMF/NWY8xjvW1VZJUtdVTeSdnc2uT2tR08h51ZaiqYH2sb6yxsnqBzc11vHfccP2NFOMwWHQ8mrC4uMBP7L2KNMn4GVXzb03BN6+PtjGntJetBP2lHv3eIsY0Dw0IIXkXr37se57LXJ5B8nTi0+s7f8DXd/7gcePTVdXXUZuaJPZWKSXJ0mTH+OS8o6qq9hqEeBrwaWmB/fsPcKP8Rpy3lEXFcDC8ZHwCdoxPO2exF4HbKknCJFFrLNY2rBwyuvMO5x3vEq/mt/k63uFeFRZUqXaRaxMWxFRlVCYZyjetoZiM2k7vUDUkyNLgimql6XU66Eh8mSQ6xLa9RQjfxpida248KJ7WmqKYcB1fz/eT8GPlVkuJFRrvJErKR88+Nvce/0gp+WHdZWFhgaqqwogEZzGm5vz5c1hb0+v2GY3GOOdYWlriwP6r6PeWGA6GJEnCYDDgwvnzrK6sUdcliDCXZ2trwNbWFhcvXuTcufNcvHA+MG7nmk7epdfr863L78caD8LzQ0kHIRRKaeqq4t+5R/KMNR32t3W/DXyoMPLOUxY1X23eutOtn8tcLnvZjk/yMfEJAkDa2LR8OeCT0pJz+Tu5r/ylx4VPnTyP+FQ/5fi0Z/lKbB3ClBf7vxdzcir0FsdxVA+/7jzPWFxcfAQ+1WbnvK47zok5Z8FMSzxddIXB451taVykl9Qtf5ngd+RrEEJQGcPX+F+L8WfRWkNKhf6NqjZAGNfibMPFqEiSBK2TWHqZMynGbX7NWkOiNMZ6pDE4H2ZkiXh9zjsqU2ON489O/jjeO764qjm26xZuMW8kUToogGxU5jFECJRSoEB5j3YJhw/fT1EW9Lo90jSjk3fYd+WVrK+ug/AsLi0iI+fZZBIGvZ0/e44DVx0gSXPWD68xGGzivIheYmD6r8qKKquZTMYs9BZxztLpdrjqqms4uOcQb/aW75rU/FCSkySaf1Vv8sNViu948KGlshlrnmYhji3RGG+oTU05qYPlwzycOJdnhzwcn44czLnlTM2j4ZOFcFAIgVCCY9d2A/60+bGnHp+OHn0oDBquauyCoTLV48KnqtIcPnw/58y5Fp/yvMPy8u4nFZ+Wdy9iraWux5je75KkmsXVv4d1IST6aPh0a+dbOcz3ftb4dAmemEQIiVQJQgZ6Fec9zoZkalhwgRRh7hgevBN4L3DW453jd+Rr+F35mrYXI7jmsnWtrXWUVYWxMXkqAj1/pxPGioeEaSd4QXUVK2nSwAgdE7rhGsNImCzLydOUNE+4cO4i506fxznPmXPnuGfyy1RtgnNqzXza+5/9IwTv1q/De0FZVEBIviZJGiudoChKBqMtTp0+ybHjRxmNNrnvvntIsoTlPbtCojTRrK9vUBZFJL/UXHPgILuXdrN7eTeDzQHGGpSUhPaWmk4vZdfuJd4sDG869SDfd/YIRVHwb00RvcM6jAOPorSkt9Al0Vlsa6gYj0eEpO5c5vLskO34pPAIjhzqPDY+eRFyL863VFKyCcU9jfj0Nxd/lsFg+LjwSWvNCflbTw8+LS9hrePY8SOcOPEQZREIhJ8sfNp5YYcQKJWQROJfpXTIC8ngjqusA1LF8SOglEYlKQjNy+u380rxDl6t3sXX8g5AILVCxhLYqqpiH5gLIYC4cdaGkIDWGq0VxtQoJel0ulRVHRsYfSTW1LHkXbVx7GCVCcpJzY033xgsDyk5pm7mwvnz3F/+l0cv/9yB/KDMuOv6H0QrDQiWd+0iSROSNGN5zzLee9ZW16grw66l3XQ6HVZWLlKWE86dPc362grj8QilNDrGofcfuJLrbjjE/gP72bN3L1UZ4vlZnrO2scapM8cZjyesr61SFmOKiUHJnCv3X8n/099NEquAVGQtaHa40+2QZR2scYwnY86vHMP6gnlKbC7PGvk0+HTs+t4j8OnYtV1O3LDIiRt3cfT6RUxdt8BPxIynE5+2tja5eOFCIOj9LPEpSxNeevCHn3p8mkxYX1+lmowoxgGf9u3fz65dy08aPl1CODEkMZ2pQ/Ng3PRQsSrwIiRMrTV8tXs7OkkRIg0ucngDjHNYa2OvWEjC4iBJO0iVtsphatOWjQqgrg1KB6VcW1ulqsNJbr1nNBrhfBj94rwLY8hdoF7RSrG0tMTe/fs4ffIEu/fsoSgrEpWS62AxlWVJnmV48Rkd9lZCrDokbffs3s2Bqw6wsrLCul1lyY3QUtPr9rDGUZRjdBIUc3l5N5NxyYkTp6mqEikEi4tLpGlKw+l2+vRpqrqirAv6Cz36nT5SQlXVlGXJZDJmPBpRlSULiz0WF/tUZUnhQh9dt9trQwTNtXa6HXqdPhfWgtV5+sIJqvjAzWUuzwaZxaejhzqIiAlSwNFrU9CacgxKgqjrgE+x5N2HN7hs8MkaQ5blVOUTi08b66ssLi0++fg0HFFVEZ+WAj4JyZOGT5fE2GGtoapsLBeV4W8lsA5cUaJj06BzNnS+25AcNdbFxlqBtRadaN6TfQNfVfxX8jynMqGiyCMQNl54nJnjvGdcTBBCUlVFHBFQt3nOsgzs1FWTzG1GLAjC651lZXUVISSLi0t0raHuLZFXOcaEGWdpkrSca5ciP9pbYnzoh7hn9Iv0+j26ZY/h2SEOi8czKUZASIoWxYRrrrmao0ePsb62Hub/JIEU1ERizs3NjTD/J03Z2tzi+huvYzwZcnH1HJ1Oh//R/yb2jjaxxqGUQgrNhQsXyDsZA91j1/JyeP6sRerp1na6GYsLS0ihcM7yO/q1fBW/hnVzV2wuzw6ZxSdjsseNT0maUZXuKcen51Svoq5K8k6OMfXjwqelpQW+KPkhBltbTPq/znDYY7j55OFTv99hNIz4JBVSai6cv8BW5y10Ol1uX/j2HeGTUBIQHDo62tF97rzZmVDRo5QOY6dtjVYSLyWmrkIJapKAD/N6fqv8GtI0D5WMKiZMvaMWljTNgkUUK3a8hyTNcM5TTsJQOOeJrNIjPLTKASEp6L3HGBPcUxnc+dI5XNDFwIvoQhx4MhqytLiE0gIIo78X0z7vTl7Pi4x8RCPeo957/Fs87O9ut8vt6h/zqdEvkJKSZhkXzp/DWMN4PEanGjuw1HXFg0ceYHV1jaqqWN69jBACU9c4W5EkOsbdS0ajEevrG/yO+jq0TniBfT8Lix2E8AyHA5yFqq7RWlEUJclIM14SfPfxB/iF593O8q69zOgIaaZZWloiS3IKs8Ur3G9gpGiTq3OZy7NBGnwKB9hj45MpS9I0R0kBKgCui15ZmiZxoO1Tj0/aSnSes9hfQCchFPh48UkpzelRQpaFyNgThU9CebROMNZN8Wk0wJmIT4mimAR82r0HPnL/h7jt9ud/RnxqBn4q+QR7YolWgTQTh5QeY3yoOKldu4jGGH5Pfz1SCVIpwygW51FKToedCYGpSpSWeB8SpkFjFB4busyNDVUszlJWJUoFzkKPxzva0KUQgbRT6VBCK6RECIuIE0Wtg0kx5tyZ0+zetRTc9DSMjLmh/Aa+X2hEujM3velxEI+ysFmacIf+x6z4v6Zf7WVtZTU2Q8LFiyuhKz/el/MWKRWrq6vhvgiVUsZqirJs4+RFWfKSEz/D7yVfz9HkG+j5Lgsra2RZRqfTxdSGwdYWX1m+lSv37+dNJ1/OP/jImznR+wn6/UWMrajrMKK8k+UsLi3S7fQoBwOsceB39nDMZS7PBJnFpxtPjrj/QPKo+KS0DkMghUSr4EkpKfEzFFSmKiNmPR34FCifkjghWuwwjLgTfLpYXeRI71efMHw6ceJ0aCBPMqyHCxfXyPKMTt7FGMPgwhZlWXDl/v0cO3aU1ZWPsL77Zr6i/2OPwKcXbmrGFwTrgwlHr1UBn3YYQL0E2imB8DHWCkhpQ4WPCJbH7/Lq0NinZKsM20pbY8WPcC645rEiyOHxxoMLHfZpklBXNUIKkiQkWr0PXdxSBDqYwOHe5OBcUIyZ62xOcukla2urXHXgavI8pywL/iD7Br5MHyexQUGaxOmjLZcnuL4eYtc/yIfVwnjv+Wlf8r1OkmYpt/a+lXNL/5q3jv4eLyh+AhP51xBEFu3Qx1LXdVwbQV2blh0AYlOkhxvWvpA3qVN4IUi2dFAYpUiThF63w32d/0VhQ2jk/xj+Cg9cnbJ64WfJzi4znkwwpuY3v/BHecvBm3lu943clX0IsSXxQuDFzpsJ5zKXy14egU9yGz5JmOITEZ+8DeXy0TMSIuJTbB96OvCJbjj4Ev3E4VNdByLjNM24NQv4NBwNmRTF48KnhsXfCyirGuM8alSQpmO6nS7WhsnNzlqGwzHGGM6dPceRU9/f4tPBaw5x8It+jAu37SH7aI7Yklx/fMKRa7s7xqcdH2JVbUh0gk4zMAoR474q9oIpoVCqUQ4wJmyc8346fiUqiPO0LNLGWKQUJFrjncMy3fCG1NLUNhx60DYBikiv0pB6Bh6ypsQ0bKonxLvf6V/J+47tIe90ubYTQguNgnyms75VkEf7WbTGjK3xpHg8bxY1n5OEZa2qqt2IhtdMKRVn87i4VqJtVASBdQ4pFL8tvo5kv+ZNq6ewka7F+zgy3IcHstIVxlguXLiIMUGZB5sD7j15np+65hv54TNv5+//yf/Ft3zeD/LV5W8yKQbQrI+bd4nN5dkjj8An6Vp8Cg3NOrDOz+KTIBZZyJZLscUnnjp8cs5y7NhD5HmXW66pWraNJwyfTI3WGk9g6U+eAHzywpMojRMC68K9NCFUDyhVUtePjk//XQ44eGRIkoa5hsPRdyFKvx2ffKjs3IlcQjhRxxhxSApOw1ECIVRMPLp4QEgQOnJluXaBPOHCkpgr81Vg/ugt76HT6zMeblFPJuH9XYg5NxvaFCG0bntUCO89zjqEFO1niCaOHBdhfX2db/vEv+e3v/hfYOqKuq5w3m0v9fw00sRlrbWPcG+tDQfY91iBV6Ey801e86fGMJ6MWnYAIWRksA7K7FxgwPc+ND0qKWP5qaKqCjyBhbuht4knWOvV6hirr+saU5tIYhoMBescprZ837FfQaQpm1tbfOUf/zOq2jLYC0742CMT1mouc3k2yGPik1TceKpExMnKAolD8tDBznZ88tvxqarrpwafNtYZDAZcd+11mLqOWPHE4ROtV2hCDuuJwiel2sbvFp88aB4bn7z1HL22S5qm6NNbbGxuYGrLaDzehk9POHdiYD52cf6Ob/1bTxjr7ex2RnQpFVIldPoLsdxexIoehdJJoGCxDqUVebdH2ukiddr2T8wuYkO0qaSM4cr4IYLYBW8xtWlpXbwnWjiOREl++OSvYq0lTVN+UPcQyFBxM9NM+OlkNB5x+H++iYf+9Ae4cPEsZVXGPQu0M0JITF1TlQXW1Egh2dra4sLFFd7pXgmI2LMSmjFh2q3frGmwYGrqusR7x+/K16ClRGqN86I9asK9RmURzQND6+Z7/NSybL7niPOSJM7Tcsc1bCtzmcuzQWbx6aGDnW34dOjIIODTjLpLqbjxdM2tqwqdPgyfkgTrnjp8SqRq8SnLO5eMT/fc+wkOP3DPJeNTEy68VHySQgR8UjqYBT74oM6FopnAESl2hE8PHew+Kj5ddyw0PO9EduyJvUu8mle5d6IQMV5qo4su0ULivMU7iYgEmTrNQITRK7YJJQJSgLMV3tvgvfmQ5KyKMBrEx6F226eYNuG/6fWI2J8mhWwTqTQOvZRYYwB4T/p63ndzh+948JdZWFhgYWERnWi01yEJ+ijFDR6wxvDggw9w7P3/nNFozMJCh8W1H2brjh+h11vkrVfs4keSfkgKR7e9NhX/ZrLOC6QkSzNeKd6JiywAzea1MWzCg9ckb4PihPuQWqKSpKWuaUITQoSwh5AycLyZEOtOkjQkoCHwwUnZMnM3CpMkOrr4ZRtSeWwOgLnM5ZklzjkUgmsOr/PANQlSaW46WSB0xCcvCSOdFDqb4tP1xyccuVoHfAKcqfDuqcGnJE1IU4WrYWEx4NNkMg7FJ5eIT1tLvRaflpd30+10H4FPZrCBlJIsydo816Xik9YapZOWo1JIgXceoRQhCvrY+KQTvQ2fTt64BEKzvq4pikGk/oIbTkx2tO87PsS0lLxHvY5X+N/EexNoWnSzW9EVdy7GfB3W1qFJDt/ugyBYIMaECZ5hUqrEmDq4w96B8HgXKoaklDHWHJKn1oYR2MH9b8KWvu3ZaJRESYWToffja/1v8eLTiirR/KNRgbWGDwxu4Ys726vzPLS5srquOXnyOJ/4g++lqix7di/Q7ebUVc2pD/woa+tbfMEVe7n4d9/MhQvnMaam2+mx3l3j9NmT3I4nz3OEEBw8/7nRKqE9UI7t+Sv+IHsDf9f+N6JL1V6HEPD3/W/yO/VreEX5NoT4/ND5Lz3CWZpeFmc9NrGxKilUDYUQvKeuDWkqQCRBoeoK6yp+/4pv4v+sfzGsXfDZd7r9c5nLZS06jgcJXpHBO8UNp8eEWu4ZfBIgpMOaiE8+0hv58OwZ5zBFEUeaPPn4hA/VfxmCopiEkJ/S0Yv67PHprS/5fn751hdsw6fJeMzh+r/hZ/DJGIuxRch7qXDICwFZlobG70fBJxeLRXxVIeQ09CdseEHwYi3WfGZ8uuFEweGrNNZVpGlKXetLxqcdH2JShVPznebreLn4NaQIC/rb/lVhvkw8gbXWWGspJhNMVUUX1aFUmIuDCOO8lVK4KlxsPRljnQ0L4xqrBd6jv56vcb+BrcJnha54gbcO4cPANyHD5zZub+MSN+ML3q1ex53yHSRas/6Rn2Rwzc/jFrrw8AhyVObxeMTX3/UXfPPH/j15ltPrwtKuHt45agOgWOz3mIwnnDl5nve965cQUvAHX/h3+Kqr13BuP1maIYDrV7+Awhdt+DX0U3quW/k8XnXwt3FZFpofvQ/ek1Bt5Y/H8w7/Kv4pp5FSxC73cMUNhU1otgxx4/Dw+DY5a51DWEOicwBMXVIWTfOgmOfD5vKskgafamOQQrWFY945pFYBn3gYPtVTfLrptOGBq7OATzqwXZR19Zj4lGiNde5x4ZNWqi0c6X/wKIMDm3Q6PR4Ln+5617eyvjF4THz6J/f+Ry5sHeK9//O9CCl43vNuptft4W5ebvEJmN5Pm6KzaB28pM5nwCfrQthQCrGtGVvHlgNTPTY+3fDQFjIL+HTwwXXuP5DEd4h5xZ3u/U6VZDwZszUcUtU17/CvwhhDVZYYY6mqwDrcfO29oK4rimISvABrqeNohCZ5WsUSTqkU3sX3qirwgZKlkT/Mv4E0TeKCO+ragIe6qmln4tQmnPrxroPnYeIsH9mOKn/LTd8WYsTW8GYR3FtPsCzGkwkPPHiYv/i1b+LVH/hJrIMslSzt6uKcxVoTXG1vSFJFp5Pwb+0YUDgvGI8nbGwOuHDxAuNiSBG78Zuo3TTcEIfzKdmOgmg2uaFjEULwCvebZGnaVv34tgLIzTwQIebdjJpo7of4UWVZhrJdPEmS8CNn3h4tohjWEHPaqbk8O2Q8nrA1GFJVdUvYW5WBrHcbPtU1PqZEiskMPtUz+ISnMjvDp06ePW58ap7fUDsQ8KmpMXg0fDpx6tyO8KksCxAK52E8mrC5uUXvw8dm8MltxycAETgoPxM+ee9j83RTOe3iwdPk3LkkfDp10xJpmnxW+HQJtFMKIXx0k0NcF6lin4RvrQznLd00J/WeNNK3jEcjyrKc3gQyEmkGV3RSlNRVyLMR3WghRcs59t7+G/mKyVupqrotTW0Xz7lptYwIi9csvpCSNMnjDB/BD5/9NfSL/hZJovk+r/EilJmub6xz5E9+iOPHT4CQdDo9siQhz1NETEY6G7xGFa+rLAourq7ESijP1taA9WSDtfUNzm6dY1SHTv4YQZhdSKSU/J58HV/mfqm1GJ1vwq4h7PHu5OtJktB70qgHzsdWhdDU2cw2akIljXjn6PT6eB8+uI6zkZoLcb4JccxzYnN5doiQMkTuonF3w8kSVJjW3DQgCwHOWLrdnDSN+JRFfKoqrjlS8dC1XYgYsiN8UpqFvmY8KR4XPt1wfEJyRcjXJ0kSQqM8PnwqixUeOpSD8GwuW5QKB+vNf/0QowPJp4nWBXxSUsVy+kfHp0B6nCBrE3rFItgJmrCnb/HpumOjFmu8hySp6Pb6+N4CANceHeO9DZ4wU3x6lHTgo8qOD7GmSdATLJEEjSC4jU2Crik5zfIcD2hFuFGlkdLEzQyD5KqqhhqSJOfdyev4u/6/UtehR4P4RwrBeDwmSRL+sPONfLn5LwipybOMQhYURTUtw4xeTpPEFELwLl7JgV4nVNc4S1FM+IlyQFf1GTPBOss/PX2Uc2fP8o2nz9K0CvQXFpDeRWLPJMa4oSxrjPVoLTDG8PWf+iBrcXOLIpB1jicT6ty0/SLhSYimR4yVu8hu3cSSZXS1Q+OW4Pf061pWgeahjGU+NMliIK69fJjlE+LvSZIAIdFa1xXew5GDGa4o2ljzvNl5Ls8WUTHf3OATIpTSCyniASKxLuJTNoNPagaffMh1ZVnAJ1PXJEkepj770SPxCcl4PCFJNJ08cLFeCj6BI+11sFWBsYaimDAeDel2+4wnAZ9OHD/GxQ//OBcvrl0yPl24eBG/GA6WoqzQynLwoS3qTgdB2h5Ks1a296G68LHwSSmF0jP41IBbqIjgxpNhoKWtCh46mBFykp8Zn1xDjnGJ+HRp3InBuSW0Ajbg6XGE2n+PJ8sy0jSPjMYTkqxDp9PBWUNdV4BoF8jj0VqRZhm6VHirqGOfR2iIllR1hTGOV1W/RlkHDsZahtk9lFUomohKImUz1jrk4F5ufp0X3i2RC316eUZdG7a2tiirmvdPjrD3U/+Fv3fqFGVVkXV6VLUhTUL8elIUaOlQSrQLHEaXQ105rDX89PLVfPP6Voyjx0M+MpHMRnQbi6LpHwHP19hfZ9RsVtwwGfnCmvtoBujV7agIFXszTHi3lkx01hsWPHSow3uX/gE/cPJt08Q1RGX37e/MZS7PJmmiInhiCXwAXidcWyGYpRlpNoNP6Qw+VRXMlHnP4lNdFY/EJynCYWctsg4DIy8Fn4wxbG6ssbjQp9ftUteG8b1vobzxn3Di5AnMkf/EqYhP3c8Cn3xsB7j++JjV5/e54cSEygfcuO74iE/uDevW4lM0hvGhx8w/Bj5df3wMwKQoqCNHpNYKJTUuFsx458LrHoZPzedIJbbh03XHxtxzpYjXtHN82vEhZoxpCWNDJY6NrrFpP1AqRV3XWFPhEYyLkryq24qWEIN12MK2/WbvcK8kd4HLLyxWo5HBYsGDUJJ38XXUyvBKfovaBA6z4HZHWquZElfngnf4u/r1/OHVmh/bfCdplvGT17yR/uoqL9t7jJNnlqjOnqWqDFIqkjSlLCuUVIwGQ6qqDHHlzQotFXfd8YW8+KN/htIaYzzewVccOM1/NjfzRQuHkZPG5RZRcQXHrvgbqrLk3frr+ZJdR/iL0XMRQpKkCfib+HL3S9t6Jpxz/LZ4DTrG5pWSfOK5lnefvBJnw/TUN+TvCY2V8SETM4ZUM1H2HfaV/LN7f55Ch1lAxKT2TPZ2psx+LnN55kvTUAtBxZv8VoAF0Ybx67rG1hGfJhV5t44hsBAdMdYGfIrl9NbGCrtHxadIvxQ/N1T3sWN8kiqhNo7rjg1JFxapjQichZs/zur6BnVldoxPgoDHs/iUdzJuvzjCZCk3npxgPVN88oIbTk6oyhKtE/AhLyVaL8m3eDKLTx7BtUeHWBmnXmtNMQntB6rTIU1TrKkfE5+stUwm48hjuR2frj824sihDjeenOy4sGPn4cTWXRexsGC6IDOxMqqqpKyqNswYOrbrwCQdT2M8vML9BpbgZbxSvAPL9JQGUEqgm1hrBNxXiXfwO/J1SCl4lXgnSZJQ11Xb4R5+T/MuvhaFZNfCIt5Z/sXer6PX62OHA1bXVnjb2Zw0F/ygSviPt30LdV3zI6ffjpQSY4Kb7rynrGp6vR7pzd/FS7YKvPrLmAQOXeghNqzI0gxVpygdWKebap8wJVaQxeTvguiRpClCakbDYVBuGSqh3pO8Ptyj/Q1+T7w2ToTVYVDfzIOjVGDoDk2XtHk3H2MK3nvedOy/8hM3fDNaa37k7K/z04e+CWstX1W9rY1KhnzZ/BSby7NDVOxR8n671Q/MuhpUdcQnGQ61Fp9MeKaciwUVseihNjWiCs/Ko+ITQCQQljHPFcKX4tPiExjwnoWFRby3fHxvxfNXBlgrWF1fIY3eolYJvZ6OzCHm0+JTt9ujLkvqungkPiUKpRVKp2Bd62E1ZOwyhk+9c7xgLRAPH7t+8RH4lOgED1z70BChAoNHmmhKypld2Bk+Oe/D4eksIs3i8NAQvfrwHS8FDw/Jj3L98Sd4FMu0YS+KCB3hKuZnfAwTSglFOQnJVO8pygnOmtZLaViZpQiJS2tDFZEzoUqo6SKXUvDFi0dASlSvw3vPX8PW7s9HbYRSzt8Rr+VvLz7An6xdi1KKL1o6zPL6h5BS8mrxO7yLr0NKwaioMfWE0bgky/MwCsFLXrb3JOMrns8/2vobfi5/Ef/26jfwQ6ffTqIl2XO/gI2P/SE/c90b+fG9V1FUHt1Z5N/d/J2sr5yjKEJlz0vHRygrg04z+moZ/ZdrcOMh6trgk6acNsTkd298BHoviIe7jiXBTRkwfP/aWTqdHOtexu1ygzf3ryFJEnSSBIsmPliNcjYuuZ1pThQIfk++mh/0b+MHTr6Vn3/ut/Pvb/4W5Ljge479V+4/oGN5bNyxeURxLs8SaYopWoNaEPNhwcj2PhLcChHwyYffCfhkcc5z7LpeE6/AieB5WWOoPI+KT945tE5QnZw6Gu7txwsZGqaFZLj8LZH9IlQJe++54xM/z/Jwwp/d8hJMPWHfxQ+QZVN80iqlvPr5GGPIzt+NNYY8ywI+dVM21i4iCUMri8qj80W80KxdPEdRFpE9I3hT3W6P/sIu6qqkqmrqyDPZ4pOUWD9NTdx4smI0KvnY0hSfbjhZ0ckzbK+LlBohIUmSwJsYD8Wd4JMS8NOH/gFpmtDp5Pzw6bdjjcHY8D53fvTPA97NVDR+JrmEwg7R8iJ67/hd/xpetvs4bDTcWeF/zkFZjHAuvL6u7CPe6+/73wz9FdbxNfwaTips7bCxdFxGK6nG46xBFQV/e+lBBPDFS0dimWuwov7O8lGUVhgTutuFEGzu+Vy+jJModQaWmmRlWKQ/27qFbq+PVprBYAtrLN+XfopOt4e8+QvpdntYB53PewU/xTrrm7sojafT7fO9ZPwLqahq01LJOOf40/UbSbOSuix4tfptqtpS+iq41Xj+vvsNPCHc2rjrOnptTbzcA0onYAUq6SBV0ykfcoOdXpdut8t7828NllGakGVZOOSc42vsr/Gb9dfy7x74Rcr+Aj9707eg8PyguI9/Ka7jZ67/Zsqy5O/JX4m9IXGw0Vzm8iwQpSG2LYV8CwIlxTRPFqsxAj6NA8WRddS+wafAag/T1IeNvIDC+8fApxpVhOfohhOT6dSOSPckleQTe+JBEasSldJ88o7v4c57/zMv+dif8eEXfCF3vehLW3z6qdEfIK/7XNZWV7DGkh38HNI4Ebnb7WGPf4hOfg0Cz9bWkPLAS+h0+8iTf4OQiqoysVGZNlIWWgRKtFJUdYVzPrKGTCubpVQh3RHx6frjE07ekMQshI/eXI1KO3hbT5k+hKTTyel2u3TyTpi0kSZkeRbIhA/eibUGUxnquuZfVidQWvNmeSs/e8M3MxyNMMZRliXfcf/P89OHvpHvO/bf2Ck+7ZwAOFNMubUExdiAEGR5ivOhs3u2gCDcXLA6rHV88dJR3r95A3jHe3hdXFzJF3bvw3tYWvmbtl8hsEpLHCHGm+iEKoYAaD8jlrDGTQhNeCGGHTbQxwnUTVl5GP/y5XuP89DC9Tx34woeuHiBW67TbG5uMZ6ErnKxx7GxuYW1NT/XeTHfUQzxQmNMzWK/h1I6VhiFZj8PfNHC/fzp2o1U4wnv9K+i8hXUNe/0r+JV+rf5bb6OL156gJdt/CJKaX5PvZaXm1+jEiGe7qzDmIqqquh0u0ghqKuScV3g9jiuuuog/yx7ECG3SFRCkiQs9Hss9vuBQktrnH85Xy4sPO8f4q3nV6ylLCqq6ip+bOUMKx/7H/yrK17De5LX89X125mHEufybJIkU4jogTnnp/iU6RgiDJVxzZnm/HZ88k5Ew3LqN4CgrqpgcOM+LT7dcqYK1dZS8LHbv4MQlxIxTyeQ3rVVd82QTfB88JZvCZhWxfCl8yRa8AvP/07+WfognW6H1bW1R+KTvgpra7Isw2QOX5eYQc3i1S9CLRzip9f287UXj8VKTcn4uS/ijrt/HmqDk5EbMRaoaK3b8Ovm1iZKaZTabAd63nAykDWYJKGqSzqdHlJIRpOS8ahAqpSrrj5IlmfBQFehRWDh1i95GD4FLxgJ3gZs/k9FSVUNWVlZ4UfWr8I5+P9u+lZkXfMz17+R7zv+Kzva+50fYnmzseAsMHY4Z9ApSN0kVJtSStoycJDUtQdp6fYVSRImQwfSR/iL4U18ydJxsjxDikAdI2L+zS0uBqWSij9Zu56X9u9H6RjC9B7hJe/fuomXLR/lfWvX83I+xH9P38CXd07w/o0bQ59Da42FeHXP9PiO4RlQiutueQ5qeB9qPMZXI6yF8XjMoZtv5A//8gTfftCwtrUZq28kW3mGW8zpdDoURdnyio3HYybFCK8lVVWGhkEdSDX/R/YP+bL+/fQvfCSOFrBYgqX0LvEaXmnfETZCh0Y/KcJcpI2NDdJE8XfqjC/wn8L4DFPVrE+2kFJw/qLAVYairkjzlDTLybI0KKHWmLJi9549JIlmae8VXP3V38LzBwdZWz3PH618E19Zvq2N/89lLs90SXLaVpaAT2HsiE6nTbrb8CnOG2vwaTKy3LZWcuqm3jZ8Gg4keIVz+hH4NNz7uVg82epfYG2Ydq9Uk2KJJf5Csu/k/VQmVA/2Oh2SJEHADD4BHtauv5UFK/hhdT8CSaIVqqofFZ82i4K1tTU2NzepI3/hVp6xUe3nm8oVikS30afOvXdxOP088sWcKy78d4AWn/LYGjAdy2IhFu5BSPccvbbLbSvhXqQAgWdjM+DTvl1XUNQG48HsfyHrk0nAp6NHLwmf3npQM9j0rK6t8kOrV1KW1Y4rFHfOnZg0+R1w1rdNeblM48+gsV6EJzJphvBeISpSnZLJDmmq26IQUxvKwpEkmvLgS6nLOoTqTLAS1GALiUALRebhveevZvfuZd4wORcXVHKbnuA2ruD9eY4uFHmectvoAC/uTytrGkWRUiEoMdZRTCre3j/AN14YUxYlXoWKHjupWBwNkVpz//GPcM0Vz2sTs84avuKBj5AkKVddfyPH9l/Ndw4qTuxaRg2TNmYeOvHDpNnhcEiRFNTLdwYiX+d5qXiQFfNivtgfQWyKGErUCCXZ3NzAOUtv7yF+as8KW8MCnaeoRGFMSELnnQwlE6qiCjnDNEMoRVnW1DaMT+90egwmE/q6j5KasfP8wm2OxF/JK/485d3nXsdX2bftdPvnMpfLWrSewScZPAwpAh7opDmwmso8Yu4qGI2TSYWtarI053nnJYGEPXhSdy8lIBRaK+qqDowgsTji5nv/AAn89Qu/m0RpNidDbj5/jDRPW3wSUuCWd7E1GEJRkucZu/fsJsvyR+DTjbLib2k4vtHjQG+NujZMxp8Gn7KcpV27GI3H/M3HLuKc49DNt3DwmkX2JHtxLrB8mLqmKAuGwyHWWo73vwSlFFs3vSCGTEPUSinJiz75n/jo8/8xd3zi51u2fSkEa8svQW18HCElm7tuxllL77k3sO+K/WwNBwGf0gwzKR8XPt1y+/NI/G38u/d/gNPnT1Id/Jyd7f1OleRli2fDvkeXuExqvNX87d7xtkBAqvBzZx1p2kEKyWA4pNaWoqh5SfZJZNCdMGDOe4qkoigVqZQUVc1kWAWq/9hN3+l0kEJQbRmyNGU569CjD5GupWGs+C5fQfpabmCEkIGRuqkelCLQzAgdyvXTGPP93A//L8Z7DGNniNECxt6zPh7hYo/W2dX7McaEni0hSdOU99/xUl558ShXHtWojuJ5m10OyRH+JZ/D831oev717tUYGwbS/dnWDXzlwdMI6XE2CYMtncNZeHf2WvBwW3ERowV5N8dZx3+4ruT8hTKEMazFFQXGWPoLu0izBCkU1bjC1CXOOYpJgdYKU9ZYZ8iyDnVVMtzyLO1awpNy8sw5rj94DTfd+FzOX7wwT4nN5VkjynWmvWHWkaUSbz2uVtQmxBGlCpXVzvoWn7aGQ+rKUBY14JDjyNvnwtijkVaoRPGcEwX37kuYDIKHkKShOKvT6ZD1OhSTCVedfYjlPXug03kEPnW6/fZad4JPF8t9LIrTjO2j41NfB+g+eSHlqquvCTmn8ZjTx47hnePAtdch8OSdjF6vS55lNHR1ZVnSPfMgxlrOXHk9SkN3IeHwF3wnHZfwqTu/m1s//LOBkSSVJInEHnghP9V9MT+iH8AZx9VXHeT8hZUnB59uei7nV85TiWpHe7/jQ6ysR9v6JYqyxlYeoQ1ShRM7pMZC+Vs9DhyKNrrRzltkIlFa4GxsBU4EooQkUej4fa1CQ28nz+j2OoCgKCtkktBNU14xOI3u9WLHeKx2FE0vQ1A+vAsls96DSMk+8EHKz3sJtrZQW5yrKKuK4WCI25vwkfsGrVXknOPKgzXeOf7ixV/CF330T3n++ojDVy63fSdffPcHuODCZ/zZC1/Kq1aPI6VA64wkSej3+3xbtUVZV5Sm4PevvIFudxXnaupKkCSB4WQydiwsJAy2CvCWTpKgdMqVt3dZubBGbSt6/UWSJGEymaDU1OJsEtUCEfpJyhKtQtI47/SCBRbzhVubgt1XJBSV5/6HjvFvDtZ85/Nu5/c+/gb+350qwFzmchlLwCcf8clTVDW2AqHtDD75iE+CelzhvZzBJxNGIGlPaE8N+bUbTo5DAVWuuPbImAcPZNx4uuL+z/kuHryuA0JQFhVXnDlCvtCn1io+xzvHp9CjJh6BT3/98YdYW1/DWbcNnx66cIrl3ZO27ypwGKYtPkmVcOHUSYyp2X/oOkxswp7Fp6qqKMuK69ZP0e1qROEjPknesfsa5N/6Tn7//CavuPEsd77/vXDDF/J/6cMolXHl1QeeVHy6/uDV/NGtr+NLP/YrO9r7nTN2xIhhnHcWPHMlkIlAxc7rbR3eIsRplQSLh4rQcKgFSkf3XgjqypKkGm89WqZkPdmWv06KCdZ6pFR8c71ON+2S9vvtALdZ7sDgAVqssyRKsvyRu5l8wedSW8fm57wYESsrnbWUVc1D992LUpr7jxp279kbAqGx6ujj9weqqy+8630477lnTx8VE5POe4wzgaUjSfg79/wVK9EtN3XNVdfdQDOQTkpBlmZ802QDf3IPzoXBeBdvKlEiIUkMWZUypOIXb3gBP3vVIMznsVCVExKlqKuSRCucDePUbVHifEFlLVVZ4BD4WGVUG0ve7ZB3cpoEtbE1ZQHj0Yhur8fm5oh7JxN+7pYb+Zbi9h1v/1zmclmLhHBITNvChHw4PkHI6PiITw4lRcCnmtDbqSVK0+bX6sqRpCrgk0q4bQV8lvLCj/8cH7/jO1t8Wuj36fa6pHEO4GfCpzzLAEFtHZUJz/aj4dPu5T2hPYkpPqVpc2DFCvC6Rin1qPi0cvZUGzbcf+haiqJ4BD518l4sVjNo4fimySrVRsXi4lX81XiJ5xzaYHHXMgevvvYpxaf77isfsc2PJjvvE2v7CLZ/PxxoTRkrWBMsmfC6kEX1NvRKCRS4OFfGN7onMZXD1hZrKqrK4VyYZ9PVGVkeOLqUCsUcznuazjQIZbXh+nxbqVh5z/DzXhJClz7yPkarqK4rTj54GJ3EaksxTayGewwBc2vt9GZjua2KdDKNsgTlbJoYQx7s4ulTWGv58zv+Nq+4cAQpJVVVhaZBqdGZ4tDpbuiVk4Jb/ZCJKrlJP8CFU4bxcETWyVns9XEIjDXYskIjcN4xWFmlnkxAK1wwfVA6RycJUkmqyiBkSZKEWW4eS+U9k/E4UMMoxcqFFQ5L+OUX3LTT7Z/LXC5rmTKfb/suQjTeV/i3NSGn33hGCI+3PAo+RRYiJKb22Npg65rKBf7Ee1/yvXSlIks0e08eRnW7l4RPUsnISfjU4dPFU+FAO3Dt9Vgbpng8Gj5JKehk8J2yxE0sV1xxJanOuHDq1FOKT8+749Yd7f2ODzFnmqoeIk1IKKqXCJQQOATCgbAg2xaksJHCR4vEQG0cxrQ7S1HUbSMvPoQTRaLIsyyMIvEe6yxKhjBcEks2m3f3flp15JyMXe2WsjJkmUQrGZ0+wYP3fIpiUoR/y0cyVky/ExRFNk1c7WeF4g6lNEqGJLFv+CojvY3WCiFS/s/DH2JoHbWp2zlEf3nnl+DxvH54lizNyPMcpRWLC1CPDnPh9JmwBknKINsgSVPyThetE1IpsR7yPEcrSWnqMHlVSKS1KK3pZhlplsUqRzltvgR8VWGlpNvrsXf3LqpJyagYccVOFWAuc7mMxZkYSgvlc8GzQSCREZ9AOIGwPuLT9GkX3oZn30BtPMY0VbsRnwT4WK33yRd9F0Io8jTjqrMPRXxyjwufTh55MBTAleVTgk9r506HNXsYPkEo/08SzY3Pu42VM6dQSvH8O6/kwumzTyk+3V/cRX3jdXzpDvZ+x4dYmimEbIa5CZIUrBBonYZ8lvQ4CYn2IH0cdx2smvHI4EoLSKQCBehEkaaSetXQ6WR0co0nLHpdGbwV7D+exsa5lE4nJ03TUNbeUmARNynOAZIeJYMlYp2jLIrIiiFxHibjcVQQ2WpFo+zbVWVa89C48Y0KBWqaCg/kWcbtmwV3L+bb5v+IeMoLAs1MGHMOX3rPX+Gs5YQJVYx//Tkv47Wrp5BSsewrOv0+WqeMBwOGW1soKRnpAVmnQ9YJieg8z1GLC5RFyWhzg06vR5rnKK3p9Xvk3U4bAy/jhNokTcnSlDTPSVJNlqYkScJit7vT7Z/LXC5rSTM9g0+QJGARaJ08Cj4xg0+e8cjjqgafxHZ8Mg0+BdqlPXuXqGvD7ofuR6YJSunHhU9njh1B8OThU97pMB5PdoRPnulE5vs/8XGklEgp+IM/2eT267OnFJ8OJl/GevfsjvZ+54eYysKUUilwziKlwOKQ2qFSgXQhHh14W4L7HiaEBkqTsjB0eoo0nxnfIiSTsSHPE3SqcDZ0xf/l6Dm8bvMMnV6HNMtIs3CYSanChsVkqfTEMd+RuwzwPrrmJrjLztWBXfl/fQC3K+bToJ2TQ7u1MZk7/We4HyKJqAiqFJqcLdY56qrm7sUut29O+M8v+0ru/Ms/bBsZZ/nbmt4SACEVSkuU93zRx/6Mk97zgRd/Cf+0WqGoawajAcq50KFgHaaeUFclk+EQqWTot+j1kCohy3LSNCHvdOh0u6RZSn+hT7fbZeX8ChuDFXbv3UO300UKWFpY4vzpU6xVYxZ3LXPV1VftdPvnMpfLWgI++YhPDilNxCePSv3D8IkZfBIz+KRJ85DPClyxisnYkucpn7zzu8LMLus4cOZBVDejk332+HT68H3h4HAWnSiqooy0fU8sPlnryDuherKsykvCp4bKqzaWtNN5yvHptqvv3NHe75x2KnGoRIDwmNrhvMEaj60teZ6DFBhbE/uQ8cJTx4PE2HDyqiQMqasrj6lrnPXUleOvJzfwmvUTKJmT6IxvVpvohV3oJInx4mCpeOcQrmGTjqzVghl2fY81No4oF2glOHrfUW5dG1DFisBgh2xP7DUb6tu489QFb5SmaURudciDwzMej7l7IeMf/cnvU5UVn9rdm3nP+EIP3jYd/zG/18bvBS+96/0MrtNsDYc470hFGFfuIxO3tw5jS7zzVJOCyWhE0umQd7ogJMUkDO1L0pTB+iYLiwuMtob0FxZQOqEoSrI8pSwLttY38cJw6IYbA3v1XObyLJDt+GRn8Mm0+GRtHRgjWnyqgUfHp0ltcLbmQ8/9dhYWckRl2HfyCInO0L2l4OE9DnwKoT1BXYeDNEk0Vd0wHz2x+OScpdvtxtEx1cx7xhd+Bnyqq4rBcHDZ4tPOR7E4g6lCb0NdOqqJxRqoSguqQMrYDe9Dgs96j5ahK1yLBCUV1QRqU4Vqmdqx94hmWWfc0j2D1h2kSgOhplKImMuyLiRnReNaz+xvSzwZLYYQa66RAk4ceQBjDErrUDlowvgXIVVgzLeizbrOEof6SGhJbEKEoCD4YAc1lpKQ8WkQUBQFH8okIu8go5UUkrLNmkQryhO+53wgAI6J2yTR0ZITKJkE5RACmaYIa7F1jTcWRFAaU1aYqqIYDEizjP6u3WSdHFMJitGEjbU1OnnGnsV96CSh0+0w2hrxwD33gnd0eh2SPMc6e2kD5eYyl8tUjKsjPnnq0lIVFmsEVekiPtE+i877iE9qik/KbcOnY90vweHZf+owvW4nDPdNuk8IPp156EEEnnHZ4FMkzn0S8amqquAdNh7XswifdoxhVe0gjpz2Igw0E0hkIrDW4GzsPkegZIoWEucEprKURSDL/ePz1wGe126cQaFQ3RBTDrHXwKrsCUrmrcM1GuG30yPNDpyEZlpqGARnjOHiyaOACFNYpWM0KfnEUg+shzj/LPCfiTbJGN4XhAqDLRuG+WCRNLNLgwI1PRvN5FPnPaYKVl2n0+FvPvfLsNbxBR95H8aEsQtNaCAoiEB6CcK1DdR5rknGCSrJqCZjvLWBIVoIRJagshRfG5yx+MgY4GygiPECjp88QZYkdJMc7yzjrU1GwyG9hYWWiHNpz27ybo+1Cxc49uBRVtfWueO5f2+nKjCXuVy28kh8kohUIpPApO5sDPEhQhWeUDgHpgqhRFMbSuk4ufR3AtMHCqWeeHw6dv99ZGnw+Bp8Kic1xSQMDH4q8EkphY18kjvFp49+ao1brr888enSSuzjRUsRqlysh0QpkiRFygRnQ/nqZFzw3pVr+fIrj/K+1RuoJoYvWTyOcppXb5wgTfMwzVk3seSGkyyWtUZrok1pPqKsP1gejjD8rpliqpXk1ANHsC7QYt26uoXznk8sL4RQuJixXBoy4Wh9ANNKXBrrp3mJbzfYO48hKNq0jDVaR84zGo74W3/9Xp6/PuT+fbt44WbNfVcstUNFm4RvYzl5Z8F73pK+hG/p/DVCJVRFgTVVsOycx3iHlxKpNaqTohy42uCMwTjHmXNnqZyhNCV4TzfNEd5TVRX12hpK67YqyLvQc7K5ugbH4I6v3akGzGUul68EfAphQhlLta33kZBWoWSCtSGPMxkX1KYkyUIh2V3P+0fgFPtPP4jynjTJnhR8OnfsIbQUVJWNtH06ztYy7cHT/v6TiE/dXpcsTXDe0+0sxEjVY+OTTjV5p3NZ4tOODzEhw+ZpqcEJalEjtSZRHfDh4Pof5w+1VS8CzzUnc77RnkeJFLl5Bc9x68iFpRhLVoHfTMp2Y0SjHGKqINtSm95v20RrA3u9MQac5+yxB5FSkGYpt64O8Fpx92IP4ZpM6HTjxbaeksaOiSrhA3UWEEl72WZbNQqk47iUZvObP85Zjh3cx0Ka8GCacMfGiP/2la+iKEo+94PvDTFsGWPf0Xp86cfeT3brMtbFz3Qu8MAF0w+cxdUGqyRCa3SaoPOMsphgnCHJUgSCSV2iRAwpeEe+uEDW7WGtpZhM4gwkjTFVHMUwl7k886Vp3tVSTfFJJS0+jccFVVlPK/6E554Xfw97H3qAm9bPIaXCRSKFJwufpPAtPoW5Yo7xpJpWIz6F+JSkXdI0oSoret3APFIUZegfexR8UkqRdbqXJT7t+BDLkxxngFphaoepaqytePeJawNnogGJ4tVrJ6NCKbxMSdOUJEnDxFOl2qbgsEi03e1tV7oIMWQbR3830WDZlKz6OG7FucC/aC0Cj9KhAVAlmtvWhiDg40t9XD0dx+IbrRAht9dYU57wXs77dpZQyKJOdUhIOSXsFIERP4nVly2Jp/Ntv8ZgMOCOQUGn0+GTyz1e9IH/zu0bY/7r330Fd/7lH8W39wgvkNGbVUpjXRjQp5QMllcc2OfiLCLhLd5YSipkqqmdQyaaTq+HEprh5iZFVaGcRyWKNM9I85zaWhQeZwxJnuMTzWRzY6fbP5e5XNayHZ8Ce461FVtbgXbKW5BoTvZf1uLT7gceIkk7Twk+nT1+pMWnNE0Az6SoQ8Xj04RPvW6XTqdDWZU458mzDOc1ZVk+o/Bp5zmxgcRax/+8eDXGGj6vc3+wVKwCC28YnCVJE1R/oS3Z9J5WYVTsUG9KUPECF60K4d3U5Z1RlLDica/E1AJx3saGaY+SgvTP/5oHrlxGSsVtawM84QAzxuIFwUKatZJgajX5aSy5lfh16KoPVlITUmh635qXNUlX76bv2/x1Vy/j9o0Bf/myr+JFH/hDPpgJXvwXf8ita0N+4cu+ms/70J+glGw50BKtmExKqqpEmJpOmqK0QthoQXkX7yGydVcGhyPr90mTEP4YbG1RWUMuFcY51s6dR6frCKVwQF1VVGmCF2DKndG6zGUul7tUA4G1HmMKjDUUZY1WGukUOEi15tzer6Cv9FOOT8cP3w+EKRppnOw8KaqnHZ8GwxF1HeaSlUXJZDIhyzLSJKGsqvawavDpwx9f5bab+5cdPu34EHvPySuDiy2nE0B1bER+w+gcSb8frBfZjCCYWgYiWgbTvocmGdnEfZtbp7VmZnazfYlzLjDD1wZP6JLP/vyD3HfFLhKV8LzVTbz3fHK5T1XW7Xv5aMGEDxHtZxGvYdblljEhSpNcJVoksc6ode2jZWYtoTIzzhBqrtvHDb17Mef2P30Pt6wNuP+KXYyGIz6YCe74899n7FyraM45BluSra0t6qrCO8tb8jv4AfdJ8K5N8M7qshBhZlGaZcRLRieaytZUIiR4rTXU4xpETCRb1yqHjyGJuczlmS6D4RilJFpKpFAILFpr7rnze0nTlP2nj5A/DfjkbGhATpIUrRXeO8qypirNZYFP48mEqqrDjDMvGA1HjOJtu4fhU1XV/PH/OsXzbwrFGTpNkMI/7fh0CdWJBu1BJCFp+ReDm0BIEl3yq90D9Lod3jA+h5DhcBNSopSebsZMr8TsZrUL6onW0YzVIQAvogvr2sVs9uPY/fci9i6hpOI5Fze4b98uyqqmLCraPggR4stSTJU2xMVnkqjt5YQ4tItTVkNyNloyDXdkdOMbdUEQOtBjv0ioGoo/iNdQlhUf7WWIooxEwQZjTRvldjaEJ977ZxuUZUFdh5lFd4r/wf8KWoQEtJC89M79UU1jkllJsk4nMHQT5pLhPa42eAxCCnzsyHc+NDCKOAzTPywhPZe5PFOlqmp0orn7xd8BnkAdJQT777+bPMvx3S5JZNN4SvFJyFjhGNIdZVVTVvVlh09lGXJzj4VP1hiMqfjQJ0ZYa0Nf2gw+vfTO/Wghn3J82nmfmLF4oJMlKKFQcTKqxzMaj0JCUPjAH5amraXQ7vZMBnSbawwQT3AhpjcfhrKFOHBTLlrXdXCbteLofYdxLtDN3L4+4vCB3bg6xGelUlMrKppPwdqK1gJN/0b8zEahmq33UwspWEPT7nXhpjZPyHvGUlZrkdKD1CCCS18bg6nrMOohWjUIQZqmPH91wCd3dUEInru6zuErltoEqrFh0qq1Fmcszllq5zDe8L4Pn2kPMwgMBZ1un3I8QUhBmmaMkUgfY+rWIVyIt4uocE1GWjxsG+Yyl2eqGOvwWJSUqMi4QVT10XiMtZa9yfLTgk95lsafu2cMPmU65MYQAqVBxpzXY+HT+z58pj3IdDPd+inAp50TALtwek6KioVel0w3/RMC5zyvH55D9UJXeOhxkG3JZCPe057craUw/SnO+bbE0+NDA6BzGBMSpXmaIAU8dN+9wUVPE140mHD46t0858wqdy/1ESpSprhABjqNAzebOxt5DhvsnY/J1NC4GBRgamW4ZmGjAjWK01y/VDImcR3GlHgh2vEHrXIg8MLj4+iEowf38aLzG3y0q7l3Tx/hQgxdSkk365LnneCVRWWxxmBtc5hZ3veRMygh+fzPvTqud4KUnsD8Nru+YdSEE9A45z7e18OZAeYyl2eqeOd4aOFL6d7/cRZ6HVQMF8peN4bzkpj3emrxqd/rhMPOgXXuGYNPvX6PJE0ZDgYYa2g60T4TPv3ZR84jgJe+ZD8qepFPNj7t+BBb6HXiGweFkSo07L1+eJ4sS9ELfXScmDwbX/bx9W0ct3HdZ6yddtu8jxaOb11qa4P1kqcpUnhOPHA/zoPWmhcNJty7bxc3n13j7l19TKz0EQiEnH335lp8+2HOz6jpwz63DR1H68PjkUwpZIQMid9GAa11oRrKuaCo26y8xoIjUtJ4jDUMtgbcs2eBO9eHDLaGfHK5FzfPhU51rel1e9RJSlmW1MqgrIkKY7GE8t26Do2aaZYx2FynLCY0Yx+aeDpSIuIom/BQ2KD/8zNsLs8SWT/wVSy0+BRGnYAgSdKAT1o/JfjknG3xqd/rYKwFYiGHe2bhU6fbZXFpicHWFmVVXRI+feCu83zBi6+EpwCfdnyI9bIUB+SJDtU8acobRufJFhZIsxSpJM55jLUI5wOBppzZHCHaBZ91h5tNbRSlLMM4a4A6DovrdTKkEDx4z72hSxz4nEnJJ/YuctOZFT6+e4G6co1THTemiXGHmDZChHEv7fk/qyPT6iDVuPMCPNPEr1TbY+bOhfcMQ+yqkNj1M70bblo6S/OJIoYJXOikHw2HfGpXjxdIRbejGY8nrTFV14a6NiRJwovHhk/t7lMUBdYYnHbR8jE47xkOtth/4BqGWxsU4yEQGy2jNSbxKA/Ki5hdjVVYDw+bzGUuz1DpZckMPmlUGtp7skjQ+1Tj066lLkVZh0KOylDXz0x8Er0eu5Z3MdgafFp8WlhYoKrrR+DTX330Is57vmrvvicVn3ZOnSck3TzjdYMzJGlKQoLKw7AzIQMBJgRiyOZobxKiPqxqOO2liDM0fZtYRNB2lyeJpjY2xGOBLE05/dAD4f2VwnvL0kKHe/o5N568wH1XLlNNqm3WUhM/bgyqRumCosbXxWuabQIkrqGMvGMuWlue0HkvWjMoWEShnDU8DCHRSvvmzgfKFtl+YKO8TU9JuM7haMTHF3u8ZFjx0YUFhqNh+JS4HnVdc/diRqYkd44Nn1zuUZZFoI6xmg99fJ3Pf3FCkiQUkwnWBcoXg+cDH70YngNPtHyCyNYaFHzPjhVgLnO5jEVIunE+XxJHDSmlnxJ8EiJwMc7iUx1zRc5DVdtnND4BLO1aQin9qPhkTCjTX1xYoKyqbfhkjOWP/ue9fPXffSQ+WREDhtbgrXlUfNqJ7PgQ+1axhawlstuNrnnwyMJaT0sxgyXgEVN/eWrRxIRik4RsEo6zU0qdc0zKEgH0ujl4z2hc4Hwg21xa6HLz+TXu6uU8sH83w2Ex87m019F+XrSymlAo8WfbE7tNlJapSxu/79oGC3BMwwEhFm7aqqTWahCxRyI2ANIQbkJ7/yHnGRTOe89wNGRzMOFFYom7FxcZDgY472IsO7ymKAo+satDliY8f2PEJ5e6lHWFVJa/+dhFXvJ8QzO3yHvPX911flv8vr0haCuaFNP7n8tcnsmytHtXzNGrpx6fRgUnjjzY4hPAeFyQJJrh6NmBT8YZlpZ2IZX8tPiklCLLMrIspSzKFp9MXfO7v39XXAfH571oX3tXf3nXeTyez3/Rle29Nt1mCrWjvd85Y0e319483lPXFild7FWIN+we7irPbpzb9jNBUIiyrnDWtmtclhXeOzqdPLLRP4hQGm8tvW7G81a3+FAnJdeKrcEkdMZH6ya890wsmeafU1LM5hoeXio7Jcz0014MP30L4vWGGLhtLbiGfHM20dqEJoK5FyyexiUSAhAS4T3eT6/jE0td0kRw58aY+/YG991ag4/XJn1oOpxMJnxqucfz18fcf8USZVlitOLu+4fUtcHaOjQnKjVV3PZWmjtp6Gfm4cS5PDvk6cIn5+H08WN4Ieh1M7RWbGwOybPkWYVPRVHi7DqLS4torR4Tn7TWZHlOkqYtPiVJ0uLTBz++2h6sInrFf3XXhfZOWs9zh7JzAmA8IFv6/2Z1ZxWgSdjhREvbEjznZkOmp7uAlroFAp+XsQ6lJGmaoSQcOxzKVJ0LRJ63rmzy4YUOt65u8bHFLtb6Vh+i8TJjcAT3W7XK8TDFiMrUKIMX0++FwK8PmxTdfTcbemBqTTW/Bc1U2e0HQ1iTxtWfcZGjcoVrFrGZsOKDqeLO8+skScpdnQ61qcnSLDD0x2oi5xyfWMp53tkVkiTl/r1LlFWJTgzWpuE1TeVRc+3Nw8S06md+hM3l2SJPBz4Z6zjxwIMtPiVasrk1ItGKreHkWYlP62vrLC4usnvvHgabW58Wn4oiHGbdbi/m5Z48fNr5IeY8timCFE3iMQ5im4mrNkojXejA3lbRw7RMtV1AHyaHWmtRSpFoCd5hraCqDaZ2JKnm1pUNPrLY5fa1LT6xewFb2Zj8Y0ZRtiuxmLFgtt1L2K5WqxpetHCtcYxA3IzmOrdJdPX99J80CmBtM5ZBtNcVl6ZdphiyDtsVvydlWC9rLR/KJL1+zou3Cu7ds0hd19x0fiu+a2CnPrxviYcOZNEygzsGJfddsURVVe3stEa5m5CCj0rThBd3GnOey1wud3k68OnE4ftafEq0ZGtrTJ4nFJXBOp61+LSxsUGv32dhaRFT19R1jUeRKt3ik/c2TH42oXeu1+1hnX1S8OkSPLEZcVOaFDdjYgQLJvy7JY4nXIy3QRnqZn4NYQNdZHrWSqKVCAriPKceeiiOVFE8f33AJ3YvkCnJp3YvUlWm3ZhQqTN1w2etnSb+HL5udia4saEOKPB9GWvb8IGf2U3f2mqtzdZKMKSm3e+BO2za+Nh8v/3sxsJoLL6YQJ6+nwjjy+Msu9FwyIc7KXeubPHAlcs8cOUyRVHgfUjsSut4zoXNNlbupOQ5F7cAz/1X7AoNiHUdFCb2oE3j48FyVXKeE5vLs0OeanxCSIxx6ESRpZqirMiyhKq2VLX93wKf6rpicSFw5Y5GI4piMsWnSO8l45s475FSkeedeAA/cfi0c8aO2rQL0PZSNFbETG6lsRTaBRLRgojTS5vehsY7llKQ6iQMUrOOk0ePRBcZnre6SZ6n3LO7z/MurHN43zJl1TTeNRVDDiFU667PbmLrjsdr8Da8ftblDpfvpqbIbAy5URAxjQ9DGPUzDUOAEB7nZx+UGcdfyikljQ9ue6gWamLwEtGUtgJNka0H6qrmQ5mkbwx3Tizjcc3HFrLQi2Etn1zuzsS9G6vPo51tx6ffeGaVTy33Qjm+e2S4Yi5zeTbIU4VPXghOHjmCc6ATRZ4l1HWNViFU978bPm1sbNDv91lcXETrJLI32dbjm+KTmeKT1i0+Oesi+8dnj0+XxNghYrzY+qa6RrYWy6w0zXQ+bkSTjNRaBzcyxm+VIDBKCyhqw7njx0BIHGFydCdPuWfvIs85t8YD+3czHlfTW4tWSyAjnlo3NJ/ppqEDmM7dCcUMfsZ+mQkkB31ovmwTjM0Gt/fjGuPOx4dGtr847TKPGz9zYc1B08wCCjrpp2WuEBKqNI2AYI1hsLXFR3td7vDwOUXNXd2EKk5qDQ+bn96H99RVTV0blFIcObCHnlIYYyjLchpOeKTxNpe5PGPlqcAnrTUQvLiATwm1sW2IcDSp/7fFp7rTjSwfSWCq3yE+pWlKr9d7XPi040NMqVju2FoXkUxym0s6XY4mbjsTEMY7R1nXOGvp5FmgJfGh4/3MsaMorbFxATt5yn35EjeeusiDV+9lNC5Cc2Fzh2K6ieHz3TaLAj/t7WjjzkJsW5smoRoCsKJVPkEgqpRCtMSXjUJsd/8bt75hkaa1qprvhxj7zIPk4/9mLbGZ+HRjZTVXKkXggJtMxny01+FFI/hbleeuTieEF2c1vFnnuE9Nia1Wits2Riil+OSuHlVVxtDCTnd/LnO5vOXJxiepFEIqjj9wGAj4ZGNeSivJcI5PeO/pL/RZXt7NYGvrkvApzVIWFvqUZXXJ+LTzZudmkaVASd2GsIKbObUWPOHiTGVih/hMs55zpEohEhVd3mB1nD1xFJ0mmDqcwnmecsuFDT6+q4fWiklZx5EC0xhpk9Q0pm4TtLOb2FyXbzaluY12SUXroXshWoUPsdw4RA4Rhr497D2bd9iWNGbWARaze7bt85s1Er65vqAwbbVUrCBq3PDpwnqKYsKHMs3S0i4+Z2WLD3c6TIoJnlB51DZNNlcbP7uqKz7aS8mzjNs3g7J9crlLVVU73Py5zOUylycRn5RWnDp2dBs+CSFCHizRc3yK618UE4ypWVpaYteuXWxubu4Yn6q6Js8y8m4e+syqcsf4tPNw4mxTnRXx9JYzCxFObRPpkHwkvpLtenmElORpgnWGqqy4cOJYcJ+loqpqrDF0OinPvbjOYFxwS1Hy8b1LlHE22KzlZG2Y2Ny40MS/W2e5VUIxs3lM/XpJO/7Aex+muc5YJN4HDjFrg28uhEB4j/Bym2IIKWfix41m+FYJH66gQoCYIQXz3ocmxVj2uz3sMPWqmzEQdV2zvr7OB9MEW9fhRkUMR4iguI0V0yh3c4/hMEtIs4zQPbOz8d9zmcvlLk8GPqVa4zwYC2U5xSelBIPhhERLJpOSMjJyzPFpik9aJWGyySXikxkEnkUp9Y7xaceHWGut+DjB03ukiG6x8+H7zmFnEpNSyNZV9i5MOfXO4p3j6L33kKQpOs0oiwLhIVGSfq/Dx5xHLvVQSlCMy7a0s1nAMLNHgKO1CKaR3qlCiMbi8LTlmg35Z7BSmvHjAmJsXEQro3F1m4qe5v0e4eL6GMP2211yj4/XOBMqaGLDzFpiUZV9GCC3fa09gcC6scpk2HznqVywUpRW06qemfufXRfvfWslOu/DegvRxuPnMpdnujzR+FTHnM65kycfgU+bgzEqzuUqqnqOT08zPl0CdyLxQ4JL3fBbEV3K5kIEEmNN5A2LihNHCKAkeMGJBx8gyTKU0piY4JNKsNjvcuWRU6wsL3L7+oC7l/rUxrVh2rZ/QIhoQIRFEDOX2C56/EYYSidpYspCgJCqje02Yp1tY9RB8V1raYT3Dfc+pYuhrWQKltB2S4v2Gmetp5n7iC9s5gc1L2jeP+rItvsj3t/s66blsrTJaud8mwBulVI0bNdTS26HIee5zOXylycQn5z3JFn6qPi0NRxTG0ueJgzH1RyfePrxaceHmDUWmCYqrY/loLEno6Ewmp1TIwgnq7MWJSHpZBw7fBipVDyhidNEDXmScOWDp7l7qcftK5t8bLlPVdVT64G4wI3V8LCFazYrjCKQLTWLEAKpwlhw2YQXZn7XWRc7zS0Pl8ZiaP7RfqoQNCO54wW014Gcse7aawsvaWLsIhJ4hlva3lwJweohWjXbmyH9NM7dXEpUI6VizDkSfTbK1yqRAMkM1dRsXGAuc3mGyxOFT8Y6pFScPX70Efi0NZwwnpTkacpoUsR+sDk+Pd34tONDLJRMTk/0pkS0WczGSmg6yV1D2SLAO4sSCmdDz4R1grqucD40tOWZ5toT5/noYo/b1wYY5wLzs59W77R7JaZjEZg5xUVTidSsoZgqtACk1DQWmY1ltE1fQvt+8WuJADl1ZxvrZ9aqayyH1vIShFjyw/z5xk1uXeNGwWc2v6n0ETOKIaKZI2TgQJxWUzWhBxEtraBoTQw+XHqcqopAEuLNwjehiuDaCymZeQTmMpdntDxR+CSV5viDR6jrehs+VWXNcFKSZ0mYbDzHp8sGny6hTwyECIphrQ2NgTNK0nxcWxUkBJ5Q/imF4NSRB1BJAghMHCSH96SdlOtPr3DXQodMS+6/YolJWc+QdU6voV3UuFmNRTNN4Ir2Z82iN5vhXI1HROX1U9c8blq7Ac28HkerdL6JFftGT3zc2sbimDZZ+hhbaB6cRlGDhRI2pvltRwhjiPi5QjbOdBiqN2sBOe9CB3u0uLz3eKGQUgalj5Q7AloFaB+wGNrATy2lkPB9pHU3l7k8E+Xx4hNA7TynHrj3EfhkjGM0npClmsBiX89g0fQa5vj09ODTJVQn+njiOpydJuqaBYorHG4KH8dh2+DSI7EOvHVY28SnBd1uxi3n1/jYYhctVSyr728bGT4rIm5ISHaG78nWPZ6+rhnBEOKvth3NjYid6K2b3bj/UTl8o1yijQ03Lnqj/I1eNKPFp570tCS2WRc1GxduQggz9xNmz/qoHE2oIfyOFCLMQhLB4vJ++hDMWj0IgalNJCsND4Zzgeet2ZdtFUGRG07rnY05mMtcngny+PHJ420YYDmLTwIYTSZopRBCbDOwHy5zfHp68Gnnh9hMXLbZrFYaF5Sw6MYYrDGA58QDh1FKoXWCM1NKl9vWBhy7JufuxR7PW9nk6FV7+MSu/gwBZ7QHxOwf4iIENunpx0+rcsKcnFAp5OJizrrjzXVvDwU07rKgJVZp9GjGumo2Lyyybt/DeResC9dYV+FzpJxaPlKqWEoae1OkaB+2Zj2bR6xpZGzuI8+yNn6tlIyWnW+vwTa9Is3XzpOmQcFCiCR8rpQqUuSoEJaYEwDP5Vkiny0+OedASU48+GB4XXxtmgRPYzwu0EqhlaQo6zk+XYb4tHPuRBuJMeOitsZCmxAM3zCmxtTB3T555AG0CjxZnqbaRPD8jSEPHdhNMZ6gZCDQLKs6VgnFzZBy5nOm8eNpDJdWUXzjvjZuuHVTd7yNQ4tptQ6NBztVGIRASvBOxJ6T6T0KIVANqaWS7TWImevCe5zw6KSJbU+vr1H8MO10mlSWIrjszbUrJdv3lEpiY3NlE5sXsiEubZRlaoWpqLjWWqyxSClJ0zDDJ9ytbq9H6xAWCcnwuczlmS+fDT55QCvFuePHtuFTliUoKRi3+JQwnhRzfLpM8WnntFNy1rIIMehptUr4X11VGBsSnicfPEwSSR7b5CKC29a2OHbNPorYC/CCrSGf2L2IreqwATF+3Ljks5UvjbIkiQ5KEPsk2gRo0NjYRNckO8E7j1AzCgGtwraf4QOFip2JLTfxWxGvR2kVGhCVnHl/EccHNJ/lUHrqKodk6DTE0fCSNR0ZjSUm4i2KqISe0GPhbQx9EEajK6ZTW72fWiuz3fDNQxZITW3of4mhB61VO1bCyfkhNpdnh1wqPnnvSHTCuRPH4+8EfEoTRaI144hPnU5KUQYDe45Plyc+7bzZeSapFxbVMU2XBlLHZija8Qfup9vJkbHPIsSTJVqpOK6gBg8v3Bpxz95F6tqRJEn73o27PuNdx5JM4mnvY/jAT11y79sEbvg67HJbShqti9mYb5MMbf5lZ2LdjYKkSdLGl9vEpYCmqbKJIyutQrPgDBOzNRapPNaGUl9cSCbHZwrrXBxbIFqFlrEUVWuF8wKpQ7mrc2G6qlZqJmbuAInWmsmkYDIpwqZqhYqs2iG23Dw8DoWOlpfdRpMzl7k8k+VS8Mk6S7fT4cyxoxjzSHwqy4BP3U5KXdfUdo5PlzM+XQJ34nS0QLPAIrqOZVVNqfe9J88ypFQURUmiNUJKlBR0soR7lvuY2rDY7yCHY2rj0SqmEOPitiWi0WBpegxCPDlYDY8cCDeblJxSuTScX87GRWk1faokbdzZT8kwtdKhVDTGucMo8nDPDSMAIryHjPHj5vXOBmtHziQvA2VLtKaidaO0moYhVFCUNqTgm7h1iBf7eM+19yRJEi3PaeVTnqcYY0MoRGnKsiSJcf26Nq1F56Or79z8EJvLs0guAZ9WTp1E6zAD7OH4VFc1xgR88njqco5PcHnj045RrGkSbFxBrVTr+hlr8ICxljNHj4D3TIqyrX4RQDfPeM7FDax1LHRznndxnY/vWgiL2tCS+Glsdlrh47c1KJq6jq7qtAS1jR3P/NdYObRVMdMkoRSyVR4xc40i/k/KYD20cWEfp5DawLvWPBDNIk/5ywgJS9m4z0HLW5faRrc9WkOSYD019DdChtJSISVSK2SkQVNKoRONjglV76cKOXstzlqyLG2H0gU+M+JI9TQoqHVxBEJCr9vZ6fbPZS6XtewUn4JX8ej4JKVo8UlLwaQwc3x6BuCT8FNTYS5zmctc5jKXZ5TM40lzmctc5jKXZ6zMD7G5zGUuc5nLM1bmh9hc5jKXuczlGSvzQ2wuc5nLXObyjJX5ITaXucxlLnN5xsr8EJvLXOYyl7k8Y2V+iM1lLnOZy1yesTI/xOYyl7nMZS7PWJkfYnOZy1zmMpdnrPz/ty9cSbD2iiQAAAAASUVORK5CYII=",
      "text/plain": [
       "<Figure size 700x800 with 12 Axes>"
      ]
     },
     "metadata": {},
     "output_type": "display_data"
    }
   ],
   "source": [
    "learn.show_results(max_n=6, figsize=(7,8))"
   ]
  },
  {
   "cell_type": "code",
   "execution_count": 17,
   "metadata": {},
   "outputs": [
    {
     "data": {
      "text/html": [
       "\n",
       "<style>\n",
       "    /* Turns off some styling */\n",
       "    progress {\n",
       "        /* gets rid of default border in Firefox and Opera. */\n",
       "        border: none;\n",
       "        /* Needs to be in here for Safari polyfill so background images work as expected. */\n",
       "        background-size: auto;\n",
       "    }\n",
       "    progress:not([value]), progress:not([value])::-webkit-progress-bar {\n",
       "        background: repeating-linear-gradient(45deg, #7e7e7e, #7e7e7e 10px, #5c5c5c 10px, #5c5c5c 20px);\n",
       "    }\n",
       "    .progress-bar-interrupted, .progress-bar-interrupted::-webkit-progress-bar {\n",
       "        background: #F44336;\n",
       "    }\n",
       "</style>\n"
      ],
      "text/plain": [
       "<IPython.core.display.HTML object>"
      ]
     },
     "metadata": {},
     "output_type": "display_data"
    },
    {
     "data": {
      "text/html": [
       "\n",
       "    <div>\n",
       "      <progress value='144441344' class='' max='144440600' style='width:300px; height:20px; vertical-align: middle;'></progress>\n",
       "      100.00% [144441344/144440600 01:29&lt;00:00]\n",
       "    </div>\n",
       "    "
      ],
      "text/plain": [
       "<IPython.core.display.HTML object>"
      ]
     },
     "metadata": {},
     "output_type": "display_data"
    },
    {
     "data": {
      "text/html": [
       "\n",
       "<style>\n",
       "    /* Turns off some styling */\n",
       "    progress {\n",
       "        /* gets rid of default border in Firefox and Opera. */\n",
       "        border: none;\n",
       "        /* Needs to be in here for Safari polyfill so background images work as expected. */\n",
       "        background-size: auto;\n",
       "    }\n",
       "    progress:not([value]), progress:not([value])::-webkit-progress-bar {\n",
       "        background: repeating-linear-gradient(45deg, #7e7e7e, #7e7e7e 10px, #5c5c5c 10px, #5c5c5c 20px);\n",
       "    }\n",
       "    .progress-bar-interrupted, .progress-bar-interrupted::-webkit-progress-bar {\n",
       "        background: #F44336;\n",
       "    }\n",
       "</style>\n"
      ],
      "text/plain": [
       "<IPython.core.display.HTML object>"
      ]
     },
     "metadata": {},
     "output_type": "display_data"
    },
    {
     "data": {
      "text/html": [],
      "text/plain": [
       "<IPython.core.display.HTML object>"
      ]
     },
     "metadata": {},
     "output_type": "display_data"
    },
    {
     "data": {
      "text/html": [
       "\n",
       "<style>\n",
       "    /* Turns off some styling */\n",
       "    progress {\n",
       "        /* gets rid of default border in Firefox and Opera. */\n",
       "        border: none;\n",
       "        /* Needs to be in here for Safari polyfill so background images work as expected. */\n",
       "        background-size: auto;\n",
       "    }\n",
       "    progress:not([value]), progress:not([value])::-webkit-progress-bar {\n",
       "        background: repeating-linear-gradient(45deg, #7e7e7e, #7e7e7e 10px, #5c5c5c 10px, #5c5c5c 20px);\n",
       "    }\n",
       "    .progress-bar-interrupted, .progress-bar-interrupted::-webkit-progress-bar {\n",
       "        background: #F44336;\n",
       "    }\n",
       "</style>\n"
      ],
      "text/plain": [
       "<IPython.core.display.HTML object>"
      ]
     },
     "metadata": {},
     "output_type": "display_data"
    },
    {
     "data": {
      "text/html": [
       "\n",
       "    <div>\n",
       "      <progress value='105070592' class='' max='105067061' style='width:300px; height:20px; vertical-align: middle;'></progress>\n",
       "      100.00% [105070592/105067061 00:52&lt;00:00]\n",
       "    </div>\n",
       "    "
      ],
      "text/plain": [
       "<IPython.core.display.HTML object>"
      ]
     },
     "metadata": {},
     "output_type": "display_data"
    },
    {
     "data": {
      "text/html": [
       "\n",
       "<style>\n",
       "    /* Turns off some styling */\n",
       "    progress {\n",
       "        /* gets rid of default border in Firefox and Opera. */\n",
       "        border: none;\n",
       "        /* Needs to be in here for Safari polyfill so background images work as expected. */\n",
       "        background-size: auto;\n",
       "    }\n",
       "    progress:not([value]), progress:not([value])::-webkit-progress-bar {\n",
       "        background: repeating-linear-gradient(45deg, #7e7e7e, #7e7e7e 10px, #5c5c5c 10px, #5c5c5c 20px);\n",
       "    }\n",
       "    .progress-bar-interrupted, .progress-bar-interrupted::-webkit-progress-bar {\n",
       "        background: #F44336;\n",
       "    }\n",
       "</style>\n"
      ],
      "text/plain": [
       "<IPython.core.display.HTML object>"
      ]
     },
     "metadata": {},
     "output_type": "display_data"
    },
    {
     "data": {
      "text/html": [
       "<table border=\"1\" class=\"dataframe\">\n",
       "  <thead>\n",
       "    <tr style=\"text-align: left;\">\n",
       "      <th>epoch</th>\n",
       "      <th>train_loss</th>\n",
       "      <th>valid_loss</th>\n",
       "      <th>accuracy</th>\n",
       "      <th>time</th>\n",
       "    </tr>\n",
       "  </thead>\n",
       "  <tbody>\n",
       "    <tr>\n",
       "      <td>0</td>\n",
       "      <td>0.470164</td>\n",
       "      <td>0.390856</td>\n",
       "      <td>0.825760</td>\n",
       "      <td>00:42</td>\n",
       "    </tr>\n",
       "  </tbody>\n",
       "</table>"
      ],
      "text/plain": [
       "<IPython.core.display.HTML object>"
      ]
     },
     "metadata": {},
     "output_type": "display_data"
    },
    {
     "data": {
      "text/html": [
       "\n",
       "<style>\n",
       "    /* Turns off some styling */\n",
       "    progress {\n",
       "        /* gets rid of default border in Firefox and Opera. */\n",
       "        border: none;\n",
       "        /* Needs to be in here for Safari polyfill so background images work as expected. */\n",
       "        background-size: auto;\n",
       "    }\n",
       "    progress:not([value]), progress:not([value])::-webkit-progress-bar {\n",
       "        background: repeating-linear-gradient(45deg, #7e7e7e, #7e7e7e 10px, #5c5c5c 10px, #5c5c5c 20px);\n",
       "    }\n",
       "    .progress-bar-interrupted, .progress-bar-interrupted::-webkit-progress-bar {\n",
       "        background: #F44336;\n",
       "    }\n",
       "</style>\n"
      ],
      "text/plain": [
       "<IPython.core.display.HTML object>"
      ]
     },
     "metadata": {},
     "output_type": "display_data"
    },
    {
     "data": {
      "text/html": [
       "<table border=\"1\" class=\"dataframe\">\n",
       "  <thead>\n",
       "    <tr style=\"text-align: left;\">\n",
       "      <th>epoch</th>\n",
       "      <th>train_loss</th>\n",
       "      <th>valid_loss</th>\n",
       "      <th>accuracy</th>\n",
       "      <th>time</th>\n",
       "    </tr>\n",
       "  </thead>\n",
       "  <tbody>\n",
       "    <tr>\n",
       "      <td>0</td>\n",
       "      <td>0.310871</td>\n",
       "      <td>0.285465</td>\n",
       "      <td>0.869400</td>\n",
       "      <td>01:19</td>\n",
       "    </tr>\n",
       "    <tr>\n",
       "      <td>1</td>\n",
       "      <td>0.255016</td>\n",
       "      <td>0.205912</td>\n",
       "      <td>0.918280</td>\n",
       "      <td>01:21</td>\n",
       "    </tr>\n",
       "    <tr>\n",
       "      <td>2</td>\n",
       "      <td>0.200374</td>\n",
       "      <td>0.195193</td>\n",
       "      <td>0.924720</td>\n",
       "      <td>01:19</td>\n",
       "    </tr>\n",
       "    <tr>\n",
       "      <td>3</td>\n",
       "      <td>0.157431</td>\n",
       "      <td>0.186843</td>\n",
       "      <td>0.930000</td>\n",
       "      <td>01:22</td>\n",
       "    </tr>\n",
       "  </tbody>\n",
       "</table>"
      ],
      "text/plain": [
       "<IPython.core.display.HTML object>"
      ]
     },
     "metadata": {},
     "output_type": "display_data"
    }
   ],
   "source": [
    "from fastai.text.all import *\n",
    "\n",
    "dls = TextDataLoaders.from_folder(untar_data(URLs.IMDB), valid='test')\n",
    "learn = text_classifier_learner(dls, AWD_LSTM, drop_mult=0.5, metrics=accuracy)\n",
    "learn.fine_tune(4, 1e-2)"
   ]
  },
  {
   "cell_type": "markdown",
   "metadata": {},
   "source": [
    "If you hit a \"CUDA out of memory error\" after running this cell, click on the menu Kernel, then restart. Instead of executing the cell above, copy and paste the following code in it:\n",
    "\n",
    "```\n",
    "from fastai.text.all import *\n",
    "\n",
    "dls = TextDataLoaders.from_folder(untar_data(URLs.IMDB), valid='test', bs=32)\n",
    "learn = text_classifier_learner(dls, AWD_LSTM, drop_mult=0.5, metrics=accuracy)\n",
    "learn.fine_tune(4, 1e-2)\n",
    "```\n",
    "\n",
    "This reduces the batch size to 32 (we will explain this later). If you keep hitting the same error, change 32 to 16."
   ]
  },
  {
   "cell_type": "code",
   "execution_count": 19,
   "metadata": {},
   "outputs": [
    {
     "data": {
      "text/html": [
       "\n",
       "<style>\n",
       "    /* Turns off some styling */\n",
       "    progress {\n",
       "        /* gets rid of default border in Firefox and Opera. */\n",
       "        border: none;\n",
       "        /* Needs to be in here for Safari polyfill so background images work as expected. */\n",
       "        background-size: auto;\n",
       "    }\n",
       "    progress:not([value]), progress:not([value])::-webkit-progress-bar {\n",
       "        background: repeating-linear-gradient(45deg, #7e7e7e, #7e7e7e 10px, #5c5c5c 10px, #5c5c5c 20px);\n",
       "    }\n",
       "    .progress-bar-interrupted, .progress-bar-interrupted::-webkit-progress-bar {\n",
       "        background: #F44336;\n",
       "    }\n",
       "</style>\n"
      ],
      "text/plain": [
       "<IPython.core.display.HTML object>"
      ]
     },
     "metadata": {},
     "output_type": "display_data"
    },
    {
     "data": {
      "text/html": [
       "\n",
       "    <div>\n",
       "      <progress value='0' class='' max='1' style='width:300px; height:20px; vertical-align: middle;'></progress>\n",
       "      0.00% [0/1 00:00&lt;?]\n",
       "    </div>\n",
       "    "
      ],
      "text/plain": [
       "<IPython.core.display.HTML object>"
      ]
     },
     "metadata": {},
     "output_type": "display_data"
    },
    {
     "data": {
      "text/plain": [
       "('neg', tensor(0), tensor([0.7809, 0.2191]))"
      ]
     },
     "execution_count": 19,
     "metadata": {},
     "output_type": "execute_result"
    }
   ],
   "source": [
    "learn.predict(\"weapons begins with a promise, made with unnerving nonchalance by its doubly unnerving narrator, an unidentified girl of elementary school age. “A lot of people die in a lot of really weird ways in this story,” she says, without so much as a spoiler alert. Not that anyone who saw director Zach Cregger's last film, Barbarian, should require one: a low-budget, high-impact horror with a witty, healthy sense of the grotesque, it gouged out eyes, split open skulls and generally renewed our collective fear of the basement stairs in any given house. Three years on, Weapons runs nearly half an hour longer than its predecessor and boasts nearly 10 times the budget. We steel ourselves, expecting a lot more gore for our money.\")"
   ]
  },
  {
   "cell_type": "markdown",
   "metadata": {},
   "source": [
    "### Sidebar: The Order Matters"
   ]
  },
  {
   "cell_type": "markdown",
   "metadata": {},
   "source": [
    "### End sidebar"
   ]
  },
  {
   "cell_type": "code",
   "execution_count": 20,
   "metadata": {},
   "outputs": [
    {
     "data": {
      "text/html": [
       "\n",
       "<style>\n",
       "    /* Turns off some styling */\n",
       "    progress {\n",
       "        /* gets rid of default border in Firefox and Opera. */\n",
       "        border: none;\n",
       "        /* Needs to be in here for Safari polyfill so background images work as expected. */\n",
       "        background-size: auto;\n",
       "    }\n",
       "    progress:not([value]), progress:not([value])::-webkit-progress-bar {\n",
       "        background: repeating-linear-gradient(45deg, #7e7e7e, #7e7e7e 10px, #5c5c5c 10px, #5c5c5c 20px);\n",
       "    }\n",
       "    .progress-bar-interrupted, .progress-bar-interrupted::-webkit-progress-bar {\n",
       "        background: #F44336;\n",
       "    }\n",
       "</style>\n"
      ],
      "text/plain": [
       "<IPython.core.display.HTML object>"
      ]
     },
     "metadata": {},
     "output_type": "display_data"
    },
    {
     "data": {
      "text/html": [
       "\n",
       "    <div>\n",
       "      <progress value='974848' class='' max='968212' style='width:300px; height:20px; vertical-align: middle;'></progress>\n",
       "      100.69% [974848/968212 00:03&lt;00:00]\n",
       "    </div>\n",
       "    "
      ],
      "text/plain": [
       "<IPython.core.display.HTML object>"
      ]
     },
     "metadata": {},
     "output_type": "display_data"
    },
    {
     "name": "stderr",
     "output_type": "stream",
     "text": [
      "/home/oberon/.local/lib/python3.12/site-packages/fastai/tabular/core.py:314: FutureWarning: A value is trying to be set on a copy of a DataFrame or Series through chained assignment using an inplace method.\n",
      "The behavior will change in pandas 3.0. This inplace method will never work because the intermediate object on which we are setting values always behaves as a copy.\n",
      "\n",
      "For example, when doing 'df[col].method(value, inplace=True)', try using 'df.method({col: value}, inplace=True)' or df[col] = df[col].method(value) instead, to perform the operation inplace on the original object.\n",
      "\n",
      "\n",
      "  to[n].fillna(self.na_dict[n], inplace=True)\n"
     ]
    }
   ],
   "source": [
    "from fastai.tabular.all import *\n",
    "path = untar_data(URLs.ADULT_SAMPLE)\n",
    "\n",
    "dls = TabularDataLoaders.from_csv(path/'adult.csv', path=path, y_names=\"salary\",\n",
    "    cat_names = ['workclass', 'education', 'marital-status', 'occupation',\n",
    "                 'relationship', 'race'],\n",
    "    cont_names = ['age', 'fnlwgt', 'education-num'],\n",
    "    procs = [Categorify, FillMissing, Normalize])\n",
    "\n",
    "learn = tabular_learner(dls, metrics=accuracy)"
   ]
  },
  {
   "cell_type": "code",
   "execution_count": 21,
   "metadata": {},
   "outputs": [
    {
     "data": {
      "text/html": [
       "\n",
       "<style>\n",
       "    /* Turns off some styling */\n",
       "    progress {\n",
       "        /* gets rid of default border in Firefox and Opera. */\n",
       "        border: none;\n",
       "        /* Needs to be in here for Safari polyfill so background images work as expected. */\n",
       "        background-size: auto;\n",
       "    }\n",
       "    progress:not([value]), progress:not([value])::-webkit-progress-bar {\n",
       "        background: repeating-linear-gradient(45deg, #7e7e7e, #7e7e7e 10px, #5c5c5c 10px, #5c5c5c 20px);\n",
       "    }\n",
       "    .progress-bar-interrupted, .progress-bar-interrupted::-webkit-progress-bar {\n",
       "        background: #F44336;\n",
       "    }\n",
       "</style>\n"
      ],
      "text/plain": [
       "<IPython.core.display.HTML object>"
      ]
     },
     "metadata": {},
     "output_type": "display_data"
    },
    {
     "data": {
      "text/html": [
       "<table border=\"1\" class=\"dataframe\">\n",
       "  <thead>\n",
       "    <tr style=\"text-align: left;\">\n",
       "      <th>epoch</th>\n",
       "      <th>train_loss</th>\n",
       "      <th>valid_loss</th>\n",
       "      <th>accuracy</th>\n",
       "      <th>time</th>\n",
       "    </tr>\n",
       "  </thead>\n",
       "  <tbody>\n",
       "    <tr>\n",
       "      <td>0</td>\n",
       "      <td>0.379299</td>\n",
       "      <td>0.376184</td>\n",
       "      <td>0.824785</td>\n",
       "      <td>00:02</td>\n",
       "    </tr>\n",
       "    <tr>\n",
       "      <td>1</td>\n",
       "      <td>0.364460</td>\n",
       "      <td>0.363455</td>\n",
       "      <td>0.830620</td>\n",
       "      <td>00:01</td>\n",
       "    </tr>\n",
       "    <tr>\n",
       "      <td>2</td>\n",
       "      <td>0.346007</td>\n",
       "      <td>0.359426</td>\n",
       "      <td>0.831235</td>\n",
       "      <td>00:01</td>\n",
       "    </tr>\n",
       "  </tbody>\n",
       "</table>"
      ],
      "text/plain": [
       "<IPython.core.display.HTML object>"
      ]
     },
     "metadata": {},
     "output_type": "display_data"
    }
   ],
   "source": [
    "learn.fit_one_cycle(3)"
   ]
  },
  {
   "cell_type": "code",
   "execution_count": 22,
   "metadata": {},
   "outputs": [
    {
     "data": {
      "text/html": [
       "\n",
       "<style>\n",
       "    /* Turns off some styling */\n",
       "    progress {\n",
       "        /* gets rid of default border in Firefox and Opera. */\n",
       "        border: none;\n",
       "        /* Needs to be in here for Safari polyfill so background images work as expected. */\n",
       "        background-size: auto;\n",
       "    }\n",
       "    progress:not([value]), progress:not([value])::-webkit-progress-bar {\n",
       "        background: repeating-linear-gradient(45deg, #7e7e7e, #7e7e7e 10px, #5c5c5c 10px, #5c5c5c 20px);\n",
       "    }\n",
       "    .progress-bar-interrupted, .progress-bar-interrupted::-webkit-progress-bar {\n",
       "        background: #F44336;\n",
       "    }\n",
       "</style>\n"
      ],
      "text/plain": [
       "<IPython.core.display.HTML object>"
      ]
     },
     "metadata": {},
     "output_type": "display_data"
    },
    {
     "data": {
      "text/html": [
       "\n",
       "    <div>\n",
       "      <progress value='57344' class='' max='51790' style='width:300px; height:20px; vertical-align: middle;'></progress>\n",
       "      110.72% [57344/51790 00:00&lt;00:00]\n",
       "    </div>\n",
       "    "
      ],
      "text/plain": [
       "<IPython.core.display.HTML object>"
      ]
     },
     "metadata": {},
     "output_type": "display_data"
    },
    {
     "data": {
      "text/html": [
       "\n",
       "<style>\n",
       "    /* Turns off some styling */\n",
       "    progress {\n",
       "        /* gets rid of default border in Firefox and Opera. */\n",
       "        border: none;\n",
       "        /* Needs to be in here for Safari polyfill so background images work as expected. */\n",
       "        background-size: auto;\n",
       "    }\n",
       "    progress:not([value]), progress:not([value])::-webkit-progress-bar {\n",
       "        background: repeating-linear-gradient(45deg, #7e7e7e, #7e7e7e 10px, #5c5c5c 10px, #5c5c5c 20px);\n",
       "    }\n",
       "    .progress-bar-interrupted, .progress-bar-interrupted::-webkit-progress-bar {\n",
       "        background: #F44336;\n",
       "    }\n",
       "</style>\n"
      ],
      "text/plain": [
       "<IPython.core.display.HTML object>"
      ]
     },
     "metadata": {},
     "output_type": "display_data"
    },
    {
     "data": {
      "text/html": [
       "<table border=\"1\" class=\"dataframe\">\n",
       "  <thead>\n",
       "    <tr style=\"text-align: left;\">\n",
       "      <th>epoch</th>\n",
       "      <th>train_loss</th>\n",
       "      <th>valid_loss</th>\n",
       "      <th>time</th>\n",
       "    </tr>\n",
       "  </thead>\n",
       "  <tbody>\n",
       "    <tr>\n",
       "      <td>0</td>\n",
       "      <td>1.517401</td>\n",
       "      <td>1.424302</td>\n",
       "      <td>00:00</td>\n",
       "    </tr>\n",
       "  </tbody>\n",
       "</table>"
      ],
      "text/plain": [
       "<IPython.core.display.HTML object>"
      ]
     },
     "metadata": {},
     "output_type": "display_data"
    },
    {
     "data": {
      "text/html": [
       "\n",
       "<style>\n",
       "    /* Turns off some styling */\n",
       "    progress {\n",
       "        /* gets rid of default border in Firefox and Opera. */\n",
       "        border: none;\n",
       "        /* Needs to be in here for Safari polyfill so background images work as expected. */\n",
       "        background-size: auto;\n",
       "    }\n",
       "    progress:not([value]), progress:not([value])::-webkit-progress-bar {\n",
       "        background: repeating-linear-gradient(45deg, #7e7e7e, #7e7e7e 10px, #5c5c5c 10px, #5c5c5c 20px);\n",
       "    }\n",
       "    .progress-bar-interrupted, .progress-bar-interrupted::-webkit-progress-bar {\n",
       "        background: #F44336;\n",
       "    }\n",
       "</style>\n"
      ],
      "text/plain": [
       "<IPython.core.display.HTML object>"
      ]
     },
     "metadata": {},
     "output_type": "display_data"
    },
    {
     "data": {
      "text/html": [
       "<table border=\"1\" class=\"dataframe\">\n",
       "  <thead>\n",
       "    <tr style=\"text-align: left;\">\n",
       "      <th>epoch</th>\n",
       "      <th>train_loss</th>\n",
       "      <th>valid_loss</th>\n",
       "      <th>time</th>\n",
       "    </tr>\n",
       "  </thead>\n",
       "  <tbody>\n",
       "    <tr>\n",
       "      <td>0</td>\n",
       "      <td>1.394903</td>\n",
       "      <td>1.369218</td>\n",
       "      <td>00:00</td>\n",
       "    </tr>\n",
       "    <tr>\n",
       "      <td>1</td>\n",
       "      <td>1.284033</td>\n",
       "      <td>1.205636</td>\n",
       "      <td>00:00</td>\n",
       "    </tr>\n",
       "    <tr>\n",
       "      <td>2</td>\n",
       "      <td>1.027465</td>\n",
       "      <td>0.915598</td>\n",
       "      <td>00:00</td>\n",
       "    </tr>\n",
       "    <tr>\n",
       "      <td>3</td>\n",
       "      <td>0.798469</td>\n",
       "      <td>0.757462</td>\n",
       "      <td>00:00</td>\n",
       "    </tr>\n",
       "    <tr>\n",
       "      <td>4</td>\n",
       "      <td>0.680677</td>\n",
       "      <td>0.712902</td>\n",
       "      <td>00:00</td>\n",
       "    </tr>\n",
       "    <tr>\n",
       "      <td>5</td>\n",
       "      <td>0.625451</td>\n",
       "      <td>0.698440</td>\n",
       "      <td>00:00</td>\n",
       "    </tr>\n",
       "    <tr>\n",
       "      <td>6</td>\n",
       "      <td>0.600946</td>\n",
       "      <td>0.693244</td>\n",
       "      <td>00:00</td>\n",
       "    </tr>\n",
       "    <tr>\n",
       "      <td>7</td>\n",
       "      <td>0.595715</td>\n",
       "      <td>0.688870</td>\n",
       "      <td>00:00</td>\n",
       "    </tr>\n",
       "    <tr>\n",
       "      <td>8</td>\n",
       "      <td>0.592185</td>\n",
       "      <td>0.687578</td>\n",
       "      <td>00:00</td>\n",
       "    </tr>\n",
       "    <tr>\n",
       "      <td>9</td>\n",
       "      <td>0.598546</td>\n",
       "      <td>0.687323</td>\n",
       "      <td>00:00</td>\n",
       "    </tr>\n",
       "  </tbody>\n",
       "</table>"
      ],
      "text/plain": [
       "<IPython.core.display.HTML object>"
      ]
     },
     "metadata": {},
     "output_type": "display_data"
    }
   ],
   "source": [
    "from fastai.collab import *\n",
    "path = untar_data(URLs.ML_SAMPLE)\n",
    "dls = CollabDataLoaders.from_csv(path/'ratings.csv')\n",
    "learn = collab_learner(dls, y_range=(0.5,5.5))\n",
    "learn.fine_tune(10)"
   ]
  },
  {
   "cell_type": "code",
   "execution_count": 23,
   "metadata": {},
   "outputs": [
    {
     "data": {
      "text/html": [
       "\n",
       "<style>\n",
       "    /* Turns off some styling */\n",
       "    progress {\n",
       "        /* gets rid of default border in Firefox and Opera. */\n",
       "        border: none;\n",
       "        /* Needs to be in here for Safari polyfill so background images work as expected. */\n",
       "        background-size: auto;\n",
       "    }\n",
       "    progress:not([value]), progress:not([value])::-webkit-progress-bar {\n",
       "        background: repeating-linear-gradient(45deg, #7e7e7e, #7e7e7e 10px, #5c5c5c 10px, #5c5c5c 20px);\n",
       "    }\n",
       "    .progress-bar-interrupted, .progress-bar-interrupted::-webkit-progress-bar {\n",
       "        background: #F44336;\n",
       "    }\n",
       "</style>\n"
      ],
      "text/plain": [
       "<IPython.core.display.HTML object>"
      ]
     },
     "metadata": {},
     "output_type": "display_data"
    },
    {
     "data": {
      "text/html": [],
      "text/plain": [
       "<IPython.core.display.HTML object>"
      ]
     },
     "metadata": {},
     "output_type": "display_data"
    },
    {
     "data": {
      "text/html": [
       "<table border=\"1\" class=\"dataframe\">\n",
       "  <thead>\n",
       "    <tr style=\"text-align: right;\">\n",
       "      <th></th>\n",
       "      <th>userId</th>\n",
       "      <th>movieId</th>\n",
       "      <th>rating</th>\n",
       "      <th>rating_pred</th>\n",
       "    </tr>\n",
       "  </thead>\n",
       "  <tbody>\n",
       "    <tr>\n",
       "      <th>0</th>\n",
       "      <td>94.0</td>\n",
       "      <td>72.0</td>\n",
       "      <td>3.5</td>\n",
       "      <td>3.328001</td>\n",
       "    </tr>\n",
       "    <tr>\n",
       "      <th>1</th>\n",
       "      <td>6.0</td>\n",
       "      <td>92.0</td>\n",
       "      <td>5.0</td>\n",
       "      <td>4.221288</td>\n",
       "    </tr>\n",
       "    <tr>\n",
       "      <th>2</th>\n",
       "      <td>55.0</td>\n",
       "      <td>26.0</td>\n",
       "      <td>5.0</td>\n",
       "      <td>3.797324</td>\n",
       "    </tr>\n",
       "    <tr>\n",
       "      <th>3</th>\n",
       "      <td>80.0</td>\n",
       "      <td>62.0</td>\n",
       "      <td>3.5</td>\n",
       "      <td>3.773199</td>\n",
       "    </tr>\n",
       "    <tr>\n",
       "      <th>4</th>\n",
       "      <td>4.0</td>\n",
       "      <td>48.0</td>\n",
       "      <td>3.5</td>\n",
       "      <td>4.054140</td>\n",
       "    </tr>\n",
       "    <tr>\n",
       "      <th>5</th>\n",
       "      <td>1.0</td>\n",
       "      <td>57.0</td>\n",
       "      <td>4.0</td>\n",
       "      <td>3.648080</td>\n",
       "    </tr>\n",
       "    <tr>\n",
       "      <th>6</th>\n",
       "      <td>84.0</td>\n",
       "      <td>20.0</td>\n",
       "      <td>2.0</td>\n",
       "      <td>3.672481</td>\n",
       "    </tr>\n",
       "    <tr>\n",
       "      <th>7</th>\n",
       "      <td>17.0</td>\n",
       "      <td>69.0</td>\n",
       "      <td>2.0</td>\n",
       "      <td>4.504852</td>\n",
       "    </tr>\n",
       "    <tr>\n",
       "      <th>8</th>\n",
       "      <td>32.0</td>\n",
       "      <td>47.0</td>\n",
       "      <td>5.0</td>\n",
       "      <td>5.008985</td>\n",
       "    </tr>\n",
       "  </tbody>\n",
       "</table>"
      ],
      "text/plain": [
       "<IPython.core.display.HTML object>"
      ]
     },
     "metadata": {},
     "output_type": "display_data"
    }
   ],
   "source": [
    "learn.show_results()"
   ]
  },
  {
   "cell_type": "markdown",
   "metadata": {},
   "source": [
    "### Sidebar: Datasets: Food for Models"
   ]
  },
  {
   "cell_type": "markdown",
   "metadata": {},
   "source": [
    "### End sidebar"
   ]
  },
  {
   "cell_type": "markdown",
   "metadata": {},
   "source": [
    "## Validation Sets and Test Sets"
   ]
  },
  {
   "cell_type": "markdown",
   "metadata": {},
   "source": [
    "### Use Judgment in Defining Test Sets"
   ]
  },
  {
   "cell_type": "markdown",
   "metadata": {},
   "source": [
    "## A _Choose Your Own Adventure_ moment"
   ]
  },
  {
   "cell_type": "markdown",
   "metadata": {},
   "source": [
    "## Questionnaire"
   ]
  },
  {
   "cell_type": "markdown",
   "metadata": {},
   "source": [
    "It can be hard to know in pages and pages of prose what the key things are that you really need to focus on and remember. So, we've prepared a list of questions and suggested steps to complete at the end of each chapter. All the answers are in the text of the chapter, so if you're not sure about anything here, reread that part of the text and make sure you understand it. Answers to all these questions are also available on the [book's website](https://book.fast.ai). You can also visit [the forums](https://forums.fast.ai) if you get stuck to get help from other folks studying this material.\n",
    "\n",
    "For more questions, including detailed answers and links to the video timeline, have a look at Radek Osmulski's [aiquizzes](http://aiquizzes.com/howto)."
   ]
  },
  {
   "cell_type": "markdown",
   "metadata": {},
   "source": [
    "1. Do you need these for deep learning?\n",
    "\n",
    "   - Lots of math = **FALSE**\n",
    "   - Lots of data = **FALSE**\n",
    "   - Lots of expensive = **FALSE**\n",
    "   - A PhD = **FALSE**"
   ]
  },
  {
   "cell_type": "markdown",
   "metadata": {},
   "source": [
    "1. Name five areas where deep learning is now the best in the world."
   ]
  },
  {
   "cell_type": "code",
   "execution_count": 24,
   "metadata": {},
   "outputs": [
    {
     "name": "stdout",
     "output_type": "stream",
     "text": [
      "Object `neuron` not found.\n"
     ]
    }
   ],
   "source": [
    "1. What was the name of the first device that was based on the principle of the artificial neuron?\n"
   ]
  },
  {
   "cell_type": "markdown",
   "metadata": {},
   "source": [
    "1. Based on the book of the same name, what are the requirements for parallel distributed processing (PDP)?\n"
   ]
  },
  {
   "cell_type": "markdown",
   "metadata": {},
   "source": [
    "1. What were the two theoretical misunderstandings that held back the field of neural networks?\n"
   ]
  },
  {
   "cell_type": "markdown",
   "metadata": {},
   "source": [
    "1. What is a GPU?\n"
   ]
  },
  {
   "cell_type": "markdown",
   "metadata": {},
   "source": [
    "1. Open a notebook and execute a cell containing: `1+1`. What happens?\n"
   ]
  },
  {
   "cell_type": "markdown",
   "metadata": {},
   "source": [
    "1. Follow through each cell of the stripped version of the notebook for this chapter. Before executing each cell, guess what will happen.\n"
   ]
  },
  {
   "cell_type": "markdown",
   "metadata": {},
   "source": [
    "1. Complete the Jupyter Notebook online appendix.\n"
   ]
  },
  {
   "cell_type": "markdown",
   "metadata": {},
   "source": [
    "1. Why is it hard to use a traditional computer program to recognize images in a photo?\n"
   ]
  },
  {
   "cell_type": "markdown",
   "metadata": {},
   "source": [
    "1. What did Samuel mean by \"weight assignment\"?\n"
   ]
  },
  {
   "cell_type": "markdown",
   "metadata": {},
   "source": [
    "1. What term do we normally use in deep learning for what Samuel called \"weights\"?\n"
   ]
  },
  {
   "cell_type": "markdown",
   "metadata": {},
   "source": [
    "1. Draw a picture that summarizes Samuel's view of a machine learning model.\n"
   ]
  },
  {
   "cell_type": "markdown",
   "metadata": {},
   "source": [
    "1. Why is it hard to understand why a deep learning model makes a particular prediction?\n"
   ]
  },
  {
   "cell_type": "markdown",
   "metadata": {},
   "source": [
    "1. What is the name of the theorem that shows that a neural network can solve any mathematical problem to any level of accuracy?"
   ]
  },
  {
   "cell_type": "markdown",
   "metadata": {},
   "source": [
    "\n",
    "1. What do you need in order to train a model?\n"
   ]
  },
  {
   "cell_type": "markdown",
   "metadata": {},
   "source": [
    "1. How could a feedback loop impact the rollout of a predictive policing model?\n"
   ]
  },
  {
   "cell_type": "markdown",
   "metadata": {},
   "source": [
    "1. Do we always have to use 224×224-pixel images with the cat recognition model?\n"
   ]
  },
  {
   "cell_type": "markdown",
   "metadata": {},
   "source": [
    "1. What is the difference between classification and regression?\n"
   ]
  },
  {
   "cell_type": "markdown",
   "metadata": {},
   "source": [
    "1. What is a validation set? What is a test set? Why do we need them?\n"
   ]
  },
  {
   "cell_type": "markdown",
   "metadata": {},
   "source": [
    "1. What will fastai do if you don't provide a validation set?\n"
   ]
  },
  {
   "cell_type": "markdown",
   "metadata": {},
   "source": [
    "1. Can we always use a random sample for a validation set? Why or why not?\n"
   ]
  },
  {
   "cell_type": "markdown",
   "metadata": {},
   "source": [
    "1. What is overfitting? Provide an example.\n"
   ]
  },
  {
   "cell_type": "markdown",
   "metadata": {},
   "source": [
    "1. What is a metric? How does it differ from \"loss\"?\n"
   ]
  },
  {
   "cell_type": "markdown",
   "metadata": {},
   "source": [
    "1. How can pretrained models help?\n"
   ]
  },
  {
   "cell_type": "markdown",
   "metadata": {},
   "source": [
    "1. What is the \"head\" of a model?\n"
   ]
  },
  {
   "cell_type": "markdown",
   "metadata": {},
   "source": [
    "1. What kinds of features do the early layers of a CNN find? How about the later layers?\n"
   ]
  },
  {
   "cell_type": "markdown",
   "metadata": {},
   "source": [
    "1. Are image models only useful for photos?\n"
   ]
  },
  {
   "cell_type": "markdown",
   "metadata": {},
   "source": [
    "1. What is an \"architecture\"?\n"
   ]
  },
  {
   "cell_type": "markdown",
   "metadata": {},
   "source": [
    "1. What is segmentation?\n"
   ]
  },
  {
   "cell_type": "markdown",
   "metadata": {},
   "source": [
    "1. What is `y_range` used for? When do we need it?\n"
   ]
  },
  {
   "cell_type": "markdown",
   "metadata": {},
   "source": [
    "1. What are \"hyperparameters\"?\n"
   ]
  },
  {
   "cell_type": "markdown",
   "metadata": {},
   "source": [
    "1. What's the best way to avoid failures when using AI in an organization?"
   ]
  },
  {
   "cell_type": "markdown",
   "metadata": {},
   "source": [
    "### Further Research"
   ]
  },
  {
   "cell_type": "markdown",
   "metadata": {},
   "source": [
    "Each chapter also has a \"Further Research\" section that poses questions that aren't fully answered in the text, or gives more advanced assignments. Answers to these questions aren't on the book's website; you'll need to do your own research!"
   ]
  },
  {
   "cell_type": "markdown",
   "metadata": {},
   "source": [
    "1. Why is a GPU useful for deep learning? How is a CPU different, and why is it less effective for deep learning?\n"
   ]
  },
  {
   "cell_type": "markdown",
   "metadata": {},
   "source": [
    "Try to think of three areas where feedback loops might impact the use of machine learning. See if you can find documented examples of that happening in practice."
   ]
  }
 ],
 "metadata": {
  "jupytext": {
   "split_at_heading": true
  },
  "kernelspec": {
   "display_name": "fastai",
   "language": "python",
   "name": "python3"
  },
  "language_info": {
   "codemirror_mode": {
    "name": "ipython",
    "version": 3
   },
   "file_extension": ".py",
   "mimetype": "text/x-python",
   "name": "python",
   "nbconvert_exporter": "python",
   "pygments_lexer": "ipython3",
   "version": "3.12.0"
  }
 },
 "nbformat": 4,
 "nbformat_minor": 4
}
